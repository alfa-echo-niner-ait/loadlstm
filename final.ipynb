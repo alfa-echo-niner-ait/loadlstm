{
 "cells": [
  {
   "cell_type": "code",
   "execution_count": 451,
   "metadata": {},
   "outputs": [],
   "source": [
    "import numpy as np\n",
    "import pandas as pd\n",
    "from sklearn.preprocessing import MinMaxScaler\n",
    "from sklearn.metrics import mean_squared_error\n",
    "import torch\n",
    "import torch.nn as nn\n",
    "import torch.optim as optim\n",
    "from torch.optim.lr_scheduler import ReduceLROnPlateau\n",
    "import matplotlib.pyplot as plt\n",
    "plt.style.use(\"ggplot\")"
   ]
  },
  {
   "cell_type": "markdown",
   "metadata": {},
   "source": [
    "# Dataset Preparation\n",
    "\n",
    "Note that, all the data has been cleaned and prepared"
   ]
  },
  {
   "cell_type": "code",
   "execution_count": 452,
   "metadata": {},
   "outputs": [],
   "source": [
    "# Power load dataset\n",
    "load_dataset = pd.read_csv(\"data/load_data_clean.csv\")\n",
    "# Meterological dataset\n",
    "met_dataset = pd.read_csv(\"data/met_data_clean.csv\")\n",
    "# Convert to Dataframe\n",
    "load_df = pd.DataFrame(load_dataset)\n",
    "met_df = pd.DataFrame(met_dataset)"
   ]
  },
  {
   "cell_type": "code",
   "execution_count": 453,
   "metadata": {},
   "outputs": [],
   "source": [
    "load_df[\"DATE (MM/DD/YYYY)\"] = pd.to_datetime(\n",
    "    load_df[\"DATE (MM/DD/YYYY)\"], format=\"%m/%d/%Y\"\n",
    ")\n",
    "\n",
    "met_df[\"DATE (MM/DD/YYYY)\"] = pd.to_datetime(\n",
    "    met_df[\"DATE (MM/DD/YYYY)\"], format=\"%m/%d/%Y\"\n",
    ")"
   ]
  },
  {
   "cell_type": "code",
   "execution_count": 454,
   "metadata": {},
   "outputs": [
    {
     "data": {
      "text/html": [
       "<div>\n",
       "<style scoped>\n",
       "    .dataframe tbody tr th:only-of-type {\n",
       "        vertical-align: middle;\n",
       "    }\n",
       "\n",
       "    .dataframe tbody tr th {\n",
       "        vertical-align: top;\n",
       "    }\n",
       "\n",
       "    .dataframe thead th {\n",
       "        text-align: right;\n",
       "    }\n",
       "</style>\n",
       "<table border=\"1\" class=\"dataframe\">\n",
       "  <thead>\n",
       "    <tr style=\"text-align: right;\">\n",
       "      <th></th>\n",
       "      <th>DATE (MM/DD/YYYY)</th>\n",
       "      <th>KW</th>\n",
       "      <th>KWS</th>\n",
       "      <th>CHWTON</th>\n",
       "      <th>HTmmBTU</th>\n",
       "      <th>Combined mmBTU</th>\n",
       "      <th>Combined Tons Carbon</th>\n",
       "      <th>KW#Houses</th>\n",
       "      <th>KWlightbulbs</th>\n",
       "      <th>KWgalsgas</th>\n",
       "      <th>...</th>\n",
       "      <th>CHWTONlightbulbs</th>\n",
       "      <th>CHWTONgalsgas</th>\n",
       "      <th>HTmmBTU#Houses</th>\n",
       "      <th>HTmmBTUlightbulbs</th>\n",
       "      <th>HTmmBTUgalsgas</th>\n",
       "      <th>Total#Houses</th>\n",
       "      <th>Totallightbulbs</th>\n",
       "      <th>Totalgalsgas</th>\n",
       "      <th>GHG</th>\n",
       "      <th>DOW</th>\n",
       "    </tr>\n",
       "  </thead>\n",
       "  <tbody>\n",
       "    <tr>\n",
       "      <th>0</th>\n",
       "      <td>2024-05-01</td>\n",
       "      <td>351973.45</td>\n",
       "      <td>39367.64</td>\n",
       "      <td>117009.06</td>\n",
       "      <td>115.27</td>\n",
       "      <td>2720.37</td>\n",
       "      <td>497.21</td>\n",
       "      <td>100564</td>\n",
       "      <td>25140971</td>\n",
       "      <td>9608</td>\n",
       "      <td>...</td>\n",
       "      <td>29385656</td>\n",
       "      <td>11233</td>\n",
       "      <td>9652</td>\n",
       "      <td>2412510</td>\n",
       "      <td>922</td>\n",
       "      <td>227789</td>\n",
       "      <td>56939137</td>\n",
       "      <td>969870</td>\n",
       "      <td>169.754</td>\n",
       "      <td>4</td>\n",
       "    </tr>\n",
       "    <tr>\n",
       "      <th>1</th>\n",
       "      <td>2024-05-02</td>\n",
       "      <td>353826.38</td>\n",
       "      <td>39144.04</td>\n",
       "      <td>119220.71</td>\n",
       "      <td>115.03</td>\n",
       "      <td>2752.99</td>\n",
       "      <td>503.17</td>\n",
       "      <td>101093</td>\n",
       "      <td>25273323</td>\n",
       "      <td>9658</td>\n",
       "      <td>...</td>\n",
       "      <td>29941089</td>\n",
       "      <td>11445</td>\n",
       "      <td>9632</td>\n",
       "      <td>2407457</td>\n",
       "      <td>920</td>\n",
       "      <td>230520</td>\n",
       "      <td>57621868</td>\n",
       "      <td>987740</td>\n",
       "      <td>170.867</td>\n",
       "      <td>5</td>\n",
       "    </tr>\n",
       "    <tr>\n",
       "      <th>2</th>\n",
       "      <td>2024-05-03</td>\n",
       "      <td>357657.88</td>\n",
       "      <td>38935.34</td>\n",
       "      <td>123171.43</td>\n",
       "      <td>109.79</td>\n",
       "      <td>2808.22</td>\n",
       "      <td>513.27</td>\n",
       "      <td>102188</td>\n",
       "      <td>25547001</td>\n",
       "      <td>9763</td>\n",
       "      <td>...</td>\n",
       "      <td>30933274</td>\n",
       "      <td>11824</td>\n",
       "      <td>9193</td>\n",
       "      <td>2297666</td>\n",
       "      <td>878</td>\n",
       "      <td>235145</td>\n",
       "      <td>58777940</td>\n",
       "      <td>1019713</td>\n",
       "      <td>173.062</td>\n",
       "      <td>6</td>\n",
       "    </tr>\n",
       "    <tr>\n",
       "      <th>3</th>\n",
       "      <td>2024-05-04</td>\n",
       "      <td>363958.25</td>\n",
       "      <td>38676.54</td>\n",
       "      <td>118279.24</td>\n",
       "      <td>108.33</td>\n",
       "      <td>2769.56</td>\n",
       "      <td>506.20</td>\n",
       "      <td>103988</td>\n",
       "      <td>25997028</td>\n",
       "      <td>9935</td>\n",
       "      <td>...</td>\n",
       "      <td>29704649</td>\n",
       "      <td>11355</td>\n",
       "      <td>9071</td>\n",
       "      <td>2267263</td>\n",
       "      <td>867</td>\n",
       "      <td>231908</td>\n",
       "      <td>57968940</td>\n",
       "      <td>981181</td>\n",
       "      <td>176.630</td>\n",
       "      <td>7</td>\n",
       "    </tr>\n",
       "    <tr>\n",
       "      <th>4</th>\n",
       "      <td>2024-05-05</td>\n",
       "      <td>320144.95</td>\n",
       "      <td>33341.16</td>\n",
       "      <td>106070.52</td>\n",
       "      <td>108.39</td>\n",
       "      <td>2473.62</td>\n",
       "      <td>452.11</td>\n",
       "      <td>91470</td>\n",
       "      <td>22867506</td>\n",
       "      <td>8739</td>\n",
       "      <td>...</td>\n",
       "      <td>26638552</td>\n",
       "      <td>10183</td>\n",
       "      <td>9076</td>\n",
       "      <td>2268428</td>\n",
       "      <td>867</td>\n",
       "      <td>207127</td>\n",
       "      <td>51774485</td>\n",
       "      <td>879305</td>\n",
       "      <td>155.741</td>\n",
       "      <td>1</td>\n",
       "    </tr>\n",
       "  </tbody>\n",
       "</table>\n",
       "<p>5 rows × 21 columns</p>\n",
       "</div>"
      ],
      "text/plain": [
       "  DATE (MM/DD/YYYY)         KW       KWS     CHWTON  HTmmBTU  Combined mmBTU  \\\n",
       "0        2024-05-01  351973.45  39367.64  117009.06   115.27         2720.37   \n",
       "1        2024-05-02  353826.38  39144.04  119220.71   115.03         2752.99   \n",
       "2        2024-05-03  357657.88  38935.34  123171.43   109.79         2808.22   \n",
       "3        2024-05-04  363958.25  38676.54  118279.24   108.33         2769.56   \n",
       "4        2024-05-05  320144.95  33341.16  106070.52   108.39         2473.62   \n",
       "\n",
       "   Combined Tons Carbon  KW#Houses  KWlightbulbs  KWgalsgas  ...  \\\n",
       "0                497.21     100564      25140971       9608  ...   \n",
       "1                503.17     101093      25273323       9658  ...   \n",
       "2                513.27     102188      25547001       9763  ...   \n",
       "3                506.20     103988      25997028       9935  ...   \n",
       "4                452.11      91470      22867506       8739  ...   \n",
       "\n",
       "   CHWTONlightbulbs  CHWTONgalsgas  HTmmBTU#Houses  HTmmBTUlightbulbs  \\\n",
       "0          29385656          11233            9652            2412510   \n",
       "1          29941089          11445            9632            2407457   \n",
       "2          30933274          11824            9193            2297666   \n",
       "3          29704649          11355            9071            2267263   \n",
       "4          26638552          10183            9076            2268428   \n",
       "\n",
       "   HTmmBTUgalsgas  Total#Houses  Totallightbulbs  Totalgalsgas      GHG  DOW  \n",
       "0             922        227789         56939137        969870  169.754    4  \n",
       "1             920        230520         57621868        987740  170.867    5  \n",
       "2             878        235145         58777940       1019713  173.062    6  \n",
       "3             867        231908         57968940        981181  176.630    7  \n",
       "4             867        207127         51774485        879305  155.741    1  \n",
       "\n",
       "[5 rows x 21 columns]"
      ]
     },
     "execution_count": 454,
     "metadata": {},
     "output_type": "execute_result"
    }
   ],
   "source": [
    "load_df.head()"
   ]
  },
  {
   "cell_type": "code",
   "execution_count": 455,
   "metadata": {},
   "outputs": [
    {
     "data": {
      "text/html": [
       "<div>\n",
       "<style scoped>\n",
       "    .dataframe tbody tr th:only-of-type {\n",
       "        vertical-align: middle;\n",
       "    }\n",
       "\n",
       "    .dataframe tbody tr th {\n",
       "        vertical-align: top;\n",
       "    }\n",
       "\n",
       "    .dataframe thead th {\n",
       "        text-align: right;\n",
       "    }\n",
       "</style>\n",
       "<table border=\"1\" class=\"dataframe\">\n",
       "  <thead>\n",
       "    <tr style=\"text-align: right;\">\n",
       "      <th></th>\n",
       "      <th>DATE (MM/DD/YYYY)</th>\n",
       "      <th>AVG Air Temperature [deg F]</th>\n",
       "      <th>MAX Air Temperature [deg F]</th>\n",
       "      <th>MIN Air Temperature [deg F]</th>\n",
       "      <th>AVG Rel Humidity [%]</th>\n",
       "      <th>MAX Rel Humidity [%]</th>\n",
       "      <th>MIN Rel Humidity [%]</th>\n",
       "      <th>AVG Avg Wind Speed @ 3m [MPH]</th>\n",
       "      <th>MAX Avg Wind Speed @ 3m [MPH]</th>\n",
       "      <th>MIN Avg Wind Speed @ 3m [MPH]</th>\n",
       "      <th>AVG Peak Wind Speed @ 3m [MPH]</th>\n",
       "      <th>MAX Peak Wind Speed @ 3m [MPH]</th>\n",
       "      <th>MIN Peak Wind Speed @ 3m [MPH]</th>\n",
       "      <th>AVG Station Pressure [inHg]</th>\n",
       "      <th>MAX Station Pressure [inHg]</th>\n",
       "      <th>MIN Station Pressure [inHg]</th>\n",
       "    </tr>\n",
       "  </thead>\n",
       "  <tbody>\n",
       "    <tr>\n",
       "      <th>0</th>\n",
       "      <td>2024-05-01</td>\n",
       "      <td>76.2268</td>\n",
       "      <td>87.494</td>\n",
       "      <td>61.322</td>\n",
       "      <td>19.3349</td>\n",
       "      <td>34.09</td>\n",
       "      <td>8.040</td>\n",
       "      <td>7.5972</td>\n",
       "      <td>24.4721</td>\n",
       "      <td>0.0</td>\n",
       "      <td>11.1715</td>\n",
       "      <td>30.6460</td>\n",
       "      <td>0.0</td>\n",
       "      <td>27.2098</td>\n",
       "      <td>27.2561</td>\n",
       "      <td>27.1436</td>\n",
       "    </tr>\n",
       "    <tr>\n",
       "      <th>1</th>\n",
       "      <td>2024-05-02</td>\n",
       "      <td>76.1305</td>\n",
       "      <td>89.690</td>\n",
       "      <td>60.836</td>\n",
       "      <td>18.6194</td>\n",
       "      <td>36.39</td>\n",
       "      <td>6.938</td>\n",
       "      <td>5.1366</td>\n",
       "      <td>22.8839</td>\n",
       "      <td>0.0</td>\n",
       "      <td>8.0311</td>\n",
       "      <td>27.2906</td>\n",
       "      <td>0.0</td>\n",
       "      <td>27.2407</td>\n",
       "      <td>27.2873</td>\n",
       "      <td>27.1868</td>\n",
       "    </tr>\n",
       "    <tr>\n",
       "      <th>2</th>\n",
       "      <td>2024-05-03</td>\n",
       "      <td>77.3261</td>\n",
       "      <td>89.960</td>\n",
       "      <td>63.878</td>\n",
       "      <td>19.7970</td>\n",
       "      <td>41.99</td>\n",
       "      <td>6.877</td>\n",
       "      <td>5.7147</td>\n",
       "      <td>23.8457</td>\n",
       "      <td>0.0</td>\n",
       "      <td>8.8923</td>\n",
       "      <td>39.0345</td>\n",
       "      <td>0.0</td>\n",
       "      <td>27.2277</td>\n",
       "      <td>27.2663</td>\n",
       "      <td>27.1653</td>\n",
       "    </tr>\n",
       "    <tr>\n",
       "      <th>3</th>\n",
       "      <td>2024-05-04</td>\n",
       "      <td>76.8995</td>\n",
       "      <td>89.762</td>\n",
       "      <td>61.106</td>\n",
       "      <td>17.8820</td>\n",
       "      <td>31.30</td>\n",
       "      <td>6.234</td>\n",
       "      <td>5.5733</td>\n",
       "      <td>20.5574</td>\n",
       "      <td>0.0</td>\n",
       "      <td>8.6903</td>\n",
       "      <td>25.6129</td>\n",
       "      <td>0.0</td>\n",
       "      <td>27.2277</td>\n",
       "      <td>27.2670</td>\n",
       "      <td>27.1798</td>\n",
       "    </tr>\n",
       "    <tr>\n",
       "      <th>4</th>\n",
       "      <td>2024-05-05</td>\n",
       "      <td>75.1771</td>\n",
       "      <td>86.774</td>\n",
       "      <td>63.176</td>\n",
       "      <td>18.5651</td>\n",
       "      <td>30.04</td>\n",
       "      <td>9.040</td>\n",
       "      <td>11.2813</td>\n",
       "      <td>32.4132</td>\n",
       "      <td>0.0</td>\n",
       "      <td>16.0872</td>\n",
       "      <td>44.0676</td>\n",
       "      <td>0.0</td>\n",
       "      <td>27.2212</td>\n",
       "      <td>27.2677</td>\n",
       "      <td>27.1493</td>\n",
       "    </tr>\n",
       "  </tbody>\n",
       "</table>\n",
       "</div>"
      ],
      "text/plain": [
       "  DATE (MM/DD/YYYY)  AVG Air Temperature [deg F]  MAX Air Temperature [deg F]  \\\n",
       "0        2024-05-01                      76.2268                       87.494   \n",
       "1        2024-05-02                      76.1305                       89.690   \n",
       "2        2024-05-03                      77.3261                       89.960   \n",
       "3        2024-05-04                      76.8995                       89.762   \n",
       "4        2024-05-05                      75.1771                       86.774   \n",
       "\n",
       "   MIN Air Temperature [deg F]  AVG Rel Humidity [%]  MAX Rel Humidity [%]  \\\n",
       "0                       61.322               19.3349                 34.09   \n",
       "1                       60.836               18.6194                 36.39   \n",
       "2                       63.878               19.7970                 41.99   \n",
       "3                       61.106               17.8820                 31.30   \n",
       "4                       63.176               18.5651                 30.04   \n",
       "\n",
       "   MIN Rel Humidity [%]  AVG Avg Wind Speed @ 3m [MPH]  \\\n",
       "0                 8.040                         7.5972   \n",
       "1                 6.938                         5.1366   \n",
       "2                 6.877                         5.7147   \n",
       "3                 6.234                         5.5733   \n",
       "4                 9.040                        11.2813   \n",
       "\n",
       "   MAX Avg Wind Speed @ 3m [MPH]  MIN Avg Wind Speed @ 3m [MPH]  \\\n",
       "0                        24.4721                            0.0   \n",
       "1                        22.8839                            0.0   \n",
       "2                        23.8457                            0.0   \n",
       "3                        20.5574                            0.0   \n",
       "4                        32.4132                            0.0   \n",
       "\n",
       "   AVG Peak Wind Speed @ 3m [MPH]  MAX Peak Wind Speed @ 3m [MPH]  \\\n",
       "0                         11.1715                         30.6460   \n",
       "1                          8.0311                         27.2906   \n",
       "2                          8.8923                         39.0345   \n",
       "3                          8.6903                         25.6129   \n",
       "4                         16.0872                         44.0676   \n",
       "\n",
       "   MIN Peak Wind Speed @ 3m [MPH]  AVG Station Pressure [inHg]  \\\n",
       "0                             0.0                      27.2098   \n",
       "1                             0.0                      27.2407   \n",
       "2                             0.0                      27.2277   \n",
       "3                             0.0                      27.2277   \n",
       "4                             0.0                      27.2212   \n",
       "\n",
       "   MAX Station Pressure [inHg]  MIN Station Pressure [inHg]  \n",
       "0                      27.2561                      27.1436  \n",
       "1                      27.2873                      27.1868  \n",
       "2                      27.2663                      27.1653  \n",
       "3                      27.2670                      27.1798  \n",
       "4                      27.2677                      27.1493  "
      ]
     },
     "execution_count": 455,
     "metadata": {},
     "output_type": "execute_result"
    }
   ],
   "source": [
    "met_df.head()"
   ]
  },
  {
   "cell_type": "code",
   "execution_count": 456,
   "metadata": {},
   "outputs": [
    {
     "name": "stdout",
     "output_type": "stream",
     "text": [
      "<class 'pandas.core.frame.DataFrame'>\n",
      "RangeIndex: 61 entries, 0 to 60\n",
      "Data columns (total 36 columns):\n",
      " #   Column                          Non-Null Count  Dtype         \n",
      "---  ------                          --------------  -----         \n",
      " 0   DATE (MM/DD/YYYY)               61 non-null     datetime64[ns]\n",
      " 1   KW                              61 non-null     float64       \n",
      " 2   KWS                             61 non-null     float64       \n",
      " 3   CHWTON                          61 non-null     float64       \n",
      " 4   HTmmBTU                         61 non-null     float64       \n",
      " 5   Combined mmBTU                  61 non-null     float64       \n",
      " 6   Combined Tons Carbon            61 non-null     float64       \n",
      " 7   KW#Houses                       61 non-null     int64         \n",
      " 8   KWlightbulbs                    61 non-null     int64         \n",
      " 9   KWgalsgas                       61 non-null     int64         \n",
      " 10  CHWTON#Houses                   61 non-null     int64         \n",
      " 11  CHWTONlightbulbs                61 non-null     int64         \n",
      " 12  CHWTONgalsgas                   61 non-null     int64         \n",
      " 13  HTmmBTU#Houses                  61 non-null     int64         \n",
      " 14  HTmmBTUlightbulbs               61 non-null     int64         \n",
      " 15  HTmmBTUgalsgas                  61 non-null     int64         \n",
      " 16  Total#Houses                    61 non-null     int64         \n",
      " 17  Totallightbulbs                 61 non-null     int64         \n",
      " 18  Totalgalsgas                    61 non-null     int64         \n",
      " 19  GHG                             61 non-null     float64       \n",
      " 20  DOW                             61 non-null     int64         \n",
      " 21  AVG Air Temperature [deg F]     61 non-null     float64       \n",
      " 22  MAX Air Temperature [deg F]     61 non-null     float64       \n",
      " 23  MIN Air Temperature [deg F]     61 non-null     float64       \n",
      " 24  AVG Rel Humidity [%]            61 non-null     float64       \n",
      " 25  MAX Rel Humidity [%]            61 non-null     float64       \n",
      " 26  MIN Rel Humidity [%]            61 non-null     float64       \n",
      " 27  AVG Avg Wind Speed @ 3m [MPH]   61 non-null     float64       \n",
      " 28  MAX Avg Wind Speed @ 3m [MPH]   61 non-null     float64       \n",
      " 29  MIN Avg Wind Speed @ 3m [MPH]   61 non-null     float64       \n",
      " 30  AVG Peak Wind Speed @ 3m [MPH]  61 non-null     float64       \n",
      " 31  MAX Peak Wind Speed @ 3m [MPH]  61 non-null     float64       \n",
      " 32  MIN Peak Wind Speed @ 3m [MPH]  61 non-null     float64       \n",
      " 33  AVG Station Pressure [inHg]     61 non-null     float64       \n",
      " 34  MAX Station Pressure [inHg]     61 non-null     float64       \n",
      " 35  MIN Station Pressure [inHg]     61 non-null     float64       \n",
      "dtypes: datetime64[ns](1), float64(22), int64(13)\n",
      "memory usage: 17.3 KB\n"
     ]
    }
   ],
   "source": [
    "# Join both dataset on Date\n",
    "merged_df = pd.merge(load_df, met_df, on=\"DATE (MM/DD/YYYY)\", how=\"inner\")\n",
    "merged_df.info()"
   ]
  },
  {
   "cell_type": "code",
   "execution_count": 457,
   "metadata": {},
   "outputs": [],
   "source": [
    "# Corr. between columns with KW column\n",
    "# corr_matrix = merged_df.corr()\n",
    "# print(corr_matrix[\"KW\"].sort_values(ascending=False))"
   ]
  },
  {
   "cell_type": "markdown",
   "metadata": {},
   "source": [
    "# Dataset Processing"
   ]
  },
  {
   "cell_type": "markdown",
   "metadata": {},
   "source": [
    "#### Step 1: Select relevant columns for normalization"
   ]
  },
  {
   "cell_type": "code",
   "execution_count": 458,
   "metadata": {},
   "outputs": [],
   "source": [
    "features_to_normalize = [\n",
    "    \"KW\",\n",
    "    \"GHG\",\n",
    "    \"AVG Air Temperature [deg F]\",\n",
    "    \"AVG Rel Humidity [%]\",\n",
    "    \"AVG Avg Wind Speed @ 3m [MPH]\",\n",
    "]"
   ]
  },
  {
   "cell_type": "code",
   "execution_count": 459,
   "metadata": {},
   "outputs": [],
   "source": [
    "model_df = merged_df[features_to_normalize]"
   ]
  },
  {
   "cell_type": "code",
   "execution_count": 460,
   "metadata": {},
   "outputs": [
    {
     "name": "stdout",
     "output_type": "stream",
     "text": [
      "KW                               1.000000\n",
      "GHG                              0.986451\n",
      "AVG Air Temperature [deg F]      0.446496\n",
      "AVG Rel Humidity [%]             0.419901\n",
      "AVG Avg Wind Speed @ 3m [MPH]   -0.276237\n",
      "Name: KW, dtype: float64\n"
     ]
    }
   ],
   "source": [
    "corr_matrix = model_df.corr()\n",
    "print(corr_matrix[\"KW\"].sort_values(ascending=False))"
   ]
  },
  {
   "cell_type": "code",
   "execution_count": 461,
   "metadata": {},
   "outputs": [],
   "source": [
    "cols = [\n",
    "    \"KW\",\n",
    "    \"GHG\",\n",
    "    \"AVG Temp\",\n",
    "    \"AVG Humidity\",\n",
    "    \"AVG Wind \",\n",
    "]"
   ]
  },
  {
   "cell_type": "code",
   "execution_count": 462,
   "metadata": {},
   "outputs": [
    {
     "data": {
      "image/png": "[encoded data removed]",
      "text/plain": [
       "<Figure size 640x480 with 2 Axes>"
      ]
     },
     "metadata": {},
     "output_type": "display_data"
    }
   ],
   "source": [
    "# Create the heatmap using Matplotlib\n",
    "# plt.figure(figsize=(8, 6))\n",
    "plt.imshow(corr_matrix, cmap=\"winter\", vmin=-1, vmax=1)\n",
    "plt.colorbar()\n",
    "\n",
    "# Adding title\n",
    "plt.title(\"Correlation Matrix with 'KW'\")\n",
    "# Set tick labels\n",
    "plt.xticks(range(len(corr_matrix.columns)), cols, rotation=90) \n",
    "plt.yticks(range(len(corr_matrix.columns)), cols)\n",
    "\n",
    "# Display the plot\n",
    "plt.tight_layout()\n",
    "plt.show()"
   ]
  },
  {
   "cell_type": "markdown",
   "metadata": {},
   "source": [
    "**KW:**\n",
    "   - **Description:** The total kilowatt (KW) power consumption for the day.\n",
    "   - **Example:** `351973.45` KW represents the total power consumption on the given day.\n",
    "\n",
    "**GHG:**\n",
    "   - **Description:** Greenhouse gas emissions.\n",
    "   - **Example:** `169.754` represents the greenhouse gas emissions.\n",
    "\n",
    "**AVG Air Temperature [deg F]:**\n",
    "   - **Description:** The average air temperature in degrees Fahrenheit for the day.\n",
    "   - **Example:** `76.2268` degrees Fahrenheit.\n",
    "\n",
    "**AVG Rel Humidity [%]:**\n",
    "   - **Description:** The average relative humidity as a percentage for the day.\n",
    "   - **Example:** `19.3349%`.\n",
    "\n",
    "**AVG Avg Wind Speed @ 3m [MPH]:**\n",
    "   - **Description:** The average wind speed at 3 meters above ground level in miles per hour for the day.\n",
    "   - **Example:** `7.5972` miles per hour."
   ]
  },
  {
   "cell_type": "markdown",
   "metadata": {},
   "source": [
    "#### Step 2: Train-Test Split (80% training, 20% testing)"
   ]
  },
  {
   "cell_type": "code",
   "execution_count": 463,
   "metadata": {},
   "outputs": [],
   "source": [
    "train_size = int(len(model_df) * 0.8)\n",
    "train_data = model_df[:train_size]\n",
    "test_data = model_df[train_size:]"
   ]
  },
  {
   "cell_type": "code",
   "execution_count": 464,
   "metadata": {},
   "outputs": [],
   "source": [
    "scaler = MinMaxScaler()"
   ]
  },
  {
   "cell_type": "code",
   "execution_count": 465,
   "metadata": {},
   "outputs": [],
   "source": [
    "train_scaled = train_data.copy()\n",
    "train_scaled[features_to_normalize] = scaler.fit_transform(\n",
    "    train_data[features_to_normalize]\n",
    ")\n",
    "\n",
    "test_scaled = test_data.copy()\n",
    "test_scaled[features_to_normalize] = scaler.transform(test_data[features_to_normalize])"
   ]
  },
  {
   "cell_type": "markdown",
   "metadata": {},
   "source": [
    "#### Step 3: Time Series Preparation (Create sliding window sequences)"
   ]
  },
  {
   "cell_type": "code",
   "execution_count": 466,
   "metadata": {},
   "outputs": [],
   "source": [
    "sequence_length = 8  # Use past 8 days to predict the next day\n",
    "\n",
    "def create_sequences(data, target_column, sequence_length):\n",
    "    sequences = []\n",
    "    targets = []\n",
    "\n",
    "    for i in range(len(data) - sequence_length):\n",
    "        seq = data[i : i + sequence_length]  # Sequence of 'n' days\n",
    "        target = data[i + sequence_length][\n",
    "            target_column + 1\n",
    "        ]  # Target is the next day's load (KW)\n",
    "        sequences.append(seq)\n",
    "        targets.append(target)\n",
    "\n",
    "    return np.array(sequences), np.array(targets)"
   ]
  },
  {
   "cell_type": "markdown",
   "metadata": {},
   "source": [
    "Create sequences for training and testing sets"
   ]
  },
  {
   "cell_type": "code",
   "execution_count": 467,
   "metadata": {},
   "outputs": [
    {
     "name": "stdout",
     "output_type": "stream",
     "text": [
      "Training data shape (X, y): (40, 8, 5) (40,)\n",
      "Testing data shape (X, y): (5, 8, 5) (5,)\n"
     ]
    }
   ],
   "source": [
    "X_train, y_train = create_sequences(\n",
    "    train_scaled[features_to_normalize].values,\n",
    "    target_column=0,\n",
    "    sequence_length=sequence_length,\n",
    ")  # KW is the target\n",
    "X_test, y_test = create_sequences(\n",
    "    test_scaled[features_to_normalize].values,\n",
    "    target_column=0,\n",
    "    sequence_length=sequence_length,\n",
    ")\n",
    "\n",
    "# Print the shape of training and testing data\n",
    "print(\"Training data shape (X, y):\", X_train.shape, y_train.shape)\n",
    "print(\"Testing data shape (X, y):\", X_test.shape, y_test.shape)"
   ]
  },
  {
   "cell_type": "markdown",
   "metadata": {},
   "source": [
    "# Model Construction"
   ]
  },
  {
   "cell_type": "markdown",
   "metadata": {},
   "source": [
    "#### Step 1: Convert data to PyTorch tensors"
   ]
  },
  {
   "cell_type": "code",
   "execution_count": 468,
   "metadata": {},
   "outputs": [],
   "source": [
    "X_train_tensor = torch.Tensor(X_train)\n",
    "y_train_tensor = torch.Tensor(y_train)\n",
    "X_test_tensor = torch.Tensor(X_test)\n",
    "y_test_tensor = torch.Tensor(y_test)"
   ]
  },
  {
   "cell_type": "markdown",
   "metadata": {},
   "source": [
    "#### Step 2: Define the LSTM model"
   ]
  },
  {
   "cell_type": "markdown",
   "metadata": {},
   "source": [
    "Define the LSTM model with L2 regularization"
   ]
  },
  {
   "cell_type": "code",
   "execution_count": 469,
   "metadata": {},
   "outputs": [],
   "source": [
    "class LSTMModel(nn.Module):\n",
    "    def __init__(self, input_dim, hidden_dim, output_dim, num_layers=2, dropout=0.2):\n",
    "        super(LSTMModel, self).__init__()\n",
    "        self.lstm = nn.LSTM(\n",
    "            input_dim, hidden_dim, num_layers, batch_first=True, dropout=dropout\n",
    "        )\n",
    "        self.fc = nn.Linear(hidden_dim, output_dim)\n",
    "\n",
    "    def forward(self, x):\n",
    "        lstm_out, _ = self.lstm(x)\n",
    "        final_feature_map = lstm_out[:, -1, :]\n",
    "        out = self.fc(final_feature_map)\n",
    "        return out"
   ]
  },
  {
   "cell_type": "code",
   "execution_count": 470,
   "metadata": {},
   "outputs": [],
   "source": [
    "# Initialize model, loss function, and optimizer with L2 regularization\n",
    "input_dim = len(features_to_normalize)\n",
    "hidden_dim = 64\n",
    "output_dim = 1\n",
    "dropout = 0.1"
   ]
  },
  {
   "cell_type": "code",
   "execution_count": 471,
   "metadata": {},
   "outputs": [
    {
     "data": {
      "text/plain": [
       "tensor(0.)"
      ]
     },
     "execution_count": 471,
     "metadata": {},
     "output_type": "execute_result"
    }
   ],
   "source": [
    "model = LSTMModel(input_dim, hidden_dim, output_dim, num_layers=4, dropout=dropout)\n",
    "criterion = nn.MSELoss()\n",
    "optimizer = optim.Adam(\n",
    "    model.parameters(), lr=0.0005, weight_decay=0.001\n",
    ")  # Adding L2 regularization\n",
    "scheduler = ReduceLROnPlateau(\n",
    "    optimizer,\n",
    "    mode=\"min\",\n",
    "    factor=0.1,\n",
    "    patience=20,\n",
    ")\n",
    "torch.nn.utils.clip_grad_norm_(model.parameters(), max_norm=7)"
   ]
  },
  {
   "cell_type": "markdown",
   "metadata": {},
   "source": [
    "#### Step 3: Training loop"
   ]
  },
  {
   "cell_type": "code",
   "execution_count": 472,
   "metadata": {},
   "outputs": [],
   "source": [
    "num_epochs = 80\n",
    "batch_size = 32\n",
    "patience = 20\n",
    "best_loss = float(\"inf\")\n",
    "patience_counter = 0"
   ]
  },
  {
   "cell_type": "code",
   "execution_count": 473,
   "metadata": {},
   "outputs": [],
   "source": [
    "# Create DataLoader for training and validation data\n",
    "train_dataset = torch.utils.data.TensorDataset(X_train_tensor, y_train_tensor)\n",
    "train_loader = torch.utils.data.DataLoader(\n",
    "    dataset=train_dataset, batch_size=batch_size, shuffle=True\n",
    ")"
   ]
  },
  {
   "cell_type": "code",
   "execution_count": 474,
   "metadata": {},
   "outputs": [],
   "source": [
    "# Keep track of loss\n",
    "epoch_losses = list()\n",
    "test_losses = list()"
   ]
  },
  {
   "cell_type": "code",
   "execution_count": 475,
   "metadata": {},
   "outputs": [
    {
     "name": "stdout",
     "output_type": "stream",
     "text": [
      "Epoch [1/80], Loss: 0.3309\n",
      "Test Loss: 0.1737\n",
      "Epoch [2/80], Loss: 0.3068\n",
      "Test Loss: 0.1545\n",
      "Epoch [3/80], Loss: 0.2828\n",
      "Test Loss: 0.1364\n",
      "Epoch [4/80], Loss: 0.2602\n",
      "Test Loss: 0.1189\n",
      "Epoch [5/80], Loss: 0.2384\n",
      "Test Loss: 0.1018\n",
      "Epoch [6/80], Loss: 0.2165\n",
      "Test Loss: 0.0849\n",
      "Epoch [7/80], Loss: 0.1955\n",
      "Test Loss: 0.0683\n",
      "Epoch [8/80], Loss: 0.1721\n",
      "Test Loss: 0.0520\n",
      "Epoch [9/80], Loss: 0.1505\n",
      "Test Loss: 0.0365\n",
      "Epoch [10/80], Loss: 0.1282\n",
      "Test Loss: 0.0230\n",
      "Epoch [11/80], Loss: 0.1056\n",
      "Test Loss: 0.0132\n",
      "Epoch [12/80], Loss: 0.0872\n",
      "Test Loss: 0.0106\n",
      "Epoch [13/80], Loss: 0.0724\n",
      "Test Loss: 0.0185\n",
      "Epoch [14/80], Loss: 0.0669\n",
      "Test Loss: 0.0378\n",
      "Epoch [15/80], Loss: 0.0736\n",
      "Test Loss: 0.0591\n",
      "Epoch [16/80], Loss: 0.0839\n",
      "Test Loss: 0.0625\n",
      "Epoch [17/80], Loss: 0.0848\n",
      "Test Loss: 0.0481\n",
      "Epoch [18/80], Loss: 0.0789\n",
      "Test Loss: 0.0330\n",
      "Epoch [19/80], Loss: 0.0710\n",
      "Test Loss: 0.0226\n",
      "Epoch [20/80], Loss: 0.0682\n",
      "Test Loss: 0.0158\n",
      "Epoch [21/80], Loss: 0.0678\n",
      "Test Loss: 0.0121\n",
      "Epoch [22/80], Loss: 0.0692\n",
      "Test Loss: 0.0107\n",
      "Epoch [23/80], Loss: 0.0725\n",
      "Test Loss: 0.0103\n",
      "Epoch [24/80], Loss: 0.0736\n",
      "Test Loss: 0.0103\n",
      "Epoch [25/80], Loss: 0.0754\n",
      "Test Loss: 0.0103\n",
      "Epoch [26/80], Loss: 0.0738\n",
      "Test Loss: 0.0105\n",
      "Epoch [27/80], Loss: 0.0722\n",
      "Test Loss: 0.0112\n",
      "Epoch [28/80], Loss: 0.0698\n",
      "Test Loss: 0.0127\n",
      "Epoch [29/80], Loss: 0.0679\n",
      "Test Loss: 0.0150\n",
      "Epoch [30/80], Loss: 0.0683\n",
      "Test Loss: 0.0181\n",
      "Epoch [31/80], Loss: 0.0667\n",
      "Test Loss: 0.0210\n",
      "Epoch [32/80], Loss: 0.0678\n",
      "Test Loss: 0.0235\n",
      "Epoch [33/80], Loss: 0.0670\n",
      "Test Loss: 0.0256\n",
      "Epoch [34/80], Loss: 0.0669\n",
      "Test Loss: 0.0255\n",
      "Epoch [35/80], Loss: 0.0683\n",
      "Test Loss: 0.0238\n",
      "Epoch [36/80], Loss: 0.0680\n",
      "Test Loss: 0.0211\n",
      "Epoch [37/80], Loss: 0.0664\n",
      "Test Loss: 0.0185\n",
      "Epoch [38/80], Loss: 0.0682\n",
      "Test Loss: 0.0165\n",
      "Epoch [39/80], Loss: 0.0670\n",
      "Test Loss: 0.0157\n",
      "Epoch [40/80], Loss: 0.0665\n",
      "Test Loss: 0.0149\n",
      "Epoch [41/80], Loss: 0.0681\n",
      "Test Loss: 0.0148\n",
      "Epoch [42/80], Loss: 0.0681\n",
      "Test Loss: 0.0153\n",
      "Epoch [43/80], Loss: 0.0662\n",
      "Test Loss: 0.0159\n",
      "Epoch [44/80], Loss: 0.0668\n",
      "Test Loss: 0.0167\n",
      "Epoch [45/80], Loss: 0.0671\n",
      "Test Loss: 0.0170\n",
      "Epoch [46/80], Loss: 0.0658\n",
      "Test Loss: 0.0178\n",
      "Epoch [47/80], Loss: 0.0674\n",
      "Test Loss: 0.0193\n",
      "Epoch [48/80], Loss: 0.0676\n",
      "Test Loss: 0.0209\n",
      "Epoch [49/80], Loss: 0.0667\n",
      "Test Loss: 0.0218\n",
      "Epoch [50/80], Loss: 0.0689\n",
      "Test Loss: 0.0218\n",
      "Epoch [51/80], Loss: 0.0678\n",
      "Test Loss: 0.0202\n",
      "Epoch [52/80], Loss: 0.0654\n",
      "Test Loss: 0.0184\n",
      "Epoch [53/80], Loss: 0.0680\n",
      "Test Loss: 0.0168\n",
      "Epoch [54/80], Loss: 0.0654\n",
      "Test Loss: 0.0158\n",
      "Epoch [55/80], Loss: 0.0668\n",
      "Test Loss: 0.0145\n",
      "Epoch [56/80], Loss: 0.0662\n",
      "Test Loss: 0.0135\n",
      "Epoch [57/80], Loss: 0.0670\n",
      "Test Loss: 0.0130\n",
      "Epoch [58/80], Loss: 0.0666\n",
      "Test Loss: 0.0135\n",
      "Epoch [59/80], Loss: 0.0648\n",
      "Test Loss: 0.0139\n",
      "Epoch [60/80], Loss: 0.0652\n",
      "Test Loss: 0.0143\n",
      "Epoch [61/80], Loss: 0.0649\n",
      "Test Loss: 0.0144\n",
      "Epoch [62/80], Loss: 0.0654\n",
      "Test Loss: 0.0144\n",
      "Epoch [63/80], Loss: 0.0644\n",
      "Test Loss: 0.0143\n",
      "Epoch [64/80], Loss: 0.0644\n",
      "Test Loss: 0.0139\n",
      "Epoch [65/80], Loss: 0.0658\n",
      "Test Loss: 0.0137\n",
      "Epoch [66/80], Loss: 0.0653\n",
      "Test Loss: 0.0139\n",
      "Epoch [67/80], Loss: 0.0645\n",
      "Test Loss: 0.0144\n",
      "Epoch [68/80], Loss: 0.0643\n",
      "Test Loss: 0.0145\n",
      "Epoch [69/80], Loss: 0.0632\n",
      "Test Loss: 0.0142\n",
      "Epoch [70/80], Loss: 0.0620\n",
      "Test Loss: 0.0143\n",
      "Epoch [71/80], Loss: 0.0630\n",
      "Test Loss: 0.0146\n",
      "Epoch [72/80], Loss: 0.0641\n",
      "Test Loss: 0.0141\n",
      "Epoch [73/80], Loss: 0.0637\n",
      "Test Loss: 0.0136\n",
      "Epoch [74/80], Loss: 0.0647\n",
      "Test Loss: 0.0131\n",
      "Epoch [75/80], Loss: 0.0633\n",
      "Test Loss: 0.0126\n",
      "Epoch [76/80], Loss: 0.0625\n",
      "Test Loss: 0.0119\n",
      "Epoch [77/80], Loss: 0.0624\n",
      "Test Loss: 0.0117\n",
      "Epoch [78/80], Loss: 0.0622\n",
      "Test Loss: 0.0108\n",
      "Epoch [79/80], Loss: 0.0591\n",
      "Test Loss: 0.0099\n",
      "Epoch [80/80], Loss: 0.0614\n",
      "Test Loss: 0.0093\n"
     ]
    }
   ],
   "source": [
    "for epoch in range(num_epochs):\n",
    "    model.train()\n",
    "    epoch_loss = 0\n",
    "\n",
    "    for batch_X, batch_y in train_loader:\n",
    "        outputs = model(batch_X)\n",
    "        loss = criterion(outputs.squeeze(), batch_y)\n",
    "\n",
    "        optimizer.zero_grad()\n",
    "        loss.backward()\n",
    "        optimizer.step()\n",
    "\n",
    "        epoch_loss += loss.item() * batch_X.size(0)\n",
    "\n",
    "    avg_epoch_loss = epoch_loss / len(train_loader.dataset)\n",
    "    epoch_losses.append(avg_epoch_loss)\n",
    "    print(f\"Epoch [{epoch + 1}/{num_epochs}], Loss: {avg_epoch_loss:.4f}\")\n",
    "\n",
    "    # Validation phase\n",
    "    model.eval()\n",
    "    with torch.no_grad():\n",
    "        test_outputs = model(X_test_tensor)\n",
    "        test_loss = mean_squared_error(y_test_tensor, test_outputs.squeeze())\n",
    "        test_losses.append(test_loss)\n",
    "        print(f\"Test Loss: {test_loss:.4f}\")"
   ]
  },
  {
   "cell_type": "markdown",
   "metadata": {},
   "source": [
    "#### Step 4: Check Training Process"
   ]
  },
  {
   "cell_type": "code",
   "execution_count": 476,
   "metadata": {},
   "outputs": [
    {
     "name": "stdout",
     "output_type": "stream",
     "text": [
      "Epoch\t\tMin: 0.0591\t Max: 0.3309\n",
      "Test\t\tMin: 0.0093\t Max: 0.1737\n"
     ]
    }
   ],
   "source": [
    "# Loss value tracking\n",
    "print(f\"Epoch\\t\\tMin: {min(epoch_losses):.4f}\\t Max: {max(epoch_losses):.4f}\")\n",
    "print(f\"Test\\t\\tMin: {min(test_losses):.4f}\\t Max: {max(test_losses):.4f}\")"
   ]
  },
  {
   "cell_type": "code",
   "execution_count": 477,
   "metadata": {},
   "outputs": [
    {
     "data": {
      "image/png": "[encoded data removed]",
      "text/plain": [
       "<Figure size 1000x300 with 2 Axes>"
      ]
     },
     "metadata": {},
     "output_type": "display_data"
    }
   ],
   "source": [
    "# Plot training & validation loss values\n",
    "plt.figure(figsize=(10, 3))\n",
    "plt.suptitle(\"Loss over the Epoch\")\n",
    "\n",
    "plt.subplot(1, 2, 1)\n",
    "plt.plot(np.array(epoch_losses), color=\"orange\", alpha=0.7)\n",
    "plt.ylabel(\"Epoch Loss\")\n",
    "plt.xlabel(\"Epoch\")\n",
    "plt.legend([\"Epoch Loss\"], loc=\"upper right\")\n",
    "plt.grid(True)\n",
    "\n",
    "plt.subplot(1, 2, 2)\n",
    "plt.plot(np.array(test_losses), color=\"magenta\", alpha=0.7)\n",
    "plt.ylabel(\"Test Loss\")\n",
    "plt.xlabel(\"Epoch\")\n",
    "plt.legend([\"Test Loss\"], loc=\"upper right\")\n",
    "plt.grid(True)\n",
    "plt.tight_layout()\n",
    "\n",
    "plt.show()"
   ]
  },
  {
   "cell_type": "markdown",
   "metadata": {},
   "source": [
    "# Model Evaluation"
   ]
  },
  {
   "cell_type": "code",
   "execution_count": 478,
   "metadata": {},
   "outputs": [
    {
     "name": "stdout",
     "output_type": "stream",
     "text": [
      "Device: cpu\n"
     ]
    }
   ],
   "source": [
    "# Check if a GPU is available and set the device accordingly\n",
    "device = torch.device(\"cuda\" if torch.cuda.is_available() else \"cpu\")\n",
    "print(f\"Device: {device}\")"
   ]
  },
  {
   "cell_type": "code",
   "execution_count": 479,
   "metadata": {},
   "outputs": [],
   "source": [
    "# Set the model to evaluation mode\n",
    "model.eval()\n",
    "\n",
    "# Generate predictions\n",
    "with torch.no_grad():\n",
    "    y_pred = model(X_test_tensor.to(device))\n",
    "\n",
    "# Move predictions and actual values to CPU and detach them from the computation graph\n",
    "y_pred = y_pred.cpu().detach().numpy()\n",
    "y_test_np = y_test_tensor.cpu().numpy()"
   ]
  },
  {
   "cell_type": "code",
   "execution_count": 480,
   "metadata": {},
   "outputs": [],
   "source": [
    "# Inverse transform the predictions and actual values\n",
    "y_pred_inverse = scaler.inverse_transform(\n",
    "    np.concatenate(\n",
    "        [y_pred, np.zeros((y_pred.shape[0], len(features_to_normalize) - 1))], axis=1\n",
    "    )\n",
    ")[\n",
    "    :, 0\n",
    "]  # Only reverse the first column which is KW\n",
    "\n",
    "y_test_inverse = scaler.inverse_transform(\n",
    "    np.concatenate(\n",
    "        [\n",
    "            y_test_np.reshape(-1, 1),\n",
    "            np.zeros((y_test_np.shape[0], len(features_to_normalize) - 1)),\n",
    "        ],\n",
    "        axis=1,\n",
    "    )\n",
    ")[\n",
    "    :, 0\n",
    "]  # Only reverse the first column which is KW"
   ]
  },
  {
   "cell_type": "code",
   "execution_count": 481,
   "metadata": {},
   "outputs": [
    {
     "name": "stdout",
     "output_type": "stream",
     "text": [
      "MAPE: 1.99%\n",
      "RMSE: 9606.14 KW\n"
     ]
    }
   ],
   "source": [
    "# Define MAPE and RMSE functions\n",
    "def MAPE(y_true, y_pred):\n",
    "    return np.mean(np.abs((y_true - y_pred) / y_true)) * 100\n",
    "\n",
    "def RMSE(y_true, y_pred):\n",
    "    return np.sqrt(np.mean((y_true - y_pred) ** 2))\n",
    "\n",
    "# Calculate MAPE and RMSE\n",
    "mape_value = MAPE(y_test_inverse, y_pred_inverse)\n",
    "rmse_value = RMSE(y_test_inverse, y_pred_inverse)\n",
    "\n",
    "print(f\"MAPE: {mape_value:.2f}%\")\n",
    "print(f\"RMSE: {rmse_value:.2f} KW\")"
   ]
  },
  {
   "cell_type": "code",
   "execution_count": 482,
   "metadata": {},
   "outputs": [
    {
     "name": "stdout",
     "output_type": "stream",
     "text": [
      "Actual:\t\t344308.41\t346086.61\t318328.18\t341616.68\t334400.75\t\n",
      "Predicted:\t343046.07\t340587.30\t338379.34\t336406.80\t335002.68\t\n",
      "-----------------------------------------------------------------------------------------\n",
      "Difference:\t1262.33\t5499.31\t-20051.16\t5209.88\t-601.92\t"
     ]
    }
   ],
   "source": [
    "print(\"Actual:\\t\\t\", end=\"\")\n",
    "for val in y_test_inverse:\n",
    "    print(f\"{val:.2f}\", end=\"\\t\")\n",
    "print()\n",
    "print(\"Predicted:\\t\", end=\"\")\n",
    "for val in y_pred_inverse:\n",
    "    print(f\"{val:.2f}\", end=\"\\t\")\n",
    "print(\n",
    "    \"\\n-----------------------------------------------------------------------------------------\"\n",
    ")\n",
    "print(\"Difference:\\t\", end=\"\")\n",
    "for val in y_test_inverse - y_pred_inverse:\n",
    "    print(f\"{val:.2f}\", end=\"\\t\")"
   ]
  },
  {
   "cell_type": "code",
   "execution_count": 485,
   "metadata": {},
   "outputs": [
    {
     "data": {
      "image/png": "[encoded data removed]",
      "text/plain": [
       "<Figure size 700x400 with 1 Axes>"
      ]
     },
     "metadata": {},
     "output_type": "display_data"
    }
   ],
   "source": [
    "# Adjusting the plot to better center the data for a cleaner look\n",
    "plt.figure(figsize=(7, 4))\n",
    "# Plot actual values\n",
    "plt.plot(y_test_inverse, label=\"Actual\", marker=\"s\", linestyle=\"-\", color=\"royalblue\", alpha=0.8)\n",
    "# Plot predicted values\n",
    "plt.plot(\n",
    "    y_pred_inverse, label=\"Predicted\", marker=\"o\", linestyle=\"-\", color=\"salmon\", alpha=0.8\n",
    ")\n",
    "# Title and labels\n",
    "plt.title(\"Actual vs Predicted Values\")\n",
    "plt.xlabel(\"Steps\")\n",
    "plt.ylabel(\"KW Load\")\n",
    "# Show legend\n",
    "plt.legend()\n",
    "# Adjusting the y-limits to center the data and avoid awkward spacing\n",
    "y_min = min(min(y_test_inverse), min(y_pred_inverse)) - 40000\n",
    "y_max = max(max(y_test_inverse), max(y_pred_inverse)) + 50000\n",
    "plt.ylim([y_min, y_max])\n",
    "# Display the plot with gridlines and tighter layout\n",
    "plt.grid(True)\n",
    "plt.tight_layout()\n",
    "plt.show()"
   ]
  },
  {
   "cell_type": "code",
   "execution_count": 484,
   "metadata": {},
   "outputs": [],
   "source": [
    "# Save the Model\n",
    "torch.save(model.state_dict(), \"final_lstm_model.pth\")"
   ]
  }
 ],
 "metadata": {
  "kernelspec": {
   "display_name": "venv",
   "language": "python",
   "name": "python3"
  },
  "language_info": {
   "codemirror_mode": {
    "name": "ipython",
    "version": 3
   },
   "file_extension": ".py",
   "mimetype": "text/x-python",
   "name": "python",
   "nbconvert_exporter": "python",
   "pygments_lexer": "ipython3",
   "version": "3.12.1"
  }
 },
 "nbformat": 4,
 "nbformat_minor": 2
}
