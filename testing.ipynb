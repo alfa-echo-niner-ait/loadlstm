{
 "cells": [
  {
   "cell_type": "markdown",
   "metadata": {},
   "source": [
    "## Data Preprocessing"
   ]
  },
  {
   "cell_type": "code",
   "execution_count": 337,
   "metadata": {},
   "outputs": [],
   "source": [
    "import numpy as np\n",
    "import pandas as pd"
   ]
  },
  {
   "cell_type": "code",
   "execution_count": 338,
   "metadata": {},
   "outputs": [],
   "source": [
    "# Power load dataset\n",
    "load_dataset = pd.read_csv(\"data/load_data_clean.csv\")\n",
    "# Meterological dataset\n",
    "met_dataset = pd.read_csv(\"data/met_data_clean.csv\")"
   ]
  },
  {
   "cell_type": "code",
   "execution_count": 339,
   "metadata": {},
   "outputs": [],
   "source": [
    "load_df = pd.DataFrame(load_dataset)\n",
    "met_df = pd.DataFrame(met_dataset)"
   ]
  },
  {
   "cell_type": "code",
   "execution_count": 340,
   "metadata": {},
   "outputs": [],
   "source": [
    "load_df[\"DATE (MM/DD/YYYY)\"] = pd.to_datetime(\n",
    "    load_df[\"DATE (MM/DD/YYYY)\"], format=\"%m/%d/%Y\"\n",
    ")\n",
    "\n",
    "met_df[\"DATE (MM/DD/YYYY)\"] = pd.to_datetime(\n",
    "    met_df[\"DATE (MM/DD/YYYY)\"], format=\"%m/%d/%Y\"\n",
    ")"
   ]
  },
  {
   "cell_type": "code",
   "execution_count": 341,
   "metadata": {},
   "outputs": [
    {
     "data": {
      "text/html": [
       "<div>\n",
       "<style scoped>\n",
       "    .dataframe tbody tr th:only-of-type {\n",
       "        vertical-align: middle;\n",
       "    }\n",
       "\n",
       "    .dataframe tbody tr th {\n",
       "        vertical-align: top;\n",
       "    }\n",
       "\n",
       "    .dataframe thead th {\n",
       "        text-align: right;\n",
       "    }\n",
       "</style>\n",
       "<table border=\"1\" class=\"dataframe\">\n",
       "  <thead>\n",
       "    <tr style=\"text-align: right;\">\n",
       "      <th></th>\n",
       "      <th>DATE (MM/DD/YYYY)</th>\n",
       "      <th>KW</th>\n",
       "      <th>KWS</th>\n",
       "      <th>CHWTON</th>\n",
       "      <th>HTmmBTU</th>\n",
       "      <th>Combined mmBTU</th>\n",
       "      <th>Combined Tons Carbon</th>\n",
       "      <th>KW#Houses</th>\n",
       "      <th>KWlightbulbs</th>\n",
       "      <th>KWgalsgas</th>\n",
       "      <th>...</th>\n",
       "      <th>CHWTONlightbulbs</th>\n",
       "      <th>CHWTONgalsgas</th>\n",
       "      <th>HTmmBTU#Houses</th>\n",
       "      <th>HTmmBTUlightbulbs</th>\n",
       "      <th>HTmmBTUgalsgas</th>\n",
       "      <th>Total#Houses</th>\n",
       "      <th>Totallightbulbs</th>\n",
       "      <th>Totalgalsgas</th>\n",
       "      <th>GHG</th>\n",
       "      <th>DOW</th>\n",
       "    </tr>\n",
       "  </thead>\n",
       "  <tbody>\n",
       "    <tr>\n",
       "      <th>0</th>\n",
       "      <td>2024-05-01</td>\n",
       "      <td>351973.45</td>\n",
       "      <td>39367.64</td>\n",
       "      <td>117009.06</td>\n",
       "      <td>115.27</td>\n",
       "      <td>2720.37</td>\n",
       "      <td>497.21</td>\n",
       "      <td>100564</td>\n",
       "      <td>25140971</td>\n",
       "      <td>9608</td>\n",
       "      <td>...</td>\n",
       "      <td>29385656</td>\n",
       "      <td>11233</td>\n",
       "      <td>9652</td>\n",
       "      <td>2412510</td>\n",
       "      <td>922</td>\n",
       "      <td>227789</td>\n",
       "      <td>56939137</td>\n",
       "      <td>969870</td>\n",
       "      <td>169.754</td>\n",
       "      <td>4</td>\n",
       "    </tr>\n",
       "    <tr>\n",
       "      <th>1</th>\n",
       "      <td>2024-05-02</td>\n",
       "      <td>353826.38</td>\n",
       "      <td>39144.04</td>\n",
       "      <td>119220.71</td>\n",
       "      <td>115.03</td>\n",
       "      <td>2752.99</td>\n",
       "      <td>503.17</td>\n",
       "      <td>101093</td>\n",
       "      <td>25273323</td>\n",
       "      <td>9658</td>\n",
       "      <td>...</td>\n",
       "      <td>29941089</td>\n",
       "      <td>11445</td>\n",
       "      <td>9632</td>\n",
       "      <td>2407457</td>\n",
       "      <td>920</td>\n",
       "      <td>230520</td>\n",
       "      <td>57621868</td>\n",
       "      <td>987740</td>\n",
       "      <td>170.867</td>\n",
       "      <td>5</td>\n",
       "    </tr>\n",
       "    <tr>\n",
       "      <th>2</th>\n",
       "      <td>2024-05-03</td>\n",
       "      <td>357657.88</td>\n",
       "      <td>38935.34</td>\n",
       "      <td>123171.43</td>\n",
       "      <td>109.79</td>\n",
       "      <td>2808.22</td>\n",
       "      <td>513.27</td>\n",
       "      <td>102188</td>\n",
       "      <td>25547001</td>\n",
       "      <td>9763</td>\n",
       "      <td>...</td>\n",
       "      <td>30933274</td>\n",
       "      <td>11824</td>\n",
       "      <td>9193</td>\n",
       "      <td>2297666</td>\n",
       "      <td>878</td>\n",
       "      <td>235145</td>\n",
       "      <td>58777940</td>\n",
       "      <td>1019713</td>\n",
       "      <td>173.062</td>\n",
       "      <td>6</td>\n",
       "    </tr>\n",
       "    <tr>\n",
       "      <th>3</th>\n",
       "      <td>2024-05-04</td>\n",
       "      <td>363958.25</td>\n",
       "      <td>38676.54</td>\n",
       "      <td>118279.24</td>\n",
       "      <td>108.33</td>\n",
       "      <td>2769.56</td>\n",
       "      <td>506.20</td>\n",
       "      <td>103988</td>\n",
       "      <td>25997028</td>\n",
       "      <td>9935</td>\n",
       "      <td>...</td>\n",
       "      <td>29704649</td>\n",
       "      <td>11355</td>\n",
       "      <td>9071</td>\n",
       "      <td>2267263</td>\n",
       "      <td>867</td>\n",
       "      <td>231908</td>\n",
       "      <td>57968940</td>\n",
       "      <td>981181</td>\n",
       "      <td>176.630</td>\n",
       "      <td>7</td>\n",
       "    </tr>\n",
       "    <tr>\n",
       "      <th>4</th>\n",
       "      <td>2024-05-05</td>\n",
       "      <td>320144.95</td>\n",
       "      <td>33341.16</td>\n",
       "      <td>106070.52</td>\n",
       "      <td>108.39</td>\n",
       "      <td>2473.62</td>\n",
       "      <td>452.11</td>\n",
       "      <td>91470</td>\n",
       "      <td>22867506</td>\n",
       "      <td>8739</td>\n",
       "      <td>...</td>\n",
       "      <td>26638552</td>\n",
       "      <td>10183</td>\n",
       "      <td>9076</td>\n",
       "      <td>2268428</td>\n",
       "      <td>867</td>\n",
       "      <td>207127</td>\n",
       "      <td>51774485</td>\n",
       "      <td>879305</td>\n",
       "      <td>155.741</td>\n",
       "      <td>1</td>\n",
       "    </tr>\n",
       "  </tbody>\n",
       "</table>\n",
       "<p>5 rows × 21 columns</p>\n",
       "</div>"
      ],
      "text/plain": [
       "  DATE (MM/DD/YYYY)         KW       KWS     CHWTON  HTmmBTU  Combined mmBTU  \\\n",
       "0        2024-05-01  351973.45  39367.64  117009.06   115.27         2720.37   \n",
       "1        2024-05-02  353826.38  39144.04  119220.71   115.03         2752.99   \n",
       "2        2024-05-03  357657.88  38935.34  123171.43   109.79         2808.22   \n",
       "3        2024-05-04  363958.25  38676.54  118279.24   108.33         2769.56   \n",
       "4        2024-05-05  320144.95  33341.16  106070.52   108.39         2473.62   \n",
       "\n",
       "   Combined Tons Carbon  KW#Houses  KWlightbulbs  KWgalsgas  ...  \\\n",
       "0                497.21     100564      25140971       9608  ...   \n",
       "1                503.17     101093      25273323       9658  ...   \n",
       "2                513.27     102188      25547001       9763  ...   \n",
       "3                506.20     103988      25997028       9935  ...   \n",
       "4                452.11      91470      22867506       8739  ...   \n",
       "\n",
       "   CHWTONlightbulbs  CHWTONgalsgas  HTmmBTU#Houses  HTmmBTUlightbulbs  \\\n",
       "0          29385656          11233            9652            2412510   \n",
       "1          29941089          11445            9632            2407457   \n",
       "2          30933274          11824            9193            2297666   \n",
       "3          29704649          11355            9071            2267263   \n",
       "4          26638552          10183            9076            2268428   \n",
       "\n",
       "   HTmmBTUgalsgas  Total#Houses  Totallightbulbs  Totalgalsgas      GHG  DOW  \n",
       "0             922        227789         56939137        969870  169.754    4  \n",
       "1             920        230520         57621868        987740  170.867    5  \n",
       "2             878        235145         58777940       1019713  173.062    6  \n",
       "3             867        231908         57968940        981181  176.630    7  \n",
       "4             867        207127         51774485        879305  155.741    1  \n",
       "\n",
       "[5 rows x 21 columns]"
      ]
     },
     "execution_count": 341,
     "metadata": {},
     "output_type": "execute_result"
    }
   ],
   "source": [
    "load_df.head()"
   ]
  },
  {
   "cell_type": "markdown",
   "metadata": {},
   "source": [
    "Here is an explanation of each data column of load dataset:\n",
    "\n",
    "1. **DATE (MM/DD/YYYY):**\n",
    "   - **Description:** The date in the format Month/Day/Year.\n",
    "   - **Example:** `05/01/2024` represents May 1, 2024.\n",
    "\n",
    "2. **KW:**\n",
    "   - **Description:** The total kilowatt (KW) power consumption for the day.\n",
    "   - **Example:** `351973.45` KW represents the total power consumption on the given day.\n",
    "\n",
    "3. **KWS:**\n",
    "   - **Description:** The total power consumption in kilowatt-hours (KWH).\n",
    "   - **Example:** `39367.64` KWS represents the total power consumption in KWH.\n",
    "\n",
    "4. **CHWTON:**\n",
    "   - **Description:** The total cooling energy consumption in cooling tons.\n",
    "   - **Example:** `117009.06` CHWTON represents the cooling energy consumption.\n",
    "\n",
    "5. **HTmmBTU:**\n",
    "   - **Description:** The total heating energy consumption in million British thermal units (mmBTU).\n",
    "   - **Example:** `115.27` HTmmBTU represents the heating energy consumption.\n",
    "\n",
    "6. **Combined mmBTU:**\n",
    "   - **Description:** The combined energy consumption (cooling and heating) in million British thermal units (mmBTU).\n",
    "   - **Example:** `2720.37` Combined mmBTU represents the combined energy consumption.\n",
    "\n",
    "7. **Combined Tons Carbon:**\n",
    "   - **Description:** The combined carbon emissions in tons.\n",
    "   - **Example:** `497.21` Combined Tons Carbon represents the total carbon emissions.\n",
    "\n",
    "8. **KW#Houses:**\n",
    "   - **Description:** The equivalent number of houses that the KW consumption can power.\n",
    "   - **Example:** `100564` houses can be powered by the KW consumption.\n",
    "\n",
    "9. **KWlightbulbs:**\n",
    "   - **Description:** The equivalent number of lightbulbs that the KW consumption can power.\n",
    "   - **Example:** `25140971` lightbulbs can be powered by the KW consumption.\n",
    "\n",
    "10. **KWgalsgas:**\n",
    "    - **Description:** The equivalent number of gallons of gasoline that the KW consumption can power.\n",
    "    - **Example:** `9608` gallons of gasoline can be powered by the KW consumption.\n",
    "\n",
    "11. **CHWTON#Houses:**\n",
    "    - **Description:** The equivalent number of houses that the cooling energy (CHWTON) consumption can power.\n",
    "    - **Example:** `117572` houses can be powered by the cooling energy consumption.\n",
    "\n",
    "12. **CHWTONlightbulbs:**\n",
    "    - **Description:** The equivalent number of lightbulbs that the cooling energy (CHWTON) consumption can power.\n",
    "    - **Example:** `29385656` lightbulbs can be powered by the cooling energy consumption.\n",
    "\n",
    "13. **CHWTONgalsgas:**\n",
    "    - **Description:** The equivalent number of gallons of gasoline that the cooling energy (CHWTON) consumption can power.\n",
    "    - **Example:** `11233` gallons of gasoline can be powered by the cooling energy consumption.\n",
    "\n",
    "14. **HTmmBTU#Houses:**\n",
    "    - **Description:** The equivalent number of houses that the heating energy (HTmmBTU) consumption can power.\n",
    "    - **Example:** `9652` houses can be powered by the heating energy consumption.\n",
    "\n",
    "15. **HTmmBTUlightbulbs:**\n",
    "    - **Description:** The equivalent number of lightbulbs that the heating energy (HTmmBTU) consumption can power.\n",
    "    - **Example:** `2412510` lightbulbs can be powered by the heating energy consumption.\n",
    "\n",
    "16. **HTmmBTUgalsgas:**\n",
    "    - **Description:** The equivalent number of gallons of gasoline that the heating energy (HTmmBTU) consumption can power.\n",
    "    - **Example:** `922` gallons of gasoline can be powered by the heating energy consumption.\n",
    "\n",
    "17. **Total#Houses:**\n",
    "    - **Description:** The total equivalent number of houses that the combined energy consumption can power.\n",
    "    - **Example:** `227789` houses can be powered by the combined energy consumption.\n",
    "\n",
    "18. **Totallightbulbs:**\n",
    "    - **Description:** The total equivalent number of lightbulbs that the combined energy consumption can power.\n",
    "    - **Example:** `56939137` lightbulbs can be powered by the combined energy consumption.\n",
    "\n",
    "19. **Totalgalsgas:**\n",
    "    - **Description:** The total equivalent number of gallons of gasoline that the combined energy consumption can power.\n",
    "    - **Example:** `969870` gallons of gasoline can be powered by the combined energy consumption.\n",
    "\n",
    "20. **GHG:**\n",
    "    - **Description:** Greenhouse gas emissions.\n",
    "    - **Example:** `169.754` represents the greenhouse gas emissions.\n",
    "\n",
    "21. **DOW:**\n",
    "    - **Description:** Day of the week, where 1 represents Monday, 2 represents Tuesday, etc.\n",
    "    - **Example:** `4` represents Thursday."
   ]
  },
  {
   "cell_type": "code",
   "execution_count": 342,
   "metadata": {},
   "outputs": [
    {
     "data": {
      "text/html": [
       "<div>\n",
       "<style scoped>\n",
       "    .dataframe tbody tr th:only-of-type {\n",
       "        vertical-align: middle;\n",
       "    }\n",
       "\n",
       "    .dataframe tbody tr th {\n",
       "        vertical-align: top;\n",
       "    }\n",
       "\n",
       "    .dataframe thead th {\n",
       "        text-align: right;\n",
       "    }\n",
       "</style>\n",
       "<table border=\"1\" class=\"dataframe\">\n",
       "  <thead>\n",
       "    <tr style=\"text-align: right;\">\n",
       "      <th></th>\n",
       "      <th>DATE (MM/DD/YYYY)</th>\n",
       "      <th>AVG Air Temperature [deg F]</th>\n",
       "      <th>MAX Air Temperature [deg F]</th>\n",
       "      <th>MIN Air Temperature [deg F]</th>\n",
       "      <th>AVG Rel Humidity [%]</th>\n",
       "      <th>MAX Rel Humidity [%]</th>\n",
       "      <th>MIN Rel Humidity [%]</th>\n",
       "      <th>AVG Avg Wind Speed @ 3m [MPH]</th>\n",
       "      <th>MAX Avg Wind Speed @ 3m [MPH]</th>\n",
       "      <th>MIN Avg Wind Speed @ 3m [MPH]</th>\n",
       "      <th>AVG Peak Wind Speed @ 3m [MPH]</th>\n",
       "      <th>MAX Peak Wind Speed @ 3m [MPH]</th>\n",
       "      <th>MIN Peak Wind Speed @ 3m [MPH]</th>\n",
       "      <th>AVG Station Pressure [inHg]</th>\n",
       "      <th>MAX Station Pressure [inHg]</th>\n",
       "      <th>MIN Station Pressure [inHg]</th>\n",
       "    </tr>\n",
       "  </thead>\n",
       "  <tbody>\n",
       "    <tr>\n",
       "      <th>0</th>\n",
       "      <td>2024-05-01</td>\n",
       "      <td>76.2268</td>\n",
       "      <td>87.494</td>\n",
       "      <td>61.322</td>\n",
       "      <td>19.3349</td>\n",
       "      <td>34.09</td>\n",
       "      <td>8.040</td>\n",
       "      <td>7.5972</td>\n",
       "      <td>24.4721</td>\n",
       "      <td>0.0</td>\n",
       "      <td>11.1715</td>\n",
       "      <td>30.6460</td>\n",
       "      <td>0.0</td>\n",
       "      <td>27.2098</td>\n",
       "      <td>27.2561</td>\n",
       "      <td>27.1436</td>\n",
       "    </tr>\n",
       "    <tr>\n",
       "      <th>1</th>\n",
       "      <td>2024-05-02</td>\n",
       "      <td>76.1305</td>\n",
       "      <td>89.690</td>\n",
       "      <td>60.836</td>\n",
       "      <td>18.6194</td>\n",
       "      <td>36.39</td>\n",
       "      <td>6.938</td>\n",
       "      <td>5.1366</td>\n",
       "      <td>22.8839</td>\n",
       "      <td>0.0</td>\n",
       "      <td>8.0311</td>\n",
       "      <td>27.2906</td>\n",
       "      <td>0.0</td>\n",
       "      <td>27.2407</td>\n",
       "      <td>27.2873</td>\n",
       "      <td>27.1868</td>\n",
       "    </tr>\n",
       "    <tr>\n",
       "      <th>2</th>\n",
       "      <td>2024-05-03</td>\n",
       "      <td>77.3261</td>\n",
       "      <td>89.960</td>\n",
       "      <td>63.878</td>\n",
       "      <td>19.7970</td>\n",
       "      <td>41.99</td>\n",
       "      <td>6.877</td>\n",
       "      <td>5.7147</td>\n",
       "      <td>23.8457</td>\n",
       "      <td>0.0</td>\n",
       "      <td>8.8923</td>\n",
       "      <td>39.0345</td>\n",
       "      <td>0.0</td>\n",
       "      <td>27.2277</td>\n",
       "      <td>27.2663</td>\n",
       "      <td>27.1653</td>\n",
       "    </tr>\n",
       "    <tr>\n",
       "      <th>3</th>\n",
       "      <td>2024-05-04</td>\n",
       "      <td>76.8995</td>\n",
       "      <td>89.762</td>\n",
       "      <td>61.106</td>\n",
       "      <td>17.8820</td>\n",
       "      <td>31.30</td>\n",
       "      <td>6.234</td>\n",
       "      <td>5.5733</td>\n",
       "      <td>20.5574</td>\n",
       "      <td>0.0</td>\n",
       "      <td>8.6903</td>\n",
       "      <td>25.6129</td>\n",
       "      <td>0.0</td>\n",
       "      <td>27.2277</td>\n",
       "      <td>27.2670</td>\n",
       "      <td>27.1798</td>\n",
       "    </tr>\n",
       "    <tr>\n",
       "      <th>4</th>\n",
       "      <td>2024-05-05</td>\n",
       "      <td>75.1771</td>\n",
       "      <td>86.774</td>\n",
       "      <td>63.176</td>\n",
       "      <td>18.5651</td>\n",
       "      <td>30.04</td>\n",
       "      <td>9.040</td>\n",
       "      <td>11.2813</td>\n",
       "      <td>32.4132</td>\n",
       "      <td>0.0</td>\n",
       "      <td>16.0872</td>\n",
       "      <td>44.0676</td>\n",
       "      <td>0.0</td>\n",
       "      <td>27.2212</td>\n",
       "      <td>27.2677</td>\n",
       "      <td>27.1493</td>\n",
       "    </tr>\n",
       "  </tbody>\n",
       "</table>\n",
       "</div>"
      ],
      "text/plain": [
       "  DATE (MM/DD/YYYY)  AVG Air Temperature [deg F]  MAX Air Temperature [deg F]  \\\n",
       "0        2024-05-01                      76.2268                       87.494   \n",
       "1        2024-05-02                      76.1305                       89.690   \n",
       "2        2024-05-03                      77.3261                       89.960   \n",
       "3        2024-05-04                      76.8995                       89.762   \n",
       "4        2024-05-05                      75.1771                       86.774   \n",
       "\n",
       "   MIN Air Temperature [deg F]  AVG Rel Humidity [%]  MAX Rel Humidity [%]  \\\n",
       "0                       61.322               19.3349                 34.09   \n",
       "1                       60.836               18.6194                 36.39   \n",
       "2                       63.878               19.7970                 41.99   \n",
       "3                       61.106               17.8820                 31.30   \n",
       "4                       63.176               18.5651                 30.04   \n",
       "\n",
       "   MIN Rel Humidity [%]  AVG Avg Wind Speed @ 3m [MPH]  \\\n",
       "0                 8.040                         7.5972   \n",
       "1                 6.938                         5.1366   \n",
       "2                 6.877                         5.7147   \n",
       "3                 6.234                         5.5733   \n",
       "4                 9.040                        11.2813   \n",
       "\n",
       "   MAX Avg Wind Speed @ 3m [MPH]  MIN Avg Wind Speed @ 3m [MPH]  \\\n",
       "0                        24.4721                            0.0   \n",
       "1                        22.8839                            0.0   \n",
       "2                        23.8457                            0.0   \n",
       "3                        20.5574                            0.0   \n",
       "4                        32.4132                            0.0   \n",
       "\n",
       "   AVG Peak Wind Speed @ 3m [MPH]  MAX Peak Wind Speed @ 3m [MPH]  \\\n",
       "0                         11.1715                         30.6460   \n",
       "1                          8.0311                         27.2906   \n",
       "2                          8.8923                         39.0345   \n",
       "3                          8.6903                         25.6129   \n",
       "4                         16.0872                         44.0676   \n",
       "\n",
       "   MIN Peak Wind Speed @ 3m [MPH]  AVG Station Pressure [inHg]  \\\n",
       "0                             0.0                      27.2098   \n",
       "1                             0.0                      27.2407   \n",
       "2                             0.0                      27.2277   \n",
       "3                             0.0                      27.2277   \n",
       "4                             0.0                      27.2212   \n",
       "\n",
       "   MAX Station Pressure [inHg]  MIN Station Pressure [inHg]  \n",
       "0                      27.2561                      27.1436  \n",
       "1                      27.2873                      27.1868  \n",
       "2                      27.2663                      27.1653  \n",
       "3                      27.2670                      27.1798  \n",
       "4                      27.2677                      27.1493  "
      ]
     },
     "execution_count": 342,
     "metadata": {},
     "output_type": "execute_result"
    }
   ],
   "source": [
    "met_df.head()"
   ]
  },
  {
   "cell_type": "markdown",
   "metadata": {},
   "source": [
    "Here is an explanation of each column in the meteorological dataset:\n",
    "\n",
    "1. **DATE (MM/DD/YYYY):**\n",
    "   - **Description:** The date in the format Month/Day/Year.\n",
    "   - **Example:** `05/01/2024` represents May 1, 2024.\n",
    "\n",
    "2. **AVG Air Temperature [deg F]:**\n",
    "   - **Description:** The average air temperature in degrees Fahrenheit for the day.\n",
    "   - **Example:** `76.2268` degrees Fahrenheit.\n",
    "\n",
    "3. **MAX Air Temperature [deg F]:**\n",
    "   - **Description:** The maximum air temperature in degrees Fahrenheit for the day.\n",
    "   - **Example:** `87.494` degrees Fahrenheit.\n",
    "\n",
    "4. **MIN Air Temperature [deg F]:**\n",
    "   - **Description:** The minimum air temperature in degrees Fahrenheit for the day.\n",
    "   - **Example:** `61.322` degrees Fahrenheit.\n",
    "\n",
    "5. **AVG Rel Humidity [%]:**\n",
    "   - **Description:** The average relative humidity as a percentage for the day.\n",
    "   - **Example:** `19.3349%`.\n",
    "\n",
    "6. **MAX Rel Humidity [%]:**\n",
    "   - **Description:** The maximum relative humidity as a percentage for the day.\n",
    "   - **Example:** `34.09%`.\n",
    "\n",
    "7. **MIN Rel Humidity [%]:**\n",
    "   - **Description:** The minimum relative humidity as a percentage for the day.\n",
    "   - **Example:** `8.04%`.\n",
    "\n",
    "8. **AVG Avg Wind Speed @ 3m [MPH]:**\n",
    "   - **Description:** The average wind speed at 3 meters above ground level in miles per hour for the day.\n",
    "   - **Example:** `7.5972` miles per hour.\n",
    "\n",
    "9. **MAX Avg Wind Speed @ 3m [MPH]:**\n",
    "   - **Description:** The maximum average wind speed at 3 meters above ground level in miles per hour for the day.\n",
    "   - **Example:** `24.4721` miles per hour.\n",
    "\n",
    "10. **MIN Avg Wind Speed @ 3m [MPH]:**\n",
    "    - **Description:** The minimum average wind speed at 3 meters above ground level in miles per hour for the day.\n",
    "    - **Example:** `0.0` miles per hour.\n",
    "\n",
    "11. **AVG Peak Wind Speed @ 3m [MPH]:**\n",
    "    - **Description:** The average peak wind speed at 3 meters above ground level in miles per hour for the day.\n",
    "    - **Example:** `11.1715` miles per hour.\n",
    "\n",
    "12. **MAX Peak Wind Speed @ 3m [MPH]:**\n",
    "    - **Description:** The maximum peak wind speed at 3 meters above ground level in miles per hour for the day.\n",
    "    - **Example:** `30.646` miles per hour.\n",
    "\n",
    "13. **MIN Peak Wind Speed @ 3m [MPH]:**\n",
    "    - **Description:** The minimum peak wind speed at 3 meters above ground level in miles per hour for the day.\n",
    "    - **Example:** `0.0` miles per hour.\n",
    "\n",
    "14. **AVG Station Pressure [inHg]:**\n",
    "    - **Description:** The average station pressure in inches of mercury for the day.\n",
    "    - **Example:** `27.2098` inches of mercury.\n",
    "\n",
    "15. **MAX Station Pressure [inHg]:**\n",
    "    - **Description:** The maximum station pressure in inches of mercury for the day.\n",
    "    - **Example:** `27.2561` inches of mercury.\n",
    "\n",
    "16. **MIN Station Pressure [inHg]:**\n",
    "    - **Description:** The minimum station pressure in inches of mercury for the day.\n",
    "    - **Example:** `27.1436` inches of mercury.\n",
    "\n",
    "These columns represent various meteorological measurements that can influence power load and consumption patterns. By incorporating this data into our analysis, we can build models that account for the impact of weather conditions on power usage."
   ]
  },
  {
   "cell_type": "code",
   "execution_count": 343,
   "metadata": {},
   "outputs": [
    {
     "name": "stdout",
     "output_type": "stream",
     "text": [
      "<class 'pandas.core.frame.DataFrame'>\n",
      "RangeIndex: 61 entries, 0 to 60\n",
      "Data columns (total 21 columns):\n",
      " #   Column                Non-Null Count  Dtype         \n",
      "---  ------                --------------  -----         \n",
      " 0   DATE (MM/DD/YYYY)     61 non-null     datetime64[ns]\n",
      " 1   KW                    61 non-null     float64       \n",
      " 2   KWS                   61 non-null     float64       \n",
      " 3   CHWTON                61 non-null     float64       \n",
      " 4   HTmmBTU               61 non-null     float64       \n",
      " 5   Combined mmBTU        61 non-null     float64       \n",
      " 6   Combined Tons Carbon  61 non-null     float64       \n",
      " 7   KW#Houses             61 non-null     int64         \n",
      " 8   KWlightbulbs          61 non-null     int64         \n",
      " 9   KWgalsgas             61 non-null     int64         \n",
      " 10  CHWTON#Houses         61 non-null     int64         \n",
      " 11  CHWTONlightbulbs      61 non-null     int64         \n",
      " 12  CHWTONgalsgas         61 non-null     int64         \n",
      " 13  HTmmBTU#Houses        61 non-null     int64         \n",
      " 14  HTmmBTUlightbulbs     61 non-null     int64         \n",
      " 15  HTmmBTUgalsgas        61 non-null     int64         \n",
      " 16  Total#Houses          61 non-null     int64         \n",
      " 17  Totallightbulbs       61 non-null     int64         \n",
      " 18  Totalgalsgas          61 non-null     int64         \n",
      " 19  GHG                   61 non-null     float64       \n",
      " 20  DOW                   61 non-null     int64         \n",
      "dtypes: datetime64[ns](1), float64(7), int64(13)\n",
      "memory usage: 10.1 KB\n"
     ]
    }
   ],
   "source": [
    "load_df.info()"
   ]
  },
  {
   "cell_type": "code",
   "execution_count": 344,
   "metadata": {},
   "outputs": [
    {
     "name": "stdout",
     "output_type": "stream",
     "text": [
      "<class 'pandas.core.frame.DataFrame'>\n",
      "RangeIndex: 61 entries, 0 to 60\n",
      "Data columns (total 16 columns):\n",
      " #   Column                          Non-Null Count  Dtype         \n",
      "---  ------                          --------------  -----         \n",
      " 0   DATE (MM/DD/YYYY)               61 non-null     datetime64[ns]\n",
      " 1   AVG Air Temperature [deg F]     61 non-null     float64       \n",
      " 2   MAX Air Temperature [deg F]     61 non-null     float64       \n",
      " 3   MIN Air Temperature [deg F]     61 non-null     float64       \n",
      " 4   AVG Rel Humidity [%]            61 non-null     float64       \n",
      " 5   MAX Rel Humidity [%]            61 non-null     float64       \n",
      " 6   MIN Rel Humidity [%]            61 non-null     float64       \n",
      " 7   AVG Avg Wind Speed @ 3m [MPH]   61 non-null     float64       \n",
      " 8   MAX Avg Wind Speed @ 3m [MPH]   61 non-null     float64       \n",
      " 9   MIN Avg Wind Speed @ 3m [MPH]   61 non-null     float64       \n",
      " 10  AVG Peak Wind Speed @ 3m [MPH]  61 non-null     float64       \n",
      " 11  MAX Peak Wind Speed @ 3m [MPH]  61 non-null     float64       \n",
      " 12  MIN Peak Wind Speed @ 3m [MPH]  61 non-null     float64       \n",
      " 13  AVG Station Pressure [inHg]     61 non-null     float64       \n",
      " 14  MAX Station Pressure [inHg]     61 non-null     float64       \n",
      " 15  MIN Station Pressure [inHg]     61 non-null     float64       \n",
      "dtypes: datetime64[ns](1), float64(15)\n",
      "memory usage: 7.8 KB\n"
     ]
    }
   ],
   "source": [
    "met_df.info()"
   ]
  },
  {
   "cell_type": "code",
   "execution_count": 345,
   "metadata": {},
   "outputs": [],
   "source": [
    "merged_df = pd.merge(load_df, met_df, on=\"DATE (MM/DD/YYYY)\", how=\"inner\")"
   ]
  },
  {
   "cell_type": "code",
   "execution_count": 346,
   "metadata": {},
   "outputs": [
    {
     "name": "stdout",
     "output_type": "stream",
     "text": [
      "<class 'pandas.core.frame.DataFrame'>\n",
      "RangeIndex: 61 entries, 0 to 60\n",
      "Data columns (total 36 columns):\n",
      " #   Column                          Non-Null Count  Dtype         \n",
      "---  ------                          --------------  -----         \n",
      " 0   DATE (MM/DD/YYYY)               61 non-null     datetime64[ns]\n",
      " 1   KW                              61 non-null     float64       \n",
      " 2   KWS                             61 non-null     float64       \n",
      " 3   CHWTON                          61 non-null     float64       \n",
      " 4   HTmmBTU                         61 non-null     float64       \n",
      " 5   Combined mmBTU                  61 non-null     float64       \n",
      " 6   Combined Tons Carbon            61 non-null     float64       \n",
      " 7   KW#Houses                       61 non-null     int64         \n",
      " 8   KWlightbulbs                    61 non-null     int64         \n",
      " 9   KWgalsgas                       61 non-null     int64         \n",
      " 10  CHWTON#Houses                   61 non-null     int64         \n",
      " 11  CHWTONlightbulbs                61 non-null     int64         \n",
      " 12  CHWTONgalsgas                   61 non-null     int64         \n",
      " 13  HTmmBTU#Houses                  61 non-null     int64         \n",
      " 14  HTmmBTUlightbulbs               61 non-null     int64         \n",
      " 15  HTmmBTUgalsgas                  61 non-null     int64         \n",
      " 16  Total#Houses                    61 non-null     int64         \n",
      " 17  Totallightbulbs                 61 non-null     int64         \n",
      " 18  Totalgalsgas                    61 non-null     int64         \n",
      " 19  GHG                             61 non-null     float64       \n",
      " 20  DOW                             61 non-null     int64         \n",
      " 21  AVG Air Temperature [deg F]     61 non-null     float64       \n",
      " 22  MAX Air Temperature [deg F]     61 non-null     float64       \n",
      " 23  MIN Air Temperature [deg F]     61 non-null     float64       \n",
      " 24  AVG Rel Humidity [%]            61 non-null     float64       \n",
      " 25  MAX Rel Humidity [%]            61 non-null     float64       \n",
      " 26  MIN Rel Humidity [%]            61 non-null     float64       \n",
      " 27  AVG Avg Wind Speed @ 3m [MPH]   61 non-null     float64       \n",
      " 28  MAX Avg Wind Speed @ 3m [MPH]   61 non-null     float64       \n",
      " 29  MIN Avg Wind Speed @ 3m [MPH]   61 non-null     float64       \n",
      " 30  AVG Peak Wind Speed @ 3m [MPH]  61 non-null     float64       \n",
      " 31  MAX Peak Wind Speed @ 3m [MPH]  61 non-null     float64       \n",
      " 32  MIN Peak Wind Speed @ 3m [MPH]  61 non-null     float64       \n",
      " 33  AVG Station Pressure [inHg]     61 non-null     float64       \n",
      " 34  MAX Station Pressure [inHg]     61 non-null     float64       \n",
      " 35  MIN Station Pressure [inHg]     61 non-null     float64       \n",
      "dtypes: datetime64[ns](1), float64(22), int64(13)\n",
      "memory usage: 17.3 KB\n"
     ]
    }
   ],
   "source": [
    "merged_df.info()"
   ]
  },
  {
   "cell_type": "code",
   "execution_count": 347,
   "metadata": {},
   "outputs": [
    {
     "data": {
      "text/html": [
       "<div>\n",
       "<style scoped>\n",
       "    .dataframe tbody tr th:only-of-type {\n",
       "        vertical-align: middle;\n",
       "    }\n",
       "\n",
       "    .dataframe tbody tr th {\n",
       "        vertical-align: top;\n",
       "    }\n",
       "\n",
       "    .dataframe thead th {\n",
       "        text-align: right;\n",
       "    }\n",
       "</style>\n",
       "<table border=\"1\" class=\"dataframe\">\n",
       "  <thead>\n",
       "    <tr style=\"text-align: right;\">\n",
       "      <th></th>\n",
       "      <th>DATE (MM/DD/YYYY)</th>\n",
       "      <th>KW</th>\n",
       "      <th>KWS</th>\n",
       "      <th>CHWTON</th>\n",
       "      <th>HTmmBTU</th>\n",
       "      <th>Combined mmBTU</th>\n",
       "      <th>Combined Tons Carbon</th>\n",
       "      <th>KW#Houses</th>\n",
       "      <th>KWlightbulbs</th>\n",
       "      <th>KWgalsgas</th>\n",
       "      <th>...</th>\n",
       "      <th>MIN Rel Humidity [%]</th>\n",
       "      <th>AVG Avg Wind Speed @ 3m [MPH]</th>\n",
       "      <th>MAX Avg Wind Speed @ 3m [MPH]</th>\n",
       "      <th>MIN Avg Wind Speed @ 3m [MPH]</th>\n",
       "      <th>AVG Peak Wind Speed @ 3m [MPH]</th>\n",
       "      <th>MAX Peak Wind Speed @ 3m [MPH]</th>\n",
       "      <th>MIN Peak Wind Speed @ 3m [MPH]</th>\n",
       "      <th>AVG Station Pressure [inHg]</th>\n",
       "      <th>MAX Station Pressure [inHg]</th>\n",
       "      <th>MIN Station Pressure [inHg]</th>\n",
       "    </tr>\n",
       "  </thead>\n",
       "  <tbody>\n",
       "    <tr>\n",
       "      <th>0</th>\n",
       "      <td>2024-05-01</td>\n",
       "      <td>351973.45</td>\n",
       "      <td>39367.64</td>\n",
       "      <td>117009.06</td>\n",
       "      <td>115.27</td>\n",
       "      <td>2720.37</td>\n",
       "      <td>497.21</td>\n",
       "      <td>100564</td>\n",
       "      <td>25140971</td>\n",
       "      <td>9608</td>\n",
       "      <td>...</td>\n",
       "      <td>8.040</td>\n",
       "      <td>7.5972</td>\n",
       "      <td>24.4721</td>\n",
       "      <td>0.0</td>\n",
       "      <td>11.1715</td>\n",
       "      <td>30.6460</td>\n",
       "      <td>0.0</td>\n",
       "      <td>27.2098</td>\n",
       "      <td>27.2561</td>\n",
       "      <td>27.1436</td>\n",
       "    </tr>\n",
       "    <tr>\n",
       "      <th>1</th>\n",
       "      <td>2024-05-02</td>\n",
       "      <td>353826.38</td>\n",
       "      <td>39144.04</td>\n",
       "      <td>119220.71</td>\n",
       "      <td>115.03</td>\n",
       "      <td>2752.99</td>\n",
       "      <td>503.17</td>\n",
       "      <td>101093</td>\n",
       "      <td>25273323</td>\n",
       "      <td>9658</td>\n",
       "      <td>...</td>\n",
       "      <td>6.938</td>\n",
       "      <td>5.1366</td>\n",
       "      <td>22.8839</td>\n",
       "      <td>0.0</td>\n",
       "      <td>8.0311</td>\n",
       "      <td>27.2906</td>\n",
       "      <td>0.0</td>\n",
       "      <td>27.2407</td>\n",
       "      <td>27.2873</td>\n",
       "      <td>27.1868</td>\n",
       "    </tr>\n",
       "    <tr>\n",
       "      <th>2</th>\n",
       "      <td>2024-05-03</td>\n",
       "      <td>357657.88</td>\n",
       "      <td>38935.34</td>\n",
       "      <td>123171.43</td>\n",
       "      <td>109.79</td>\n",
       "      <td>2808.22</td>\n",
       "      <td>513.27</td>\n",
       "      <td>102188</td>\n",
       "      <td>25547001</td>\n",
       "      <td>9763</td>\n",
       "      <td>...</td>\n",
       "      <td>6.877</td>\n",
       "      <td>5.7147</td>\n",
       "      <td>23.8457</td>\n",
       "      <td>0.0</td>\n",
       "      <td>8.8923</td>\n",
       "      <td>39.0345</td>\n",
       "      <td>0.0</td>\n",
       "      <td>27.2277</td>\n",
       "      <td>27.2663</td>\n",
       "      <td>27.1653</td>\n",
       "    </tr>\n",
       "    <tr>\n",
       "      <th>3</th>\n",
       "      <td>2024-05-04</td>\n",
       "      <td>363958.25</td>\n",
       "      <td>38676.54</td>\n",
       "      <td>118279.24</td>\n",
       "      <td>108.33</td>\n",
       "      <td>2769.56</td>\n",
       "      <td>506.20</td>\n",
       "      <td>103988</td>\n",
       "      <td>25997028</td>\n",
       "      <td>9935</td>\n",
       "      <td>...</td>\n",
       "      <td>6.234</td>\n",
       "      <td>5.5733</td>\n",
       "      <td>20.5574</td>\n",
       "      <td>0.0</td>\n",
       "      <td>8.6903</td>\n",
       "      <td>25.6129</td>\n",
       "      <td>0.0</td>\n",
       "      <td>27.2277</td>\n",
       "      <td>27.2670</td>\n",
       "      <td>27.1798</td>\n",
       "    </tr>\n",
       "    <tr>\n",
       "      <th>4</th>\n",
       "      <td>2024-05-05</td>\n",
       "      <td>320144.95</td>\n",
       "      <td>33341.16</td>\n",
       "      <td>106070.52</td>\n",
       "      <td>108.39</td>\n",
       "      <td>2473.62</td>\n",
       "      <td>452.11</td>\n",
       "      <td>91470</td>\n",
       "      <td>22867506</td>\n",
       "      <td>8739</td>\n",
       "      <td>...</td>\n",
       "      <td>9.040</td>\n",
       "      <td>11.2813</td>\n",
       "      <td>32.4132</td>\n",
       "      <td>0.0</td>\n",
       "      <td>16.0872</td>\n",
       "      <td>44.0676</td>\n",
       "      <td>0.0</td>\n",
       "      <td>27.2212</td>\n",
       "      <td>27.2677</td>\n",
       "      <td>27.1493</td>\n",
       "    </tr>\n",
       "  </tbody>\n",
       "</table>\n",
       "<p>5 rows × 36 columns</p>\n",
       "</div>"
      ],
      "text/plain": [
       "  DATE (MM/DD/YYYY)         KW       KWS     CHWTON  HTmmBTU  Combined mmBTU  \\\n",
       "0        2024-05-01  351973.45  39367.64  117009.06   115.27         2720.37   \n",
       "1        2024-05-02  353826.38  39144.04  119220.71   115.03         2752.99   \n",
       "2        2024-05-03  357657.88  38935.34  123171.43   109.79         2808.22   \n",
       "3        2024-05-04  363958.25  38676.54  118279.24   108.33         2769.56   \n",
       "4        2024-05-05  320144.95  33341.16  106070.52   108.39         2473.62   \n",
       "\n",
       "   Combined Tons Carbon  KW#Houses  KWlightbulbs  KWgalsgas  ...  \\\n",
       "0                497.21     100564      25140971       9608  ...   \n",
       "1                503.17     101093      25273323       9658  ...   \n",
       "2                513.27     102188      25547001       9763  ...   \n",
       "3                506.20     103988      25997028       9935  ...   \n",
       "4                452.11      91470      22867506       8739  ...   \n",
       "\n",
       "   MIN Rel Humidity [%]  AVG Avg Wind Speed @ 3m [MPH]  \\\n",
       "0                 8.040                         7.5972   \n",
       "1                 6.938                         5.1366   \n",
       "2                 6.877                         5.7147   \n",
       "3                 6.234                         5.5733   \n",
       "4                 9.040                        11.2813   \n",
       "\n",
       "   MAX Avg Wind Speed @ 3m [MPH]  MIN Avg Wind Speed @ 3m [MPH]  \\\n",
       "0                        24.4721                            0.0   \n",
       "1                        22.8839                            0.0   \n",
       "2                        23.8457                            0.0   \n",
       "3                        20.5574                            0.0   \n",
       "4                        32.4132                            0.0   \n",
       "\n",
       "   AVG Peak Wind Speed @ 3m [MPH]  MAX Peak Wind Speed @ 3m [MPH]  \\\n",
       "0                         11.1715                         30.6460   \n",
       "1                          8.0311                         27.2906   \n",
       "2                          8.8923                         39.0345   \n",
       "3                          8.6903                         25.6129   \n",
       "4                         16.0872                         44.0676   \n",
       "\n",
       "   MIN Peak Wind Speed @ 3m [MPH]  AVG Station Pressure [inHg]  \\\n",
       "0                             0.0                      27.2098   \n",
       "1                             0.0                      27.2407   \n",
       "2                             0.0                      27.2277   \n",
       "3                             0.0                      27.2277   \n",
       "4                             0.0                      27.2212   \n",
       "\n",
       "   MAX Station Pressure [inHg]  MIN Station Pressure [inHg]  \n",
       "0                      27.2561                      27.1436  \n",
       "1                      27.2873                      27.1868  \n",
       "2                      27.2663                      27.1653  \n",
       "3                      27.2670                      27.1798  \n",
       "4                      27.2677                      27.1493  \n",
       "\n",
       "[5 rows x 36 columns]"
      ]
     },
     "execution_count": 347,
     "metadata": {},
     "output_type": "execute_result"
    }
   ],
   "source": [
    "merged_df.head()"
   ]
  },
  {
   "cell_type": "code",
   "execution_count": 348,
   "metadata": {},
   "outputs": [
    {
     "name": "stdout",
     "output_type": "stream",
     "text": [
      "<class 'pandas.core.frame.DataFrame'>\n",
      "RangeIndex: 61 entries, 0 to 60\n",
      "Data columns (total 36 columns):\n",
      " #   Column                          Non-Null Count  Dtype         \n",
      "---  ------                          --------------  -----         \n",
      " 0   DATE (MM/DD/YYYY)               61 non-null     datetime64[ns]\n",
      " 1   KW                              61 non-null     float64       \n",
      " 2   KWS                             61 non-null     float64       \n",
      " 3   CHWTON                          61 non-null     float64       \n",
      " 4   HTmmBTU                         61 non-null     float64       \n",
      " 5   Combined mmBTU                  61 non-null     float64       \n",
      " 6   Combined Tons Carbon            61 non-null     float64       \n",
      " 7   KW#Houses                       61 non-null     int64         \n",
      " 8   KWlightbulbs                    61 non-null     int64         \n",
      " 9   KWgalsgas                       61 non-null     int64         \n",
      " 10  CHWTON#Houses                   61 non-null     int64         \n",
      " 11  CHWTONlightbulbs                61 non-null     int64         \n",
      " 12  CHWTONgalsgas                   61 non-null     int64         \n",
      " 13  HTmmBTU#Houses                  61 non-null     int64         \n",
      " 14  HTmmBTUlightbulbs               61 non-null     int64         \n",
      " 15  HTmmBTUgalsgas                  61 non-null     int64         \n",
      " 16  Total#Houses                    61 non-null     int64         \n",
      " 17  Totallightbulbs                 61 non-null     int64         \n",
      " 18  Totalgalsgas                    61 non-null     int64         \n",
      " 19  GHG                             61 non-null     float64       \n",
      " 20  DOW                             61 non-null     int64         \n",
      " 21  AVG Air Temperature [deg F]     61 non-null     float64       \n",
      " 22  MAX Air Temperature [deg F]     61 non-null     float64       \n",
      " 23  MIN Air Temperature [deg F]     61 non-null     float64       \n",
      " 24  AVG Rel Humidity [%]            61 non-null     float64       \n",
      " 25  MAX Rel Humidity [%]            61 non-null     float64       \n",
      " 26  MIN Rel Humidity [%]            61 non-null     float64       \n",
      " 27  AVG Avg Wind Speed @ 3m [MPH]   61 non-null     float64       \n",
      " 28  MAX Avg Wind Speed @ 3m [MPH]   61 non-null     float64       \n",
      " 29  MIN Avg Wind Speed @ 3m [MPH]   61 non-null     float64       \n",
      " 30  AVG Peak Wind Speed @ 3m [MPH]  61 non-null     float64       \n",
      " 31  MAX Peak Wind Speed @ 3m [MPH]  61 non-null     float64       \n",
      " 32  MIN Peak Wind Speed @ 3m [MPH]  61 non-null     float64       \n",
      " 33  AVG Station Pressure [inHg]     61 non-null     float64       \n",
      " 34  MAX Station Pressure [inHg]     61 non-null     float64       \n",
      " 35  MIN Station Pressure [inHg]     61 non-null     float64       \n",
      "dtypes: datetime64[ns](1), float64(22), int64(13)\n",
      "memory usage: 17.3 KB\n"
     ]
    }
   ],
   "source": [
    "merged_df.info()"
   ]
  },
  {
   "cell_type": "code",
   "execution_count": 349,
   "metadata": {},
   "outputs": [
    {
     "name": "stdout",
     "output_type": "stream",
     "text": [
      "KW                                1.000000\n",
      "KWlightbulbs                      1.000000\n",
      "KW#Houses                         1.000000\n",
      "KWgalsgas                         1.000000\n",
      "GHG                               0.986451\n",
      "Combined Tons Carbon              0.746549\n",
      "Totallightbulbs                   0.746546\n",
      "Total#Houses                      0.746521\n",
      "Combined mmBTU                    0.746521\n",
      "Totalgalsgas                      0.627526\n",
      "CHWTON#Houses                     0.621073\n",
      "CHWTONlightbulbs                  0.621072\n",
      "CHWTON                            0.621072\n",
      "CHWTONgalsgas                     0.621071\n",
      "MIN Air Temperature [deg F]       0.491314\n",
      "MAX Air Temperature [deg F]       0.456301\n",
      "AVG Air Temperature [deg F]       0.446496\n",
      "DATE (MM/DD/YYYY)                 0.429802\n",
      "AVG Rel Humidity [%]              0.419901\n",
      "MAX Rel Humidity [%]              0.408729\n",
      "MIN Rel Humidity [%]              0.377083\n",
      "MIN Avg Wind Speed @ 3m [MPH]     0.280278\n",
      "MIN Peak Wind Speed @ 3m [MPH]    0.280278\n",
      "DOW                               0.178203\n",
      "MAX Peak Wind Speed @ 3m [MPH]   -0.017322\n",
      "MAX Avg Wind Speed @ 3m [MPH]    -0.046623\n",
      "MAX Station Pressure [inHg]      -0.060492\n",
      "AVG Station Pressure [inHg]      -0.118760\n",
      "MIN Station Pressure [inHg]      -0.148945\n",
      "AVG Peak Wind Speed @ 3m [MPH]   -0.167757\n",
      "KWS                              -0.197397\n",
      "AVG Avg Wind Speed @ 3m [MPH]    -0.276237\n",
      "HTmmBTUgalsgas                   -0.577236\n",
      "HTmmBTUlightbulbs                -0.577365\n",
      "HTmmBTU#Houses                   -0.577376\n",
      "HTmmBTU                          -0.577383\n",
      "Name: KW, dtype: float64\n"
     ]
    }
   ],
   "source": [
    "corr_matrix = merged_df.corr()\n",
    "print(corr_matrix[\"KW\"].sort_values(ascending=False))"
   ]
  },
  {
   "cell_type": "markdown",
   "metadata": {},
   "source": [
    "## Data Preprocessing"
   ]
  },
  {
   "cell_type": "code",
   "execution_count": 350,
   "metadata": {},
   "outputs": [],
   "source": [
    "from sklearn.preprocessing import MinMaxScaler"
   ]
  },
  {
   "cell_type": "markdown",
   "metadata": {},
   "source": [
    "#### Step 1: Train-Test Split (80% training, 20% testing)"
   ]
  },
  {
   "cell_type": "code",
   "execution_count": 351,
   "metadata": {},
   "outputs": [],
   "source": [
    "train_size = int(len(merged_df) * 0.8)\n",
    "train_data = merged_df[:train_size]\n",
    "test_data = merged_df[train_size:]"
   ]
  },
  {
   "cell_type": "markdown",
   "metadata": {},
   "source": [
    "#### Step 2: Select relevant columns for normalization\n",
    "\n",
    "Electric load, Cooling load, Heating load, Temperature, Humidity, etc"
   ]
  },
  {
   "cell_type": "code",
   "execution_count": 352,
   "metadata": {},
   "outputs": [],
   "source": [
    "features_to_normalize = [\n",
    "    \"KW\",\n",
    "    \"GHG\",\n",
    "    \"AVG Air Temperature [deg F]\",\n",
    "    \"AVG Rel Humidity [%]\",\n",
    "    \"AVG Avg Wind Speed @ 3m [MPH]\",\n",
    "]"
   ]
  },
  {
   "cell_type": "markdown",
   "metadata": {},
   "source": [
    "Initialize MinMaxScaler"
   ]
  },
  {
   "cell_type": "code",
   "execution_count": 353,
   "metadata": {},
   "outputs": [],
   "source": [
    "scaler = MinMaxScaler()"
   ]
  },
  {
   "cell_type": "markdown",
   "metadata": {},
   "source": [
    "Fit the scaler on the training data and transform both train and test data"
   ]
  },
  {
   "cell_type": "code",
   "execution_count": 354,
   "metadata": {},
   "outputs": [],
   "source": [
    "train_scaled = train_data.copy()\n",
    "train_scaled[features_to_normalize] = scaler.fit_transform(\n",
    "    train_data[features_to_normalize]\n",
    ")\n",
    "\n",
    "test_scaled = test_data.copy()\n",
    "test_scaled[features_to_normalize] = scaler.transform(test_data[features_to_normalize])"
   ]
  },
  {
   "cell_type": "markdown",
   "metadata": {},
   "source": [
    "#### Step 3: Time Series Preparation (Create sliding window sequences)"
   ]
  },
  {
   "cell_type": "code",
   "execution_count": 355,
   "metadata": {},
   "outputs": [],
   "source": [
    "sequence_length = 7  # Use past 7 days to predict the next day\n",
    "\n",
    "def create_sequences(data, target_column, sequence_length):\n",
    "    sequences = []\n",
    "    targets = []\n",
    "\n",
    "    for i in range(len(data) - sequence_length):\n",
    "        seq = data[i : i + sequence_length]  # Sequence of 'n' days\n",
    "        target = data[i + sequence_length][target_column+1]  # Target is the next day's load (KW)\n",
    "        sequences.append(seq)\n",
    "        targets.append(target)\n",
    "\n",
    "    return np.array(sequences), np.array(targets)"
   ]
  },
  {
   "cell_type": "markdown",
   "metadata": {},
   "source": [
    "Create sequences for training and testing sets"
   ]
  },
  {
   "cell_type": "code",
   "execution_count": 356,
   "metadata": {},
   "outputs": [
    {
     "name": "stdout",
     "output_type": "stream",
     "text": [
      "Training data shape (X, y): (41, 7, 5) (41,)\n",
      "Testing data shape (X, y): (6, 7, 5) (6,)\n"
     ]
    }
   ],
   "source": [
    "X_train, y_train = create_sequences(\n",
    "    train_scaled[features_to_normalize].values,\n",
    "    target_column=0,\n",
    "    sequence_length=sequence_length,\n",
    ")  # KW is the target\n",
    "X_test, y_test = create_sequences(\n",
    "    test_scaled[features_to_normalize].values,\n",
    "    target_column=0,\n",
    "    sequence_length=sequence_length,\n",
    ")\n",
    "\n",
    "# Print the shape of training and testing data\n",
    "print(\"Training data shape (X, y):\", X_train.shape, y_train.shape)\n",
    "print(\"Testing data shape (X, y):\", X_test.shape, y_test.shape)"
   ]
  },
  {
   "cell_type": "markdown",
   "metadata": {},
   "source": [
    "### Model Construction"
   ]
  },
  {
   "cell_type": "code",
   "execution_count": 357,
   "metadata": {},
   "outputs": [],
   "source": [
    "import torch\n",
    "import torch.nn as nn\n",
    "import torch.optim as optim\n",
    "from sklearn.metrics import mean_squared_error\n",
    "from torch.optim.lr_scheduler import ReduceLROnPlateau"
   ]
  },
  {
   "cell_type": "markdown",
   "metadata": {},
   "source": [
    "#### Step 1: Convert data to PyTorch tensors"
   ]
  },
  {
   "cell_type": "code",
   "execution_count": 358,
   "metadata": {},
   "outputs": [],
   "source": [
    "X_train_tensor = torch.Tensor(X_train)\n",
    "y_train_tensor = torch.Tensor(y_train)\n",
    "X_test_tensor = torch.Tensor(X_test)\n",
    "y_test_tensor = torch.Tensor(y_test)"
   ]
  },
  {
   "cell_type": "markdown",
   "metadata": {},
   "source": [
    "#### Step 2: Define the LSTM model"
   ]
  },
  {
   "cell_type": "code",
   "execution_count": 359,
   "metadata": {},
   "outputs": [],
   "source": [
    "# Define the LSTM model with L2 regularization\n",
    "class LSTMModel(nn.Module):\n",
    "    def __init__(self, input_dim, hidden_dim, output_dim, num_layers=2, dropout=0.2):\n",
    "        super(LSTMModel, self).__init__()\n",
    "        self.lstm = nn.LSTM(\n",
    "            input_dim, hidden_dim, num_layers, batch_first=True, dropout=dropout\n",
    "        )\n",
    "        self.fc = nn.Linear(hidden_dim, output_dim)\n",
    "\n",
    "    def forward(self, x):\n",
    "        lstm_out, _ = self.lstm(x)\n",
    "        final_feature_map = lstm_out[:, -1, :]\n",
    "        out = self.fc(final_feature_map)\n",
    "        return out"
   ]
  },
  {
   "cell_type": "markdown",
   "metadata": {},
   "source": [
    "Initialize the model, loss function, and optimizer"
   ]
  },
  {
   "cell_type": "code",
   "execution_count": 360,
   "metadata": {},
   "outputs": [],
   "source": [
    "# Initialize model, loss function, and optimizer with L2 regularization\n",
    "input_dim = len(features_to_normalize)\n",
    "hidden_dim = 64\n",
    "output_dim = 1\n",
    "dropout = 0.1"
   ]
  },
  {
   "cell_type": "code",
   "execution_count": 361,
   "metadata": {},
   "outputs": [
    {
     "data": {
      "text/plain": [
       "tensor(0.)"
      ]
     },
     "execution_count": 361,
     "metadata": {},
     "output_type": "execute_result"
    }
   ],
   "source": [
    "model = LSTMModel(input_dim, hidden_dim, output_dim, num_layers=4, dropout=dropout)\n",
    "criterion = nn.MSELoss()\n",
    "optimizer = optim.Adam(\n",
    "    model.parameters(), lr=0.0005, weight_decay=0.001\n",
    ")  # Adding L2 regularization\n",
    "scheduler = ReduceLROnPlateau(\n",
    "    optimizer, mode=\"min\", factor=0.1, patience=20,\n",
    ")\n",
    "torch.nn.utils.clip_grad_norm_(model.parameters(), max_norm=7)"
   ]
  },
  {
   "cell_type": "markdown",
   "metadata": {},
   "source": [
    "#### Step 3: Training loop"
   ]
  },
  {
   "cell_type": "code",
   "execution_count": 362,
   "metadata": {},
   "outputs": [],
   "source": [
    "num_epochs = 50\n",
    "batch_size = 32\n",
    "patience = 20\n",
    "best_loss = float(\"inf\")\n",
    "patience_counter = 0"
   ]
  },
  {
   "cell_type": "markdown",
   "metadata": {},
   "source": [
    "Create DataLoader for training and validation data"
   ]
  },
  {
   "cell_type": "code",
   "execution_count": 363,
   "metadata": {},
   "outputs": [],
   "source": [
    "train_dataset = torch.utils.data.TensorDataset(X_train_tensor, y_train_tensor)\n",
    "train_loader = torch.utils.data.DataLoader(\n",
    "    dataset=train_dataset, batch_size=batch_size, shuffle=True\n",
    ")"
   ]
  },
  {
   "cell_type": "code",
   "execution_count": 364,
   "metadata": {},
   "outputs": [],
   "source": [
    "epoch_losses = list()\n",
    "test_losses = list()"
   ]
  },
  {
   "cell_type": "code",
   "execution_count": 365,
   "metadata": {},
   "outputs": [
    {
     "name": "stdout",
     "output_type": "stream",
     "text": [
      "Epoch [1/50], Loss: 0.4610\n",
      "Test Loss: 0.4587\n",
      "Epoch [2/50], Loss: 0.4288\n",
      "Test Loss: 0.4279\n",
      "Epoch [3/50], Loss: 0.4001\n",
      "Test Loss: 0.3978\n",
      "Epoch [4/50], Loss: 0.3716\n",
      "Test Loss: 0.3678\n",
      "Epoch [5/50], Loss: 0.3420\n",
      "Test Loss: 0.3371\n",
      "Epoch [6/50], Loss: 0.3135\n",
      "Test Loss: 0.3051\n",
      "Epoch [7/50], Loss: 0.2824\n",
      "Test Loss: 0.2713\n",
      "Epoch [8/50], Loss: 0.2502\n",
      "Test Loss: 0.2356\n",
      "Epoch [9/50], Loss: 0.2162\n",
      "Test Loss: 0.1976\n",
      "Epoch [10/50], Loss: 0.1800\n",
      "Test Loss: 0.1576\n",
      "Epoch [11/50], Loss: 0.1428\n",
      "Test Loss: 0.1182\n",
      "Epoch [12/50], Loss: 0.1095\n",
      "Test Loss: 0.0846\n",
      "Epoch [13/50], Loss: 0.0816\n",
      "Test Loss: 0.0653\n",
      "Epoch [14/50], Loss: 0.0667\n",
      "Test Loss: 0.0692\n",
      "Epoch [15/50], Loss: 0.0707\n",
      "Test Loss: 0.0872\n",
      "Epoch [16/50], Loss: 0.0899\n",
      "Test Loss: 0.0918\n",
      "Epoch [17/50], Loss: 0.0933\n",
      "Test Loss: 0.0796\n",
      "Epoch [18/50], Loss: 0.0830\n",
      "Test Loss: 0.0675\n",
      "Epoch [19/50], Loss: 0.0700\n",
      "Test Loss: 0.0632\n",
      "Epoch [20/50], Loss: 0.0673\n",
      "Test Loss: 0.0655\n",
      "Epoch [21/50], Loss: 0.0689\n",
      "Test Loss: 0.0694\n",
      "Epoch [22/50], Loss: 0.0702\n",
      "Test Loss: 0.0716\n",
      "Epoch [23/50], Loss: 0.0730\n",
      "Test Loss: 0.0725\n",
      "Epoch [24/50], Loss: 0.0726\n",
      "Test Loss: 0.0724\n",
      "Epoch [25/50], Loss: 0.0720\n",
      "Test Loss: 0.0705\n",
      "Epoch [26/50], Loss: 0.0720\n",
      "Test Loss: 0.0679\n",
      "Epoch [27/50], Loss: 0.0675\n",
      "Test Loss: 0.0653\n",
      "Epoch [28/50], Loss: 0.0679\n",
      "Test Loss: 0.0633\n",
      "Epoch [29/50], Loss: 0.0666\n",
      "Test Loss: 0.0625\n",
      "Epoch [30/50], Loss: 0.0672\n",
      "Test Loss: 0.0626\n",
      "Epoch [31/50], Loss: 0.0677\n",
      "Test Loss: 0.0627\n",
      "Epoch [32/50], Loss: 0.0664\n",
      "Test Loss: 0.0625\n",
      "Epoch [33/50], Loss: 0.0669\n",
      "Test Loss: 0.0622\n",
      "Epoch [34/50], Loss: 0.0681\n",
      "Test Loss: 0.0624\n",
      "Epoch [35/50], Loss: 0.0650\n",
      "Test Loss: 0.0630\n",
      "Epoch [36/50], Loss: 0.0650\n",
      "Test Loss: 0.0634\n",
      "Epoch [37/50], Loss: 0.0654\n",
      "Test Loss: 0.0641\n",
      "Epoch [38/50], Loss: 0.0653\n",
      "Test Loss: 0.0652\n",
      "Epoch [39/50], Loss: 0.0665\n",
      "Test Loss: 0.0661\n",
      "Epoch [40/50], Loss: 0.0669\n",
      "Test Loss: 0.0662\n",
      "Epoch [41/50], Loss: 0.0660\n",
      "Test Loss: 0.0654\n",
      "Epoch [42/50], Loss: 0.0646\n",
      "Test Loss: 0.0646\n",
      "Epoch [43/50], Loss: 0.0646\n",
      "Test Loss: 0.0636\n",
      "Epoch [44/50], Loss: 0.0661\n",
      "Test Loss: 0.0623\n",
      "Epoch [45/50], Loss: 0.0645\n",
      "Test Loss: 0.0613\n",
      "Epoch [46/50], Loss: 0.0645\n",
      "Test Loss: 0.0609\n",
      "Epoch [47/50], Loss: 0.0656\n",
      "Test Loss: 0.0609\n",
      "Epoch [48/50], Loss: 0.0661\n",
      "Test Loss: 0.0612\n",
      "Epoch [49/50], Loss: 0.0651\n",
      "Test Loss: 0.0611\n",
      "Epoch [50/50], Loss: 0.0659\n",
      "Test Loss: 0.0610\n"
     ]
    }
   ],
   "source": [
    "for epoch in range(num_epochs):\n",
    "    model.train()\n",
    "    epoch_loss = 0\n",
    "\n",
    "    for batch_X, batch_y in train_loader:\n",
    "        outputs = model(batch_X)\n",
    "        loss = criterion(outputs.squeeze(), batch_y)\n",
    "\n",
    "        optimizer.zero_grad()\n",
    "        loss.backward()\n",
    "        optimizer.step()\n",
    "\n",
    "        epoch_loss += loss.item() * batch_X.size(0)\n",
    "\n",
    "    avg_epoch_loss = epoch_loss / len(train_loader.dataset)\n",
    "    epoch_losses.append(avg_epoch_loss)\n",
    "    print(f\"Epoch [{epoch + 1}/{num_epochs}], Loss: {avg_epoch_loss:.4f}\")\n",
    "\n",
    "    # Validation phase\n",
    "    model.eval()\n",
    "    with torch.no_grad():\n",
    "        test_outputs = model(X_test_tensor)\n",
    "        test_loss = mean_squared_error(y_test_tensor, test_outputs.squeeze())\n",
    "        test_losses.append(test_loss)\n",
    "        print(f\"Test Loss: {test_loss:.4f}\")\n",
    "\n",
    "# Save the model\n",
    "# torch.save(model.state_dict(), \"lstm_model.pth\")\n",
    "# Early stopping\n",
    "# if test_loss < best_loss:\n",
    "#     best_loss = test_loss\n",
    "#     patience_counter = 0\n",
    "#     # Save the best model\n",
    "# else:\n",
    "#     patience_counter += 1\n",
    "#     if patience_counter >= patience:\n",
    "#         print(f\"Early stopping triggered at Epoch({epoch})\")\n",
    "#         # break\n",
    "# print(f\"Patience Counter: {patience_counter}\")"
   ]
  },
  {
   "cell_type": "code",
   "execution_count": 366,
   "metadata": {},
   "outputs": [],
   "source": [
    "ep_data = pd.DataFrame({\"Epoch Loss\": epoch_losses})\n",
    "test_data = pd.DataFrame({\"Test Loss\": test_losses})"
   ]
  },
  {
   "cell_type": "code",
   "execution_count": 367,
   "metadata": {},
   "outputs": [],
   "source": [
    "from plotly.subplots import make_subplots\n",
    "import plotly.graph_objects as go"
   ]
  },
  {
   "cell_type": "code",
   "execution_count": 368,
   "metadata": {},
   "outputs": [
    {
     "data": {
      "application/vnd.plotly.v1+json": {
       "config": {
        "plotlyServerURL": "https://plot.ly"
       },
       "data": [
        {
         "mode": "lines",
         "name": "Epoch Loss",
         "type": "scatter",
         "x": [
          0,
          1,
          2,
          3,
          4,
          5,
          6,
          7,
          8,
          9,
          10,
          11,
          12,
          13,
          14,
          15,
          16,
          17,
          18,
          19,
          20,
          21,
          22,
          23,
          24,
          25,
          26,
          27,
          28,
          29,
          30,
          31,
          32,
          33,
          34,
          35,
          36,
          37,
          38,
          39,
          40,
          41,
          42,
          43,
          44,
          45,
          46,
          47,
          48,
          49
         ],
         "xaxis": "x",
         "y": [
          0.46100778405259296,
          0.4287584874688125,
          0.4001339150638115,
          0.37164169404564834,
          0.341972299465319,
          0.3134608937472832,
          0.2824419282558488,
          0.25021186834428366,
          0.2162363169396796,
          0.18001264842545114,
          0.14276573716140376,
          0.10954809243359216,
          0.0816086100005522,
          0.06668713143685968,
          0.0707457337255885,
          0.08987390776959861,
          0.09333399774097814,
          0.08295732082390203,
          0.07003280302373374,
          0.06733250218193705,
          0.0689292393806504,
          0.07024418108346986,
          0.0730438661284563,
          0.07263696175522921,
          0.07199900760883238,
          0.07200992943310155,
          0.06746829573701067,
          0.06792603669370093,
          0.06662097009943753,
          0.06717049766604494,
          0.06768562481170748,
          0.06639203792665063,
          0.06686773478257947,
          0.06813287753157499,
          0.06500629353814008,
          0.06502875249560286,
          0.06540957002378092,
          0.06529855891698744,
          0.06646425549576922,
          0.0669023887049861,
          0.0659809925752442,
          0.06463688084991967,
          0.06457044256896508,
          0.06610773267542444,
          0.06454712724903734,
          0.06451587560700207,
          0.06560815779901133,
          0.06610058775035346,
          0.06509234956124933,
          0.06594573651872031
         ],
         "yaxis": "y"
        },
        {
         "mode": "lines",
         "name": "Test Loss",
         "type": "scatter",
         "x": [
          0,
          1,
          2,
          3,
          4,
          5,
          6,
          7,
          8,
          9,
          10,
          11,
          12,
          13,
          14,
          15,
          16,
          17,
          18,
          19,
          20,
          21,
          22,
          23,
          24,
          25,
          26,
          27,
          28,
          29,
          30,
          31,
          32,
          33,
          34,
          35,
          36,
          37,
          38,
          39,
          40,
          41,
          42,
          43,
          44,
          45,
          46,
          47,
          48,
          49
         ],
         "xaxis": "x2",
         "y": [
          0.45872628688812256,
          0.42787447571754456,
          0.397771954536438,
          0.3677779734134674,
          0.33714815974235535,
          0.3051094710826874,
          0.2713235914707184,
          0.23557688295841217,
          0.1975652128458023,
          0.15763548016548157,
          0.11816061288118362,
          0.08461891859769821,
          0.06532862782478333,
          0.06919363886117935,
          0.08715913444757462,
          0.09177186340093613,
          0.07962477952241898,
          0.06749004870653152,
          0.06324443966150284,
          0.06553981453180313,
          0.06939821690320969,
          0.07159936428070068,
          0.07250160723924637,
          0.07238741964101791,
          0.07048441469669342,
          0.06793391704559326,
          0.06532735377550125,
          0.06330495327711105,
          0.06248101592063904,
          0.06257336586713791,
          0.0626545324921608,
          0.06248391792178154,
          0.062171805649995804,
          0.06244755908846855,
          0.06297207623720169,
          0.0633731335401535,
          0.06407435983419418,
          0.06516782939434052,
          0.06612046808004379,
          0.0662325918674469,
          0.06540088355541229,
          0.06457754224538803,
          0.06360112875699997,
          0.06233908236026764,
          0.06133796274662018,
          0.060943860560655594,
          0.060933228582143784,
          0.061187054961919785,
          0.061125025153160095,
          0.06101834774017334
         ],
         "yaxis": "y2"
        }
       ],
       "layout": {
        "showlegend": true,
        "template": {
         "data": {
          "bar": [
           {
            "error_x": {
             "color": "#2a3f5f"
            },
            "error_y": {
             "color": "#2a3f5f"
            },
            "marker": {
             "line": {
              "color": "#E5ECF6",
              "width": 0.5
             },
             "pattern": {
              "fillmode": "overlay",
              "size": 10,
              "solidity": 0.2
             }
            },
            "type": "bar"
           }
          ],
          "barpolar": [
           {
            "marker": {
             "line": {
              "color": "#E5ECF6",
              "width": 0.5
             },
             "pattern": {
              "fillmode": "overlay",
              "size": 10,
              "solidity": 0.2
             }
            },
            "type": "barpolar"
           }
          ],
          "carpet": [
           {
            "aaxis": {
             "endlinecolor": "#2a3f5f",
             "gridcolor": "white",
             "linecolor": "white",
             "minorgridcolor": "white",
             "startlinecolor": "#2a3f5f"
            },
            "baxis": {
             "endlinecolor": "#2a3f5f",
             "gridcolor": "white",
             "linecolor": "white",
             "minorgridcolor": "white",
             "startlinecolor": "#2a3f5f"
            },
            "type": "carpet"
           }
          ],
          "choropleth": [
           {
            "colorbar": {
             "outlinewidth": 0,
             "ticks": ""
            },
            "type": "choropleth"
           }
          ],
          "contour": [
           {
            "colorbar": {
             "outlinewidth": 0,
             "ticks": ""
            },
            "colorscale": [
             [
              0,
              "#0d0887"
             ],
             [
              0.1111111111111111,
              "#46039f"
             ],
             [
              0.2222222222222222,
              "#7201a8"
             ],
             [
              0.3333333333333333,
              "#9c179e"
             ],
             [
              0.4444444444444444,
              "#bd3786"
             ],
             [
              0.5555555555555556,
              "#d8576b"
             ],
             [
              0.6666666666666666,
              "#ed7953"
             ],
             [
              0.7777777777777778,
              "#fb9f3a"
             ],
             [
              0.8888888888888888,
              "#fdca26"
             ],
             [
              1,
              "#f0f921"
             ]
            ],
            "type": "contour"
           }
          ],
          "contourcarpet": [
           {
            "colorbar": {
             "outlinewidth": 0,
             "ticks": ""
            },
            "type": "contourcarpet"
           }
          ],
          "heatmap": [
           {
            "colorbar": {
             "outlinewidth": 0,
             "ticks": ""
            },
            "colorscale": [
             [
              0,
              "#0d0887"
             ],
             [
              0.1111111111111111,
              "#46039f"
             ],
             [
              0.2222222222222222,
              "#7201a8"
             ],
             [
              0.3333333333333333,
              "#9c179e"
             ],
             [
              0.4444444444444444,
              "#bd3786"
             ],
             [
              0.5555555555555556,
              "#d8576b"
             ],
             [
              0.6666666666666666,
              "#ed7953"
             ],
             [
              0.7777777777777778,
              "#fb9f3a"
             ],
             [
              0.8888888888888888,
              "#fdca26"
             ],
             [
              1,
              "#f0f921"
             ]
            ],
            "type": "heatmap"
           }
          ],
          "heatmapgl": [
           {
            "colorbar": {
             "outlinewidth": 0,
             "ticks": ""
            },
            "colorscale": [
             [
              0,
              "#0d0887"
             ],
             [
              0.1111111111111111,
              "#46039f"
             ],
             [
              0.2222222222222222,
              "#7201a8"
             ],
             [
              0.3333333333333333,
              "#9c179e"
             ],
             [
              0.4444444444444444,
              "#bd3786"
             ],
             [
              0.5555555555555556,
              "#d8576b"
             ],
             [
              0.6666666666666666,
              "#ed7953"
             ],
             [
              0.7777777777777778,
              "#fb9f3a"
             ],
             [
              0.8888888888888888,
              "#fdca26"
             ],
             [
              1,
              "#f0f921"
             ]
            ],
            "type": "heatmapgl"
           }
          ],
          "histogram": [
           {
            "marker": {
             "pattern": {
              "fillmode": "overlay",
              "size": 10,
              "solidity": 0.2
             }
            },
            "type": "histogram"
           }
          ],
          "histogram2d": [
           {
            "colorbar": {
             "outlinewidth": 0,
             "ticks": ""
            },
            "colorscale": [
             [
              0,
              "#0d0887"
             ],
             [
              0.1111111111111111,
              "#46039f"
             ],
             [
              0.2222222222222222,
              "#7201a8"
             ],
             [
              0.3333333333333333,
              "#9c179e"
             ],
             [
              0.4444444444444444,
              "#bd3786"
             ],
             [
              0.5555555555555556,
              "#d8576b"
             ],
             [
              0.6666666666666666,
              "#ed7953"
             ],
             [
              0.7777777777777778,
              "#fb9f3a"
             ],
             [
              0.8888888888888888,
              "#fdca26"
             ],
             [
              1,
              "#f0f921"
             ]
            ],
            "type": "histogram2d"
           }
          ],
          "histogram2dcontour": [
           {
            "colorbar": {
             "outlinewidth": 0,
             "ticks": ""
            },
            "colorscale": [
             [
              0,
              "#0d0887"
             ],
             [
              0.1111111111111111,
              "#46039f"
             ],
             [
              0.2222222222222222,
              "#7201a8"
             ],
             [
              0.3333333333333333,
              "#9c179e"
             ],
             [
              0.4444444444444444,
              "#bd3786"
             ],
             [
              0.5555555555555556,
              "#d8576b"
             ],
             [
              0.6666666666666666,
              "#ed7953"
             ],
             [
              0.7777777777777778,
              "#fb9f3a"
             ],
             [
              0.8888888888888888,
              "#fdca26"
             ],
             [
              1,
              "#f0f921"
             ]
            ],
            "type": "histogram2dcontour"
           }
          ],
          "mesh3d": [
           {
            "colorbar": {
             "outlinewidth": 0,
             "ticks": ""
            },
            "type": "mesh3d"
           }
          ],
          "parcoords": [
           {
            "line": {
             "colorbar": {
              "outlinewidth": 0,
              "ticks": ""
             }
            },
            "type": "parcoords"
           }
          ],
          "pie": [
           {
            "automargin": true,
            "type": "pie"
           }
          ],
          "scatter": [
           {
            "fillpattern": {
             "fillmode": "overlay",
             "size": 10,
             "solidity": 0.2
            },
            "type": "scatter"
           }
          ],
          "scatter3d": [
           {
            "line": {
             "colorbar": {
              "outlinewidth": 0,
              "ticks": ""
             }
            },
            "marker": {
             "colorbar": {
              "outlinewidth": 0,
              "ticks": ""
             }
            },
            "type": "scatter3d"
           }
          ],
          "scattercarpet": [
           {
            "marker": {
             "colorbar": {
              "outlinewidth": 0,
              "ticks": ""
             }
            },
            "type": "scattercarpet"
           }
          ],
          "scattergeo": [
           {
            "marker": {
             "colorbar": {
              "outlinewidth": 0,
              "ticks": ""
             }
            },
            "type": "scattergeo"
           }
          ],
          "scattergl": [
           {
            "marker": {
             "colorbar": {
              "outlinewidth": 0,
              "ticks": ""
             }
            },
            "type": "scattergl"
           }
          ],
          "scattermapbox": [
           {
            "marker": {
             "colorbar": {
              "outlinewidth": 0,
              "ticks": ""
             }
            },
            "type": "scattermapbox"
           }
          ],
          "scatterpolar": [
           {
            "marker": {
             "colorbar": {
              "outlinewidth": 0,
              "ticks": ""
             }
            },
            "type": "scatterpolar"
           }
          ],
          "scatterpolargl": [
           {
            "marker": {
             "colorbar": {
              "outlinewidth": 0,
              "ticks": ""
             }
            },
            "type": "scatterpolargl"
           }
          ],
          "scatterternary": [
           {
            "marker": {
             "colorbar": {
              "outlinewidth": 0,
              "ticks": ""
             }
            },
            "type": "scatterternary"
           }
          ],
          "surface": [
           {
            "colorbar": {
             "outlinewidth": 0,
             "ticks": ""
            },
            "colorscale": [
             [
              0,
              "#0d0887"
             ],
             [
              0.1111111111111111,
              "#46039f"
             ],
             [
              0.2222222222222222,
              "#7201a8"
             ],
             [
              0.3333333333333333,
              "#9c179e"
             ],
             [
              0.4444444444444444,
              "#bd3786"
             ],
             [
              0.5555555555555556,
              "#d8576b"
             ],
             [
              0.6666666666666666,
              "#ed7953"
             ],
             [
              0.7777777777777778,
              "#fb9f3a"
             ],
             [
              0.8888888888888888,
              "#fdca26"
             ],
             [
              1,
              "#f0f921"
             ]
            ],
            "type": "surface"
           }
          ],
          "table": [
           {
            "cells": {
             "fill": {
              "color": "#EBF0F8"
             },
             "line": {
              "color": "white"
             }
            },
            "header": {
             "fill": {
              "color": "#C8D4E3"
             },
             "line": {
              "color": "white"
             }
            },
            "type": "table"
           }
          ]
         },
         "layout": {
          "annotationdefaults": {
           "arrowcolor": "#2a3f5f",
           "arrowhead": 0,
           "arrowwidth": 1
          },
          "autotypenumbers": "strict",
          "coloraxis": {
           "colorbar": {
            "outlinewidth": 0,
            "ticks": ""
           }
          },
          "colorscale": {
           "diverging": [
            [
             0,
             "#8e0152"
            ],
            [
             0.1,
             "#c51b7d"
            ],
            [
             0.2,
             "#de77ae"
            ],
            [
             0.3,
             "#f1b6da"
            ],
            [
             0.4,
             "#fde0ef"
            ],
            [
             0.5,
             "#f7f7f7"
            ],
            [
             0.6,
             "#e6f5d0"
            ],
            [
             0.7,
             "#b8e186"
            ],
            [
             0.8,
             "#7fbc41"
            ],
            [
             0.9,
             "#4d9221"
            ],
            [
             1,
             "#276419"
            ]
           ],
           "sequential": [
            [
             0,
             "#0d0887"
            ],
            [
             0.1111111111111111,
             "#46039f"
            ],
            [
             0.2222222222222222,
             "#7201a8"
            ],
            [
             0.3333333333333333,
             "#9c179e"
            ],
            [
             0.4444444444444444,
             "#bd3786"
            ],
            [
             0.5555555555555556,
             "#d8576b"
            ],
            [
             0.6666666666666666,
             "#ed7953"
            ],
            [
             0.7777777777777778,
             "#fb9f3a"
            ],
            [
             0.8888888888888888,
             "#fdca26"
            ],
            [
             1,
             "#f0f921"
            ]
           ],
           "sequentialminus": [
            [
             0,
             "#0d0887"
            ],
            [
             0.1111111111111111,
             "#46039f"
            ],
            [
             0.2222222222222222,
             "#7201a8"
            ],
            [
             0.3333333333333333,
             "#9c179e"
            ],
            [
             0.4444444444444444,
             "#bd3786"
            ],
            [
             0.5555555555555556,
             "#d8576b"
            ],
            [
             0.6666666666666666,
             "#ed7953"
            ],
            [
             0.7777777777777778,
             "#fb9f3a"
            ],
            [
             0.8888888888888888,
             "#fdca26"
            ],
            [
             1,
             "#f0f921"
            ]
           ]
          },
          "colorway": [
           "#636efa",
           "#EF553B",
           "#00cc96",
           "#ab63fa",
           "#FFA15A",
           "#19d3f3",
           "#FF6692",
           "#B6E880",
           "#FF97FF",
           "#FECB52"
          ],
          "font": {
           "color": "#2a3f5f"
          },
          "geo": {
           "bgcolor": "white",
           "lakecolor": "white",
           "landcolor": "#E5ECF6",
           "showlakes": true,
           "showland": true,
           "subunitcolor": "white"
          },
          "hoverlabel": {
           "align": "left"
          },
          "hovermode": "closest",
          "mapbox": {
           "style": "light"
          },
          "paper_bgcolor": "white",
          "plot_bgcolor": "#E5ECF6",
          "polar": {
           "angularaxis": {
            "gridcolor": "white",
            "linecolor": "white",
            "ticks": ""
           },
           "bgcolor": "#E5ECF6",
           "radialaxis": {
            "gridcolor": "white",
            "linecolor": "white",
            "ticks": ""
           }
          },
          "scene": {
           "xaxis": {
            "backgroundcolor": "#E5ECF6",
            "gridcolor": "white",
            "gridwidth": 2,
            "linecolor": "white",
            "showbackground": true,
            "ticks": "",
            "zerolinecolor": "white"
           },
           "yaxis": {
            "backgroundcolor": "#E5ECF6",
            "gridcolor": "white",
            "gridwidth": 2,
            "linecolor": "white",
            "showbackground": true,
            "ticks": "",
            "zerolinecolor": "white"
           },
           "zaxis": {
            "backgroundcolor": "#E5ECF6",
            "gridcolor": "white",
            "gridwidth": 2,
            "linecolor": "white",
            "showbackground": true,
            "ticks": "",
            "zerolinecolor": "white"
           }
          },
          "shapedefaults": {
           "line": {
            "color": "#2a3f5f"
           }
          },
          "ternary": {
           "aaxis": {
            "gridcolor": "white",
            "linecolor": "white",
            "ticks": ""
           },
           "baxis": {
            "gridcolor": "white",
            "linecolor": "white",
            "ticks": ""
           },
           "bgcolor": "#E5ECF6",
           "caxis": {
            "gridcolor": "white",
            "linecolor": "white",
            "ticks": ""
           }
          },
          "title": {
           "x": 0.05
          },
          "xaxis": {
           "automargin": true,
           "gridcolor": "white",
           "linecolor": "white",
           "ticks": "",
           "title": {
            "standoff": 15
           },
           "zerolinecolor": "white",
           "zerolinewidth": 2
          },
          "yaxis": {
           "automargin": true,
           "gridcolor": "white",
           "linecolor": "white",
           "ticks": "",
           "title": {
            "standoff": 15
           },
           "zerolinecolor": "white",
           "zerolinewidth": 2
          }
         }
        },
        "title": {
         "font": {
          "size": 25,
          "weight": "bold"
         },
         "text": "Loss over Epoch",
         "x": 0.5
        },
        "xaxis": {
         "anchor": "y",
         "domain": [
          0,
          0.45
         ],
         "title": {
          "text": "Epoch"
         }
        },
        "xaxis2": {
         "anchor": "y2",
         "domain": [
          0.55,
          1
         ],
         "title": {
          "text": "Epoch"
         }
        },
        "yaxis": {
         "anchor": "x",
         "domain": [
          0,
          1
         ],
         "title": {
          "text": "Epoch Loss"
         }
        },
        "yaxis2": {
         "anchor": "x2",
         "domain": [
          0,
          1
         ],
         "title": {
          "text": "Test Loss"
         }
        }
       }
      }
     },
     "metadata": {},
     "output_type": "display_data"
    }
   ],
   "source": [
    "# Create a subplot with 1 row and 2 columns\n",
    "fig = make_subplots(rows=1, cols=2)\n",
    "# Add the line chart to both subplots\n",
    "fig.add_trace(\n",
    "    go.Scatter(\n",
    "        x=ep_data.index, y=ep_data[\"Epoch Loss\"], mode=\"lines\", name=\"Epoch Loss\"\n",
    "    ),\n",
    "    row=1,\n",
    "    col=1,\n",
    ")\n",
    "fig.add_trace(\n",
    "    go.Scatter(\n",
    "        x=test_data.index, y=test_data[\"Test Loss\"], mode=\"lines\", name=\"Test Loss\"\n",
    "    ),\n",
    "    row=1,\n",
    "    col=2,\n",
    ")\n",
    "# Update axis labels\n",
    "fig.update_xaxes(title_text=\"Epoch\", row=1, col=1)\n",
    "fig.update_xaxes(title_text=\"Epoch\", row=1, col=2)\n",
    "fig.update_yaxes(title_text=\"Epoch Loss\", row=1, col=1)\n",
    "fig.update_yaxes(title_text=\"Test Loss\", row=1, col=2)\n",
    "# Set subplot layout\n",
    "fig.update_layout(\n",
    "    title=\"Loss over Epoch\",\n",
    "    title_x=0.5,\n",
    "    title_font=dict(size=25, weight=\"bold\"),\n",
    "    showlegend=True,\n",
    ")\n",
    "# Show the plot\n",
    "fig.show()"
   ]
  },
  {
   "cell_type": "code",
   "execution_count": 369,
   "metadata": {},
   "outputs": [
    {
     "name": "stdout",
     "output_type": "stream",
     "text": [
      "Epoch\t\tMin: 0.0645\t Max: 0.4610\n",
      "Test\t\tMin: 0.0609\t Max: 0.4587\n"
     ]
    }
   ],
   "source": [
    "print(f\"Epoch\\t\\tMin: {min(epoch_losses):.4f}\\t Max: {max(epoch_losses):.4f}\")\n",
    "print(f\"Test\\t\\tMin: {min(test_losses):.4f}\\t Max: {max(test_losses):.4f}\")"
   ]
  },
  {
   "cell_type": "markdown",
   "metadata": {},
   "source": [
    "#### Step 4: Evaluation"
   ]
  },
  {
   "cell_type": "code",
   "execution_count": 370,
   "metadata": {},
   "outputs": [
    {
     "name": "stdout",
     "output_type": "stream",
     "text": [
      "Device: cpu\n"
     ]
    }
   ],
   "source": [
    "# Check if a GPU is available and set the device accordingly\n",
    "device = torch.device(\"cuda\" if torch.cuda.is_available() else \"cpu\")\n",
    "print(f\"Device: {device}\")"
   ]
  },
  {
   "cell_type": "code",
   "execution_count": 371,
   "metadata": {},
   "outputs": [],
   "source": [
    "# Set the model to evaluation mode\n",
    "model.eval()\n",
    "\n",
    "# Generate predictions\n",
    "with torch.no_grad():\n",
    "    y_pred = model(X_test_tensor.to(device))\n",
    "\n",
    "# Move predictions and actual values to CPU and detach them from the computation graph\n",
    "y_pred = y_pred.cpu().detach().numpy()\n",
    "y_test_np = y_test_tensor.cpu().numpy()"
   ]
  },
  {
   "cell_type": "code",
   "execution_count": 372,
   "metadata": {},
   "outputs": [],
   "source": [
    "# Inverse transform the predictions and actual values\n",
    "y_pred_inverse = scaler.inverse_transform(\n",
    "    np.concatenate(\n",
    "        [y_pred, np.zeros((y_pred.shape[0], len(features_to_normalize) - 1))], axis=1\n",
    "    )\n",
    ")[\n",
    "    :, 0\n",
    "]  # Only reverse the first column which is KW\n",
    "\n",
    "y_test_inverse = scaler.inverse_transform(\n",
    "    np.concatenate(\n",
    "        [\n",
    "            y_test_np.reshape(-1, 1),\n",
    "            np.zeros((y_test_np.shape[0], len(features_to_normalize) - 1)),\n",
    "        ],\n",
    "        axis=1,\n",
    "    )\n",
    ")[\n",
    "    :, 0\n",
    "]  # Only reverse the first column which is KW"
   ]
  },
  {
   "cell_type": "code",
   "execution_count": 373,
   "metadata": {},
   "outputs": [
    {
     "name": "stdout",
     "output_type": "stream",
     "text": [
      "MAPE: 4.3219%\n",
      "RMSE: 24552.8695 KW\n"
     ]
    }
   ],
   "source": [
    "# Define MAPE and RMSE functions\n",
    "def MAPE(y_true, y_pred):\n",
    "    return np.mean(np.abs((y_true - y_pred) / y_true)) * 100\n",
    "\n",
    "\n",
    "def RMSE(y_true, y_pred):\n",
    "    return np.sqrt(np.mean((y_true - y_pred) ** 2))\n",
    "\n",
    "\n",
    "# Calculate MAPE and RMSE\n",
    "mape_value = MAPE(y_test_inverse, y_pred_inverse)\n",
    "rmse_value = RMSE(y_test_inverse, y_pred_inverse)\n",
    "\n",
    "print(f\"MAPE: {mape_value:.4f}%\")\n",
    "print(f\"RMSE: {rmse_value:.4f} KW\")"
   ]
  },
  {
   "cell_type": "code",
   "execution_count": 374,
   "metadata": {},
   "outputs": [],
   "source": [
    "# Make predictions using the trained model\n",
    "model.eval()  # Set the model to evaluation mode\n",
    "with torch.no_grad():\n",
    "    predicted = model(X_test_tensor.to(device)).cpu().numpy()\n",
    "\n",
    "# Reshape predicted to match y_test\n",
    "predicted = predicted.reshape(-1)"
   ]
  },
  {
   "cell_type": "code",
   "execution_count": 375,
   "metadata": {},
   "outputs": [],
   "source": [
    "# Create an empty array with the same shape as the original scaled data (with 6 features)\n",
    "y_test_placeholder = np.zeros((y_test.shape[0], len(features_to_normalize)))\n",
    "predicted_placeholder = np.zeros((predicted.shape[0], len(features_to_normalize)))\n",
    "\n",
    "# Place the KW column (first column) into the first column of the placeholder\n",
    "y_test_placeholder[:, 0] = y_test  # Put the actual test KW values in the first column\n",
    "predicted_placeholder[:, 0] = (\n",
    "    predicted  # Put the predicted KW values in the first column\n",
    ")\n",
    "\n",
    "# Inverse transform the data to get the original KW values\n",
    "y_test_actual = scaler.inverse_transform(y_test_placeholder)[\n",
    "    :, 0\n",
    "]  # Extract only the KW column\n",
    "predicted_values = scaler.inverse_transform(predicted_placeholder)[\n",
    "    :, 0\n",
    "]  # Extract only the KW column"
   ]
  },
  {
   "cell_type": "code",
   "execution_count": 376,
   "metadata": {},
   "outputs": [
    {
     "name": "stdout",
     "output_type": "stream",
     "text": [
      "Actual:\t\t399624.47\t344308.41\t346086.61\t318328.18\t341616.68\t334400.75\t\n",
      "Predicted:\t346499.37\t345817.00\t345133.54\t344520.67\t344043.69\t344383.86\t\n",
      "----------------------------------------------------------------------------------------------------------\n",
      "Difference:\t-53125.11\t1508.60\t-953.08\t26192.49\t2427.01\t9983.11\t"
     ]
    }
   ],
   "source": [
    "print(\"Actual:\\t\\t\", end=\"\")\n",
    "for val in y_test_actual:\n",
    "    print(f\"{val:.2f}\", end=\"\\t\")\n",
    "print()\n",
    "print(\"Predicted:\\t\", end=\"\")\n",
    "for val in predicted_values:\n",
    "    print(f\"{val:.2f}\", end=\"\\t\")\n",
    "print(\"\\n----------------------------------------------------------------------------------------------------------\")\n",
    "print(\"Difference:\\t\", end=\"\")\n",
    "for val in predicted_values - y_test_actual:\n",
    "    print(f\"{val:.2f}\", end=\"\\t\")"
   ]
  },
  {
   "cell_type": "code",
   "execution_count": 377,
   "metadata": {},
   "outputs": [
    {
     "data": {
      "image/png": "[encoded data removed]",
      "text/plain": [
       "<Figure size 1000x600 with 1 Axes>"
      ]
     },
     "metadata": {},
     "output_type": "display_data"
    }
   ],
   "source": [
    "import matplotlib.pyplot as plt\n",
    "\n",
    "plt.figure(figsize=(10, 6))\n",
    "plt.plot(y_test_actual, label=\"Actual\", color=\"blue\", marker=\"o\")\n",
    "plt.plot(predicted_values, label=\"Predicted\", color=\"red\", linestyle=\"--\", marker=\"x\")\n",
    "\n",
    "plt.xlabel(\"Time Steps\")\n",
    "plt.ylabel(\"KW Load\")\n",
    "plt.title(\"Actual vs Predicted Values\")\n",
    "plt.legend()\n",
    "plt.grid(True)\n",
    "plt.show()"
   ]
  },
  {
   "cell_type": "code",
   "execution_count": 378,
   "metadata": {},
   "outputs": [],
   "source": [
    "# import matplotlib.pyplot as plt\n",
    "\n",
    "# # Assuming you have the predictions from the test set\n",
    "# # predicted_values = model(X_test_tensor).detach().numpy() # if using model prediction\n",
    "# predicted_values = y_pred\n",
    "# actual_values = y_test_np\n",
    "\n",
    "# # Plotting\n",
    "# plt.figure(figsize=(10, 6))\n",
    "# plt.plot(actual_values, label=\"Actual\", color=\"b\", marker=\"o\", linestyle=\"-\")\n",
    "# plt.plot(predicted_values, label=\"Predicted\", color=\"r\", marker=\"x\", linestyle=\"--\")\n",
    "\n",
    "# # Adding titles and labels\n",
    "# plt.title(\"Actual vs Predicted Values\")\n",
    "# plt.xlabel(\"Time Steps\")\n",
    "# plt.ylabel(\"KW Load\")\n",
    "\n",
    "# # Adding legend\n",
    "# plt.legend()\n",
    "\n",
    "# # Show the plot\n",
    "# plt.grid(True)\n",
    "# plt.show()"
   ]
  }
 ],
 "metadata": {
  "kernelspec": {
   "display_name": "venv",
   "language": "python",
   "name": "python3"
  },
  "language_info": {
   "codemirror_mode": {
    "name": "ipython",
    "version": 3
   },
   "file_extension": ".py",
   "mimetype": "text/x-python",
   "name": "python",
   "nbconvert_exporter": "python",
   "pygments_lexer": "ipython3",
   "version": "3.12.1"
  }
 },
 "nbformat": 4,
 "nbformat_minor": 2
}
