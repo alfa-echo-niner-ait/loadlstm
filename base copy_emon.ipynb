{
 "cells": [
  {
   "cell_type": "markdown",
   "metadata": {},
   "source": [
    "## Data Preprocessing"
   ]
  },
  {
   "cell_type": "code",
   "execution_count": 1887,
   "metadata": {},
   "outputs": [],
   "source": [
    "import numpy as np\n",
    "import pandas as pd"
   ]
  },
  {
   "cell_type": "code",
   "execution_count": 1888,
   "metadata": {},
   "outputs": [],
   "source": [
    "# Power load dataset\n",
    "load_dataset = pd.read_csv(\"data/load_data_clean.csv\")\n",
    "# Meterological dataset\n",
    "met_dataset = pd.read_csv(\"data/met_data_clean.csv\")"
   ]
  },
  {
   "cell_type": "code",
   "execution_count": 1889,
   "metadata": {},
   "outputs": [],
   "source": [
    "load_df = pd.DataFrame(load_dataset)\n",
    "met_df = pd.DataFrame(met_dataset)"
   ]
  },
  {
   "cell_type": "code",
   "execution_count": 1890,
   "metadata": {},
   "outputs": [],
   "source": [
    "load_df[\"DATE (MM/DD/YYYY)\"] = pd.to_datetime(\n",
    "    load_df[\"DATE (MM/DD/YYYY)\"], format=\"%m/%d/%Y\"\n",
    ")\n",
    "\n",
    "met_df[\"DATE (MM/DD/YYYY)\"] = pd.to_datetime(\n",
    "    met_df[\"DATE (MM/DD/YYYY)\"], format=\"%m/%d/%Y\"\n",
    ")"
   ]
  },
  {
   "cell_type": "code",
   "execution_count": 1891,
   "metadata": {},
   "outputs": [
    {
     "data": {
      "text/html": [
       "<div>\n",
       "<style scoped>\n",
       "    .dataframe tbody tr th:only-of-type {\n",
       "        vertical-align: middle;\n",
       "    }\n",
       "\n",
       "    .dataframe tbody tr th {\n",
       "        vertical-align: top;\n",
       "    }\n",
       "\n",
       "    .dataframe thead th {\n",
       "        text-align: right;\n",
       "    }\n",
       "</style>\n",
       "<table border=\"1\" class=\"dataframe\">\n",
       "  <thead>\n",
       "    <tr style=\"text-align: right;\">\n",
       "      <th></th>\n",
       "      <th>DATE (MM/DD/YYYY)</th>\n",
       "      <th>KW</th>\n",
       "      <th>KWS</th>\n",
       "      <th>CHWTON</th>\n",
       "      <th>HTmmBTU</th>\n",
       "      <th>Combined mmBTU</th>\n",
       "      <th>Combined Tons Carbon</th>\n",
       "      <th>KW#Houses</th>\n",
       "      <th>KWlightbulbs</th>\n",
       "      <th>KWgalsgas</th>\n",
       "      <th>...</th>\n",
       "      <th>CHWTONlightbulbs</th>\n",
       "      <th>CHWTONgalsgas</th>\n",
       "      <th>HTmmBTU#Houses</th>\n",
       "      <th>HTmmBTUlightbulbs</th>\n",
       "      <th>HTmmBTUgalsgas</th>\n",
       "      <th>Total#Houses</th>\n",
       "      <th>Totallightbulbs</th>\n",
       "      <th>Totalgalsgas</th>\n",
       "      <th>GHG</th>\n",
       "      <th>DOW</th>\n",
       "    </tr>\n",
       "  </thead>\n",
       "  <tbody>\n",
       "    <tr>\n",
       "      <th>0</th>\n",
       "      <td>2024-05-01</td>\n",
       "      <td>351973.45</td>\n",
       "      <td>39367.64</td>\n",
       "      <td>117009.06</td>\n",
       "      <td>115.27</td>\n",
       "      <td>2720.37</td>\n",
       "      <td>497.21</td>\n",
       "      <td>100564</td>\n",
       "      <td>25140971</td>\n",
       "      <td>9608</td>\n",
       "      <td>...</td>\n",
       "      <td>29385656</td>\n",
       "      <td>11233</td>\n",
       "      <td>9652</td>\n",
       "      <td>2412510</td>\n",
       "      <td>922</td>\n",
       "      <td>227789</td>\n",
       "      <td>56939137</td>\n",
       "      <td>969870</td>\n",
       "      <td>169.754</td>\n",
       "      <td>4</td>\n",
       "    </tr>\n",
       "    <tr>\n",
       "      <th>1</th>\n",
       "      <td>2024-05-02</td>\n",
       "      <td>353826.38</td>\n",
       "      <td>39144.04</td>\n",
       "      <td>119220.71</td>\n",
       "      <td>115.03</td>\n",
       "      <td>2752.99</td>\n",
       "      <td>503.17</td>\n",
       "      <td>101093</td>\n",
       "      <td>25273323</td>\n",
       "      <td>9658</td>\n",
       "      <td>...</td>\n",
       "      <td>29941089</td>\n",
       "      <td>11445</td>\n",
       "      <td>9632</td>\n",
       "      <td>2407457</td>\n",
       "      <td>920</td>\n",
       "      <td>230520</td>\n",
       "      <td>57621868</td>\n",
       "      <td>987740</td>\n",
       "      <td>170.867</td>\n",
       "      <td>5</td>\n",
       "    </tr>\n",
       "    <tr>\n",
       "      <th>2</th>\n",
       "      <td>2024-05-03</td>\n",
       "      <td>357657.88</td>\n",
       "      <td>38935.34</td>\n",
       "      <td>123171.43</td>\n",
       "      <td>109.79</td>\n",
       "      <td>2808.22</td>\n",
       "      <td>513.27</td>\n",
       "      <td>102188</td>\n",
       "      <td>25547001</td>\n",
       "      <td>9763</td>\n",
       "      <td>...</td>\n",
       "      <td>30933274</td>\n",
       "      <td>11824</td>\n",
       "      <td>9193</td>\n",
       "      <td>2297666</td>\n",
       "      <td>878</td>\n",
       "      <td>235145</td>\n",
       "      <td>58777940</td>\n",
       "      <td>1019713</td>\n",
       "      <td>173.062</td>\n",
       "      <td>6</td>\n",
       "    </tr>\n",
       "    <tr>\n",
       "      <th>3</th>\n",
       "      <td>2024-05-04</td>\n",
       "      <td>363958.25</td>\n",
       "      <td>38676.54</td>\n",
       "      <td>118279.24</td>\n",
       "      <td>108.33</td>\n",
       "      <td>2769.56</td>\n",
       "      <td>506.20</td>\n",
       "      <td>103988</td>\n",
       "      <td>25997028</td>\n",
       "      <td>9935</td>\n",
       "      <td>...</td>\n",
       "      <td>29704649</td>\n",
       "      <td>11355</td>\n",
       "      <td>9071</td>\n",
       "      <td>2267263</td>\n",
       "      <td>867</td>\n",
       "      <td>231908</td>\n",
       "      <td>57968940</td>\n",
       "      <td>981181</td>\n",
       "      <td>176.630</td>\n",
       "      <td>7</td>\n",
       "    </tr>\n",
       "    <tr>\n",
       "      <th>4</th>\n",
       "      <td>2024-05-05</td>\n",
       "      <td>320144.95</td>\n",
       "      <td>33341.16</td>\n",
       "      <td>106070.52</td>\n",
       "      <td>108.39</td>\n",
       "      <td>2473.62</td>\n",
       "      <td>452.11</td>\n",
       "      <td>91470</td>\n",
       "      <td>22867506</td>\n",
       "      <td>8739</td>\n",
       "      <td>...</td>\n",
       "      <td>26638552</td>\n",
       "      <td>10183</td>\n",
       "      <td>9076</td>\n",
       "      <td>2268428</td>\n",
       "      <td>867</td>\n",
       "      <td>207127</td>\n",
       "      <td>51774485</td>\n",
       "      <td>879305</td>\n",
       "      <td>155.741</td>\n",
       "      <td>1</td>\n",
       "    </tr>\n",
       "  </tbody>\n",
       "</table>\n",
       "<p>5 rows × 21 columns</p>\n",
       "</div>"
      ],
      "text/plain": [
       "  DATE (MM/DD/YYYY)         KW       KWS     CHWTON  HTmmBTU  Combined mmBTU  \\\n",
       "0        2024-05-01  351973.45  39367.64  117009.06   115.27         2720.37   \n",
       "1        2024-05-02  353826.38  39144.04  119220.71   115.03         2752.99   \n",
       "2        2024-05-03  357657.88  38935.34  123171.43   109.79         2808.22   \n",
       "3        2024-05-04  363958.25  38676.54  118279.24   108.33         2769.56   \n",
       "4        2024-05-05  320144.95  33341.16  106070.52   108.39         2473.62   \n",
       "\n",
       "   Combined Tons Carbon  KW#Houses  KWlightbulbs  KWgalsgas  ...  \\\n",
       "0                497.21     100564      25140971       9608  ...   \n",
       "1                503.17     101093      25273323       9658  ...   \n",
       "2                513.27     102188      25547001       9763  ...   \n",
       "3                506.20     103988      25997028       9935  ...   \n",
       "4                452.11      91470      22867506       8739  ...   \n",
       "\n",
       "   CHWTONlightbulbs  CHWTONgalsgas  HTmmBTU#Houses  HTmmBTUlightbulbs  \\\n",
       "0          29385656          11233            9652            2412510   \n",
       "1          29941089          11445            9632            2407457   \n",
       "2          30933274          11824            9193            2297666   \n",
       "3          29704649          11355            9071            2267263   \n",
       "4          26638552          10183            9076            2268428   \n",
       "\n",
       "   HTmmBTUgalsgas  Total#Houses  Totallightbulbs  Totalgalsgas      GHG  DOW  \n",
       "0             922        227789         56939137        969870  169.754    4  \n",
       "1             920        230520         57621868        987740  170.867    5  \n",
       "2             878        235145         58777940       1019713  173.062    6  \n",
       "3             867        231908         57968940        981181  176.630    7  \n",
       "4             867        207127         51774485        879305  155.741    1  \n",
       "\n",
       "[5 rows x 21 columns]"
      ]
     },
     "execution_count": 1891,
     "metadata": {},
     "output_type": "execute_result"
    }
   ],
   "source": [
    "load_df.head()"
   ]
  },
  {
   "cell_type": "markdown",
   "metadata": {},
   "source": [
    "Here is an explanation of each data column of load dataset:\n",
    "\n",
    "1. **DATE (MM/DD/YYYY):**\n",
    "   - **Description:** The date in the format Month/Day/Year.\n",
    "   - **Example:** `05/01/2024` represents May 1, 2024.\n",
    "\n",
    "2. **KW:**\n",
    "   - **Description:** The total kilowatt (KW) power consumption for the day.\n",
    "   - **Example:** `351973.45` KW represents the total power consumption on the given day.\n",
    "\n",
    "3. **KWS:**\n",
    "   - **Description:** The total power consumption in kilowatt-hours (KWH).\n",
    "   - **Example:** `39367.64` KWS represents the total power consumption in KWH.\n",
    "\n",
    "4. **CHWTON:**\n",
    "   - **Description:** The total cooling energy consumption in cooling tons.\n",
    "   - **Example:** `117009.06` CHWTON represents the cooling energy consumption.\n",
    "\n",
    "5. **HTmmBTU:**\n",
    "   - **Description:** The total heating energy consumption in million British thermal units (mmBTU).\n",
    "   - **Example:** `115.27` HTmmBTU represents the heating energy consumption.\n",
    "\n",
    "6. **Combined mmBTU:**\n",
    "   - **Description:** The combined energy consumption (cooling and heating) in million British thermal units (mmBTU).\n",
    "   - **Example:** `2720.37` Combined mmBTU represents the combined energy consumption.\n",
    "\n",
    "7. **Combined Tons Carbon:**\n",
    "   - **Description:** The combined carbon emissions in tons.\n",
    "   - **Example:** `497.21` Combined Tons Carbon represents the total carbon emissions.\n",
    "\n",
    "8. **KW#Houses:**\n",
    "   - **Description:** The equivalent number of houses that the KW consumption can power.\n",
    "   - **Example:** `100564` houses can be powered by the KW consumption.\n",
    "\n",
    "9. **KWlightbulbs:**\n",
    "   - **Description:** The equivalent number of lightbulbs that the KW consumption can power.\n",
    "   - **Example:** `25140971` lightbulbs can be powered by the KW consumption.\n",
    "\n",
    "10. **KWgalsgas:**\n",
    "    - **Description:** The equivalent number of gallons of gasoline that the KW consumption can power.\n",
    "    - **Example:** `9608` gallons of gasoline can be powered by the KW consumption.\n",
    "\n",
    "11. **CHWTON#Houses:**\n",
    "    - **Description:** The equivalent number of houses that the cooling energy (CHWTON) consumption can power.\n",
    "    - **Example:** `117572` houses can be powered by the cooling energy consumption.\n",
    "\n",
    "12. **CHWTONlightbulbs:**\n",
    "    - **Description:** The equivalent number of lightbulbs that the cooling energy (CHWTON) consumption can power.\n",
    "    - **Example:** `29385656` lightbulbs can be powered by the cooling energy consumption.\n",
    "\n",
    "13. **CHWTONgalsgas:**\n",
    "    - **Description:** The equivalent number of gallons of gasoline that the cooling energy (CHWTON) consumption can power.\n",
    "    - **Example:** `11233` gallons of gasoline can be powered by the cooling energy consumption.\n",
    "\n",
    "14. **HTmmBTU#Houses:**\n",
    "    - **Description:** The equivalent number of houses that the heating energy (HTmmBTU) consumption can power.\n",
    "    - **Example:** `9652` houses can be powered by the heating energy consumption.\n",
    "\n",
    "15. **HTmmBTUlightbulbs:**\n",
    "    - **Description:** The equivalent number of lightbulbs that the heating energy (HTmmBTU) consumption can power.\n",
    "    - **Example:** `2412510` lightbulbs can be powered by the heating energy consumption.\n",
    "\n",
    "16. **HTmmBTUgalsgas:**\n",
    "    - **Description:** The equivalent number of gallons of gasoline that the heating energy (HTmmBTU) consumption can power.\n",
    "    - **Example:** `922` gallons of gasoline can be powered by the heating energy consumption.\n",
    "\n",
    "17. **Total#Houses:**\n",
    "    - **Description:** The total equivalent number of houses that the combined energy consumption can power.\n",
    "    - **Example:** `227789` houses can be powered by the combined energy consumption.\n",
    "\n",
    "18. **Totallightbulbs:**\n",
    "    - **Description:** The total equivalent number of lightbulbs that the combined energy consumption can power.\n",
    "    - **Example:** `56939137` lightbulbs can be powered by the combined energy consumption.\n",
    "\n",
    "19. **Totalgalsgas:**\n",
    "    - **Description:** The total equivalent number of gallons of gasoline that the combined energy consumption can power.\n",
    "    - **Example:** `969870` gallons of gasoline can be powered by the combined energy consumption.\n",
    "\n",
    "20. **GHG:**\n",
    "    - **Description:** Greenhouse gas emissions.\n",
    "    - **Example:** `169.754` represents the greenhouse gas emissions.\n",
    "\n",
    "21. **DOW:**\n",
    "    - **Description:** Day of the week, where 1 represents Monday, 2 represents Tuesday, etc.\n",
    "    - **Example:** `4` represents Thursday."
   ]
  },
  {
   "cell_type": "code",
   "execution_count": 1892,
   "metadata": {},
   "outputs": [
    {
     "data": {
      "text/html": [
       "<div>\n",
       "<style scoped>\n",
       "    .dataframe tbody tr th:only-of-type {\n",
       "        vertical-align: middle;\n",
       "    }\n",
       "\n",
       "    .dataframe tbody tr th {\n",
       "        vertical-align: top;\n",
       "    }\n",
       "\n",
       "    .dataframe thead th {\n",
       "        text-align: right;\n",
       "    }\n",
       "</style>\n",
       "<table border=\"1\" class=\"dataframe\">\n",
       "  <thead>\n",
       "    <tr style=\"text-align: right;\">\n",
       "      <th></th>\n",
       "      <th>DATE (MM/DD/YYYY)</th>\n",
       "      <th>AVG Air Temperature [deg F]</th>\n",
       "      <th>MAX Air Temperature [deg F]</th>\n",
       "      <th>MIN Air Temperature [deg F]</th>\n",
       "      <th>AVG Rel Humidity [%]</th>\n",
       "      <th>MAX Rel Humidity [%]</th>\n",
       "      <th>MIN Rel Humidity [%]</th>\n",
       "      <th>AVG Avg Wind Speed @ 3m [MPH]</th>\n",
       "      <th>MAX Avg Wind Speed @ 3m [MPH]</th>\n",
       "      <th>MIN Avg Wind Speed @ 3m [MPH]</th>\n",
       "      <th>AVG Peak Wind Speed @ 3m [MPH]</th>\n",
       "      <th>MAX Peak Wind Speed @ 3m [MPH]</th>\n",
       "      <th>MIN Peak Wind Speed @ 3m [MPH]</th>\n",
       "      <th>AVG Station Pressure [inHg]</th>\n",
       "      <th>MAX Station Pressure [inHg]</th>\n",
       "      <th>MIN Station Pressure [inHg]</th>\n",
       "    </tr>\n",
       "  </thead>\n",
       "  <tbody>\n",
       "    <tr>\n",
       "      <th>0</th>\n",
       "      <td>2024-05-01</td>\n",
       "      <td>76.2268</td>\n",
       "      <td>87.494</td>\n",
       "      <td>61.322</td>\n",
       "      <td>19.3349</td>\n",
       "      <td>34.09</td>\n",
       "      <td>8.040</td>\n",
       "      <td>7.5972</td>\n",
       "      <td>24.4721</td>\n",
       "      <td>0.0</td>\n",
       "      <td>11.1715</td>\n",
       "      <td>30.6460</td>\n",
       "      <td>0.0</td>\n",
       "      <td>27.2098</td>\n",
       "      <td>27.2561</td>\n",
       "      <td>27.1436</td>\n",
       "    </tr>\n",
       "    <tr>\n",
       "      <th>1</th>\n",
       "      <td>2024-05-02</td>\n",
       "      <td>76.1305</td>\n",
       "      <td>89.690</td>\n",
       "      <td>60.836</td>\n",
       "      <td>18.6194</td>\n",
       "      <td>36.39</td>\n",
       "      <td>6.938</td>\n",
       "      <td>5.1366</td>\n",
       "      <td>22.8839</td>\n",
       "      <td>0.0</td>\n",
       "      <td>8.0311</td>\n",
       "      <td>27.2906</td>\n",
       "      <td>0.0</td>\n",
       "      <td>27.2407</td>\n",
       "      <td>27.2873</td>\n",
       "      <td>27.1868</td>\n",
       "    </tr>\n",
       "    <tr>\n",
       "      <th>2</th>\n",
       "      <td>2024-05-03</td>\n",
       "      <td>77.3261</td>\n",
       "      <td>89.960</td>\n",
       "      <td>63.878</td>\n",
       "      <td>19.7970</td>\n",
       "      <td>41.99</td>\n",
       "      <td>6.877</td>\n",
       "      <td>5.7147</td>\n",
       "      <td>23.8457</td>\n",
       "      <td>0.0</td>\n",
       "      <td>8.8923</td>\n",
       "      <td>39.0345</td>\n",
       "      <td>0.0</td>\n",
       "      <td>27.2277</td>\n",
       "      <td>27.2663</td>\n",
       "      <td>27.1653</td>\n",
       "    </tr>\n",
       "    <tr>\n",
       "      <th>3</th>\n",
       "      <td>2024-05-04</td>\n",
       "      <td>76.8995</td>\n",
       "      <td>89.762</td>\n",
       "      <td>61.106</td>\n",
       "      <td>17.8820</td>\n",
       "      <td>31.30</td>\n",
       "      <td>6.234</td>\n",
       "      <td>5.5733</td>\n",
       "      <td>20.5574</td>\n",
       "      <td>0.0</td>\n",
       "      <td>8.6903</td>\n",
       "      <td>25.6129</td>\n",
       "      <td>0.0</td>\n",
       "      <td>27.2277</td>\n",
       "      <td>27.2670</td>\n",
       "      <td>27.1798</td>\n",
       "    </tr>\n",
       "    <tr>\n",
       "      <th>4</th>\n",
       "      <td>2024-05-05</td>\n",
       "      <td>75.1771</td>\n",
       "      <td>86.774</td>\n",
       "      <td>63.176</td>\n",
       "      <td>18.5651</td>\n",
       "      <td>30.04</td>\n",
       "      <td>9.040</td>\n",
       "      <td>11.2813</td>\n",
       "      <td>32.4132</td>\n",
       "      <td>0.0</td>\n",
       "      <td>16.0872</td>\n",
       "      <td>44.0676</td>\n",
       "      <td>0.0</td>\n",
       "      <td>27.2212</td>\n",
       "      <td>27.2677</td>\n",
       "      <td>27.1493</td>\n",
       "    </tr>\n",
       "  </tbody>\n",
       "</table>\n",
       "</div>"
      ],
      "text/plain": [
       "  DATE (MM/DD/YYYY)  AVG Air Temperature [deg F]  MAX Air Temperature [deg F]  \\\n",
       "0        2024-05-01                      76.2268                       87.494   \n",
       "1        2024-05-02                      76.1305                       89.690   \n",
       "2        2024-05-03                      77.3261                       89.960   \n",
       "3        2024-05-04                      76.8995                       89.762   \n",
       "4        2024-05-05                      75.1771                       86.774   \n",
       "\n",
       "   MIN Air Temperature [deg F]  AVG Rel Humidity [%]  MAX Rel Humidity [%]  \\\n",
       "0                       61.322               19.3349                 34.09   \n",
       "1                       60.836               18.6194                 36.39   \n",
       "2                       63.878               19.7970                 41.99   \n",
       "3                       61.106               17.8820                 31.30   \n",
       "4                       63.176               18.5651                 30.04   \n",
       "\n",
       "   MIN Rel Humidity [%]  AVG Avg Wind Speed @ 3m [MPH]  \\\n",
       "0                 8.040                         7.5972   \n",
       "1                 6.938                         5.1366   \n",
       "2                 6.877                         5.7147   \n",
       "3                 6.234                         5.5733   \n",
       "4                 9.040                        11.2813   \n",
       "\n",
       "   MAX Avg Wind Speed @ 3m [MPH]  MIN Avg Wind Speed @ 3m [MPH]  \\\n",
       "0                        24.4721                            0.0   \n",
       "1                        22.8839                            0.0   \n",
       "2                        23.8457                            0.0   \n",
       "3                        20.5574                            0.0   \n",
       "4                        32.4132                            0.0   \n",
       "\n",
       "   AVG Peak Wind Speed @ 3m [MPH]  MAX Peak Wind Speed @ 3m [MPH]  \\\n",
       "0                         11.1715                         30.6460   \n",
       "1                          8.0311                         27.2906   \n",
       "2                          8.8923                         39.0345   \n",
       "3                          8.6903                         25.6129   \n",
       "4                         16.0872                         44.0676   \n",
       "\n",
       "   MIN Peak Wind Speed @ 3m [MPH]  AVG Station Pressure [inHg]  \\\n",
       "0                             0.0                      27.2098   \n",
       "1                             0.0                      27.2407   \n",
       "2                             0.0                      27.2277   \n",
       "3                             0.0                      27.2277   \n",
       "4                             0.0                      27.2212   \n",
       "\n",
       "   MAX Station Pressure [inHg]  MIN Station Pressure [inHg]  \n",
       "0                      27.2561                      27.1436  \n",
       "1                      27.2873                      27.1868  \n",
       "2                      27.2663                      27.1653  \n",
       "3                      27.2670                      27.1798  \n",
       "4                      27.2677                      27.1493  "
      ]
     },
     "execution_count": 1892,
     "metadata": {},
     "output_type": "execute_result"
    }
   ],
   "source": [
    "met_df.head()"
   ]
  },
  {
   "cell_type": "markdown",
   "metadata": {},
   "source": [
    "Here is an explanation of each column in the meteorological dataset:\n",
    "\n",
    "1. **DATE (MM/DD/YYYY):**\n",
    "   - **Description:** The date in the format Month/Day/Year.\n",
    "   - **Example:** `05/01/2024` represents May 1, 2024.\n",
    "\n",
    "2. **AVG Air Temperature [deg F]:**\n",
    "   - **Description:** The average air temperature in degrees Fahrenheit for the day.\n",
    "   - **Example:** `76.2268` degrees Fahrenheit.\n",
    "\n",
    "3. **MAX Air Temperature [deg F]:**\n",
    "   - **Description:** The maximum air temperature in degrees Fahrenheit for the day.\n",
    "   - **Example:** `87.494` degrees Fahrenheit.\n",
    "\n",
    "4. **MIN Air Temperature [deg F]:**\n",
    "   - **Description:** The minimum air temperature in degrees Fahrenheit for the day.\n",
    "   - **Example:** `61.322` degrees Fahrenheit.\n",
    "\n",
    "5. **AVG Rel Humidity [%]:**\n",
    "   - **Description:** The average relative humidity as a percentage for the day.\n",
    "   - **Example:** `19.3349%`.\n",
    "\n",
    "6. **MAX Rel Humidity [%]:**\n",
    "   - **Description:** The maximum relative humidity as a percentage for the day.\n",
    "   - **Example:** `34.09%`.\n",
    "\n",
    "7. **MIN Rel Humidity [%]:**\n",
    "   - **Description:** The minimum relative humidity as a percentage for the day.\n",
    "   - **Example:** `8.04%`.\n",
    "\n",
    "8. **AVG Avg Wind Speed @ 3m [MPH]:**\n",
    "   - **Description:** The average wind speed at 3 meters above ground level in miles per hour for the day.\n",
    "   - **Example:** `7.5972` miles per hour.\n",
    "\n",
    "9. **MAX Avg Wind Speed @ 3m [MPH]:**\n",
    "   - **Description:** The maximum average wind speed at 3 meters above ground level in miles per hour for the day.\n",
    "   - **Example:** `24.4721` miles per hour.\n",
    "\n",
    "10. **MIN Avg Wind Speed @ 3m [MPH]:**\n",
    "    - **Description:** The minimum average wind speed at 3 meters above ground level in miles per hour for the day.\n",
    "    - **Example:** `0.0` miles per hour.\n",
    "\n",
    "11. **AVG Peak Wind Speed @ 3m [MPH]:**\n",
    "    - **Description:** The average peak wind speed at 3 meters above ground level in miles per hour for the day.\n",
    "    - **Example:** `11.1715` miles per hour.\n",
    "\n",
    "12. **MAX Peak Wind Speed @ 3m [MPH]:**\n",
    "    - **Description:** The maximum peak wind speed at 3 meters above ground level in miles per hour for the day.\n",
    "    - **Example:** `30.646` miles per hour.\n",
    "\n",
    "13. **MIN Peak Wind Speed @ 3m [MPH]:**\n",
    "    - **Description:** The minimum peak wind speed at 3 meters above ground level in miles per hour for the day.\n",
    "    - **Example:** `0.0` miles per hour.\n",
    "\n",
    "14. **AVG Station Pressure [inHg]:**\n",
    "    - **Description:** The average station pressure in inches of mercury for the day.\n",
    "    - **Example:** `27.2098` inches of mercury.\n",
    "\n",
    "15. **MAX Station Pressure [inHg]:**\n",
    "    - **Description:** The maximum station pressure in inches of mercury for the day.\n",
    "    - **Example:** `27.2561` inches of mercury.\n",
    "\n",
    "16. **MIN Station Pressure [inHg]:**\n",
    "    - **Description:** The minimum station pressure in inches of mercury for the day.\n",
    "    - **Example:** `27.1436` inches of mercury.\n",
    "\n",
    "These columns represent various meteorological measurements that can influence power load and consumption patterns. By incorporating this data into our analysis, we can build models that account for the impact of weather conditions on power usage."
   ]
  },
  {
   "cell_type": "code",
   "execution_count": 1893,
   "metadata": {},
   "outputs": [
    {
     "name": "stdout",
     "output_type": "stream",
     "text": [
      "<class 'pandas.core.frame.DataFrame'>\n",
      "RangeIndex: 61 entries, 0 to 60\n",
      "Data columns (total 21 columns):\n",
      " #   Column                Non-Null Count  Dtype         \n",
      "---  ------                --------------  -----         \n",
      " 0   DATE (MM/DD/YYYY)     61 non-null     datetime64[ns]\n",
      " 1   KW                    61 non-null     float64       \n",
      " 2   KWS                   61 non-null     float64       \n",
      " 3   CHWTON                61 non-null     float64       \n",
      " 4   HTmmBTU               61 non-null     float64       \n",
      " 5   Combined mmBTU        61 non-null     float64       \n",
      " 6   Combined Tons Carbon  61 non-null     float64       \n",
      " 7   KW#Houses             61 non-null     int64         \n",
      " 8   KWlightbulbs          61 non-null     int64         \n",
      " 9   KWgalsgas             61 non-null     int64         \n",
      " 10  CHWTON#Houses         61 non-null     int64         \n",
      " 11  CHWTONlightbulbs      61 non-null     int64         \n",
      " 12  CHWTONgalsgas         61 non-null     int64         \n",
      " 13  HTmmBTU#Houses        61 non-null     int64         \n",
      " 14  HTmmBTUlightbulbs     61 non-null     int64         \n",
      " 15  HTmmBTUgalsgas        61 non-null     int64         \n",
      " 16  Total#Houses          61 non-null     int64         \n",
      " 17  Totallightbulbs       61 non-null     int64         \n",
      " 18  Totalgalsgas          61 non-null     int64         \n",
      " 19  GHG                   61 non-null     float64       \n",
      " 20  DOW                   61 non-null     int64         \n",
      "dtypes: datetime64[ns](1), float64(7), int64(13)\n",
      "memory usage: 10.1 KB\n"
     ]
    }
   ],
   "source": [
    "load_df.info()"
   ]
  },
  {
   "cell_type": "code",
   "execution_count": 1894,
   "metadata": {},
   "outputs": [
    {
     "name": "stdout",
     "output_type": "stream",
     "text": [
      "<class 'pandas.core.frame.DataFrame'>\n",
      "RangeIndex: 61 entries, 0 to 60\n",
      "Data columns (total 16 columns):\n",
      " #   Column                          Non-Null Count  Dtype         \n",
      "---  ------                          --------------  -----         \n",
      " 0   DATE (MM/DD/YYYY)               61 non-null     datetime64[ns]\n",
      " 1   AVG Air Temperature [deg F]     61 non-null     float64       \n",
      " 2   MAX Air Temperature [deg F]     61 non-null     float64       \n",
      " 3   MIN Air Temperature [deg F]     61 non-null     float64       \n",
      " 4   AVG Rel Humidity [%]            61 non-null     float64       \n",
      " 5   MAX Rel Humidity [%]            61 non-null     float64       \n",
      " 6   MIN Rel Humidity [%]            61 non-null     float64       \n",
      " 7   AVG Avg Wind Speed @ 3m [MPH]   61 non-null     float64       \n",
      " 8   MAX Avg Wind Speed @ 3m [MPH]   61 non-null     float64       \n",
      " 9   MIN Avg Wind Speed @ 3m [MPH]   61 non-null     float64       \n",
      " 10  AVG Peak Wind Speed @ 3m [MPH]  61 non-null     float64       \n",
      " 11  MAX Peak Wind Speed @ 3m [MPH]  61 non-null     float64       \n",
      " 12  MIN Peak Wind Speed @ 3m [MPH]  61 non-null     float64       \n",
      " 13  AVG Station Pressure [inHg]     61 non-null     float64       \n",
      " 14  MAX Station Pressure [inHg]     61 non-null     float64       \n",
      " 15  MIN Station Pressure [inHg]     61 non-null     float64       \n",
      "dtypes: datetime64[ns](1), float64(15)\n",
      "memory usage: 7.8 KB\n"
     ]
    }
   ],
   "source": [
    "met_df.info()"
   ]
  },
  {
   "cell_type": "code",
   "execution_count": 1895,
   "metadata": {},
   "outputs": [],
   "source": [
    "merged_df = pd.merge(load_df, met_df, on=\"DATE (MM/DD/YYYY)\", how=\"inner\")"
   ]
  },
  {
   "cell_type": "code",
   "execution_count": 1896,
   "metadata": {},
   "outputs": [
    {
     "name": "stdout",
     "output_type": "stream",
     "text": [
      "<class 'pandas.core.frame.DataFrame'>\n",
      "RangeIndex: 61 entries, 0 to 60\n",
      "Data columns (total 36 columns):\n",
      " #   Column                          Non-Null Count  Dtype         \n",
      "---  ------                          --------------  -----         \n",
      " 0   DATE (MM/DD/YYYY)               61 non-null     datetime64[ns]\n",
      " 1   KW                              61 non-null     float64       \n",
      " 2   KWS                             61 non-null     float64       \n",
      " 3   CHWTON                          61 non-null     float64       \n",
      " 4   HTmmBTU                         61 non-null     float64       \n",
      " 5   Combined mmBTU                  61 non-null     float64       \n",
      " 6   Combined Tons Carbon            61 non-null     float64       \n",
      " 7   KW#Houses                       61 non-null     int64         \n",
      " 8   KWlightbulbs                    61 non-null     int64         \n",
      " 9   KWgalsgas                       61 non-null     int64         \n",
      " 10  CHWTON#Houses                   61 non-null     int64         \n",
      " 11  CHWTONlightbulbs                61 non-null     int64         \n",
      " 12  CHWTONgalsgas                   61 non-null     int64         \n",
      " 13  HTmmBTU#Houses                  61 non-null     int64         \n",
      " 14  HTmmBTUlightbulbs               61 non-null     int64         \n",
      " 15  HTmmBTUgalsgas                  61 non-null     int64         \n",
      " 16  Total#Houses                    61 non-null     int64         \n",
      " 17  Totallightbulbs                 61 non-null     int64         \n",
      " 18  Totalgalsgas                    61 non-null     int64         \n",
      " 19  GHG                             61 non-null     float64       \n",
      " 20  DOW                             61 non-null     int64         \n",
      " 21  AVG Air Temperature [deg F]     61 non-null     float64       \n",
      " 22  MAX Air Temperature [deg F]     61 non-null     float64       \n",
      " 23  MIN Air Temperature [deg F]     61 non-null     float64       \n",
      " 24  AVG Rel Humidity [%]            61 non-null     float64       \n",
      " 25  MAX Rel Humidity [%]            61 non-null     float64       \n",
      " 26  MIN Rel Humidity [%]            61 non-null     float64       \n",
      " 27  AVG Avg Wind Speed @ 3m [MPH]   61 non-null     float64       \n",
      " 28  MAX Avg Wind Speed @ 3m [MPH]   61 non-null     float64       \n",
      " 29  MIN Avg Wind Speed @ 3m [MPH]   61 non-null     float64       \n",
      " 30  AVG Peak Wind Speed @ 3m [MPH]  61 non-null     float64       \n",
      " 31  MAX Peak Wind Speed @ 3m [MPH]  61 non-null     float64       \n",
      " 32  MIN Peak Wind Speed @ 3m [MPH]  61 non-null     float64       \n",
      " 33  AVG Station Pressure [inHg]     61 non-null     float64       \n",
      " 34  MAX Station Pressure [inHg]     61 non-null     float64       \n",
      " 35  MIN Station Pressure [inHg]     61 non-null     float64       \n",
      "dtypes: datetime64[ns](1), float64(22), int64(13)\n",
      "memory usage: 17.3 KB\n"
     ]
    }
   ],
   "source": [
    "merged_df.info()"
   ]
  },
  {
   "cell_type": "code",
   "execution_count": 1897,
   "metadata": {},
   "outputs": [
    {
     "data": {
      "text/html": [
       "<div>\n",
       "<style scoped>\n",
       "    .dataframe tbody tr th:only-of-type {\n",
       "        vertical-align: middle;\n",
       "    }\n",
       "\n",
       "    .dataframe tbody tr th {\n",
       "        vertical-align: top;\n",
       "    }\n",
       "\n",
       "    .dataframe thead th {\n",
       "        text-align: right;\n",
       "    }\n",
       "</style>\n",
       "<table border=\"1\" class=\"dataframe\">\n",
       "  <thead>\n",
       "    <tr style=\"text-align: right;\">\n",
       "      <th></th>\n",
       "      <th>DATE (MM/DD/YYYY)</th>\n",
       "      <th>KW</th>\n",
       "      <th>KWS</th>\n",
       "      <th>CHWTON</th>\n",
       "      <th>HTmmBTU</th>\n",
       "      <th>Combined mmBTU</th>\n",
       "      <th>Combined Tons Carbon</th>\n",
       "      <th>KW#Houses</th>\n",
       "      <th>KWlightbulbs</th>\n",
       "      <th>KWgalsgas</th>\n",
       "      <th>...</th>\n",
       "      <th>MIN Rel Humidity [%]</th>\n",
       "      <th>AVG Avg Wind Speed @ 3m [MPH]</th>\n",
       "      <th>MAX Avg Wind Speed @ 3m [MPH]</th>\n",
       "      <th>MIN Avg Wind Speed @ 3m [MPH]</th>\n",
       "      <th>AVG Peak Wind Speed @ 3m [MPH]</th>\n",
       "      <th>MAX Peak Wind Speed @ 3m [MPH]</th>\n",
       "      <th>MIN Peak Wind Speed @ 3m [MPH]</th>\n",
       "      <th>AVG Station Pressure [inHg]</th>\n",
       "      <th>MAX Station Pressure [inHg]</th>\n",
       "      <th>MIN Station Pressure [inHg]</th>\n",
       "    </tr>\n",
       "  </thead>\n",
       "  <tbody>\n",
       "    <tr>\n",
       "      <th>0</th>\n",
       "      <td>2024-05-01</td>\n",
       "      <td>351973.45</td>\n",
       "      <td>39367.64</td>\n",
       "      <td>117009.06</td>\n",
       "      <td>115.27</td>\n",
       "      <td>2720.37</td>\n",
       "      <td>497.21</td>\n",
       "      <td>100564</td>\n",
       "      <td>25140971</td>\n",
       "      <td>9608</td>\n",
       "      <td>...</td>\n",
       "      <td>8.040</td>\n",
       "      <td>7.5972</td>\n",
       "      <td>24.4721</td>\n",
       "      <td>0.0</td>\n",
       "      <td>11.1715</td>\n",
       "      <td>30.6460</td>\n",
       "      <td>0.0</td>\n",
       "      <td>27.2098</td>\n",
       "      <td>27.2561</td>\n",
       "      <td>27.1436</td>\n",
       "    </tr>\n",
       "    <tr>\n",
       "      <th>1</th>\n",
       "      <td>2024-05-02</td>\n",
       "      <td>353826.38</td>\n",
       "      <td>39144.04</td>\n",
       "      <td>119220.71</td>\n",
       "      <td>115.03</td>\n",
       "      <td>2752.99</td>\n",
       "      <td>503.17</td>\n",
       "      <td>101093</td>\n",
       "      <td>25273323</td>\n",
       "      <td>9658</td>\n",
       "      <td>...</td>\n",
       "      <td>6.938</td>\n",
       "      <td>5.1366</td>\n",
       "      <td>22.8839</td>\n",
       "      <td>0.0</td>\n",
       "      <td>8.0311</td>\n",
       "      <td>27.2906</td>\n",
       "      <td>0.0</td>\n",
       "      <td>27.2407</td>\n",
       "      <td>27.2873</td>\n",
       "      <td>27.1868</td>\n",
       "    </tr>\n",
       "    <tr>\n",
       "      <th>2</th>\n",
       "      <td>2024-05-03</td>\n",
       "      <td>357657.88</td>\n",
       "      <td>38935.34</td>\n",
       "      <td>123171.43</td>\n",
       "      <td>109.79</td>\n",
       "      <td>2808.22</td>\n",
       "      <td>513.27</td>\n",
       "      <td>102188</td>\n",
       "      <td>25547001</td>\n",
       "      <td>9763</td>\n",
       "      <td>...</td>\n",
       "      <td>6.877</td>\n",
       "      <td>5.7147</td>\n",
       "      <td>23.8457</td>\n",
       "      <td>0.0</td>\n",
       "      <td>8.8923</td>\n",
       "      <td>39.0345</td>\n",
       "      <td>0.0</td>\n",
       "      <td>27.2277</td>\n",
       "      <td>27.2663</td>\n",
       "      <td>27.1653</td>\n",
       "    </tr>\n",
       "    <tr>\n",
       "      <th>3</th>\n",
       "      <td>2024-05-04</td>\n",
       "      <td>363958.25</td>\n",
       "      <td>38676.54</td>\n",
       "      <td>118279.24</td>\n",
       "      <td>108.33</td>\n",
       "      <td>2769.56</td>\n",
       "      <td>506.20</td>\n",
       "      <td>103988</td>\n",
       "      <td>25997028</td>\n",
       "      <td>9935</td>\n",
       "      <td>...</td>\n",
       "      <td>6.234</td>\n",
       "      <td>5.5733</td>\n",
       "      <td>20.5574</td>\n",
       "      <td>0.0</td>\n",
       "      <td>8.6903</td>\n",
       "      <td>25.6129</td>\n",
       "      <td>0.0</td>\n",
       "      <td>27.2277</td>\n",
       "      <td>27.2670</td>\n",
       "      <td>27.1798</td>\n",
       "    </tr>\n",
       "    <tr>\n",
       "      <th>4</th>\n",
       "      <td>2024-05-05</td>\n",
       "      <td>320144.95</td>\n",
       "      <td>33341.16</td>\n",
       "      <td>106070.52</td>\n",
       "      <td>108.39</td>\n",
       "      <td>2473.62</td>\n",
       "      <td>452.11</td>\n",
       "      <td>91470</td>\n",
       "      <td>22867506</td>\n",
       "      <td>8739</td>\n",
       "      <td>...</td>\n",
       "      <td>9.040</td>\n",
       "      <td>11.2813</td>\n",
       "      <td>32.4132</td>\n",
       "      <td>0.0</td>\n",
       "      <td>16.0872</td>\n",
       "      <td>44.0676</td>\n",
       "      <td>0.0</td>\n",
       "      <td>27.2212</td>\n",
       "      <td>27.2677</td>\n",
       "      <td>27.1493</td>\n",
       "    </tr>\n",
       "  </tbody>\n",
       "</table>\n",
       "<p>5 rows × 36 columns</p>\n",
       "</div>"
      ],
      "text/plain": [
       "  DATE (MM/DD/YYYY)         KW       KWS     CHWTON  HTmmBTU  Combined mmBTU  \\\n",
       "0        2024-05-01  351973.45  39367.64  117009.06   115.27         2720.37   \n",
       "1        2024-05-02  353826.38  39144.04  119220.71   115.03         2752.99   \n",
       "2        2024-05-03  357657.88  38935.34  123171.43   109.79         2808.22   \n",
       "3        2024-05-04  363958.25  38676.54  118279.24   108.33         2769.56   \n",
       "4        2024-05-05  320144.95  33341.16  106070.52   108.39         2473.62   \n",
       "\n",
       "   Combined Tons Carbon  KW#Houses  KWlightbulbs  KWgalsgas  ...  \\\n",
       "0                497.21     100564      25140971       9608  ...   \n",
       "1                503.17     101093      25273323       9658  ...   \n",
       "2                513.27     102188      25547001       9763  ...   \n",
       "3                506.20     103988      25997028       9935  ...   \n",
       "4                452.11      91470      22867506       8739  ...   \n",
       "\n",
       "   MIN Rel Humidity [%]  AVG Avg Wind Speed @ 3m [MPH]  \\\n",
       "0                 8.040                         7.5972   \n",
       "1                 6.938                         5.1366   \n",
       "2                 6.877                         5.7147   \n",
       "3                 6.234                         5.5733   \n",
       "4                 9.040                        11.2813   \n",
       "\n",
       "   MAX Avg Wind Speed @ 3m [MPH]  MIN Avg Wind Speed @ 3m [MPH]  \\\n",
       "0                        24.4721                            0.0   \n",
       "1                        22.8839                            0.0   \n",
       "2                        23.8457                            0.0   \n",
       "3                        20.5574                            0.0   \n",
       "4                        32.4132                            0.0   \n",
       "\n",
       "   AVG Peak Wind Speed @ 3m [MPH]  MAX Peak Wind Speed @ 3m [MPH]  \\\n",
       "0                         11.1715                         30.6460   \n",
       "1                          8.0311                         27.2906   \n",
       "2                          8.8923                         39.0345   \n",
       "3                          8.6903                         25.6129   \n",
       "4                         16.0872                         44.0676   \n",
       "\n",
       "   MIN Peak Wind Speed @ 3m [MPH]  AVG Station Pressure [inHg]  \\\n",
       "0                             0.0                      27.2098   \n",
       "1                             0.0                      27.2407   \n",
       "2                             0.0                      27.2277   \n",
       "3                             0.0                      27.2277   \n",
       "4                             0.0                      27.2212   \n",
       "\n",
       "   MAX Station Pressure [inHg]  MIN Station Pressure [inHg]  \n",
       "0                      27.2561                      27.1436  \n",
       "1                      27.2873                      27.1868  \n",
       "2                      27.2663                      27.1653  \n",
       "3                      27.2670                      27.1798  \n",
       "4                      27.2677                      27.1493  \n",
       "\n",
       "[5 rows x 36 columns]"
      ]
     },
     "execution_count": 1897,
     "metadata": {},
     "output_type": "execute_result"
    }
   ],
   "source": [
    "merged_df.head()"
   ]
  },
  {
   "cell_type": "markdown",
   "metadata": {},
   "source": [
    "## Data Preprocessing"
   ]
  },
  {
   "cell_type": "code",
   "execution_count": 1898,
   "metadata": {},
   "outputs": [],
   "source": [
    "from sklearn.preprocessing import MinMaxScaler"
   ]
  },
  {
   "cell_type": "markdown",
   "metadata": {},
   "source": [
    "#### Step 1: Train-Test Split (80% training, 20% testing)"
   ]
  },
  {
   "cell_type": "code",
   "execution_count": 1899,
   "metadata": {},
   "outputs": [],
   "source": [
    "train_size = int(len(merged_df) * 0.8)\n",
    "train_data = merged_df[:train_size]\n",
    "test_data = merged_df[train_size:]"
   ]
  },
  {
   "cell_type": "markdown",
   "metadata": {},
   "source": [
    "#### Step 2: Select relevant columns for normalization\n",
    "\n",
    "Electric load, Cooling load, Heating load, Temperature, Humidity, Irradiance (if present)"
   ]
  },
  {
   "cell_type": "code",
   "execution_count": 1900,
   "metadata": {},
   "outputs": [],
   "source": [
    "features_to_normalize = [\n",
    "    \"KW\",\n",
    "    \"CHWTON\",\n",
    "    \"HTmmBTU\",\n",
    "    \"AVG Air Temperature [deg F]\",\n",
    "    \"AVG Rel Humidity [%]\",\n",
    "]"
   ]
  },
  {
   "cell_type": "markdown",
   "metadata": {},
   "source": [
    "Initialize MinMaxScaler"
   ]
  },
  {
   "cell_type": "code",
   "execution_count": 1901,
   "metadata": {},
   "outputs": [],
   "source": [
    "scaler = MinMaxScaler()"
   ]
  },
  {
   "cell_type": "markdown",
   "metadata": {},
   "source": [
    "Fit the scaler on the training data and transform both train and test data"
   ]
  },
  {
   "cell_type": "code",
   "execution_count": 1902,
   "metadata": {},
   "outputs": [],
   "source": [
    "train_scaled = train_data.copy()\n",
    "train_scaled[features_to_normalize] = scaler.fit_transform(\n",
    "    train_data[features_to_normalize]\n",
    ")\n",
    "\n",
    "test_scaled = test_data.copy()\n",
    "test_scaled[features_to_normalize] = scaler.transform(test_data[features_to_normalize])"
   ]
  },
  {
   "cell_type": "markdown",
   "metadata": {},
   "source": [
    "#### Step 3: Time Series Preparation (Create sliding window sequences)"
   ]
  },
  {
   "cell_type": "code",
   "execution_count": 1903,
   "metadata": {},
   "outputs": [],
   "source": [
    "sequence_length = 7  # Use past 7 days to predict the next day\n",
    "\n",
    "\n",
    "def create_sequences(data, target_column, sequence_length):\n",
    "    sequences = []\n",
    "    targets = []\n",
    "\n",
    "    for i in range(len(data) - sequence_length):\n",
    "        seq = data[i : i + sequence_length]  # Sequence of 'n' days\n",
    "        target = data[i + sequence_length][target_column+1]  # Target is the next day's load (KW)\n",
    "        sequences.append(seq)\n",
    "        targets.append(target)\n",
    "\n",
    "    return np.array(sequences), np.array(targets)"
   ]
  },
  {
   "cell_type": "markdown",
   "metadata": {},
   "source": [
    "Create sequences for training and testing sets"
   ]
  },
  {
   "cell_type": "code",
   "execution_count": 1904,
   "metadata": {},
   "outputs": [
    {
     "name": "stdout",
     "output_type": "stream",
     "text": [
      "Training data shape (X, y): (41, 7, 5) (41,)\n",
      "Testing data shape (X, y): (6, 7, 5) (6,)\n"
     ]
    }
   ],
   "source": [
    "X_train, y_train = create_sequences(\n",
    "    train_scaled[features_to_normalize].values,\n",
    "    target_column=0,\n",
    "    sequence_length=sequence_length,\n",
    ")  # KW is the target\n",
    "X_test, y_test = create_sequences(\n",
    "    test_scaled[features_to_normalize].values,\n",
    "    target_column=0,\n",
    "    sequence_length=sequence_length,\n",
    ")\n",
    "\n",
    "# Print the shape of training and testing data\n",
    "print(\"Training data shape (X, y):\", X_train.shape, y_train.shape)\n",
    "print(\"Testing data shape (X, y):\", X_test.shape, y_test.shape)"
   ]
  },
  {
   "cell_type": "markdown",
   "metadata": {},
   "source": [
    "### Model Construction"
   ]
  },
  {
   "cell_type": "code",
   "execution_count": 1905,
   "metadata": {},
   "outputs": [],
   "source": [
    "import torch\n",
    "import torch.nn as nn\n",
    "import torch.optim as optim\n",
    "from sklearn.metrics import mean_squared_error\n",
    "from torch.optim.lr_scheduler import ReduceLROnPlateau"
   ]
  },
  {
   "cell_type": "markdown",
   "metadata": {},
   "source": [
    "#### Step 1: Convert data to PyTorch tensors"
   ]
  },
  {
   "cell_type": "code",
   "execution_count": 1906,
   "metadata": {},
   "outputs": [],
   "source": [
    "X_train_tensor = torch.Tensor(X_train)\n",
    "y_train_tensor = torch.Tensor(y_train)\n",
    "X_test_tensor = torch.Tensor(X_test)\n",
    "y_test_tensor = torch.Tensor(y_test)"
   ]
  },
  {
   "cell_type": "markdown",
   "metadata": {},
   "source": [
    "#### Step 2: Define the LSTM model"
   ]
  },
  {
   "cell_type": "code",
   "execution_count": 1907,
   "metadata": {},
   "outputs": [],
   "source": [
    "# Define the LSTM model with L2 regularization\n",
    "class LSTMModel(nn.Module):\n",
    "    def __init__(self, input_dim, hidden_dim, output_dim, num_layers=2, dropout=0.2):\n",
    "        super(LSTMModel, self).__init__()\n",
    "        self.lstm = nn.LSTM(\n",
    "            input_dim, hidden_dim, num_layers, batch_first=True, dropout=dropout\n",
    "        )\n",
    "        self.fc = nn.Linear(hidden_dim, output_dim)\n",
    "\n",
    "    def forward(self, x):\n",
    "        lstm_out, _ = self.lstm(x)\n",
    "        final_feature_map = lstm_out[:, -1, :]\n",
    "        out = self.fc(final_feature_map)\n",
    "        return out"
   ]
  },
  {
   "cell_type": "markdown",
   "metadata": {},
   "source": [
    "Initialize the model, loss function, and optimizer"
   ]
  },
  {
   "cell_type": "code",
   "execution_count": 1908,
   "metadata": {},
   "outputs": [],
   "source": [
    "# Initialize model, loss function, and optimizer with L2 regularization\n",
    "input_dim = len(features_to_normalize)\n",
    "hidden_dim = 50\n",
    "output_dim = 1\n",
    "dropout = 0.2"
   ]
  },
  {
   "cell_type": "code",
   "execution_count": 1909,
   "metadata": {},
   "outputs": [
    {
     "data": {
      "text/plain": [
       "tensor(0.)"
      ]
     },
     "execution_count": 1909,
     "metadata": {},
     "output_type": "execute_result"
    }
   ],
   "source": [
    "model = LSTMModel(input_dim, hidden_dim, output_dim, num_layers=2, dropout=dropout)\n",
    "criterion = nn.MSELoss()\n",
    "optimizer = optim.Adam(\n",
    "    model.parameters(), lr=0.0001, weight_decay=0.01\n",
    ")  # Adding L2 regularization\n",
    "scheduler = ReduceLROnPlateau(\n",
    "    optimizer, mode=\"min\", factor=0.1, patience=20,\n",
    ")\n",
    "torch.nn.utils.clip_grad_norm_(model.parameters(), max_norm=1.0)"
   ]
  },
  {
   "cell_type": "markdown",
   "metadata": {},
   "source": [
    "#### Step 3: Training loop"
   ]
  },
  {
   "cell_type": "code",
   "execution_count": 1910,
   "metadata": {},
   "outputs": [],
   "source": [
    "num_epochs = 200\n",
    "batch_size = 16\n",
    "patience = 20\n",
    "best_loss = float(\"inf\")\n",
    "patience_counter = 0"
   ]
  },
  {
   "cell_type": "markdown",
   "metadata": {},
   "source": [
    "Create DataLoader for training and validation data"
   ]
  },
  {
   "cell_type": "code",
   "execution_count": 1911,
   "metadata": {},
   "outputs": [],
   "source": [
    "train_dataset = torch.utils.data.TensorDataset(X_train_tensor, y_train_tensor)\n",
    "train_loader = torch.utils.data.DataLoader(\n",
    "    dataset=train_dataset, batch_size=batch_size, shuffle=True\n",
    ")"
   ]
  },
  {
   "cell_type": "code",
   "execution_count": 1912,
   "metadata": {},
   "outputs": [],
   "source": [
    "epoch_losses = list()\n",
    "test_losses = list()"
   ]
  },
  {
   "cell_type": "code",
   "execution_count": 1913,
   "metadata": {},
   "outputs": [
    {
     "name": "stdout",
     "output_type": "stream",
     "text": [
      "Epoch [1/200], Loss: 0.2741\n",
      "Test Loss: 1.6786\n",
      "Epoch [2/200], Loss: 0.2678\n",
      "Test Loss: 1.6609\n",
      "Epoch [3/200], Loss: 0.2645\n",
      "Test Loss: 1.6433\n",
      "Epoch [4/200], Loss: 0.2598\n",
      "Test Loss: 1.6264\n",
      "Epoch [5/200], Loss: 0.2548\n",
      "Test Loss: 1.6092\n",
      "Epoch [6/200], Loss: 0.2499\n",
      "Test Loss: 1.5920\n",
      "Epoch [7/200], Loss: 0.2468\n",
      "Test Loss: 1.5746\n",
      "Epoch [8/200], Loss: 0.2412\n",
      "Test Loss: 1.5573\n",
      "Epoch [9/200], Loss: 0.2366\n",
      "Test Loss: 1.5402\n",
      "Epoch [10/200], Loss: 0.2326\n",
      "Test Loss: 1.5230\n",
      "Epoch [11/200], Loss: 0.2281\n",
      "Test Loss: 1.5054\n",
      "Epoch [12/200], Loss: 0.2234\n",
      "Test Loss: 1.4882\n",
      "Epoch [13/200], Loss: 0.2184\n",
      "Test Loss: 1.4709\n",
      "Epoch [14/200], Loss: 0.2157\n",
      "Test Loss: 1.4534\n",
      "Epoch [15/200], Loss: 0.2102\n",
      "Test Loss: 1.4359\n",
      "Epoch [16/200], Loss: 0.2051\n",
      "Test Loss: 1.4182\n",
      "Epoch [17/200], Loss: 0.2012\n",
      "Test Loss: 1.3997\n",
      "Epoch [18/200], Loss: 0.1980\n",
      "Test Loss: 1.3812\n",
      "Epoch [19/200], Loss: 0.1928\n",
      "Test Loss: 1.3628\n",
      "Epoch [20/200], Loss: 0.1888\n",
      "Test Loss: 1.3442\n",
      "Epoch [21/200], Loss: 0.1832\n",
      "Test Loss: 1.3258\n",
      "Epoch [22/200], Loss: 0.1805\n",
      "Test Loss: 1.3066\n",
      "Epoch [23/200], Loss: 0.1751\n",
      "Test Loss: 1.2869\n",
      "Epoch [24/200], Loss: 0.1720\n",
      "Test Loss: 1.2673\n",
      "Epoch [25/200], Loss: 0.1657\n",
      "Test Loss: 1.2479\n",
      "Epoch [26/200], Loss: 0.1628\n",
      "Test Loss: 1.2276\n",
      "Epoch [27/200], Loss: 0.1586\n",
      "Test Loss: 1.2076\n",
      "Epoch [28/200], Loss: 0.1554\n",
      "Test Loss: 1.1880\n",
      "Epoch [29/200], Loss: 0.1523\n",
      "Test Loss: 1.1679\n",
      "Epoch [30/200], Loss: 0.1479\n",
      "Test Loss: 1.1481\n",
      "Epoch [31/200], Loss: 0.1471\n",
      "Test Loss: 1.1281\n",
      "Epoch [32/200], Loss: 0.1402\n",
      "Test Loss: 1.1084\n",
      "Epoch [33/200], Loss: 0.1386\n",
      "Test Loss: 1.0886\n",
      "Epoch [34/200], Loss: 0.1334\n",
      "Test Loss: 1.0693\n",
      "Epoch [35/200], Loss: 0.1288\n",
      "Test Loss: 1.0506\n",
      "Epoch [36/200], Loss: 0.1248\n",
      "Test Loss: 1.0329\n",
      "Epoch [37/200], Loss: 0.1239\n",
      "Test Loss: 1.0132\n",
      "Epoch [38/200], Loss: 0.1199\n",
      "Test Loss: 0.9952\n",
      "Epoch [39/200], Loss: 0.1180\n",
      "Test Loss: 0.9757\n",
      "Epoch [40/200], Loss: 0.1142\n",
      "Test Loss: 0.9565\n",
      "Epoch [41/200], Loss: 0.1130\n",
      "Test Loss: 0.9373\n",
      "Epoch [42/200], Loss: 0.1063\n",
      "Test Loss: 0.9183\n",
      "Epoch [43/200], Loss: 0.1053\n",
      "Test Loss: 0.8995\n",
      "Epoch [44/200], Loss: 0.1020\n",
      "Test Loss: 0.8793\n",
      "Epoch [45/200], Loss: 0.0996\n",
      "Test Loss: 0.8604\n",
      "Epoch [46/200], Loss: 0.0975\n",
      "Test Loss: 0.8429\n",
      "Epoch [47/200], Loss: 0.0952\n",
      "Test Loss: 0.8255\n",
      "Epoch [48/200], Loss: 0.0920\n",
      "Test Loss: 0.8082\n",
      "Epoch [49/200], Loss: 0.0928\n",
      "Test Loss: 0.7914\n",
      "Epoch [50/200], Loss: 0.0895\n",
      "Test Loss: 0.7756\n",
      "Epoch [51/200], Loss: 0.0878\n",
      "Test Loss: 0.7604\n",
      "Epoch [52/200], Loss: 0.0862\n",
      "Test Loss: 0.7469\n",
      "Epoch [53/200], Loss: 0.0852\n",
      "Test Loss: 0.7329\n",
      "Epoch [54/200], Loss: 0.0818\n",
      "Test Loss: 0.7200\n",
      "Epoch [55/200], Loss: 0.0835\n",
      "Test Loss: 0.7087\n",
      "Epoch [56/200], Loss: 0.0837\n",
      "Test Loss: 0.6975\n",
      "Epoch [57/200], Loss: 0.0827\n",
      "Test Loss: 0.6869\n",
      "Epoch [58/200], Loss: 0.0813\n",
      "Test Loss: 0.6774\n",
      "Epoch [59/200], Loss: 0.0793\n",
      "Test Loss: 0.6699\n",
      "Epoch [60/200], Loss: 0.0775\n",
      "Test Loss: 0.6635\n",
      "Epoch [61/200], Loss: 0.0796\n",
      "Test Loss: 0.6571\n",
      "Epoch [62/200], Loss: 0.0764\n",
      "Test Loss: 0.6504\n",
      "Epoch [63/200], Loss: 0.0768\n",
      "Test Loss: 0.6442\n",
      "Epoch [64/200], Loss: 0.0776\n",
      "Test Loss: 0.6360\n",
      "Epoch [65/200], Loss: 0.0759\n",
      "Test Loss: 0.6288\n",
      "Epoch [66/200], Loss: 0.0746\n",
      "Test Loss: 0.6213\n",
      "Epoch [67/200], Loss: 0.0751\n",
      "Test Loss: 0.6149\n",
      "Epoch [68/200], Loss: 0.0751\n",
      "Test Loss: 0.6107\n",
      "Epoch [69/200], Loss: 0.0731\n",
      "Test Loss: 0.6062\n",
      "Epoch [70/200], Loss: 0.0734\n",
      "Test Loss: 0.6036\n",
      "Epoch [71/200], Loss: 0.0732\n",
      "Test Loss: 0.6021\n",
      "Epoch [72/200], Loss: 0.0732\n",
      "Test Loss: 0.6003\n",
      "Epoch [73/200], Loss: 0.0720\n",
      "Test Loss: 0.5983\n",
      "Epoch [74/200], Loss: 0.0723\n",
      "Test Loss: 0.5965\n",
      "Epoch [75/200], Loss: 0.0736\n",
      "Test Loss: 0.5951\n",
      "Epoch [76/200], Loss: 0.0715\n",
      "Test Loss: 0.5907\n",
      "Epoch [77/200], Loss: 0.0720\n",
      "Test Loss: 0.5862\n",
      "Epoch [78/200], Loss: 0.0705\n",
      "Test Loss: 0.5850\n",
      "Epoch [79/200], Loss: 0.0687\n",
      "Test Loss: 0.5840\n",
      "Epoch [80/200], Loss: 0.0692\n",
      "Test Loss: 0.5820\n",
      "Epoch [81/200], Loss: 0.0687\n",
      "Test Loss: 0.5792\n",
      "Epoch [82/200], Loss: 0.0693\n",
      "Test Loss: 0.5769\n",
      "Epoch [83/200], Loss: 0.0697\n",
      "Test Loss: 0.5731\n",
      "Epoch [84/200], Loss: 0.0680\n",
      "Test Loss: 0.5693\n",
      "Epoch [85/200], Loss: 0.0651\n",
      "Test Loss: 0.5655\n",
      "Epoch [86/200], Loss: 0.0690\n",
      "Test Loss: 0.5615\n",
      "Epoch [87/200], Loss: 0.0682\n",
      "Test Loss: 0.5597\n",
      "Epoch [88/200], Loss: 0.0692\n",
      "Test Loss: 0.5607\n",
      "Epoch [89/200], Loss: 0.0677\n",
      "Test Loss: 0.5625\n",
      "Epoch [90/200], Loss: 0.0672\n",
      "Test Loss: 0.5615\n",
      "Epoch [91/200], Loss: 0.0670\n",
      "Test Loss: 0.5626\n",
      "Epoch [92/200], Loss: 0.0662\n",
      "Test Loss: 0.5579\n",
      "Epoch [93/200], Loss: 0.0690\n",
      "Test Loss: 0.5548\n",
      "Epoch [94/200], Loss: 0.0667\n",
      "Test Loss: 0.5515\n",
      "Epoch [95/200], Loss: 0.0668\n",
      "Test Loss: 0.5479\n",
      "Epoch [96/200], Loss: 0.0659\n",
      "Test Loss: 0.5465\n",
      "Epoch [97/200], Loss: 0.0649\n",
      "Test Loss: 0.5440\n",
      "Epoch [98/200], Loss: 0.0639\n",
      "Test Loss: 0.5434\n",
      "Epoch [99/200], Loss: 0.0649\n",
      "Test Loss: 0.5434\n",
      "Epoch [100/200], Loss: 0.0645\n",
      "Test Loss: 0.5439\n",
      "Epoch [101/200], Loss: 0.0645\n",
      "Test Loss: 0.5433\n",
      "Epoch [102/200], Loss: 0.0652\n",
      "Test Loss: 0.5420\n",
      "Epoch [103/200], Loss: 0.0627\n",
      "Test Loss: 0.5389\n",
      "Epoch [104/200], Loss: 0.0642\n",
      "Test Loss: 0.5377\n",
      "Epoch [105/200], Loss: 0.0637\n",
      "Test Loss: 0.5368\n",
      "Epoch [106/200], Loss: 0.0607\n",
      "Test Loss: 0.5361\n",
      "Epoch [107/200], Loss: 0.0621\n",
      "Test Loss: 0.5366\n",
      "Epoch [108/200], Loss: 0.0619\n",
      "Test Loss: 0.5365\n",
      "Epoch [109/200], Loss: 0.0625\n",
      "Test Loss: 0.5356\n",
      "Epoch [110/200], Loss: 0.0647\n",
      "Test Loss: 0.5342\n",
      "Epoch [111/200], Loss: 0.0614\n",
      "Test Loss: 0.5325\n",
      "Epoch [112/200], Loss: 0.0607\n",
      "Test Loss: 0.5314\n",
      "Epoch [113/200], Loss: 0.0601\n",
      "Test Loss: 0.5292\n",
      "Epoch [114/200], Loss: 0.0606\n",
      "Test Loss: 0.5266\n",
      "Epoch [115/200], Loss: 0.0598\n",
      "Test Loss: 0.5220\n",
      "Epoch [116/200], Loss: 0.0619\n",
      "Test Loss: 0.5189\n",
      "Epoch [117/200], Loss: 0.0608\n",
      "Test Loss: 0.5144\n",
      "Epoch [118/200], Loss: 0.0607\n",
      "Test Loss: 0.5118\n",
      "Epoch [119/200], Loss: 0.0601\n",
      "Test Loss: 0.5095\n",
      "Epoch [120/200], Loss: 0.0575\n",
      "Test Loss: 0.5060\n",
      "Epoch [121/200], Loss: 0.0601\n",
      "Test Loss: 0.5014\n",
      "Epoch [122/200], Loss: 0.0567\n",
      "Test Loss: 0.4967\n",
      "Epoch [123/200], Loss: 0.0574\n",
      "Test Loss: 0.4939\n",
      "Epoch [124/200], Loss: 0.0581\n",
      "Test Loss: 0.4930\n",
      "Epoch [125/200], Loss: 0.0563\n",
      "Test Loss: 0.4903\n",
      "Epoch [126/200], Loss: 0.0583\n",
      "Test Loss: 0.4874\n",
      "Epoch [127/200], Loss: 0.0542\n",
      "Test Loss: 0.4867\n",
      "Epoch [128/200], Loss: 0.0551\n",
      "Test Loss: 0.4841\n",
      "Epoch [129/200], Loss: 0.0561\n",
      "Test Loss: 0.4823\n",
      "Epoch [130/200], Loss: 0.0556\n",
      "Test Loss: 0.4809\n",
      "Epoch [131/200], Loss: 0.0535\n",
      "Test Loss: 0.4790\n",
      "Epoch [132/200], Loss: 0.0539\n",
      "Test Loss: 0.4764\n",
      "Epoch [133/200], Loss: 0.0534\n",
      "Test Loss: 0.4762\n",
      "Epoch [134/200], Loss: 0.0526\n",
      "Test Loss: 0.4747\n",
      "Epoch [135/200], Loss: 0.0538\n",
      "Test Loss: 0.4737\n",
      "Epoch [136/200], Loss: 0.0542\n",
      "Test Loss: 0.4739\n",
      "Epoch [137/200], Loss: 0.0537\n",
      "Test Loss: 0.4732\n",
      "Epoch [138/200], Loss: 0.0562\n",
      "Test Loss: 0.4730\n",
      "Epoch [139/200], Loss: 0.0538\n",
      "Test Loss: 0.4729\n",
      "Epoch [140/200], Loss: 0.0521\n",
      "Test Loss: 0.4738\n",
      "Epoch [141/200], Loss: 0.0528\n",
      "Test Loss: 0.4734\n",
      "Epoch [142/200], Loss: 0.0513\n",
      "Test Loss: 0.4726\n",
      "Epoch [143/200], Loss: 0.0506\n",
      "Test Loss: 0.4715\n",
      "Epoch [144/200], Loss: 0.0525\n",
      "Test Loss: 0.4700\n",
      "Epoch [145/200], Loss: 0.0495\n",
      "Test Loss: 0.4691\n",
      "Epoch [146/200], Loss: 0.0490\n",
      "Test Loss: 0.4690\n",
      "Epoch [147/200], Loss: 0.0513\n",
      "Test Loss: 0.4681\n",
      "Epoch [148/200], Loss: 0.0500\n",
      "Test Loss: 0.4664\n",
      "Epoch [149/200], Loss: 0.0483\n",
      "Test Loss: 0.4620\n",
      "Epoch [150/200], Loss: 0.0494\n",
      "Test Loss: 0.4599\n",
      "Epoch [151/200], Loss: 0.0487\n",
      "Test Loss: 0.4572\n",
      "Epoch [152/200], Loss: 0.0483\n",
      "Test Loss: 0.4562\n",
      "Epoch [153/200], Loss: 0.0489\n",
      "Test Loss: 0.4569\n",
      "Epoch [154/200], Loss: 0.0469\n",
      "Test Loss: 0.4587\n",
      "Epoch [155/200], Loss: 0.0490\n",
      "Test Loss: 0.4585\n",
      "Epoch [156/200], Loss: 0.0482\n",
      "Test Loss: 0.4586\n",
      "Epoch [157/200], Loss: 0.0463\n",
      "Test Loss: 0.4575\n",
      "Epoch [158/200], Loss: 0.0450\n",
      "Test Loss: 0.4562\n",
      "Epoch [159/200], Loss: 0.0456\n",
      "Test Loss: 0.4556\n",
      "Epoch [160/200], Loss: 0.0466\n",
      "Test Loss: 0.4549\n",
      "Epoch [161/200], Loss: 0.0467\n",
      "Test Loss: 0.4526\n",
      "Epoch [162/200], Loss: 0.0449\n",
      "Test Loss: 0.4506\n",
      "Epoch [163/200], Loss: 0.0449\n",
      "Test Loss: 0.4484\n",
      "Epoch [164/200], Loss: 0.0459\n",
      "Test Loss: 0.4472\n",
      "Epoch [165/200], Loss: 0.0433\n",
      "Test Loss: 0.4461\n",
      "Epoch [166/200], Loss: 0.0456\n",
      "Test Loss: 0.4456\n",
      "Epoch [167/200], Loss: 0.0437\n",
      "Test Loss: 0.4423\n",
      "Epoch [168/200], Loss: 0.0431\n",
      "Test Loss: 0.4385\n",
      "Epoch [169/200], Loss: 0.0422\n",
      "Test Loss: 0.4345\n",
      "Epoch [170/200], Loss: 0.0423\n",
      "Test Loss: 0.4345\n",
      "Epoch [171/200], Loss: 0.0423\n",
      "Test Loss: 0.4328\n",
      "Epoch [172/200], Loss: 0.0393\n",
      "Test Loss: 0.4324\n",
      "Epoch [173/200], Loss: 0.0407\n",
      "Test Loss: 0.4322\n",
      "Epoch [174/200], Loss: 0.0398\n",
      "Test Loss: 0.4297\n",
      "Epoch [175/200], Loss: 0.0385\n",
      "Test Loss: 0.4262\n",
      "Epoch [176/200], Loss: 0.0409\n",
      "Test Loss: 0.4226\n",
      "Epoch [177/200], Loss: 0.0404\n",
      "Test Loss: 0.4195\n",
      "Epoch [178/200], Loss: 0.0395\n",
      "Test Loss: 0.4159\n",
      "Epoch [179/200], Loss: 0.0375\n",
      "Test Loss: 0.4121\n",
      "Epoch [180/200], Loss: 0.0389\n",
      "Test Loss: 0.4103\n",
      "Epoch [181/200], Loss: 0.0362\n",
      "Test Loss: 0.4085\n",
      "Epoch [182/200], Loss: 0.0380\n",
      "Test Loss: 0.4075\n",
      "Epoch [183/200], Loss: 0.0371\n",
      "Test Loss: 0.4095\n",
      "Epoch [184/200], Loss: 0.0371\n",
      "Test Loss: 0.4092\n",
      "Epoch [185/200], Loss: 0.0352\n",
      "Test Loss: 0.4075\n",
      "Epoch [186/200], Loss: 0.0364\n",
      "Test Loss: 0.4062\n",
      "Epoch [187/200], Loss: 0.0361\n",
      "Test Loss: 0.4060\n",
      "Epoch [188/200], Loss: 0.0350\n",
      "Test Loss: 0.4043\n",
      "Epoch [189/200], Loss: 0.0343\n",
      "Test Loss: 0.4021\n",
      "Epoch [190/200], Loss: 0.0347\n",
      "Test Loss: 0.4014\n",
      "Epoch [191/200], Loss: 0.0340\n",
      "Test Loss: 0.4000\n",
      "Epoch [192/200], Loss: 0.0342\n",
      "Test Loss: 0.3978\n",
      "Epoch [193/200], Loss: 0.0318\n",
      "Test Loss: 0.3956\n",
      "Epoch [194/200], Loss: 0.0343\n",
      "Test Loss: 0.3926\n",
      "Epoch [195/200], Loss: 0.0345\n",
      "Test Loss: 0.3912\n",
      "Epoch [196/200], Loss: 0.0332\n",
      "Test Loss: 0.3904\n",
      "Epoch [197/200], Loss: 0.0319\n",
      "Test Loss: 0.3898\n",
      "Epoch [198/200], Loss: 0.0327\n",
      "Test Loss: 0.3920\n",
      "Epoch [199/200], Loss: 0.0319\n",
      "Test Loss: 0.3931\n",
      "Epoch [200/200], Loss: 0.0312\n",
      "Test Loss: 0.3925\n"
     ]
    }
   ],
   "source": [
    "for epoch in range(num_epochs):\n",
    "    model.train()\n",
    "    epoch_loss = 0\n",
    "\n",
    "    for batch_X, batch_y in train_loader:\n",
    "        outputs = model(batch_X)\n",
    "        loss = criterion(outputs.squeeze(), batch_y)\n",
    "\n",
    "        optimizer.zero_grad()\n",
    "        loss.backward()\n",
    "        optimizer.step()\n",
    "\n",
    "        epoch_loss += loss.item() * batch_X.size(0)\n",
    "\n",
    "    avg_epoch_loss = epoch_loss / len(train_loader.dataset)\n",
    "    epoch_losses.append(avg_epoch_loss)\n",
    "    print(f\"Epoch [{epoch + 1}/{num_epochs}], Loss: {avg_epoch_loss:.4f}\")\n",
    "\n",
    "    # Validation phase\n",
    "    model.eval()\n",
    "    with torch.no_grad():\n",
    "        test_outputs = model(X_test_tensor)\n",
    "        test_loss = mean_squared_error(y_test_tensor, test_outputs.squeeze())\n",
    "        test_losses.append(test_loss)\n",
    "        print(f\"Test Loss: {test_loss:.4f}\")\n",
    "\n",
    "# Save the model\n",
    "torch.save(model.state_dict(), \"lstm_model.pth\")\n",
    "        # Early stopping\n",
    "        # if test_loss < best_loss:\n",
    "        #     best_loss = test_loss\n",
    "        #     patience_counter = 0\n",
    "        #     # Save the best model\n",
    "        # else:\n",
    "        #     patience_counter += 1\n",
    "        #     if patience_counter >= patience:\n",
    "        #         print(f\"Early stopping triggered at Epoch({epoch})\")\n",
    "        #         # break\n",
    "        # print(f\"Patience Counter: {patience_counter}\")"
   ]
  },
  {
   "cell_type": "code",
   "execution_count": 1914,
   "metadata": {},
   "outputs": [],
   "source": [
    "import matplotlib.pyplot as plt\n",
    "import plotly.express as px\n",
    "from plotly.subplots import make_subplots\n",
    "import plotly.graph_objects as go"
   ]
  },
  {
   "cell_type": "code",
   "execution_count": 1915,
   "metadata": {},
   "outputs": [
    {
     "name": "stdout",
     "output_type": "stream",
     "text": [
      "Epoch\t\tMin: 0.0312\t Max: 0.2741\n",
      "Test\t\tMin: 0.3898\t Max: 1.6786\n"
     ]
    }
   ],
   "source": [
    "print(f\"Epoch\\t\\tMin: {min(epoch_losses):.4f}\\t Max: {max(epoch_losses):.4f}\")\n",
    "print(f\"Test\\t\\tMin: {min(test_losses):.4f}\\t Max: {max(test_losses):.4f}\")"
   ]
  },
  {
   "cell_type": "code",
   "execution_count": 1916,
   "metadata": {},
   "outputs": [],
   "source": [
    "ep_data = pd.DataFrame({\"Epoch Loss\": epoch_losses})\n",
    "test_data = pd.DataFrame({\"Test Loss\": test_losses})"
   ]
  },
  {
   "cell_type": "code",
   "execution_count": 1917,
   "metadata": {},
   "outputs": [
    {
     "data": {
      "application/vnd.plotly.v1+json": {
       "config": {
        "plotlyServerURL": "https://plot.ly"
       },
       "data": [
        {
         "mode": "lines",
         "name": "Epoch Loss",
         "type": "scatter",
         "x": [
          0,
          1,
          2,
          3,
          4,
          5,
          6,
          7,
          8,
          9,
          10,
          11,
          12,
          13,
          14,
          15,
          16,
          17,
          18,
          19,
          20,
          21,
          22,
          23,
          24,
          25,
          26,
          27,
          28,
          29,
          30,
          31,
          32,
          33,
          34,
          35,
          36,
          37,
          38,
          39,
          40,
          41,
          42,
          43,
          44,
          45,
          46,
          47,
          48,
          49,
          50,
          51,
          52,
          53,
          54,
          55,
          56,
          57,
          58,
          59,
          60,
          61,
          62,
          63,
          64,
          65,
          66,
          67,
          68,
          69,
          70,
          71,
          72,
          73,
          74,
          75,
          76,
          77,
          78,
          79,
          80,
          81,
          82,
          83,
          84,
          85,
          86,
          87,
          88,
          89,
          90,
          91,
          92,
          93,
          94,
          95,
          96,
          97,
          98,
          99,
          100,
          101,
          102,
          103,
          104,
          105,
          106,
          107,
          108,
          109,
          110,
          111,
          112,
          113,
          114,
          115,
          116,
          117,
          118,
          119,
          120,
          121,
          122,
          123,
          124,
          125,
          126,
          127,
          128,
          129,
          130,
          131,
          132,
          133,
          134,
          135,
          136,
          137,
          138,
          139,
          140,
          141,
          142,
          143,
          144,
          145,
          146,
          147,
          148,
          149,
          150,
          151,
          152,
          153,
          154,
          155,
          156,
          157,
          158,
          159,
          160,
          161,
          162,
          163,
          164,
          165,
          166,
          167,
          168,
          169,
          170,
          171,
          172,
          173,
          174,
          175,
          176,
          177,
          178,
          179,
          180,
          181,
          182,
          183,
          184,
          185,
          186,
          187,
          188,
          189,
          190,
          191,
          192,
          193,
          194,
          195,
          196,
          197,
          198,
          199
         ],
         "xaxis": "x",
         "y": [
          0.2741400875696322,
          0.26784576511964564,
          0.2645215902750085,
          0.2598004195748306,
          0.2547945481974904,
          0.2498510116484107,
          0.246816089967402,
          0.24123142477942677,
          0.23661128304353574,
          0.23258820321501755,
          0.22811106319834545,
          0.2234386358319259,
          0.21837765269163179,
          0.21570984764796933,
          0.21021081979681805,
          0.20505204796791077,
          0.20119081946407877,
          0.19801072449218937,
          0.1927553786010277,
          0.18877444289079526,
          0.18319808637223592,
          0.18045563159919367,
          0.1750622478927054,
          0.17202802547594395,
          0.16568897519169784,
          0.162803029141775,
          0.15859843608809682,
          0.15540437618406808,
          0.15227740639593543,
          0.14792120820138513,
          0.14707625239360622,
          0.14020324225832775,
          0.13856644592270617,
          0.13340902337577284,
          0.12883686792196297,
          0.12480302227706444,
          0.1239132152461424,
          0.11990194676852808,
          0.1179853107144193,
          0.11415742410392296,
          0.11304812206000817,
          0.10628187365648223,
          0.10531511975497734,
          0.10204056559539423,
          0.09958206698661898,
          0.09749109279818652,
          0.09518331888972259,
          0.0919771481577943,
          0.09277822931365269,
          0.08952714157540624,
          0.08776970661994887,
          0.08621060230383058,
          0.08517759783965785,
          0.08177566282996317,
          0.08350890565936159,
          0.08370542471728674,
          0.08269643856257927,
          0.08126031412038862,
          0.07932657802977212,
          0.07751497172000932,
          0.07956993289110137,
          0.07640097817269767,
          0.07676420306287161,
          0.07759736950804548,
          0.07586697579883947,
          0.07462451643333202,
          0.07514022290706635,
          0.07506401055469746,
          0.07313043814970226,
          0.07338064127578968,
          0.07324777216446109,
          0.07324981562248091,
          0.07195057910753459,
          0.07230371836482025,
          0.07355250363669745,
          0.07149446410376852,
          0.07201208355950146,
          0.07051018861735739,
          0.06871195355566537,
          0.06919239425077671,
          0.06870471967793093,
          0.06930420438690883,
          0.06971418912090906,
          0.06802862573687624,
          0.06506751768472718,
          0.06900315350148736,
          0.06818029111841829,
          0.06915056650958411,
          0.06774343877303891,
          0.06722178600910234,
          0.0670110343433008,
          0.06617721624490691,
          0.06899128454487498,
          0.0667329299740675,
          0.06681405507573267,
          0.06592218941304742,
          0.06486215106234318,
          0.06386690932076151,
          0.06494035735362913,
          0.06452227874499995,
          0.06450348983450634,
          0.06515526017401277,
          0.062655483804098,
          0.064249385784312,
          0.06371516543554097,
          0.06069175272089679,
          0.06214885740745359,
          0.061862250562848116,
          0.06251098996982342,
          0.06469542514987109,
          0.06136178697754697,
          0.06066585713770331,
          0.060149787039291566,
          0.06064426680890525,
          0.05980817046834201,
          0.061884381785625366,
          0.060765602421469805,
          0.060679786361572216,
          0.06007815188750988,
          0.05751574166664263,
          0.060058852157941676,
          0.05671313782108993,
          0.057404632248529576,
          0.05805137262838643,
          0.05634197565477069,
          0.058343939755747955,
          0.054218599799929594,
          0.05509212240576744,
          0.056098217462621086,
          0.05563444208081176,
          0.0535451137438053,
          0.05393895425084161,
          0.05341702808694142,
          0.05264663705375136,
          0.05378968977346653,
          0.05421378054633373,
          0.053710735516577235,
          0.056157837281139884,
          0.05384189708203804,
          0.052083395239783496,
          0.05279888721500955,
          0.051291448768319155,
          0.05063671655044323,
          0.052522716634884115,
          0.0495082315784402,
          0.04900229949413276,
          0.0512507496083655,
          0.050010336971864466,
          0.04834722146028426,
          0.0494245827743193,
          0.04867621329499454,
          0.048323658908285744,
          0.048869158618333866,
          0.04691834011819304,
          0.04895431539270936,
          0.04822563111963796,
          0.04628510164414964,
          0.044965577198237905,
          0.04558183125606397,
          0.046596736987916436,
          0.04666888931902444,
          0.04487676627752257,
          0.04492586778431404,
          0.04585183357320181,
          0.04331388124605504,
          0.045568926759609364,
          0.04368263801060072,
          0.04309055163729482,
          0.04220321192973998,
          0.04226656403483414,
          0.0422949369360761,
          0.03927012224022935,
          0.04070613933045689,
          0.039773316781331856,
          0.038501077672330346,
          0.04094092402516342,
          0.040381381424461925,
          0.03952901710460826,
          0.03748026671932965,
          0.03890750938799323,
          0.03619501676137855,
          0.038046346205036816,
          0.037126060030082376,
          0.03705343077095544,
          0.035228832420415995,
          0.03637033164864633,
          0.036073539860364864,
          0.035011172203755964,
          0.03426845898715461,
          0.03467255758076179,
          0.03402552290297136,
          0.0341839710386788,
          0.03184350357368225,
          0.03427178530794818,
          0.034465506491137714,
          0.033192880860552554,
          0.031851784485142406,
          0.03274901883631218,
          0.031901723455365114,
          0.031169516920316512
         ],
         "yaxis": "y"
        },
        {
         "mode": "lines",
         "name": "Test Loss",
         "type": "scatter",
         "x": [
          0,
          1,
          2,
          3,
          4,
          5,
          6,
          7,
          8,
          9,
          10,
          11,
          12,
          13,
          14,
          15,
          16,
          17,
          18,
          19,
          20,
          21,
          22,
          23,
          24,
          25,
          26,
          27,
          28,
          29,
          30,
          31,
          32,
          33,
          34,
          35,
          36,
          37,
          38,
          39,
          40,
          41,
          42,
          43,
          44,
          45,
          46,
          47,
          48,
          49,
          50,
          51,
          52,
          53,
          54,
          55,
          56,
          57,
          58,
          59,
          60,
          61,
          62,
          63,
          64,
          65,
          66,
          67,
          68,
          69,
          70,
          71,
          72,
          73,
          74,
          75,
          76,
          77,
          78,
          79,
          80,
          81,
          82,
          83,
          84,
          85,
          86,
          87,
          88,
          89,
          90,
          91,
          92,
          93,
          94,
          95,
          96,
          97,
          98,
          99,
          100,
          101,
          102,
          103,
          104,
          105,
          106,
          107,
          108,
          109,
          110,
          111,
          112,
          113,
          114,
          115,
          116,
          117,
          118,
          119,
          120,
          121,
          122,
          123,
          124,
          125,
          126,
          127,
          128,
          129,
          130,
          131,
          132,
          133,
          134,
          135,
          136,
          137,
          138,
          139,
          140,
          141,
          142,
          143,
          144,
          145,
          146,
          147,
          148,
          149,
          150,
          151,
          152,
          153,
          154,
          155,
          156,
          157,
          158,
          159,
          160,
          161,
          162,
          163,
          164,
          165,
          166,
          167,
          168,
          169,
          170,
          171,
          172,
          173,
          174,
          175,
          176,
          177,
          178,
          179,
          180,
          181,
          182,
          183,
          184,
          185,
          186,
          187,
          188,
          189,
          190,
          191,
          192,
          193,
          194,
          195,
          196,
          197,
          198,
          199
         ],
         "xaxis": "x2",
         "y": [
          1.6785718202590942,
          1.660865306854248,
          1.6432536840438843,
          1.6264209747314453,
          1.609203815460205,
          1.5919584035873413,
          1.5746374130249023,
          1.5573062896728516,
          1.54019033908844,
          1.5229898691177368,
          1.5054121017456055,
          1.4882230758666992,
          1.4708932638168335,
          1.4533872604370117,
          1.4358525276184082,
          1.41824209690094,
          1.3996962308883667,
          1.3812440633773804,
          1.362765908241272,
          1.3442449569702148,
          1.3258343935012817,
          1.3065826892852783,
          1.286910891532898,
          1.2672884464263916,
          1.2478671073913574,
          1.2275657653808594,
          1.2075852155685425,
          1.187972903251648,
          1.1678602695465088,
          1.1480740308761597,
          1.1281095743179321,
          1.10844087600708,
          1.0886458158493042,
          1.0693124532699585,
          1.0505732297897339,
          1.032930612564087,
          1.0132169723510742,
          0.9952144622802734,
          0.9757113456726074,
          0.9565078616142273,
          0.937286376953125,
          0.9182519912719727,
          0.8994902968406677,
          0.8793144226074219,
          0.8603934645652771,
          0.8428735733032227,
          0.8254747986793518,
          0.8081507086753845,
          0.7913678288459778,
          0.7756405472755432,
          0.760434091091156,
          0.7469139099121094,
          0.7328788638114929,
          0.7200097441673279,
          0.7086547017097473,
          0.6974880695343018,
          0.6869418025016785,
          0.6774080395698547,
          0.6698686480522156,
          0.663531482219696,
          0.6571158766746521,
          0.6504378318786621,
          0.6442458033561707,
          0.635951817035675,
          0.6287574172019958,
          0.6213189959526062,
          0.6148626208305359,
          0.6107382774353027,
          0.6062294840812683,
          0.6035946011543274,
          0.6021155118942261,
          0.6003327965736389,
          0.5983412861824036,
          0.5965415239334106,
          0.5951090455055237,
          0.5907145142555237,
          0.5861864686012268,
          0.5849871635437012,
          0.5839820504188538,
          0.581993043422699,
          0.5792444348335266,
          0.5768634676933289,
          0.5731462836265564,
          0.5693157315254211,
          0.5654792189598083,
          0.5615354776382446,
          0.5596919655799866,
          0.560701310634613,
          0.562492847442627,
          0.5614690184593201,
          0.5625927448272705,
          0.5579323172569275,
          0.5547792315483093,
          0.5514996647834778,
          0.5479316115379333,
          0.5464649796485901,
          0.5439878106117249,
          0.5433585047721863,
          0.5434039235115051,
          0.5439196228981018,
          0.5433153510093689,
          0.5420069694519043,
          0.5389450192451477,
          0.537735641002655,
          0.5368104577064514,
          0.5361230969429016,
          0.5366196632385254,
          0.5365238189697266,
          0.5355517268180847,
          0.5342002511024475,
          0.5324966311454773,
          0.5314298272132874,
          0.5292195081710815,
          0.5265915393829346,
          0.5219529271125793,
          0.5189012885093689,
          0.5143823027610779,
          0.5118178725242615,
          0.5094543099403381,
          0.505963146686554,
          0.5013867020606995,
          0.4966573417186737,
          0.4939011037349701,
          0.49300506711006165,
          0.4902533292770386,
          0.48738861083984375,
          0.4866926670074463,
          0.4841247498989105,
          0.482271283864975,
          0.4808918237686157,
          0.4789840877056122,
          0.47636160254478455,
          0.4762085974216461,
          0.4746505320072174,
          0.4736920893192291,
          0.47393980622291565,
          0.47317782044410706,
          0.47301387786865234,
          0.47286197543144226,
          0.47380486130714417,
          0.47340473532676697,
          0.472634881734848,
          0.47151100635528564,
          0.47002705931663513,
          0.4690929651260376,
          0.4690019190311432,
          0.4681055545806885,
          0.4663529396057129,
          0.4620344936847687,
          0.4598667621612549,
          0.45720770955085754,
          0.45619428157806396,
          0.45688915252685547,
          0.45871803164482117,
          0.4585193395614624,
          0.4585592746734619,
          0.4575118124485016,
          0.4562254846096039,
          0.4556293487548828,
          0.4548674523830414,
          0.45260703563690186,
          0.45061051845550537,
          0.44837942719459534,
          0.44717156887054443,
          0.4460736811161041,
          0.44555988907814026,
          0.44232437014579773,
          0.43845269083976746,
          0.4345029294490814,
          0.4344504773616791,
          0.4328480660915375,
          0.4323995113372803,
          0.4322126805782318,
          0.42965468764305115,
          0.42624810338020325,
          0.4226393401622772,
          0.41952836513519287,
          0.41593828797340393,
          0.4121497571468353,
          0.41033458709716797,
          0.40850362181663513,
          0.4075438976287842,
          0.40954113006591797,
          0.40922650694847107,
          0.40747249126434326,
          0.4061649739742279,
          0.4060169458389282,
          0.40425726771354675,
          0.4020729064941406,
          0.4014216363430023,
          0.40000319480895996,
          0.39776256680488586,
          0.3955759108066559,
          0.3926112651824951,
          0.3912387788295746,
          0.39036431908607483,
          0.38979431986808777,
          0.3920358419418335,
          0.39305925369262695,
          0.3925279676914215
         ],
         "yaxis": "y2"
        }
       ],
       "layout": {
        "showlegend": true,
        "template": {
         "data": {
          "bar": [
           {
            "error_x": {
             "color": "#2a3f5f"
            },
            "error_y": {
             "color": "#2a3f5f"
            },
            "marker": {
             "line": {
              "color": "#E5ECF6",
              "width": 0.5
             },
             "pattern": {
              "fillmode": "overlay",
              "size": 10,
              "solidity": 0.2
             }
            },
            "type": "bar"
           }
          ],
          "barpolar": [
           {
            "marker": {
             "line": {
              "color": "#E5ECF6",
              "width": 0.5
             },
             "pattern": {
              "fillmode": "overlay",
              "size": 10,
              "solidity": 0.2
             }
            },
            "type": "barpolar"
           }
          ],
          "carpet": [
           {
            "aaxis": {
             "endlinecolor": "#2a3f5f",
             "gridcolor": "white",
             "linecolor": "white",
             "minorgridcolor": "white",
             "startlinecolor": "#2a3f5f"
            },
            "baxis": {
             "endlinecolor": "#2a3f5f",
             "gridcolor": "white",
             "linecolor": "white",
             "minorgridcolor": "white",
             "startlinecolor": "#2a3f5f"
            },
            "type": "carpet"
           }
          ],
          "choropleth": [
           {
            "colorbar": {
             "outlinewidth": 0,
             "ticks": ""
            },
            "type": "choropleth"
           }
          ],
          "contour": [
           {
            "colorbar": {
             "outlinewidth": 0,
             "ticks": ""
            },
            "colorscale": [
             [
              0,
              "#0d0887"
             ],
             [
              0.1111111111111111,
              "#46039f"
             ],
             [
              0.2222222222222222,
              "#7201a8"
             ],
             [
              0.3333333333333333,
              "#9c179e"
             ],
             [
              0.4444444444444444,
              "#bd3786"
             ],
             [
              0.5555555555555556,
              "#d8576b"
             ],
             [
              0.6666666666666666,
              "#ed7953"
             ],
             [
              0.7777777777777778,
              "#fb9f3a"
             ],
             [
              0.8888888888888888,
              "#fdca26"
             ],
             [
              1,
              "#f0f921"
             ]
            ],
            "type": "contour"
           }
          ],
          "contourcarpet": [
           {
            "colorbar": {
             "outlinewidth": 0,
             "ticks": ""
            },
            "type": "contourcarpet"
           }
          ],
          "heatmap": [
           {
            "colorbar": {
             "outlinewidth": 0,
             "ticks": ""
            },
            "colorscale": [
             [
              0,
              "#0d0887"
             ],
             [
              0.1111111111111111,
              "#46039f"
             ],
             [
              0.2222222222222222,
              "#7201a8"
             ],
             [
              0.3333333333333333,
              "#9c179e"
             ],
             [
              0.4444444444444444,
              "#bd3786"
             ],
             [
              0.5555555555555556,
              "#d8576b"
             ],
             [
              0.6666666666666666,
              "#ed7953"
             ],
             [
              0.7777777777777778,
              "#fb9f3a"
             ],
             [
              0.8888888888888888,
              "#fdca26"
             ],
             [
              1,
              "#f0f921"
             ]
            ],
            "type": "heatmap"
           }
          ],
          "heatmapgl": [
           {
            "colorbar": {
             "outlinewidth": 0,
             "ticks": ""
            },
            "colorscale": [
             [
              0,
              "#0d0887"
             ],
             [
              0.1111111111111111,
              "#46039f"
             ],
             [
              0.2222222222222222,
              "#7201a8"
             ],
             [
              0.3333333333333333,
              "#9c179e"
             ],
             [
              0.4444444444444444,
              "#bd3786"
             ],
             [
              0.5555555555555556,
              "#d8576b"
             ],
             [
              0.6666666666666666,
              "#ed7953"
             ],
             [
              0.7777777777777778,
              "#fb9f3a"
             ],
             [
              0.8888888888888888,
              "#fdca26"
             ],
             [
              1,
              "#f0f921"
             ]
            ],
            "type": "heatmapgl"
           }
          ],
          "histogram": [
           {
            "marker": {
             "pattern": {
              "fillmode": "overlay",
              "size": 10,
              "solidity": 0.2
             }
            },
            "type": "histogram"
           }
          ],
          "histogram2d": [
           {
            "colorbar": {
             "outlinewidth": 0,
             "ticks": ""
            },
            "colorscale": [
             [
              0,
              "#0d0887"
             ],
             [
              0.1111111111111111,
              "#46039f"
             ],
             [
              0.2222222222222222,
              "#7201a8"
             ],
             [
              0.3333333333333333,
              "#9c179e"
             ],
             [
              0.4444444444444444,
              "#bd3786"
             ],
             [
              0.5555555555555556,
              "#d8576b"
             ],
             [
              0.6666666666666666,
              "#ed7953"
             ],
             [
              0.7777777777777778,
              "#fb9f3a"
             ],
             [
              0.8888888888888888,
              "#fdca26"
             ],
             [
              1,
              "#f0f921"
             ]
            ],
            "type": "histogram2d"
           }
          ],
          "histogram2dcontour": [
           {
            "colorbar": {
             "outlinewidth": 0,
             "ticks": ""
            },
            "colorscale": [
             [
              0,
              "#0d0887"
             ],
             [
              0.1111111111111111,
              "#46039f"
             ],
             [
              0.2222222222222222,
              "#7201a8"
             ],
             [
              0.3333333333333333,
              "#9c179e"
             ],
             [
              0.4444444444444444,
              "#bd3786"
             ],
             [
              0.5555555555555556,
              "#d8576b"
             ],
             [
              0.6666666666666666,
              "#ed7953"
             ],
             [
              0.7777777777777778,
              "#fb9f3a"
             ],
             [
              0.8888888888888888,
              "#fdca26"
             ],
             [
              1,
              "#f0f921"
             ]
            ],
            "type": "histogram2dcontour"
           }
          ],
          "mesh3d": [
           {
            "colorbar": {
             "outlinewidth": 0,
             "ticks": ""
            },
            "type": "mesh3d"
           }
          ],
          "parcoords": [
           {
            "line": {
             "colorbar": {
              "outlinewidth": 0,
              "ticks": ""
             }
            },
            "type": "parcoords"
           }
          ],
          "pie": [
           {
            "automargin": true,
            "type": "pie"
           }
          ],
          "scatter": [
           {
            "fillpattern": {
             "fillmode": "overlay",
             "size": 10,
             "solidity": 0.2
            },
            "type": "scatter"
           }
          ],
          "scatter3d": [
           {
            "line": {
             "colorbar": {
              "outlinewidth": 0,
              "ticks": ""
             }
            },
            "marker": {
             "colorbar": {
              "outlinewidth": 0,
              "ticks": ""
             }
            },
            "type": "scatter3d"
           }
          ],
          "scattercarpet": [
           {
            "marker": {
             "colorbar": {
              "outlinewidth": 0,
              "ticks": ""
             }
            },
            "type": "scattercarpet"
           }
          ],
          "scattergeo": [
           {
            "marker": {
             "colorbar": {
              "outlinewidth": 0,
              "ticks": ""
             }
            },
            "type": "scattergeo"
           }
          ],
          "scattergl": [
           {
            "marker": {
             "colorbar": {
              "outlinewidth": 0,
              "ticks": ""
             }
            },
            "type": "scattergl"
           }
          ],
          "scattermapbox": [
           {
            "marker": {
             "colorbar": {
              "outlinewidth": 0,
              "ticks": ""
             }
            },
            "type": "scattermapbox"
           }
          ],
          "scatterpolar": [
           {
            "marker": {
             "colorbar": {
              "outlinewidth": 0,
              "ticks": ""
             }
            },
            "type": "scatterpolar"
           }
          ],
          "scatterpolargl": [
           {
            "marker": {
             "colorbar": {
              "outlinewidth": 0,
              "ticks": ""
             }
            },
            "type": "scatterpolargl"
           }
          ],
          "scatterternary": [
           {
            "marker": {
             "colorbar": {
              "outlinewidth": 0,
              "ticks": ""
             }
            },
            "type": "scatterternary"
           }
          ],
          "surface": [
           {
            "colorbar": {
             "outlinewidth": 0,
             "ticks": ""
            },
            "colorscale": [
             [
              0,
              "#0d0887"
             ],
             [
              0.1111111111111111,
              "#46039f"
             ],
             [
              0.2222222222222222,
              "#7201a8"
             ],
             [
              0.3333333333333333,
              "#9c179e"
             ],
             [
              0.4444444444444444,
              "#bd3786"
             ],
             [
              0.5555555555555556,
              "#d8576b"
             ],
             [
              0.6666666666666666,
              "#ed7953"
             ],
             [
              0.7777777777777778,
              "#fb9f3a"
             ],
             [
              0.8888888888888888,
              "#fdca26"
             ],
             [
              1,
              "#f0f921"
             ]
            ],
            "type": "surface"
           }
          ],
          "table": [
           {
            "cells": {
             "fill": {
              "color": "#EBF0F8"
             },
             "line": {
              "color": "white"
             }
            },
            "header": {
             "fill": {
              "color": "#C8D4E3"
             },
             "line": {
              "color": "white"
             }
            },
            "type": "table"
           }
          ]
         },
         "layout": {
          "annotationdefaults": {
           "arrowcolor": "#2a3f5f",
           "arrowhead": 0,
           "arrowwidth": 1
          },
          "autotypenumbers": "strict",
          "coloraxis": {
           "colorbar": {
            "outlinewidth": 0,
            "ticks": ""
           }
          },
          "colorscale": {
           "diverging": [
            [
             0,
             "#8e0152"
            ],
            [
             0.1,
             "#c51b7d"
            ],
            [
             0.2,
             "#de77ae"
            ],
            [
             0.3,
             "#f1b6da"
            ],
            [
             0.4,
             "#fde0ef"
            ],
            [
             0.5,
             "#f7f7f7"
            ],
            [
             0.6,
             "#e6f5d0"
            ],
            [
             0.7,
             "#b8e186"
            ],
            [
             0.8,
             "#7fbc41"
            ],
            [
             0.9,
             "#4d9221"
            ],
            [
             1,
             "#276419"
            ]
           ],
           "sequential": [
            [
             0,
             "#0d0887"
            ],
            [
             0.1111111111111111,
             "#46039f"
            ],
            [
             0.2222222222222222,
             "#7201a8"
            ],
            [
             0.3333333333333333,
             "#9c179e"
            ],
            [
             0.4444444444444444,
             "#bd3786"
            ],
            [
             0.5555555555555556,
             "#d8576b"
            ],
            [
             0.6666666666666666,
             "#ed7953"
            ],
            [
             0.7777777777777778,
             "#fb9f3a"
            ],
            [
             0.8888888888888888,
             "#fdca26"
            ],
            [
             1,
             "#f0f921"
            ]
           ],
           "sequentialminus": [
            [
             0,
             "#0d0887"
            ],
            [
             0.1111111111111111,
             "#46039f"
            ],
            [
             0.2222222222222222,
             "#7201a8"
            ],
            [
             0.3333333333333333,
             "#9c179e"
            ],
            [
             0.4444444444444444,
             "#bd3786"
            ],
            [
             0.5555555555555556,
             "#d8576b"
            ],
            [
             0.6666666666666666,
             "#ed7953"
            ],
            [
             0.7777777777777778,
             "#fb9f3a"
            ],
            [
             0.8888888888888888,
             "#fdca26"
            ],
            [
             1,
             "#f0f921"
            ]
           ]
          },
          "colorway": [
           "#636efa",
           "#EF553B",
           "#00cc96",
           "#ab63fa",
           "#FFA15A",
           "#19d3f3",
           "#FF6692",
           "#B6E880",
           "#FF97FF",
           "#FECB52"
          ],
          "font": {
           "color": "#2a3f5f"
          },
          "geo": {
           "bgcolor": "white",
           "lakecolor": "white",
           "landcolor": "#E5ECF6",
           "showlakes": true,
           "showland": true,
           "subunitcolor": "white"
          },
          "hoverlabel": {
           "align": "left"
          },
          "hovermode": "closest",
          "mapbox": {
           "style": "light"
          },
          "paper_bgcolor": "white",
          "plot_bgcolor": "#E5ECF6",
          "polar": {
           "angularaxis": {
            "gridcolor": "white",
            "linecolor": "white",
            "ticks": ""
           },
           "bgcolor": "#E5ECF6",
           "radialaxis": {
            "gridcolor": "white",
            "linecolor": "white",
            "ticks": ""
           }
          },
          "scene": {
           "xaxis": {
            "backgroundcolor": "#E5ECF6",
            "gridcolor": "white",
            "gridwidth": 2,
            "linecolor": "white",
            "showbackground": true,
            "ticks": "",
            "zerolinecolor": "white"
           },
           "yaxis": {
            "backgroundcolor": "#E5ECF6",
            "gridcolor": "white",
            "gridwidth": 2,
            "linecolor": "white",
            "showbackground": true,
            "ticks": "",
            "zerolinecolor": "white"
           },
           "zaxis": {
            "backgroundcolor": "#E5ECF6",
            "gridcolor": "white",
            "gridwidth": 2,
            "linecolor": "white",
            "showbackground": true,
            "ticks": "",
            "zerolinecolor": "white"
           }
          },
          "shapedefaults": {
           "line": {
            "color": "#2a3f5f"
           }
          },
          "ternary": {
           "aaxis": {
            "gridcolor": "white",
            "linecolor": "white",
            "ticks": ""
           },
           "baxis": {
            "gridcolor": "white",
            "linecolor": "white",
            "ticks": ""
           },
           "bgcolor": "#E5ECF6",
           "caxis": {
            "gridcolor": "white",
            "linecolor": "white",
            "ticks": ""
           }
          },
          "title": {
           "x": 0.05
          },
          "xaxis": {
           "automargin": true,
           "gridcolor": "white",
           "linecolor": "white",
           "ticks": "",
           "title": {
            "standoff": 15
           },
           "zerolinecolor": "white",
           "zerolinewidth": 2
          },
          "yaxis": {
           "automargin": true,
           "gridcolor": "white",
           "linecolor": "white",
           "ticks": "",
           "title": {
            "standoff": 15
           },
           "zerolinecolor": "white",
           "zerolinewidth": 2
          }
         }
        },
        "title": {
         "font": {
          "size": 25,
          "weight": "bold"
         },
         "text": "Loss over Epoch",
         "x": 0.5
        },
        "xaxis": {
         "anchor": "y",
         "domain": [
          0,
          0.45
         ],
         "title": {
          "text": "Epoch"
         }
        },
        "xaxis2": {
         "anchor": "y2",
         "domain": [
          0.55,
          1
         ],
         "title": {
          "text": "Epoch"
         }
        },
        "yaxis": {
         "anchor": "x",
         "domain": [
          0,
          1
         ],
         "title": {
          "text": "Epoch Loss"
         }
        },
        "yaxis2": {
         "anchor": "x2",
         "domain": [
          0,
          1
         ],
         "title": {
          "text": "Test Loss"
         }
        }
       }
      }
     },
     "metadata": {},
     "output_type": "display_data"
    }
   ],
   "source": [
    "# Create a subplot with 1 row and 2 columns\n",
    "fig = make_subplots(rows=1, cols=2)\n",
    "\n",
    "# Add the line chart to both subplots\n",
    "fig.add_trace(\n",
    "    go.Scatter(x=ep_data.index, y=ep_data[\"Epoch Loss\"], mode=\"lines\", name=\"Epoch Loss\"),\n",
    "    row=1,\n",
    "    col=1,\n",
    ")\n",
    "fig.add_trace(\n",
    "    go.Scatter(x=test_data.index, y=test_data[\"Test Loss\"], mode=\"lines\", name=\"Test Loss\"),\n",
    "    row=1,\n",
    "    col=2,\n",
    ")\n",
    "\n",
    "# Update axis labels\n",
    "fig.update_xaxes(title_text=\"Epoch\", row=1, col=1)\n",
    "fig.update_xaxes(title_text=\"Epoch\", row=1, col=2)\n",
    "fig.update_yaxes(title_text=\"Epoch Loss\", row=1, col=1)\n",
    "fig.update_yaxes(title_text=\"Test Loss\", row=1, col=2)\n",
    "\n",
    "# Set subplot layout\n",
    "fig.update_layout(title=\"Loss over Epoch\", title_x=0.5,title_font=dict(size=25, weight='bold'), showlegend=True)\n",
    "\n",
    "# Show the plot\n",
    "fig.show()"
   ]
  },
  {
   "cell_type": "code",
   "execution_count": 1918,
   "metadata": {},
   "outputs": [
    {
     "data": {
      "image/png": "[encoded data removed]",
      "text/plain": [
       "<Figure size 1000x300 with 2 Axes>"
      ]
     },
     "metadata": {},
     "output_type": "display_data"
    }
   ],
   "source": [
    "# Plot training & validation loss values\n",
    "plt.figure(figsize=(10, 3))\n",
    "plt.suptitle(\"Loss over the Epoch\")\n",
    "\n",
    "plt.subplot(1, 2, 1)\n",
    "plt.plot(np.array(epoch_losses), color=\"r\")\n",
    "plt.ylabel(\"Epoch Loss\")\n",
    "plt.xlabel(\"Epoch\")\n",
    "plt.legend([\"Epoch Loss\"], loc=\"upper right\")\n",
    "plt.grid(True)\n",
    "\n",
    "plt.subplot(1, 2, 2)\n",
    "plt.plot(np.array(test_losses), color=\"g\")\n",
    "plt.ylabel(\"Test Loss\")\n",
    "plt.xlabel(\"Epoch\")\n",
    "plt.legend([\"Test Loss\"], loc=\"upper right\")\n",
    "plt.grid(True)\n",
    "\n",
    "plt.show()"
   ]
  },
  {
   "cell_type": "markdown",
   "metadata": {},
   "source": [
    "#### Step 4: Evaluation"
   ]
  },
  {
   "cell_type": "code",
   "execution_count": 1919,
   "metadata": {},
   "outputs": [
    {
     "name": "stdout",
     "output_type": "stream",
     "text": [
      "Device: cpu\n"
     ]
    }
   ],
   "source": [
    "# Check if a GPU is available and set the device accordingly\n",
    "device = torch.device(\"cuda\" if torch.cuda.is_available() else \"cpu\")\n",
    "print(f\"Device: {device}\")"
   ]
  },
  {
   "cell_type": "code",
   "execution_count": 1920,
   "metadata": {},
   "outputs": [],
   "source": [
    "# Step 1: Define the device (GPU or CPU)\n",
    "device = torch.device(\"cuda\" if torch.cuda.is_available() else \"cpu\")\n",
    "\n",
    "# Step 2: Convert your data to tensors and move them to the device\n",
    "X_test_tensor = torch.Tensor(X_test).to(device)\n",
    "y_test_tensor = torch.Tensor(y_test).to(device)\n",
    "\n",
    "# Move the model to the device if not already done\n",
    "model = model.to(device)"
   ]
  },
  {
   "cell_type": "code",
   "execution_count": 1921,
   "metadata": {},
   "outputs": [
    {
     "data": {
      "text/plain": [
       "LSTMModel(\n",
       "  (lstm): LSTM(5, 50, num_layers=2, batch_first=True, dropout=0.2)\n",
       "  (fc): Linear(in_features=50, out_features=1, bias=True)\n",
       ")"
      ]
     },
     "execution_count": 1921,
     "metadata": {},
     "output_type": "execute_result"
    }
   ],
   "source": [
    "# Set the model to evaluation mode\n",
    "model.eval()"
   ]
  },
  {
   "cell_type": "code",
   "execution_count": 1922,
   "metadata": {},
   "outputs": [
    {
     "name": "stdout",
     "output_type": "stream",
     "text": [
      "Test Loss: 0.3925\n"
     ]
    }
   ],
   "source": [
    "# Step 3: Generate predictions and compute the loss on the test data\n",
    "with torch.no_grad():  # Disable gradient calculation for evaluation\n",
    "    # Forward pass: get predictions\n",
    "    predictions = model(X_test_tensor)\n",
    "\n",
    "    # If predictions are multi-dimensional, make sure to match the output\n",
    "    predictions = predictions.squeeze()\n",
    "\n",
    "    # Calculate loss (assuming you're using Mean Squared Error)\n",
    "    criterion = torch.nn.MSELoss()\n",
    "    loss = criterion(predictions, y_test_tensor)\n",
    "\n",
    "    print(f\"Test Loss: {loss.item():.4f}\")"
   ]
  },
  {
   "cell_type": "code",
   "execution_count": 1927,
   "metadata": {},
   "outputs": [
    {
     "name": "stdout",
     "output_type": "stream",
     "text": [
      "[0.7587562 0.7556482 0.7480398 0.7442792 0.7167873 0.7104947]\n",
      "[1.3070358 1.3611301 1.3558723 1.13315   1.3617148 1.5772915]\n"
     ]
    }
   ],
   "source": [
    "# Step 4: Convert predictions and actual values back to CPU and NumPy for comparison\n",
    "predictions_cpu = predictions.cpu().numpy()\n",
    "y_test_cpu = y_test_tensor.cpu().numpy()\n",
    "\n",
    "print(predictions_cpu)\n",
    "print(y_test_cpu)"
   ]
  },
  {
   "cell_type": "code",
   "execution_count": 1924,
   "metadata": {},
   "outputs": [
    {
     "data": {
      "image/png": "[encoded data removed]",
      "text/plain": [
       "<Figure size 800x400 with 1 Axes>"
      ]
     },
     "metadata": {},
     "output_type": "display_data"
    }
   ],
   "source": [
    "# Step 5: Optionally, you can print or plot the actual vs. predicted values\n",
    "import matplotlib.pyplot as plt\n",
    "\n",
    "plt.figure(figsize=(8, 4))\n",
    "plt.plot(y_test_cpu, label=\"Actual\")\n",
    "plt.plot(predictions_cpu, label=\"Predicted\", linestyle=\"--\")\n",
    "plt.title(\"Actual vs Predicted Values\")\n",
    "plt.xlabel(\"Sample Index\")\n",
    "plt.ylabel(\"Value\")\n",
    "plt.legend()\n",
    "plt.grid(True)\n",
    "plt.show()"
   ]
  },
  {
   "cell_type": "code",
   "execution_count": 1925,
   "metadata": {},
   "outputs": [
    {
     "name": "stdout",
     "output_type": "stream",
     "text": [
      "Test Loss: 0.3925\n"
     ]
    }
   ],
   "source": [
    "model.eval()\n",
    "with torch.no_grad():\n",
    "    test_outputs = model(X_test_tensor)\n",
    "    test_loss = criterion(test_outputs.squeeze(), y_test_tensor)\n",
    "    print(f\"Test Loss: {test_loss.item():.4f}\")"
   ]
  }
 ],
 "metadata": {
  "kernelspec": {
   "display_name": "venv",
   "language": "python",
   "name": "python3"
  },
  "language_info": {
   "codemirror_mode": {
    "name": "ipython",
    "version": 3
   },
   "file_extension": ".py",
   "mimetype": "text/x-python",
   "name": "python",
   "nbconvert_exporter": "python",
   "pygments_lexer": "ipython3",
   "version": "3.12.1"
  }
 },
 "nbformat": 4,
 "nbformat_minor": 2
}
