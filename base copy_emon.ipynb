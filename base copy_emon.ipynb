{
 "cells": [
  {
   "cell_type": "markdown",
   "metadata": {},
   "source": [
    "## Data Preprocessing"
   ]
  },
  {
   "cell_type": "code",
   "execution_count": 1205,
   "metadata": {},
   "outputs": [],
   "source": [
    "import numpy as np\n",
    "import pandas as pd"
   ]
  },
  {
   "cell_type": "code",
   "execution_count": 1206,
   "metadata": {},
   "outputs": [],
   "source": [
    "# Power load dataset\n",
    "load_dataset = pd.read_csv(\"data/load_data_clean.csv\")\n",
    "# Meterological dataset\n",
    "met_dataset = pd.read_csv(\"data/met_data_clean.csv\")"
   ]
  },
  {
   "cell_type": "code",
   "execution_count": 1207,
   "metadata": {},
   "outputs": [],
   "source": [
    "load_df = pd.DataFrame(load_dataset)\n",
    "met_df = pd.DataFrame(met_dataset)"
   ]
  },
  {
   "cell_type": "code",
   "execution_count": 1208,
   "metadata": {},
   "outputs": [],
   "source": [
    "load_df[\"DATE (MM/DD/YYYY)\"] = pd.to_datetime(\n",
    "    load_df[\"DATE (MM/DD/YYYY)\"], format=\"%m/%d/%Y\"\n",
    ")\n",
    "\n",
    "met_df[\"DATE (MM/DD/YYYY)\"] = pd.to_datetime(\n",
    "    met_df[\"DATE (MM/DD/YYYY)\"], format=\"%m/%d/%Y\"\n",
    ")"
   ]
  },
  {
   "cell_type": "code",
   "execution_count": 1209,
   "metadata": {},
   "outputs": [
    {
     "data": {
      "text/html": [
       "<div>\n",
       "<style scoped>\n",
       "    .dataframe tbody tr th:only-of-type {\n",
       "        vertical-align: middle;\n",
       "    }\n",
       "\n",
       "    .dataframe tbody tr th {\n",
       "        vertical-align: top;\n",
       "    }\n",
       "\n",
       "    .dataframe thead th {\n",
       "        text-align: right;\n",
       "    }\n",
       "</style>\n",
       "<table border=\"1\" class=\"dataframe\">\n",
       "  <thead>\n",
       "    <tr style=\"text-align: right;\">\n",
       "      <th></th>\n",
       "      <th>DATE (MM/DD/YYYY)</th>\n",
       "      <th>KW</th>\n",
       "      <th>KWS</th>\n",
       "      <th>CHWTON</th>\n",
       "      <th>HTmmBTU</th>\n",
       "      <th>Combined mmBTU</th>\n",
       "      <th>Combined Tons Carbon</th>\n",
       "      <th>KW#Houses</th>\n",
       "      <th>KWlightbulbs</th>\n",
       "      <th>KWgalsgas</th>\n",
       "      <th>...</th>\n",
       "      <th>CHWTONlightbulbs</th>\n",
       "      <th>CHWTONgalsgas</th>\n",
       "      <th>HTmmBTU#Houses</th>\n",
       "      <th>HTmmBTUlightbulbs</th>\n",
       "      <th>HTmmBTUgalsgas</th>\n",
       "      <th>Total#Houses</th>\n",
       "      <th>Totallightbulbs</th>\n",
       "      <th>Totalgalsgas</th>\n",
       "      <th>GHG</th>\n",
       "      <th>DOW</th>\n",
       "    </tr>\n",
       "  </thead>\n",
       "  <tbody>\n",
       "    <tr>\n",
       "      <th>0</th>\n",
       "      <td>2024-05-01</td>\n",
       "      <td>351973.45</td>\n",
       "      <td>39367.64</td>\n",
       "      <td>117009.06</td>\n",
       "      <td>115.27</td>\n",
       "      <td>2720.37</td>\n",
       "      <td>497.21</td>\n",
       "      <td>100564</td>\n",
       "      <td>25140971</td>\n",
       "      <td>9608</td>\n",
       "      <td>...</td>\n",
       "      <td>29385656</td>\n",
       "      <td>11233</td>\n",
       "      <td>9652</td>\n",
       "      <td>2412510</td>\n",
       "      <td>922</td>\n",
       "      <td>227789</td>\n",
       "      <td>56939137</td>\n",
       "      <td>969870</td>\n",
       "      <td>169.754</td>\n",
       "      <td>4</td>\n",
       "    </tr>\n",
       "    <tr>\n",
       "      <th>1</th>\n",
       "      <td>2024-05-02</td>\n",
       "      <td>353826.38</td>\n",
       "      <td>39144.04</td>\n",
       "      <td>119220.71</td>\n",
       "      <td>115.03</td>\n",
       "      <td>2752.99</td>\n",
       "      <td>503.17</td>\n",
       "      <td>101093</td>\n",
       "      <td>25273323</td>\n",
       "      <td>9658</td>\n",
       "      <td>...</td>\n",
       "      <td>29941089</td>\n",
       "      <td>11445</td>\n",
       "      <td>9632</td>\n",
       "      <td>2407457</td>\n",
       "      <td>920</td>\n",
       "      <td>230520</td>\n",
       "      <td>57621868</td>\n",
       "      <td>987740</td>\n",
       "      <td>170.867</td>\n",
       "      <td>5</td>\n",
       "    </tr>\n",
       "    <tr>\n",
       "      <th>2</th>\n",
       "      <td>2024-05-03</td>\n",
       "      <td>357657.88</td>\n",
       "      <td>38935.34</td>\n",
       "      <td>123171.43</td>\n",
       "      <td>109.79</td>\n",
       "      <td>2808.22</td>\n",
       "      <td>513.27</td>\n",
       "      <td>102188</td>\n",
       "      <td>25547001</td>\n",
       "      <td>9763</td>\n",
       "      <td>...</td>\n",
       "      <td>30933274</td>\n",
       "      <td>11824</td>\n",
       "      <td>9193</td>\n",
       "      <td>2297666</td>\n",
       "      <td>878</td>\n",
       "      <td>235145</td>\n",
       "      <td>58777940</td>\n",
       "      <td>1019713</td>\n",
       "      <td>173.062</td>\n",
       "      <td>6</td>\n",
       "    </tr>\n",
       "    <tr>\n",
       "      <th>3</th>\n",
       "      <td>2024-05-04</td>\n",
       "      <td>363958.25</td>\n",
       "      <td>38676.54</td>\n",
       "      <td>118279.24</td>\n",
       "      <td>108.33</td>\n",
       "      <td>2769.56</td>\n",
       "      <td>506.20</td>\n",
       "      <td>103988</td>\n",
       "      <td>25997028</td>\n",
       "      <td>9935</td>\n",
       "      <td>...</td>\n",
       "      <td>29704649</td>\n",
       "      <td>11355</td>\n",
       "      <td>9071</td>\n",
       "      <td>2267263</td>\n",
       "      <td>867</td>\n",
       "      <td>231908</td>\n",
       "      <td>57968940</td>\n",
       "      <td>981181</td>\n",
       "      <td>176.630</td>\n",
       "      <td>7</td>\n",
       "    </tr>\n",
       "    <tr>\n",
       "      <th>4</th>\n",
       "      <td>2024-05-05</td>\n",
       "      <td>320144.95</td>\n",
       "      <td>33341.16</td>\n",
       "      <td>106070.52</td>\n",
       "      <td>108.39</td>\n",
       "      <td>2473.62</td>\n",
       "      <td>452.11</td>\n",
       "      <td>91470</td>\n",
       "      <td>22867506</td>\n",
       "      <td>8739</td>\n",
       "      <td>...</td>\n",
       "      <td>26638552</td>\n",
       "      <td>10183</td>\n",
       "      <td>9076</td>\n",
       "      <td>2268428</td>\n",
       "      <td>867</td>\n",
       "      <td>207127</td>\n",
       "      <td>51774485</td>\n",
       "      <td>879305</td>\n",
       "      <td>155.741</td>\n",
       "      <td>1</td>\n",
       "    </tr>\n",
       "  </tbody>\n",
       "</table>\n",
       "<p>5 rows × 21 columns</p>\n",
       "</div>"
      ],
      "text/plain": [
       "  DATE (MM/DD/YYYY)         KW       KWS     CHWTON  HTmmBTU  Combined mmBTU  \\\n",
       "0        2024-05-01  351973.45  39367.64  117009.06   115.27         2720.37   \n",
       "1        2024-05-02  353826.38  39144.04  119220.71   115.03         2752.99   \n",
       "2        2024-05-03  357657.88  38935.34  123171.43   109.79         2808.22   \n",
       "3        2024-05-04  363958.25  38676.54  118279.24   108.33         2769.56   \n",
       "4        2024-05-05  320144.95  33341.16  106070.52   108.39         2473.62   \n",
       "\n",
       "   Combined Tons Carbon  KW#Houses  KWlightbulbs  KWgalsgas  ...  \\\n",
       "0                497.21     100564      25140971       9608  ...   \n",
       "1                503.17     101093      25273323       9658  ...   \n",
       "2                513.27     102188      25547001       9763  ...   \n",
       "3                506.20     103988      25997028       9935  ...   \n",
       "4                452.11      91470      22867506       8739  ...   \n",
       "\n",
       "   CHWTONlightbulbs  CHWTONgalsgas  HTmmBTU#Houses  HTmmBTUlightbulbs  \\\n",
       "0          29385656          11233            9652            2412510   \n",
       "1          29941089          11445            9632            2407457   \n",
       "2          30933274          11824            9193            2297666   \n",
       "3          29704649          11355            9071            2267263   \n",
       "4          26638552          10183            9076            2268428   \n",
       "\n",
       "   HTmmBTUgalsgas  Total#Houses  Totallightbulbs  Totalgalsgas      GHG  DOW  \n",
       "0             922        227789         56939137        969870  169.754    4  \n",
       "1             920        230520         57621868        987740  170.867    5  \n",
       "2             878        235145         58777940       1019713  173.062    6  \n",
       "3             867        231908         57968940        981181  176.630    7  \n",
       "4             867        207127         51774485        879305  155.741    1  \n",
       "\n",
       "[5 rows x 21 columns]"
      ]
     },
     "execution_count": 1209,
     "metadata": {},
     "output_type": "execute_result"
    }
   ],
   "source": [
    "load_df.head()"
   ]
  },
  {
   "cell_type": "markdown",
   "metadata": {},
   "source": [
    "Here is an explanation of each data column of load dataset:\n",
    "\n",
    "1. **DATE (MM/DD/YYYY):**\n",
    "   - **Description:** The date in the format Month/Day/Year.\n",
    "   - **Example:** `05/01/2024` represents May 1, 2024.\n",
    "\n",
    "2. **KW:**\n",
    "   - **Description:** The total kilowatt (KW) power consumption for the day.\n",
    "   - **Example:** `351973.45` KW represents the total power consumption on the given day.\n",
    "\n",
    "3. **KWS:**\n",
    "   - **Description:** The total power consumption in kilowatt-hours (KWH).\n",
    "   - **Example:** `39367.64` KWS represents the total power consumption in KWH.\n",
    "\n",
    "4. **CHWTON:**\n",
    "   - **Description:** The total cooling energy consumption in cooling tons.\n",
    "   - **Example:** `117009.06` CHWTON represents the cooling energy consumption.\n",
    "\n",
    "5. **HTmmBTU:**\n",
    "   - **Description:** The total heating energy consumption in million British thermal units (mmBTU).\n",
    "   - **Example:** `115.27` HTmmBTU represents the heating energy consumption.\n",
    "\n",
    "6. **Combined mmBTU:**\n",
    "   - **Description:** The combined energy consumption (cooling and heating) in million British thermal units (mmBTU).\n",
    "   - **Example:** `2720.37` Combined mmBTU represents the combined energy consumption.\n",
    "\n",
    "7. **Combined Tons Carbon:**\n",
    "   - **Description:** The combined carbon emissions in tons.\n",
    "   - **Example:** `497.21` Combined Tons Carbon represents the total carbon emissions.\n",
    "\n",
    "8. **KW#Houses:**\n",
    "   - **Description:** The equivalent number of houses that the KW consumption can power.\n",
    "   - **Example:** `100564` houses can be powered by the KW consumption.\n",
    "\n",
    "9. **KWlightbulbs:**\n",
    "   - **Description:** The equivalent number of lightbulbs that the KW consumption can power.\n",
    "   - **Example:** `25140971` lightbulbs can be powered by the KW consumption.\n",
    "\n",
    "10. **KWgalsgas:**\n",
    "    - **Description:** The equivalent number of gallons of gasoline that the KW consumption can power.\n",
    "    - **Example:** `9608` gallons of gasoline can be powered by the KW consumption.\n",
    "\n",
    "11. **CHWTON#Houses:**\n",
    "    - **Description:** The equivalent number of houses that the cooling energy (CHWTON) consumption can power.\n",
    "    - **Example:** `117572` houses can be powered by the cooling energy consumption.\n",
    "\n",
    "12. **CHWTONlightbulbs:**\n",
    "    - **Description:** The equivalent number of lightbulbs that the cooling energy (CHWTON) consumption can power.\n",
    "    - **Example:** `29385656` lightbulbs can be powered by the cooling energy consumption.\n",
    "\n",
    "13. **CHWTONgalsgas:**\n",
    "    - **Description:** The equivalent number of gallons of gasoline that the cooling energy (CHWTON) consumption can power.\n",
    "    - **Example:** `11233` gallons of gasoline can be powered by the cooling energy consumption.\n",
    "\n",
    "14. **HTmmBTU#Houses:**\n",
    "    - **Description:** The equivalent number of houses that the heating energy (HTmmBTU) consumption can power.\n",
    "    - **Example:** `9652` houses can be powered by the heating energy consumption.\n",
    "\n",
    "15. **HTmmBTUlightbulbs:**\n",
    "    - **Description:** The equivalent number of lightbulbs that the heating energy (HTmmBTU) consumption can power.\n",
    "    - **Example:** `2412510` lightbulbs can be powered by the heating energy consumption.\n",
    "\n",
    "16. **HTmmBTUgalsgas:**\n",
    "    - **Description:** The equivalent number of gallons of gasoline that the heating energy (HTmmBTU) consumption can power.\n",
    "    - **Example:** `922` gallons of gasoline can be powered by the heating energy consumption.\n",
    "\n",
    "17. **Total#Houses:**\n",
    "    - **Description:** The total equivalent number of houses that the combined energy consumption can power.\n",
    "    - **Example:** `227789` houses can be powered by the combined energy consumption.\n",
    "\n",
    "18. **Totallightbulbs:**\n",
    "    - **Description:** The total equivalent number of lightbulbs that the combined energy consumption can power.\n",
    "    - **Example:** `56939137` lightbulbs can be powered by the combined energy consumption.\n",
    "\n",
    "19. **Totalgalsgas:**\n",
    "    - **Description:** The total equivalent number of gallons of gasoline that the combined energy consumption can power.\n",
    "    - **Example:** `969870` gallons of gasoline can be powered by the combined energy consumption.\n",
    "\n",
    "20. **GHG:**\n",
    "    - **Description:** Greenhouse gas emissions.\n",
    "    - **Example:** `169.754` represents the greenhouse gas emissions.\n",
    "\n",
    "21. **DOW:**\n",
    "    - **Description:** Day of the week, where 1 represents Monday, 2 represents Tuesday, etc.\n",
    "    - **Example:** `4` represents Thursday."
   ]
  },
  {
   "cell_type": "code",
   "execution_count": 1210,
   "metadata": {},
   "outputs": [
    {
     "data": {
      "text/html": [
       "<div>\n",
       "<style scoped>\n",
       "    .dataframe tbody tr th:only-of-type {\n",
       "        vertical-align: middle;\n",
       "    }\n",
       "\n",
       "    .dataframe tbody tr th {\n",
       "        vertical-align: top;\n",
       "    }\n",
       "\n",
       "    .dataframe thead th {\n",
       "        text-align: right;\n",
       "    }\n",
       "</style>\n",
       "<table border=\"1\" class=\"dataframe\">\n",
       "  <thead>\n",
       "    <tr style=\"text-align: right;\">\n",
       "      <th></th>\n",
       "      <th>DATE (MM/DD/YYYY)</th>\n",
       "      <th>AVG Air Temperature [deg F]</th>\n",
       "      <th>MAX Air Temperature [deg F]</th>\n",
       "      <th>MIN Air Temperature [deg F]</th>\n",
       "      <th>AVG Rel Humidity [%]</th>\n",
       "      <th>MAX Rel Humidity [%]</th>\n",
       "      <th>MIN Rel Humidity [%]</th>\n",
       "      <th>AVG Avg Wind Speed @ 3m [MPH]</th>\n",
       "      <th>MAX Avg Wind Speed @ 3m [MPH]</th>\n",
       "      <th>MIN Avg Wind Speed @ 3m [MPH]</th>\n",
       "      <th>AVG Peak Wind Speed @ 3m [MPH]</th>\n",
       "      <th>MAX Peak Wind Speed @ 3m [MPH]</th>\n",
       "      <th>MIN Peak Wind Speed @ 3m [MPH]</th>\n",
       "      <th>AVG Station Pressure [inHg]</th>\n",
       "      <th>MAX Station Pressure [inHg]</th>\n",
       "      <th>MIN Station Pressure [inHg]</th>\n",
       "    </tr>\n",
       "  </thead>\n",
       "  <tbody>\n",
       "    <tr>\n",
       "      <th>0</th>\n",
       "      <td>2024-05-01</td>\n",
       "      <td>76.2268</td>\n",
       "      <td>87.494</td>\n",
       "      <td>61.322</td>\n",
       "      <td>19.3349</td>\n",
       "      <td>34.09</td>\n",
       "      <td>8.040</td>\n",
       "      <td>7.5972</td>\n",
       "      <td>24.4721</td>\n",
       "      <td>0.0</td>\n",
       "      <td>11.1715</td>\n",
       "      <td>30.6460</td>\n",
       "      <td>0.0</td>\n",
       "      <td>27.2098</td>\n",
       "      <td>27.2561</td>\n",
       "      <td>27.1436</td>\n",
       "    </tr>\n",
       "    <tr>\n",
       "      <th>1</th>\n",
       "      <td>2024-05-02</td>\n",
       "      <td>76.1305</td>\n",
       "      <td>89.690</td>\n",
       "      <td>60.836</td>\n",
       "      <td>18.6194</td>\n",
       "      <td>36.39</td>\n",
       "      <td>6.938</td>\n",
       "      <td>5.1366</td>\n",
       "      <td>22.8839</td>\n",
       "      <td>0.0</td>\n",
       "      <td>8.0311</td>\n",
       "      <td>27.2906</td>\n",
       "      <td>0.0</td>\n",
       "      <td>27.2407</td>\n",
       "      <td>27.2873</td>\n",
       "      <td>27.1868</td>\n",
       "    </tr>\n",
       "    <tr>\n",
       "      <th>2</th>\n",
       "      <td>2024-05-03</td>\n",
       "      <td>77.3261</td>\n",
       "      <td>89.960</td>\n",
       "      <td>63.878</td>\n",
       "      <td>19.7970</td>\n",
       "      <td>41.99</td>\n",
       "      <td>6.877</td>\n",
       "      <td>5.7147</td>\n",
       "      <td>23.8457</td>\n",
       "      <td>0.0</td>\n",
       "      <td>8.8923</td>\n",
       "      <td>39.0345</td>\n",
       "      <td>0.0</td>\n",
       "      <td>27.2277</td>\n",
       "      <td>27.2663</td>\n",
       "      <td>27.1653</td>\n",
       "    </tr>\n",
       "    <tr>\n",
       "      <th>3</th>\n",
       "      <td>2024-05-04</td>\n",
       "      <td>76.8995</td>\n",
       "      <td>89.762</td>\n",
       "      <td>61.106</td>\n",
       "      <td>17.8820</td>\n",
       "      <td>31.30</td>\n",
       "      <td>6.234</td>\n",
       "      <td>5.5733</td>\n",
       "      <td>20.5574</td>\n",
       "      <td>0.0</td>\n",
       "      <td>8.6903</td>\n",
       "      <td>25.6129</td>\n",
       "      <td>0.0</td>\n",
       "      <td>27.2277</td>\n",
       "      <td>27.2670</td>\n",
       "      <td>27.1798</td>\n",
       "    </tr>\n",
       "    <tr>\n",
       "      <th>4</th>\n",
       "      <td>2024-05-05</td>\n",
       "      <td>75.1771</td>\n",
       "      <td>86.774</td>\n",
       "      <td>63.176</td>\n",
       "      <td>18.5651</td>\n",
       "      <td>30.04</td>\n",
       "      <td>9.040</td>\n",
       "      <td>11.2813</td>\n",
       "      <td>32.4132</td>\n",
       "      <td>0.0</td>\n",
       "      <td>16.0872</td>\n",
       "      <td>44.0676</td>\n",
       "      <td>0.0</td>\n",
       "      <td>27.2212</td>\n",
       "      <td>27.2677</td>\n",
       "      <td>27.1493</td>\n",
       "    </tr>\n",
       "  </tbody>\n",
       "</table>\n",
       "</div>"
      ],
      "text/plain": [
       "  DATE (MM/DD/YYYY)  AVG Air Temperature [deg F]  MAX Air Temperature [deg F]  \\\n",
       "0        2024-05-01                      76.2268                       87.494   \n",
       "1        2024-05-02                      76.1305                       89.690   \n",
       "2        2024-05-03                      77.3261                       89.960   \n",
       "3        2024-05-04                      76.8995                       89.762   \n",
       "4        2024-05-05                      75.1771                       86.774   \n",
       "\n",
       "   MIN Air Temperature [deg F]  AVG Rel Humidity [%]  MAX Rel Humidity [%]  \\\n",
       "0                       61.322               19.3349                 34.09   \n",
       "1                       60.836               18.6194                 36.39   \n",
       "2                       63.878               19.7970                 41.99   \n",
       "3                       61.106               17.8820                 31.30   \n",
       "4                       63.176               18.5651                 30.04   \n",
       "\n",
       "   MIN Rel Humidity [%]  AVG Avg Wind Speed @ 3m [MPH]  \\\n",
       "0                 8.040                         7.5972   \n",
       "1                 6.938                         5.1366   \n",
       "2                 6.877                         5.7147   \n",
       "3                 6.234                         5.5733   \n",
       "4                 9.040                        11.2813   \n",
       "\n",
       "   MAX Avg Wind Speed @ 3m [MPH]  MIN Avg Wind Speed @ 3m [MPH]  \\\n",
       "0                        24.4721                            0.0   \n",
       "1                        22.8839                            0.0   \n",
       "2                        23.8457                            0.0   \n",
       "3                        20.5574                            0.0   \n",
       "4                        32.4132                            0.0   \n",
       "\n",
       "   AVG Peak Wind Speed @ 3m [MPH]  MAX Peak Wind Speed @ 3m [MPH]  \\\n",
       "0                         11.1715                         30.6460   \n",
       "1                          8.0311                         27.2906   \n",
       "2                          8.8923                         39.0345   \n",
       "3                          8.6903                         25.6129   \n",
       "4                         16.0872                         44.0676   \n",
       "\n",
       "   MIN Peak Wind Speed @ 3m [MPH]  AVG Station Pressure [inHg]  \\\n",
       "0                             0.0                      27.2098   \n",
       "1                             0.0                      27.2407   \n",
       "2                             0.0                      27.2277   \n",
       "3                             0.0                      27.2277   \n",
       "4                             0.0                      27.2212   \n",
       "\n",
       "   MAX Station Pressure [inHg]  MIN Station Pressure [inHg]  \n",
       "0                      27.2561                      27.1436  \n",
       "1                      27.2873                      27.1868  \n",
       "2                      27.2663                      27.1653  \n",
       "3                      27.2670                      27.1798  \n",
       "4                      27.2677                      27.1493  "
      ]
     },
     "execution_count": 1210,
     "metadata": {},
     "output_type": "execute_result"
    }
   ],
   "source": [
    "met_df.head()"
   ]
  },
  {
   "cell_type": "markdown",
   "metadata": {},
   "source": [
    "Here is an explanation of each column in the meteorological dataset:\n",
    "\n",
    "1. **DATE (MM/DD/YYYY):**\n",
    "   - **Description:** The date in the format Month/Day/Year.\n",
    "   - **Example:** `05/01/2024` represents May 1, 2024.\n",
    "\n",
    "2. **AVG Air Temperature [deg F]:**\n",
    "   - **Description:** The average air temperature in degrees Fahrenheit for the day.\n",
    "   - **Example:** `76.2268` degrees Fahrenheit.\n",
    "\n",
    "3. **MAX Air Temperature [deg F]:**\n",
    "   - **Description:** The maximum air temperature in degrees Fahrenheit for the day.\n",
    "   - **Example:** `87.494` degrees Fahrenheit.\n",
    "\n",
    "4. **MIN Air Temperature [deg F]:**\n",
    "   - **Description:** The minimum air temperature in degrees Fahrenheit for the day.\n",
    "   - **Example:** `61.322` degrees Fahrenheit.\n",
    "\n",
    "5. **AVG Rel Humidity [%]:**\n",
    "   - **Description:** The average relative humidity as a percentage for the day.\n",
    "   - **Example:** `19.3349%`.\n",
    "\n",
    "6. **MAX Rel Humidity [%]:**\n",
    "   - **Description:** The maximum relative humidity as a percentage for the day.\n",
    "   - **Example:** `34.09%`.\n",
    "\n",
    "7. **MIN Rel Humidity [%]:**\n",
    "   - **Description:** The minimum relative humidity as a percentage for the day.\n",
    "   - **Example:** `8.04%`.\n",
    "\n",
    "8. **AVG Avg Wind Speed @ 3m [MPH]:**\n",
    "   - **Description:** The average wind speed at 3 meters above ground level in miles per hour for the day.\n",
    "   - **Example:** `7.5972` miles per hour.\n",
    "\n",
    "9. **MAX Avg Wind Speed @ 3m [MPH]:**\n",
    "   - **Description:** The maximum average wind speed at 3 meters above ground level in miles per hour for the day.\n",
    "   - **Example:** `24.4721` miles per hour.\n",
    "\n",
    "10. **MIN Avg Wind Speed @ 3m [MPH]:**\n",
    "    - **Description:** The minimum average wind speed at 3 meters above ground level in miles per hour for the day.\n",
    "    - **Example:** `0.0` miles per hour.\n",
    "\n",
    "11. **AVG Peak Wind Speed @ 3m [MPH]:**\n",
    "    - **Description:** The average peak wind speed at 3 meters above ground level in miles per hour for the day.\n",
    "    - **Example:** `11.1715` miles per hour.\n",
    "\n",
    "12. **MAX Peak Wind Speed @ 3m [MPH]:**\n",
    "    - **Description:** The maximum peak wind speed at 3 meters above ground level in miles per hour for the day.\n",
    "    - **Example:** `30.646` miles per hour.\n",
    "\n",
    "13. **MIN Peak Wind Speed @ 3m [MPH]:**\n",
    "    - **Description:** The minimum peak wind speed at 3 meters above ground level in miles per hour for the day.\n",
    "    - **Example:** `0.0` miles per hour.\n",
    "\n",
    "14. **AVG Station Pressure [inHg]:**\n",
    "    - **Description:** The average station pressure in inches of mercury for the day.\n",
    "    - **Example:** `27.2098` inches of mercury.\n",
    "\n",
    "15. **MAX Station Pressure [inHg]:**\n",
    "    - **Description:** The maximum station pressure in inches of mercury for the day.\n",
    "    - **Example:** `27.2561` inches of mercury.\n",
    "\n",
    "16. **MIN Station Pressure [inHg]:**\n",
    "    - **Description:** The minimum station pressure in inches of mercury for the day.\n",
    "    - **Example:** `27.1436` inches of mercury.\n",
    "\n",
    "These columns represent various meteorological measurements that can influence power load and consumption patterns. By incorporating this data into our analysis, we can build models that account for the impact of weather conditions on power usage."
   ]
  },
  {
   "cell_type": "code",
   "execution_count": 1211,
   "metadata": {},
   "outputs": [
    {
     "name": "stdout",
     "output_type": "stream",
     "text": [
      "<class 'pandas.core.frame.DataFrame'>\n",
      "RangeIndex: 61 entries, 0 to 60\n",
      "Data columns (total 21 columns):\n",
      " #   Column                Non-Null Count  Dtype         \n",
      "---  ------                --------------  -----         \n",
      " 0   DATE (MM/DD/YYYY)     61 non-null     datetime64[ns]\n",
      " 1   KW                    61 non-null     float64       \n",
      " 2   KWS                   61 non-null     float64       \n",
      " 3   CHWTON                61 non-null     float64       \n",
      " 4   HTmmBTU               61 non-null     float64       \n",
      " 5   Combined mmBTU        61 non-null     float64       \n",
      " 6   Combined Tons Carbon  61 non-null     float64       \n",
      " 7   KW#Houses             61 non-null     int64         \n",
      " 8   KWlightbulbs          61 non-null     int64         \n",
      " 9   KWgalsgas             61 non-null     int64         \n",
      " 10  CHWTON#Houses         61 non-null     int64         \n",
      " 11  CHWTONlightbulbs      61 non-null     int64         \n",
      " 12  CHWTONgalsgas         61 non-null     int64         \n",
      " 13  HTmmBTU#Houses        61 non-null     int64         \n",
      " 14  HTmmBTUlightbulbs     61 non-null     int64         \n",
      " 15  HTmmBTUgalsgas        61 non-null     int64         \n",
      " 16  Total#Houses          61 non-null     int64         \n",
      " 17  Totallightbulbs       61 non-null     int64         \n",
      " 18  Totalgalsgas          61 non-null     int64         \n",
      " 19  GHG                   61 non-null     float64       \n",
      " 20  DOW                   61 non-null     int64         \n",
      "dtypes: datetime64[ns](1), float64(7), int64(13)\n",
      "memory usage: 10.1 KB\n"
     ]
    }
   ],
   "source": [
    "load_df.info()"
   ]
  },
  {
   "cell_type": "code",
   "execution_count": 1212,
   "metadata": {},
   "outputs": [
    {
     "name": "stdout",
     "output_type": "stream",
     "text": [
      "<class 'pandas.core.frame.DataFrame'>\n",
      "RangeIndex: 61 entries, 0 to 60\n",
      "Data columns (total 16 columns):\n",
      " #   Column                          Non-Null Count  Dtype         \n",
      "---  ------                          --------------  -----         \n",
      " 0   DATE (MM/DD/YYYY)               61 non-null     datetime64[ns]\n",
      " 1   AVG Air Temperature [deg F]     61 non-null     float64       \n",
      " 2   MAX Air Temperature [deg F]     61 non-null     float64       \n",
      " 3   MIN Air Temperature [deg F]     61 non-null     float64       \n",
      " 4   AVG Rel Humidity [%]            61 non-null     float64       \n",
      " 5   MAX Rel Humidity [%]            61 non-null     float64       \n",
      " 6   MIN Rel Humidity [%]            61 non-null     float64       \n",
      " 7   AVG Avg Wind Speed @ 3m [MPH]   61 non-null     float64       \n",
      " 8   MAX Avg Wind Speed @ 3m [MPH]   61 non-null     float64       \n",
      " 9   MIN Avg Wind Speed @ 3m [MPH]   61 non-null     float64       \n",
      " 10  AVG Peak Wind Speed @ 3m [MPH]  61 non-null     float64       \n",
      " 11  MAX Peak Wind Speed @ 3m [MPH]  61 non-null     float64       \n",
      " 12  MIN Peak Wind Speed @ 3m [MPH]  61 non-null     float64       \n",
      " 13  AVG Station Pressure [inHg]     61 non-null     float64       \n",
      " 14  MAX Station Pressure [inHg]     61 non-null     float64       \n",
      " 15  MIN Station Pressure [inHg]     61 non-null     float64       \n",
      "dtypes: datetime64[ns](1), float64(15)\n",
      "memory usage: 7.8 KB\n"
     ]
    }
   ],
   "source": [
    "met_df.info()"
   ]
  },
  {
   "cell_type": "code",
   "execution_count": 1213,
   "metadata": {},
   "outputs": [],
   "source": [
    "merged_df = pd.merge(load_df, met_df, on=\"DATE (MM/DD/YYYY)\", how=\"inner\")"
   ]
  },
  {
   "cell_type": "code",
   "execution_count": 1214,
   "metadata": {},
   "outputs": [
    {
     "name": "stdout",
     "output_type": "stream",
     "text": [
      "<class 'pandas.core.frame.DataFrame'>\n",
      "RangeIndex: 61 entries, 0 to 60\n",
      "Data columns (total 36 columns):\n",
      " #   Column                          Non-Null Count  Dtype         \n",
      "---  ------                          --------------  -----         \n",
      " 0   DATE (MM/DD/YYYY)               61 non-null     datetime64[ns]\n",
      " 1   KW                              61 non-null     float64       \n",
      " 2   KWS                             61 non-null     float64       \n",
      " 3   CHWTON                          61 non-null     float64       \n",
      " 4   HTmmBTU                         61 non-null     float64       \n",
      " 5   Combined mmBTU                  61 non-null     float64       \n",
      " 6   Combined Tons Carbon            61 non-null     float64       \n",
      " 7   KW#Houses                       61 non-null     int64         \n",
      " 8   KWlightbulbs                    61 non-null     int64         \n",
      " 9   KWgalsgas                       61 non-null     int64         \n",
      " 10  CHWTON#Houses                   61 non-null     int64         \n",
      " 11  CHWTONlightbulbs                61 non-null     int64         \n",
      " 12  CHWTONgalsgas                   61 non-null     int64         \n",
      " 13  HTmmBTU#Houses                  61 non-null     int64         \n",
      " 14  HTmmBTUlightbulbs               61 non-null     int64         \n",
      " 15  HTmmBTUgalsgas                  61 non-null     int64         \n",
      " 16  Total#Houses                    61 non-null     int64         \n",
      " 17  Totallightbulbs                 61 non-null     int64         \n",
      " 18  Totalgalsgas                    61 non-null     int64         \n",
      " 19  GHG                             61 non-null     float64       \n",
      " 20  DOW                             61 non-null     int64         \n",
      " 21  AVG Air Temperature [deg F]     61 non-null     float64       \n",
      " 22  MAX Air Temperature [deg F]     61 non-null     float64       \n",
      " 23  MIN Air Temperature [deg F]     61 non-null     float64       \n",
      " 24  AVG Rel Humidity [%]            61 non-null     float64       \n",
      " 25  MAX Rel Humidity [%]            61 non-null     float64       \n",
      " 26  MIN Rel Humidity [%]            61 non-null     float64       \n",
      " 27  AVG Avg Wind Speed @ 3m [MPH]   61 non-null     float64       \n",
      " 28  MAX Avg Wind Speed @ 3m [MPH]   61 non-null     float64       \n",
      " 29  MIN Avg Wind Speed @ 3m [MPH]   61 non-null     float64       \n",
      " 30  AVG Peak Wind Speed @ 3m [MPH]  61 non-null     float64       \n",
      " 31  MAX Peak Wind Speed @ 3m [MPH]  61 non-null     float64       \n",
      " 32  MIN Peak Wind Speed @ 3m [MPH]  61 non-null     float64       \n",
      " 33  AVG Station Pressure [inHg]     61 non-null     float64       \n",
      " 34  MAX Station Pressure [inHg]     61 non-null     float64       \n",
      " 35  MIN Station Pressure [inHg]     61 non-null     float64       \n",
      "dtypes: datetime64[ns](1), float64(22), int64(13)\n",
      "memory usage: 17.3 KB\n"
     ]
    }
   ],
   "source": [
    "merged_df.info()"
   ]
  },
  {
   "cell_type": "code",
   "execution_count": 1215,
   "metadata": {},
   "outputs": [
    {
     "data": {
      "text/html": [
       "<div>\n",
       "<style scoped>\n",
       "    .dataframe tbody tr th:only-of-type {\n",
       "        vertical-align: middle;\n",
       "    }\n",
       "\n",
       "    .dataframe tbody tr th {\n",
       "        vertical-align: top;\n",
       "    }\n",
       "\n",
       "    .dataframe thead th {\n",
       "        text-align: right;\n",
       "    }\n",
       "</style>\n",
       "<table border=\"1\" class=\"dataframe\">\n",
       "  <thead>\n",
       "    <tr style=\"text-align: right;\">\n",
       "      <th></th>\n",
       "      <th>DATE (MM/DD/YYYY)</th>\n",
       "      <th>KW</th>\n",
       "      <th>KWS</th>\n",
       "      <th>CHWTON</th>\n",
       "      <th>HTmmBTU</th>\n",
       "      <th>Combined mmBTU</th>\n",
       "      <th>Combined Tons Carbon</th>\n",
       "      <th>KW#Houses</th>\n",
       "      <th>KWlightbulbs</th>\n",
       "      <th>KWgalsgas</th>\n",
       "      <th>...</th>\n",
       "      <th>MIN Rel Humidity [%]</th>\n",
       "      <th>AVG Avg Wind Speed @ 3m [MPH]</th>\n",
       "      <th>MAX Avg Wind Speed @ 3m [MPH]</th>\n",
       "      <th>MIN Avg Wind Speed @ 3m [MPH]</th>\n",
       "      <th>AVG Peak Wind Speed @ 3m [MPH]</th>\n",
       "      <th>MAX Peak Wind Speed @ 3m [MPH]</th>\n",
       "      <th>MIN Peak Wind Speed @ 3m [MPH]</th>\n",
       "      <th>AVG Station Pressure [inHg]</th>\n",
       "      <th>MAX Station Pressure [inHg]</th>\n",
       "      <th>MIN Station Pressure [inHg]</th>\n",
       "    </tr>\n",
       "  </thead>\n",
       "  <tbody>\n",
       "    <tr>\n",
       "      <th>0</th>\n",
       "      <td>2024-05-01</td>\n",
       "      <td>351973.45</td>\n",
       "      <td>39367.64</td>\n",
       "      <td>117009.06</td>\n",
       "      <td>115.27</td>\n",
       "      <td>2720.37</td>\n",
       "      <td>497.21</td>\n",
       "      <td>100564</td>\n",
       "      <td>25140971</td>\n",
       "      <td>9608</td>\n",
       "      <td>...</td>\n",
       "      <td>8.040</td>\n",
       "      <td>7.5972</td>\n",
       "      <td>24.4721</td>\n",
       "      <td>0.0</td>\n",
       "      <td>11.1715</td>\n",
       "      <td>30.6460</td>\n",
       "      <td>0.0</td>\n",
       "      <td>27.2098</td>\n",
       "      <td>27.2561</td>\n",
       "      <td>27.1436</td>\n",
       "    </tr>\n",
       "    <tr>\n",
       "      <th>1</th>\n",
       "      <td>2024-05-02</td>\n",
       "      <td>353826.38</td>\n",
       "      <td>39144.04</td>\n",
       "      <td>119220.71</td>\n",
       "      <td>115.03</td>\n",
       "      <td>2752.99</td>\n",
       "      <td>503.17</td>\n",
       "      <td>101093</td>\n",
       "      <td>25273323</td>\n",
       "      <td>9658</td>\n",
       "      <td>...</td>\n",
       "      <td>6.938</td>\n",
       "      <td>5.1366</td>\n",
       "      <td>22.8839</td>\n",
       "      <td>0.0</td>\n",
       "      <td>8.0311</td>\n",
       "      <td>27.2906</td>\n",
       "      <td>0.0</td>\n",
       "      <td>27.2407</td>\n",
       "      <td>27.2873</td>\n",
       "      <td>27.1868</td>\n",
       "    </tr>\n",
       "    <tr>\n",
       "      <th>2</th>\n",
       "      <td>2024-05-03</td>\n",
       "      <td>357657.88</td>\n",
       "      <td>38935.34</td>\n",
       "      <td>123171.43</td>\n",
       "      <td>109.79</td>\n",
       "      <td>2808.22</td>\n",
       "      <td>513.27</td>\n",
       "      <td>102188</td>\n",
       "      <td>25547001</td>\n",
       "      <td>9763</td>\n",
       "      <td>...</td>\n",
       "      <td>6.877</td>\n",
       "      <td>5.7147</td>\n",
       "      <td>23.8457</td>\n",
       "      <td>0.0</td>\n",
       "      <td>8.8923</td>\n",
       "      <td>39.0345</td>\n",
       "      <td>0.0</td>\n",
       "      <td>27.2277</td>\n",
       "      <td>27.2663</td>\n",
       "      <td>27.1653</td>\n",
       "    </tr>\n",
       "    <tr>\n",
       "      <th>3</th>\n",
       "      <td>2024-05-04</td>\n",
       "      <td>363958.25</td>\n",
       "      <td>38676.54</td>\n",
       "      <td>118279.24</td>\n",
       "      <td>108.33</td>\n",
       "      <td>2769.56</td>\n",
       "      <td>506.20</td>\n",
       "      <td>103988</td>\n",
       "      <td>25997028</td>\n",
       "      <td>9935</td>\n",
       "      <td>...</td>\n",
       "      <td>6.234</td>\n",
       "      <td>5.5733</td>\n",
       "      <td>20.5574</td>\n",
       "      <td>0.0</td>\n",
       "      <td>8.6903</td>\n",
       "      <td>25.6129</td>\n",
       "      <td>0.0</td>\n",
       "      <td>27.2277</td>\n",
       "      <td>27.2670</td>\n",
       "      <td>27.1798</td>\n",
       "    </tr>\n",
       "    <tr>\n",
       "      <th>4</th>\n",
       "      <td>2024-05-05</td>\n",
       "      <td>320144.95</td>\n",
       "      <td>33341.16</td>\n",
       "      <td>106070.52</td>\n",
       "      <td>108.39</td>\n",
       "      <td>2473.62</td>\n",
       "      <td>452.11</td>\n",
       "      <td>91470</td>\n",
       "      <td>22867506</td>\n",
       "      <td>8739</td>\n",
       "      <td>...</td>\n",
       "      <td>9.040</td>\n",
       "      <td>11.2813</td>\n",
       "      <td>32.4132</td>\n",
       "      <td>0.0</td>\n",
       "      <td>16.0872</td>\n",
       "      <td>44.0676</td>\n",
       "      <td>0.0</td>\n",
       "      <td>27.2212</td>\n",
       "      <td>27.2677</td>\n",
       "      <td>27.1493</td>\n",
       "    </tr>\n",
       "  </tbody>\n",
       "</table>\n",
       "<p>5 rows × 36 columns</p>\n",
       "</div>"
      ],
      "text/plain": [
       "  DATE (MM/DD/YYYY)         KW       KWS     CHWTON  HTmmBTU  Combined mmBTU  \\\n",
       "0        2024-05-01  351973.45  39367.64  117009.06   115.27         2720.37   \n",
       "1        2024-05-02  353826.38  39144.04  119220.71   115.03         2752.99   \n",
       "2        2024-05-03  357657.88  38935.34  123171.43   109.79         2808.22   \n",
       "3        2024-05-04  363958.25  38676.54  118279.24   108.33         2769.56   \n",
       "4        2024-05-05  320144.95  33341.16  106070.52   108.39         2473.62   \n",
       "\n",
       "   Combined Tons Carbon  KW#Houses  KWlightbulbs  KWgalsgas  ...  \\\n",
       "0                497.21     100564      25140971       9608  ...   \n",
       "1                503.17     101093      25273323       9658  ...   \n",
       "2                513.27     102188      25547001       9763  ...   \n",
       "3                506.20     103988      25997028       9935  ...   \n",
       "4                452.11      91470      22867506       8739  ...   \n",
       "\n",
       "   MIN Rel Humidity [%]  AVG Avg Wind Speed @ 3m [MPH]  \\\n",
       "0                 8.040                         7.5972   \n",
       "1                 6.938                         5.1366   \n",
       "2                 6.877                         5.7147   \n",
       "3                 6.234                         5.5733   \n",
       "4                 9.040                        11.2813   \n",
       "\n",
       "   MAX Avg Wind Speed @ 3m [MPH]  MIN Avg Wind Speed @ 3m [MPH]  \\\n",
       "0                        24.4721                            0.0   \n",
       "1                        22.8839                            0.0   \n",
       "2                        23.8457                            0.0   \n",
       "3                        20.5574                            0.0   \n",
       "4                        32.4132                            0.0   \n",
       "\n",
       "   AVG Peak Wind Speed @ 3m [MPH]  MAX Peak Wind Speed @ 3m [MPH]  \\\n",
       "0                         11.1715                         30.6460   \n",
       "1                          8.0311                         27.2906   \n",
       "2                          8.8923                         39.0345   \n",
       "3                          8.6903                         25.6129   \n",
       "4                         16.0872                         44.0676   \n",
       "\n",
       "   MIN Peak Wind Speed @ 3m [MPH]  AVG Station Pressure [inHg]  \\\n",
       "0                             0.0                      27.2098   \n",
       "1                             0.0                      27.2407   \n",
       "2                             0.0                      27.2277   \n",
       "3                             0.0                      27.2277   \n",
       "4                             0.0                      27.2212   \n",
       "\n",
       "   MAX Station Pressure [inHg]  MIN Station Pressure [inHg]  \n",
       "0                      27.2561                      27.1436  \n",
       "1                      27.2873                      27.1868  \n",
       "2                      27.2663                      27.1653  \n",
       "3                      27.2670                      27.1798  \n",
       "4                      27.2677                      27.1493  \n",
       "\n",
       "[5 rows x 36 columns]"
      ]
     },
     "execution_count": 1215,
     "metadata": {},
     "output_type": "execute_result"
    }
   ],
   "source": [
    "merged_df.head()"
   ]
  },
  {
   "cell_type": "markdown",
   "metadata": {},
   "source": [
    "## Data Preprocessing"
   ]
  },
  {
   "cell_type": "code",
   "execution_count": 1216,
   "metadata": {},
   "outputs": [],
   "source": [
    "from sklearn.preprocessing import MinMaxScaler"
   ]
  },
  {
   "cell_type": "markdown",
   "metadata": {},
   "source": [
    "#### Step 1: Train-Test Split (80% training, 20% testing)"
   ]
  },
  {
   "cell_type": "code",
   "execution_count": 1217,
   "metadata": {},
   "outputs": [],
   "source": [
    "train_size = int(len(merged_df) * 0.8)\n",
    "train_data = merged_df[:train_size]\n",
    "test_data = merged_df[train_size:]"
   ]
  },
  {
   "cell_type": "markdown",
   "metadata": {},
   "source": [
    "#### Step 2: Select relevant columns for normalization\n",
    "\n",
    "Electric load, Cooling load, Heating load, Temperature, Humidity, Irradiance (if present)"
   ]
  },
  {
   "cell_type": "code",
   "execution_count": 1218,
   "metadata": {},
   "outputs": [],
   "source": [
    "features_to_normalize = [\n",
    "    \"KW\",\n",
    "    \"CHWTON\",\n",
    "    \"HTmmBTU\",\n",
    "    \"AVG Air Temperature [deg F]\",\n",
    "    \"AVG Rel Humidity [%]\",\n",
    "]"
   ]
  },
  {
   "cell_type": "markdown",
   "metadata": {},
   "source": [
    "Initialize MinMaxScaler"
   ]
  },
  {
   "cell_type": "code",
   "execution_count": 1219,
   "metadata": {},
   "outputs": [],
   "source": [
    "scaler = MinMaxScaler()"
   ]
  },
  {
   "cell_type": "markdown",
   "metadata": {},
   "source": [
    "Fit the scaler on the training data and transform both train and test data"
   ]
  },
  {
   "cell_type": "code",
   "execution_count": 1220,
   "metadata": {},
   "outputs": [],
   "source": [
    "train_scaled = train_data.copy()\n",
    "train_scaled[features_to_normalize] = scaler.fit_transform(\n",
    "    train_data[features_to_normalize]\n",
    ")\n",
    "\n",
    "test_scaled = test_data.copy()\n",
    "test_scaled[features_to_normalize] = scaler.transform(test_data[features_to_normalize])"
   ]
  },
  {
   "cell_type": "markdown",
   "metadata": {},
   "source": [
    "#### Step 3: Time Series Preparation (Create sliding window sequences)"
   ]
  },
  {
   "cell_type": "code",
   "execution_count": 1221,
   "metadata": {},
   "outputs": [],
   "source": [
    "sequence_length = 7  # Use past 7 days to predict the next day\n",
    "\n",
    "\n",
    "def create_sequences(data, target_column, sequence_length):\n",
    "    sequences = []\n",
    "    targets = []\n",
    "\n",
    "    for i in range(len(data) - sequence_length):\n",
    "        seq = data[i : i + sequence_length]  # Sequence of 'n' days\n",
    "        target = data[i + sequence_length][target_column+1]  # Target is the next day's load (KW)\n",
    "        sequences.append(seq)\n",
    "        targets.append(target)\n",
    "\n",
    "    return np.array(sequences), np.array(targets)"
   ]
  },
  {
   "cell_type": "markdown",
   "metadata": {},
   "source": [
    "Create sequences for training and testing sets"
   ]
  },
  {
   "cell_type": "code",
   "execution_count": 1222,
   "metadata": {},
   "outputs": [
    {
     "name": "stdout",
     "output_type": "stream",
     "text": [
      "Training data shape (X, y): (41, 7, 5) (41,)\n",
      "Testing data shape (X, y): (6, 7, 5) (6,)\n"
     ]
    }
   ],
   "source": [
    "X_train, y_train = create_sequences(\n",
    "    train_scaled[features_to_normalize].values,\n",
    "    target_column=0,\n",
    "    sequence_length=sequence_length,\n",
    ")  # KW is the target\n",
    "X_test, y_test = create_sequences(\n",
    "    test_scaled[features_to_normalize].values,\n",
    "    target_column=0,\n",
    "    sequence_length=sequence_length,\n",
    ")\n",
    "\n",
    "# Print the shape of training and testing data\n",
    "print(\"Training data shape (X, y):\", X_train.shape, y_train.shape)\n",
    "print(\"Testing data shape (X, y):\", X_test.shape, y_test.shape)"
   ]
  },
  {
   "cell_type": "markdown",
   "metadata": {},
   "source": [
    "### Model Construction"
   ]
  },
  {
   "cell_type": "code",
   "execution_count": 1223,
   "metadata": {},
   "outputs": [],
   "source": [
    "import torch\n",
    "import torch.nn as nn\n",
    "import torch.optim as optim\n",
    "from sklearn.metrics import mean_squared_error\n",
    "from torch.optim.lr_scheduler import ReduceLROnPlateau"
   ]
  },
  {
   "cell_type": "markdown",
   "metadata": {},
   "source": [
    "#### Step 1: Convert data to PyTorch tensors"
   ]
  },
  {
   "cell_type": "code",
   "execution_count": 1224,
   "metadata": {},
   "outputs": [],
   "source": [
    "X_train_tensor = torch.Tensor(X_train)\n",
    "y_train_tensor = torch.Tensor(y_train)\n",
    "X_test_tensor = torch.Tensor(X_test)\n",
    "y_test_tensor = torch.Tensor(y_test)"
   ]
  },
  {
   "cell_type": "markdown",
   "metadata": {},
   "source": [
    "#### Step 2: Define the LSTM model"
   ]
  },
  {
   "cell_type": "code",
   "execution_count": 1225,
   "metadata": {},
   "outputs": [],
   "source": [
    "# Define the LSTM model with L2 regularization\n",
    "class LSTMModel(nn.Module):\n",
    "    def __init__(self, input_dim, hidden_dim, output_dim, num_layers=2, dropout=0.2):\n",
    "        super(LSTMModel, self).__init__()\n",
    "        self.lstm = nn.LSTM(\n",
    "            input_dim, hidden_dim, num_layers, batch_first=True, dropout=dropout\n",
    "        )\n",
    "        self.fc = nn.Linear(hidden_dim, output_dim)\n",
    "\n",
    "    def forward(self, x):\n",
    "        lstm_out, _ = self.lstm(x)\n",
    "        final_feature_map = lstm_out[:, -1, :]\n",
    "        out = self.fc(final_feature_map)\n",
    "        return out"
   ]
  },
  {
   "cell_type": "markdown",
   "metadata": {},
   "source": [
    "Initialize the model, loss function, and optimizer"
   ]
  },
  {
   "cell_type": "code",
   "execution_count": 1226,
   "metadata": {},
   "outputs": [],
   "source": [
    "# Initialize model, loss function, and optimizer with L2 regularization\n",
    "input_dim = len(features_to_normalize)\n",
    "hidden_dim = 50\n",
    "output_dim = 1\n",
    "dropout = 0.2"
   ]
  },
  {
   "cell_type": "code",
   "execution_count": 1227,
   "metadata": {},
   "outputs": [
    {
     "data": {
      "text/plain": [
       "tensor(0.)"
      ]
     },
     "execution_count": 1227,
     "metadata": {},
     "output_type": "execute_result"
    }
   ],
   "source": [
    "model = LSTMModel(input_dim, hidden_dim, output_dim, num_layers=2, dropout=dropout)\n",
    "criterion = nn.MSELoss()\n",
    "optimizer = optim.Adam(\n",
    "    model.parameters(), lr=0.0005, weight_decay=0.01\n",
    ")  # Adding L2 regularization\n",
    "scheduler = ReduceLROnPlateau(\n",
    "    optimizer, mode=\"min\", factor=0.1, patience=20,\n",
    ")\n",
    "torch.nn.utils.clip_grad_norm_(model.parameters(), max_norm=1.0)"
   ]
  },
  {
   "cell_type": "markdown",
   "metadata": {},
   "source": [
    "#### Step 3: Training loop"
   ]
  },
  {
   "cell_type": "code",
   "execution_count": 1228,
   "metadata": {},
   "outputs": [],
   "source": [
    "num_epochs = 57\n",
    "batch_size = 16\n",
    "patience = 20\n",
    "best_loss = float(\"inf\")\n",
    "patience_counter = 0"
   ]
  },
  {
   "cell_type": "markdown",
   "metadata": {},
   "source": [
    "Create DataLoader for training and validation data"
   ]
  },
  {
   "cell_type": "code",
   "execution_count": 1229,
   "metadata": {},
   "outputs": [],
   "source": [
    "train_dataset = torch.utils.data.TensorDataset(X_train_tensor, y_train_tensor)\n",
    "train_loader = torch.utils.data.DataLoader(\n",
    "    dataset=train_dataset, batch_size=batch_size, shuffle=True\n",
    ")"
   ]
  },
  {
   "cell_type": "code",
   "execution_count": 1230,
   "metadata": {},
   "outputs": [],
   "source": [
    "epoch_losses = list()\n",
    "test_losses = list()"
   ]
  },
  {
   "cell_type": "code",
   "execution_count": 1231,
   "metadata": {},
   "outputs": [
    {
     "name": "stdout",
     "output_type": "stream",
     "text": [
      "Epoch [1/57], Loss: 0.2691\n",
      "Test Loss: 1.6824\n",
      "Epoch [2/57], Loss: 0.2508\n",
      "Test Loss: 1.6250\n",
      "Epoch [3/57], Loss: 0.2368\n",
      "Test Loss: 1.5672\n",
      "Epoch [4/57], Loss: 0.2193\n",
      "Test Loss: 1.5097\n",
      "Epoch [5/57], Loss: 0.2039\n",
      "Test Loss: 1.4500\n",
      "Epoch [6/57], Loss: 0.1899\n",
      "Test Loss: 1.3881\n",
      "Epoch [7/57], Loss: 0.1748\n",
      "Test Loss: 1.3239\n",
      "Epoch [8/57], Loss: 0.1595\n",
      "Test Loss: 1.2565\n",
      "Epoch [9/57], Loss: 0.1453\n",
      "Test Loss: 1.1809\n",
      "Epoch [10/57], Loss: 0.1315\n",
      "Test Loss: 1.0995\n",
      "Epoch [11/57], Loss: 0.1182\n",
      "Test Loss: 1.0130\n",
      "Epoch [12/57], Loss: 0.1054\n",
      "Test Loss: 0.9288\n",
      "Epoch [13/57], Loss: 0.0972\n",
      "Test Loss: 0.8474\n",
      "Epoch [14/57], Loss: 0.0914\n",
      "Test Loss: 0.7736\n",
      "Epoch [15/57], Loss: 0.0846\n",
      "Test Loss: 0.7232\n",
      "Epoch [16/57], Loss: 0.0807\n",
      "Test Loss: 0.6895\n",
      "Epoch [17/57], Loss: 0.0818\n",
      "Test Loss: 0.6555\n",
      "Epoch [18/57], Loss: 0.0789\n",
      "Test Loss: 0.6329\n",
      "Epoch [19/57], Loss: 0.0794\n",
      "Test Loss: 0.6262\n",
      "Epoch [20/57], Loss: 0.0775\n",
      "Test Loss: 0.6257\n",
      "Epoch [21/57], Loss: 0.0764\n",
      "Test Loss: 0.6314\n",
      "Epoch [22/57], Loss: 0.0766\n",
      "Test Loss: 0.6424\n",
      "Epoch [23/57], Loss: 0.0743\n",
      "Test Loss: 0.6445\n",
      "Epoch [24/57], Loss: 0.0723\n",
      "Test Loss: 0.6478\n",
      "Epoch [25/57], Loss: 0.0710\n",
      "Test Loss: 0.6454\n",
      "Epoch [26/57], Loss: 0.0717\n",
      "Test Loss: 0.6454\n",
      "Epoch [27/57], Loss: 0.0692\n",
      "Test Loss: 0.6402\n",
      "Epoch [28/57], Loss: 0.0689\n",
      "Test Loss: 0.6261\n",
      "Epoch [29/57], Loss: 0.0659\n",
      "Test Loss: 0.6181\n",
      "Epoch [30/57], Loss: 0.0644\n",
      "Test Loss: 0.6016\n",
      "Epoch [31/57], Loss: 0.0651\n",
      "Test Loss: 0.5834\n",
      "Epoch [32/57], Loss: 0.0619\n",
      "Test Loss: 0.5790\n",
      "Epoch [33/57], Loss: 0.0636\n",
      "Test Loss: 0.5719\n",
      "Epoch [34/57], Loss: 0.0602\n",
      "Test Loss: 0.5627\n",
      "Epoch [35/57], Loss: 0.0582\n",
      "Test Loss: 0.5495\n",
      "Epoch [36/57], Loss: 0.0561\n",
      "Test Loss: 0.5362\n",
      "Epoch [37/57], Loss: 0.0536\n",
      "Test Loss: 0.5183\n",
      "Epoch [38/57], Loss: 0.0529\n",
      "Test Loss: 0.5011\n",
      "Epoch [39/57], Loss: 0.0501\n",
      "Test Loss: 0.4820\n",
      "Epoch [40/57], Loss: 0.0452\n",
      "Test Loss: 0.4706\n",
      "Epoch [41/57], Loss: 0.0448\n",
      "Test Loss: 0.4645\n",
      "Epoch [42/57], Loss: 0.0441\n",
      "Test Loss: 0.4647\n",
      "Epoch [43/57], Loss: 0.0426\n",
      "Test Loss: 0.4546\n",
      "Epoch [44/57], Loss: 0.0405\n",
      "Test Loss: 0.4422\n",
      "Epoch [45/57], Loss: 0.0366\n",
      "Test Loss: 0.4378\n",
      "Epoch [46/57], Loss: 0.0361\n",
      "Test Loss: 0.4228\n",
      "Epoch [47/57], Loss: 0.0333\n",
      "Test Loss: 0.4129\n",
      "Epoch [48/57], Loss: 0.0323\n",
      "Test Loss: 0.3911\n",
      "Epoch [49/57], Loss: 0.0290\n",
      "Test Loss: 0.3701\n",
      "Epoch [50/57], Loss: 0.0282\n",
      "Test Loss: 0.3600\n",
      "Epoch [51/57], Loss: 0.0246\n",
      "Test Loss: 0.3495\n",
      "Epoch [52/57], Loss: 0.0249\n",
      "Test Loss: 0.3526\n",
      "Epoch [53/57], Loss: 0.0234\n",
      "Test Loss: 0.3484\n",
      "Epoch [54/57], Loss: 0.0211\n",
      "Test Loss: 0.3363\n",
      "Epoch [55/57], Loss: 0.0216\n",
      "Test Loss: 0.3229\n",
      "Epoch [56/57], Loss: 0.0203\n",
      "Test Loss: 0.3094\n",
      "Epoch [57/57], Loss: 0.0193\n",
      "Test Loss: 0.3171\n"
     ]
    }
   ],
   "source": [
    "for epoch in range(num_epochs):\n",
    "    model.train()\n",
    "    epoch_loss = 0\n",
    "\n",
    "    for batch_X, batch_y in train_loader:\n",
    "        outputs = model(batch_X)\n",
    "        loss = criterion(outputs.squeeze(), batch_y)\n",
    "\n",
    "        optimizer.zero_grad()\n",
    "        loss.backward()\n",
    "        optimizer.step()\n",
    "\n",
    "        epoch_loss += loss.item() * batch_X.size(0)\n",
    "\n",
    "    avg_epoch_loss = epoch_loss / len(train_loader.dataset)\n",
    "    epoch_losses.append(avg_epoch_loss)\n",
    "    print(f\"Epoch [{epoch + 1}/{num_epochs}], Loss: {avg_epoch_loss:.4f}\")\n",
    "\n",
    "    # Validation phase\n",
    "    model.eval()\n",
    "    with torch.no_grad():\n",
    "        test_outputs = model(X_test_tensor)\n",
    "        test_loss = mean_squared_error(y_test_tensor, test_outputs.squeeze())\n",
    "        test_losses.append(test_loss)\n",
    "        print(f\"Test Loss: {test_loss:.4f}\")\n",
    "\n",
    "# Save the model\n",
    "torch.save(model.state_dict(), \"lstm_model.pth\")\n",
    "        # Early stopping\n",
    "        # if test_loss < best_loss:\n",
    "        #     best_loss = test_loss\n",
    "        #     patience_counter = 0\n",
    "        #     # Save the best model\n",
    "        # else:\n",
    "        #     patience_counter += 1\n",
    "        #     if patience_counter >= patience:\n",
    "        #         print(f\"Early stopping triggered at Epoch({epoch})\")\n",
    "        #         # break\n",
    "        # print(f\"Patience Counter: {patience_counter}\")"
   ]
  },
  {
   "cell_type": "code",
   "execution_count": 1232,
   "metadata": {},
   "outputs": [],
   "source": [
    "import matplotlib.pyplot as plt\n",
    "import plotly.express as px\n",
    "from plotly.subplots import make_subplots\n",
    "import plotly.graph_objects as go"
   ]
  },
  {
   "cell_type": "code",
   "execution_count": 1233,
   "metadata": {},
   "outputs": [
    {
     "name": "stdout",
     "output_type": "stream",
     "text": [
      "Epoch\t\tMin: 0.0193\t Max: 0.2691\n",
      "Test\t\tMin: 0.3094\t Max: 1.6824\n"
     ]
    }
   ],
   "source": [
    "print(f\"Epoch\\t\\tMin: {min(epoch_losses):.4f}\\t Max: {max(epoch_losses):.4f}\")\n",
    "print(f\"Test\\t\\tMin: {min(test_losses):.4f}\\t Max: {max(test_losses):.4f}\")"
   ]
  },
  {
   "cell_type": "code",
   "execution_count": 1234,
   "metadata": {},
   "outputs": [],
   "source": [
    "ep_data = pd.DataFrame({\"Epoch Loss\": epoch_losses})\n",
    "test_data = pd.DataFrame({\"Test Loss\": test_losses})"
   ]
  },
  {
   "cell_type": "code",
   "execution_count": 1235,
   "metadata": {},
   "outputs": [
    {
     "data": {
      "application/vnd.plotly.v1+json": {
       "config": {
        "plotlyServerURL": "https://plot.ly"
       },
       "data": [
        {
         "mode": "lines",
         "name": "Epoch Loss",
         "type": "scatter",
         "x": [
          0,
          1,
          2,
          3,
          4,
          5,
          6,
          7,
          8,
          9,
          10,
          11,
          12,
          13,
          14,
          15,
          16,
          17,
          18,
          19,
          20,
          21,
          22,
          23,
          24,
          25,
          26,
          27,
          28,
          29,
          30,
          31,
          32,
          33,
          34,
          35,
          36,
          37,
          38,
          39,
          40,
          41,
          42,
          43,
          44,
          45,
          46,
          47,
          48,
          49,
          50,
          51,
          52,
          53,
          54,
          55,
          56
         ],
         "xaxis": "x",
         "y": [
          0.26908062725532345,
          0.25081001403855113,
          0.23677351889086934,
          0.21926859239252602,
          0.20392754673957825,
          0.1898843115422784,
          0.17476249286314335,
          0.15953923434745976,
          0.14527580832562795,
          0.1315066505496095,
          0.11821314910563027,
          0.1054459504964875,
          0.09715484936789769,
          0.09139619867612676,
          0.08455630391836166,
          0.08073824207957198,
          0.08182966963547032,
          0.07886309994430077,
          0.0794291071048597,
          0.07746715371201678,
          0.07639772844750707,
          0.07658273054332268,
          0.07426707628296643,
          0.0722560588179565,
          0.07097525940072245,
          0.07173020056471592,
          0.06915414696786462,
          0.06885494369014007,
          0.06589930577249062,
          0.06439315246009245,
          0.06508365400680681,
          0.06187568132470294,
          0.06362257752476669,
          0.060212200734673475,
          0.05815457534499285,
          0.05605991420949378,
          0.05364696872307033,
          0.0529305974884731,
          0.050084089178864546,
          0.04523100476802849,
          0.04475307946161526,
          0.044149571257393536,
          0.04260064061821961,
          0.0405448150434872,
          0.03660126203080503,
          0.036071941529105346,
          0.03326288824219529,
          0.0322526486635935,
          0.028950303247789057,
          0.028200309996197864,
          0.024642955784390613,
          0.024858794970119873,
          0.02337276258664887,
          0.021127632160375758,
          0.021624257447334323,
          0.020250769468342384,
          0.01927449717754271
         ],
         "yaxis": "y"
        },
        {
         "mode": "lines",
         "name": "Test Loss",
         "type": "scatter",
         "x": [
          0,
          1,
          2,
          3,
          4,
          5,
          6,
          7,
          8,
          9,
          10,
          11,
          12,
          13,
          14,
          15,
          16,
          17,
          18,
          19,
          20,
          21,
          22,
          23,
          24,
          25,
          26,
          27,
          28,
          29,
          30,
          31,
          32,
          33,
          34,
          35,
          36,
          37,
          38,
          39,
          40,
          41,
          42,
          43,
          44,
          45,
          46,
          47,
          48,
          49,
          50,
          51,
          52,
          53,
          54,
          55,
          56
         ],
         "xaxis": "x2",
         "y": [
          1.6824225187301636,
          1.625044345855713,
          1.5672087669372559,
          1.5096763372421265,
          1.449987769126892,
          1.3881210088729858,
          1.3238614797592163,
          1.2564831972122192,
          1.1809247732162476,
          1.0994764566421509,
          1.0130332708358765,
          0.9288042187690735,
          0.8473889231681824,
          0.7735878825187683,
          0.7231748700141907,
          0.689525306224823,
          0.65546715259552,
          0.6328782439231873,
          0.6261923909187317,
          0.6256502270698547,
          0.6314496397972107,
          0.6424368023872375,
          0.64448481798172,
          0.6477813124656677,
          0.6453554034233093,
          0.6454314589500427,
          0.64016193151474,
          0.6260913014411926,
          0.6180797219276428,
          0.6015779376029968,
          0.5833936929702759,
          0.5790331959724426,
          0.5718669295310974,
          0.5626941919326782,
          0.5494797825813293,
          0.5362074971199036,
          0.5182723999023438,
          0.5011262893676758,
          0.48201480507850647,
          0.4706391990184784,
          0.4644804000854492,
          0.4647001028060913,
          0.4545881748199463,
          0.4422096014022827,
          0.4378180205821991,
          0.4228322505950928,
          0.41287681460380554,
          0.39112162590026855,
          0.37011823058128357,
          0.35997363924980164,
          0.349540114402771,
          0.3525528013706207,
          0.3483770191669464,
          0.3363434970378876,
          0.3228728175163269,
          0.30944588780403137,
          0.3171440660953522
         ],
         "yaxis": "y2"
        }
       ],
       "layout": {
        "showlegend": true,
        "template": {
         "data": {
          "bar": [
           {
            "error_x": {
             "color": "#2a3f5f"
            },
            "error_y": {
             "color": "#2a3f5f"
            },
            "marker": {
             "line": {
              "color": "#E5ECF6",
              "width": 0.5
             },
             "pattern": {
              "fillmode": "overlay",
              "size": 10,
              "solidity": 0.2
             }
            },
            "type": "bar"
           }
          ],
          "barpolar": [
           {
            "marker": {
             "line": {
              "color": "#E5ECF6",
              "width": 0.5
             },
             "pattern": {
              "fillmode": "overlay",
              "size": 10,
              "solidity": 0.2
             }
            },
            "type": "barpolar"
           }
          ],
          "carpet": [
           {
            "aaxis": {
             "endlinecolor": "#2a3f5f",
             "gridcolor": "white",
             "linecolor": "white",
             "minorgridcolor": "white",
             "startlinecolor": "#2a3f5f"
            },
            "baxis": {
             "endlinecolor": "#2a3f5f",
             "gridcolor": "white",
             "linecolor": "white",
             "minorgridcolor": "white",
             "startlinecolor": "#2a3f5f"
            },
            "type": "carpet"
           }
          ],
          "choropleth": [
           {
            "colorbar": {
             "outlinewidth": 0,
             "ticks": ""
            },
            "type": "choropleth"
           }
          ],
          "contour": [
           {
            "colorbar": {
             "outlinewidth": 0,
             "ticks": ""
            },
            "colorscale": [
             [
              0,
              "#0d0887"
             ],
             [
              0.1111111111111111,
              "#46039f"
             ],
             [
              0.2222222222222222,
              "#7201a8"
             ],
             [
              0.3333333333333333,
              "#9c179e"
             ],
             [
              0.4444444444444444,
              "#bd3786"
             ],
             [
              0.5555555555555556,
              "#d8576b"
             ],
             [
              0.6666666666666666,
              "#ed7953"
             ],
             [
              0.7777777777777778,
              "#fb9f3a"
             ],
             [
              0.8888888888888888,
              "#fdca26"
             ],
             [
              1,
              "#f0f921"
             ]
            ],
            "type": "contour"
           }
          ],
          "contourcarpet": [
           {
            "colorbar": {
             "outlinewidth": 0,
             "ticks": ""
            },
            "type": "contourcarpet"
           }
          ],
          "heatmap": [
           {
            "colorbar": {
             "outlinewidth": 0,
             "ticks": ""
            },
            "colorscale": [
             [
              0,
              "#0d0887"
             ],
             [
              0.1111111111111111,
              "#46039f"
             ],
             [
              0.2222222222222222,
              "#7201a8"
             ],
             [
              0.3333333333333333,
              "#9c179e"
             ],
             [
              0.4444444444444444,
              "#bd3786"
             ],
             [
              0.5555555555555556,
              "#d8576b"
             ],
             [
              0.6666666666666666,
              "#ed7953"
             ],
             [
              0.7777777777777778,
              "#fb9f3a"
             ],
             [
              0.8888888888888888,
              "#fdca26"
             ],
             [
              1,
              "#f0f921"
             ]
            ],
            "type": "heatmap"
           }
          ],
          "heatmapgl": [
           {
            "colorbar": {
             "outlinewidth": 0,
             "ticks": ""
            },
            "colorscale": [
             [
              0,
              "#0d0887"
             ],
             [
              0.1111111111111111,
              "#46039f"
             ],
             [
              0.2222222222222222,
              "#7201a8"
             ],
             [
              0.3333333333333333,
              "#9c179e"
             ],
             [
              0.4444444444444444,
              "#bd3786"
             ],
             [
              0.5555555555555556,
              "#d8576b"
             ],
             [
              0.6666666666666666,
              "#ed7953"
             ],
             [
              0.7777777777777778,
              "#fb9f3a"
             ],
             [
              0.8888888888888888,
              "#fdca26"
             ],
             [
              1,
              "#f0f921"
             ]
            ],
            "type": "heatmapgl"
           }
          ],
          "histogram": [
           {
            "marker": {
             "pattern": {
              "fillmode": "overlay",
              "size": 10,
              "solidity": 0.2
             }
            },
            "type": "histogram"
           }
          ],
          "histogram2d": [
           {
            "colorbar": {
             "outlinewidth": 0,
             "ticks": ""
            },
            "colorscale": [
             [
              0,
              "#0d0887"
             ],
             [
              0.1111111111111111,
              "#46039f"
             ],
             [
              0.2222222222222222,
              "#7201a8"
             ],
             [
              0.3333333333333333,
              "#9c179e"
             ],
             [
              0.4444444444444444,
              "#bd3786"
             ],
             [
              0.5555555555555556,
              "#d8576b"
             ],
             [
              0.6666666666666666,
              "#ed7953"
             ],
             [
              0.7777777777777778,
              "#fb9f3a"
             ],
             [
              0.8888888888888888,
              "#fdca26"
             ],
             [
              1,
              "#f0f921"
             ]
            ],
            "type": "histogram2d"
           }
          ],
          "histogram2dcontour": [
           {
            "colorbar": {
             "outlinewidth": 0,
             "ticks": ""
            },
            "colorscale": [
             [
              0,
              "#0d0887"
             ],
             [
              0.1111111111111111,
              "#46039f"
             ],
             [
              0.2222222222222222,
              "#7201a8"
             ],
             [
              0.3333333333333333,
              "#9c179e"
             ],
             [
              0.4444444444444444,
              "#bd3786"
             ],
             [
              0.5555555555555556,
              "#d8576b"
             ],
             [
              0.6666666666666666,
              "#ed7953"
             ],
             [
              0.7777777777777778,
              "#fb9f3a"
             ],
             [
              0.8888888888888888,
              "#fdca26"
             ],
             [
              1,
              "#f0f921"
             ]
            ],
            "type": "histogram2dcontour"
           }
          ],
          "mesh3d": [
           {
            "colorbar": {
             "outlinewidth": 0,
             "ticks": ""
            },
            "type": "mesh3d"
           }
          ],
          "parcoords": [
           {
            "line": {
             "colorbar": {
              "outlinewidth": 0,
              "ticks": ""
             }
            },
            "type": "parcoords"
           }
          ],
          "pie": [
           {
            "automargin": true,
            "type": "pie"
           }
          ],
          "scatter": [
           {
            "fillpattern": {
             "fillmode": "overlay",
             "size": 10,
             "solidity": 0.2
            },
            "type": "scatter"
           }
          ],
          "scatter3d": [
           {
            "line": {
             "colorbar": {
              "outlinewidth": 0,
              "ticks": ""
             }
            },
            "marker": {
             "colorbar": {
              "outlinewidth": 0,
              "ticks": ""
             }
            },
            "type": "scatter3d"
           }
          ],
          "scattercarpet": [
           {
            "marker": {
             "colorbar": {
              "outlinewidth": 0,
              "ticks": ""
             }
            },
            "type": "scattercarpet"
           }
          ],
          "scattergeo": [
           {
            "marker": {
             "colorbar": {
              "outlinewidth": 0,
              "ticks": ""
             }
            },
            "type": "scattergeo"
           }
          ],
          "scattergl": [
           {
            "marker": {
             "colorbar": {
              "outlinewidth": 0,
              "ticks": ""
             }
            },
            "type": "scattergl"
           }
          ],
          "scattermapbox": [
           {
            "marker": {
             "colorbar": {
              "outlinewidth": 0,
              "ticks": ""
             }
            },
            "type": "scattermapbox"
           }
          ],
          "scatterpolar": [
           {
            "marker": {
             "colorbar": {
              "outlinewidth": 0,
              "ticks": ""
             }
            },
            "type": "scatterpolar"
           }
          ],
          "scatterpolargl": [
           {
            "marker": {
             "colorbar": {
              "outlinewidth": 0,
              "ticks": ""
             }
            },
            "type": "scatterpolargl"
           }
          ],
          "scatterternary": [
           {
            "marker": {
             "colorbar": {
              "outlinewidth": 0,
              "ticks": ""
             }
            },
            "type": "scatterternary"
           }
          ],
          "surface": [
           {
            "colorbar": {
             "outlinewidth": 0,
             "ticks": ""
            },
            "colorscale": [
             [
              0,
              "#0d0887"
             ],
             [
              0.1111111111111111,
              "#46039f"
             ],
             [
              0.2222222222222222,
              "#7201a8"
             ],
             [
              0.3333333333333333,
              "#9c179e"
             ],
             [
              0.4444444444444444,
              "#bd3786"
             ],
             [
              0.5555555555555556,
              "#d8576b"
             ],
             [
              0.6666666666666666,
              "#ed7953"
             ],
             [
              0.7777777777777778,
              "#fb9f3a"
             ],
             [
              0.8888888888888888,
              "#fdca26"
             ],
             [
              1,
              "#f0f921"
             ]
            ],
            "type": "surface"
           }
          ],
          "table": [
           {
            "cells": {
             "fill": {
              "color": "#EBF0F8"
             },
             "line": {
              "color": "white"
             }
            },
            "header": {
             "fill": {
              "color": "#C8D4E3"
             },
             "line": {
              "color": "white"
             }
            },
            "type": "table"
           }
          ]
         },
         "layout": {
          "annotationdefaults": {
           "arrowcolor": "#2a3f5f",
           "arrowhead": 0,
           "arrowwidth": 1
          },
          "autotypenumbers": "strict",
          "coloraxis": {
           "colorbar": {
            "outlinewidth": 0,
            "ticks": ""
           }
          },
          "colorscale": {
           "diverging": [
            [
             0,
             "#8e0152"
            ],
            [
             0.1,
             "#c51b7d"
            ],
            [
             0.2,
             "#de77ae"
            ],
            [
             0.3,
             "#f1b6da"
            ],
            [
             0.4,
             "#fde0ef"
            ],
            [
             0.5,
             "#f7f7f7"
            ],
            [
             0.6,
             "#e6f5d0"
            ],
            [
             0.7,
             "#b8e186"
            ],
            [
             0.8,
             "#7fbc41"
            ],
            [
             0.9,
             "#4d9221"
            ],
            [
             1,
             "#276419"
            ]
           ],
           "sequential": [
            [
             0,
             "#0d0887"
            ],
            [
             0.1111111111111111,
             "#46039f"
            ],
            [
             0.2222222222222222,
             "#7201a8"
            ],
            [
             0.3333333333333333,
             "#9c179e"
            ],
            [
             0.4444444444444444,
             "#bd3786"
            ],
            [
             0.5555555555555556,
             "#d8576b"
            ],
            [
             0.6666666666666666,
             "#ed7953"
            ],
            [
             0.7777777777777778,
             "#fb9f3a"
            ],
            [
             0.8888888888888888,
             "#fdca26"
            ],
            [
             1,
             "#f0f921"
            ]
           ],
           "sequentialminus": [
            [
             0,
             "#0d0887"
            ],
            [
             0.1111111111111111,
             "#46039f"
            ],
            [
             0.2222222222222222,
             "#7201a8"
            ],
            [
             0.3333333333333333,
             "#9c179e"
            ],
            [
             0.4444444444444444,
             "#bd3786"
            ],
            [
             0.5555555555555556,
             "#d8576b"
            ],
            [
             0.6666666666666666,
             "#ed7953"
            ],
            [
             0.7777777777777778,
             "#fb9f3a"
            ],
            [
             0.8888888888888888,
             "#fdca26"
            ],
            [
             1,
             "#f0f921"
            ]
           ]
          },
          "colorway": [
           "#636efa",
           "#EF553B",
           "#00cc96",
           "#ab63fa",
           "#FFA15A",
           "#19d3f3",
           "#FF6692",
           "#B6E880",
           "#FF97FF",
           "#FECB52"
          ],
          "font": {
           "color": "#2a3f5f"
          },
          "geo": {
           "bgcolor": "white",
           "lakecolor": "white",
           "landcolor": "#E5ECF6",
           "showlakes": true,
           "showland": true,
           "subunitcolor": "white"
          },
          "hoverlabel": {
           "align": "left"
          },
          "hovermode": "closest",
          "mapbox": {
           "style": "light"
          },
          "paper_bgcolor": "white",
          "plot_bgcolor": "#E5ECF6",
          "polar": {
           "angularaxis": {
            "gridcolor": "white",
            "linecolor": "white",
            "ticks": ""
           },
           "bgcolor": "#E5ECF6",
           "radialaxis": {
            "gridcolor": "white",
            "linecolor": "white",
            "ticks": ""
           }
          },
          "scene": {
           "xaxis": {
            "backgroundcolor": "#E5ECF6",
            "gridcolor": "white",
            "gridwidth": 2,
            "linecolor": "white",
            "showbackground": true,
            "ticks": "",
            "zerolinecolor": "white"
           },
           "yaxis": {
            "backgroundcolor": "#E5ECF6",
            "gridcolor": "white",
            "gridwidth": 2,
            "linecolor": "white",
            "showbackground": true,
            "ticks": "",
            "zerolinecolor": "white"
           },
           "zaxis": {
            "backgroundcolor": "#E5ECF6",
            "gridcolor": "white",
            "gridwidth": 2,
            "linecolor": "white",
            "showbackground": true,
            "ticks": "",
            "zerolinecolor": "white"
           }
          },
          "shapedefaults": {
           "line": {
            "color": "#2a3f5f"
           }
          },
          "ternary": {
           "aaxis": {
            "gridcolor": "white",
            "linecolor": "white",
            "ticks": ""
           },
           "baxis": {
            "gridcolor": "white",
            "linecolor": "white",
            "ticks": ""
           },
           "bgcolor": "#E5ECF6",
           "caxis": {
            "gridcolor": "white",
            "linecolor": "white",
            "ticks": ""
           }
          },
          "title": {
           "x": 0.05
          },
          "xaxis": {
           "automargin": true,
           "gridcolor": "white",
           "linecolor": "white",
           "ticks": "",
           "title": {
            "standoff": 15
           },
           "zerolinecolor": "white",
           "zerolinewidth": 2
          },
          "yaxis": {
           "automargin": true,
           "gridcolor": "white",
           "linecolor": "white",
           "ticks": "",
           "title": {
            "standoff": 15
           },
           "zerolinecolor": "white",
           "zerolinewidth": 2
          }
         }
        },
        "title": {
         "font": {
          "size": 25,
          "weight": "bold"
         },
         "text": "Loss over Epoch",
         "x": 0.5
        },
        "xaxis": {
         "anchor": "y",
         "domain": [
          0,
          0.45
         ],
         "title": {
          "text": "Epoch"
         }
        },
        "xaxis2": {
         "anchor": "y2",
         "domain": [
          0.55,
          1
         ],
         "title": {
          "text": "Epoch"
         }
        },
        "yaxis": {
         "anchor": "x",
         "domain": [
          0,
          1
         ],
         "title": {
          "text": "Epoch Loss"
         }
        },
        "yaxis2": {
         "anchor": "x2",
         "domain": [
          0,
          1
         ],
         "title": {
          "text": "Test Loss"
         }
        }
       }
      }
     },
     "metadata": {},
     "output_type": "display_data"
    }
   ],
   "source": [
    "# Create a subplot with 1 row and 2 columns\n",
    "fig = make_subplots(rows=1, cols=2)\n",
    "\n",
    "# Add the line chart to both subplots\n",
    "fig.add_trace(\n",
    "    go.Scatter(x=ep_data.index, y=ep_data[\"Epoch Loss\"], mode=\"lines\", name=\"Epoch Loss\"),\n",
    "    row=1,\n",
    "    col=1,\n",
    ")\n",
    "fig.add_trace(\n",
    "    go.Scatter(x=test_data.index, y=test_data[\"Test Loss\"], mode=\"lines\", name=\"Test Loss\"),\n",
    "    row=1,\n",
    "    col=2,\n",
    ")\n",
    "\n",
    "# Update axis labels\n",
    "fig.update_xaxes(title_text=\"Epoch\", row=1, col=1)\n",
    "fig.update_xaxes(title_text=\"Epoch\", row=1, col=2)\n",
    "fig.update_yaxes(title_text=\"Epoch Loss\", row=1, col=1)\n",
    "fig.update_yaxes(title_text=\"Test Loss\", row=1, col=2)\n",
    "\n",
    "# Set subplot layout\n",
    "fig.update_layout(title=\"Loss over Epoch\", title_x=0.5,title_font=dict(size=25, weight='bold'), showlegend=True)\n",
    "\n",
    "# Show the plot\n",
    "fig.show()"
   ]
  },
  {
   "cell_type": "code",
   "execution_count": 1236,
   "metadata": {},
   "outputs": [
    {
     "data": {
      "image/png": "[encoded data removed]",
      "text/plain": [
       "<Figure size 1000x300 with 2 Axes>"
      ]
     },
     "metadata": {},
     "output_type": "display_data"
    }
   ],
   "source": [
    "# Plot training & validation loss values\n",
    "plt.figure(figsize=(10, 3))\n",
    "plt.suptitle(\"Loss over the Epoch\")\n",
    "\n",
    "plt.subplot(1, 2, 1)\n",
    "plt.plot(np.array(epoch_losses), color=\"r\")\n",
    "plt.ylabel(\"Epoch Loss\")\n",
    "plt.xlabel(\"Epoch\")\n",
    "plt.legend([\"Epoch Loss\"], loc=\"upper right\")\n",
    "plt.grid(True)\n",
    "\n",
    "plt.subplot(1, 2, 2)\n",
    "plt.plot(np.array(test_losses), color=\"g\")\n",
    "plt.ylabel(\"Test Loss\")\n",
    "plt.xlabel(\"Epoch\")\n",
    "plt.legend([\"Test Loss\"], loc=\"upper right\")\n",
    "plt.grid(True)\n",
    "\n",
    "plt.show()"
   ]
  },
  {
   "cell_type": "markdown",
   "metadata": {},
   "source": [
    "#### Step 4: Evaluation"
   ]
  },
  {
   "cell_type": "code",
   "execution_count": 1237,
   "metadata": {},
   "outputs": [
    {
     "name": "stdout",
     "output_type": "stream",
     "text": [
      "Test Loss: 0.3171\n"
     ]
    }
   ],
   "source": [
    "model.eval()\n",
    "with torch.no_grad():\n",
    "    test_outputs = model(X_test_tensor)\n",
    "    test_loss = criterion(test_outputs.squeeze(), y_test_tensor)\n",
    "    print(f\"Test Loss: {test_loss.item():.4f}\")"
   ]
  }
 ],
 "metadata": {
  "kernelspec": {
   "display_name": "venv",
   "language": "python",
   "name": "python3"
  },
  "language_info": {
   "codemirror_mode": {
    "name": "ipython",
    "version": 3
   },
   "file_extension": ".py",
   "mimetype": "text/x-python",
   "name": "python",
   "nbconvert_exporter": "python",
   "pygments_lexer": "ipython3",
   "version": "3.12.1"
  }
 },
 "nbformat": 4,
 "nbformat_minor": 2
}
