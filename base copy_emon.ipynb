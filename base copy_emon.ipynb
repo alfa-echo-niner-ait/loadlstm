{
 "cells": [
  {
   "cell_type": "markdown",
   "metadata": {},
   "source": [
    "## Data Preprocessing"
   ]
  },
  {
   "cell_type": "code",
   "execution_count": 85,
   "metadata": {},
   "outputs": [],
   "source": [
    "import numpy as np\n",
    "import pandas as pd"
   ]
  },
  {
   "cell_type": "code",
   "execution_count": 86,
   "metadata": {},
   "outputs": [],
   "source": [
    "# Power load dataset\n",
    "load_dataset = pd.read_csv(\"data/load_data_clean.csv\")\n",
    "# Meterological dataset\n",
    "met_dataset = pd.read_csv(\"data/met_data_clean.csv\")"
   ]
  },
  {
   "cell_type": "code",
   "execution_count": 87,
   "metadata": {},
   "outputs": [],
   "source": [
    "load_df = pd.DataFrame(load_dataset)\n",
    "met_df = pd.DataFrame(met_dataset)"
   ]
  },
  {
   "cell_type": "code",
   "execution_count": 88,
   "metadata": {},
   "outputs": [],
   "source": [
    "load_df[\"DATE (MM/DD/YYYY)\"] = pd.to_datetime(\n",
    "    load_df[\"DATE (MM/DD/YYYY)\"], format=\"%m/%d/%Y\"\n",
    ")\n",
    "\n",
    "met_df[\"DATE (MM/DD/YYYY)\"] = pd.to_datetime(\n",
    "    met_df[\"DATE (MM/DD/YYYY)\"], format=\"%m/%d/%Y\"\n",
    ")"
   ]
  },
  {
   "cell_type": "code",
   "execution_count": 89,
   "metadata": {},
   "outputs": [
    {
     "data": {
      "text/html": [
       "<div>\n",
       "<style scoped>\n",
       "    .dataframe tbody tr th:only-of-type {\n",
       "        vertical-align: middle;\n",
       "    }\n",
       "\n",
       "    .dataframe tbody tr th {\n",
       "        vertical-align: top;\n",
       "    }\n",
       "\n",
       "    .dataframe thead th {\n",
       "        text-align: right;\n",
       "    }\n",
       "</style>\n",
       "<table border=\"1\" class=\"dataframe\">\n",
       "  <thead>\n",
       "    <tr style=\"text-align: right;\">\n",
       "      <th></th>\n",
       "      <th>DATE (MM/DD/YYYY)</th>\n",
       "      <th>KW</th>\n",
       "      <th>KWS</th>\n",
       "      <th>CHWTON</th>\n",
       "      <th>HTmmBTU</th>\n",
       "      <th>Combined mmBTU</th>\n",
       "      <th>Combined Tons Carbon</th>\n",
       "      <th>KW#Houses</th>\n",
       "      <th>KWlightbulbs</th>\n",
       "      <th>KWgalsgas</th>\n",
       "      <th>...</th>\n",
       "      <th>CHWTONlightbulbs</th>\n",
       "      <th>CHWTONgalsgas</th>\n",
       "      <th>HTmmBTU#Houses</th>\n",
       "      <th>HTmmBTUlightbulbs</th>\n",
       "      <th>HTmmBTUgalsgas</th>\n",
       "      <th>Total#Houses</th>\n",
       "      <th>Totallightbulbs</th>\n",
       "      <th>Totalgalsgas</th>\n",
       "      <th>GHG</th>\n",
       "      <th>DOW</th>\n",
       "    </tr>\n",
       "  </thead>\n",
       "  <tbody>\n",
       "    <tr>\n",
       "      <th>0</th>\n",
       "      <td>2024-05-01</td>\n",
       "      <td>351973.45</td>\n",
       "      <td>39367.64</td>\n",
       "      <td>117009.06</td>\n",
       "      <td>115.27</td>\n",
       "      <td>2720.37</td>\n",
       "      <td>497.21</td>\n",
       "      <td>100564</td>\n",
       "      <td>25140971</td>\n",
       "      <td>9608</td>\n",
       "      <td>...</td>\n",
       "      <td>29385656</td>\n",
       "      <td>11233</td>\n",
       "      <td>9652</td>\n",
       "      <td>2412510</td>\n",
       "      <td>922</td>\n",
       "      <td>227789</td>\n",
       "      <td>56939137</td>\n",
       "      <td>969870</td>\n",
       "      <td>169.754</td>\n",
       "      <td>4</td>\n",
       "    </tr>\n",
       "    <tr>\n",
       "      <th>1</th>\n",
       "      <td>2024-05-02</td>\n",
       "      <td>353826.38</td>\n",
       "      <td>39144.04</td>\n",
       "      <td>119220.71</td>\n",
       "      <td>115.03</td>\n",
       "      <td>2752.99</td>\n",
       "      <td>503.17</td>\n",
       "      <td>101093</td>\n",
       "      <td>25273323</td>\n",
       "      <td>9658</td>\n",
       "      <td>...</td>\n",
       "      <td>29941089</td>\n",
       "      <td>11445</td>\n",
       "      <td>9632</td>\n",
       "      <td>2407457</td>\n",
       "      <td>920</td>\n",
       "      <td>230520</td>\n",
       "      <td>57621868</td>\n",
       "      <td>987740</td>\n",
       "      <td>170.867</td>\n",
       "      <td>5</td>\n",
       "    </tr>\n",
       "    <tr>\n",
       "      <th>2</th>\n",
       "      <td>2024-05-03</td>\n",
       "      <td>357657.88</td>\n",
       "      <td>38935.34</td>\n",
       "      <td>123171.43</td>\n",
       "      <td>109.79</td>\n",
       "      <td>2808.22</td>\n",
       "      <td>513.27</td>\n",
       "      <td>102188</td>\n",
       "      <td>25547001</td>\n",
       "      <td>9763</td>\n",
       "      <td>...</td>\n",
       "      <td>30933274</td>\n",
       "      <td>11824</td>\n",
       "      <td>9193</td>\n",
       "      <td>2297666</td>\n",
       "      <td>878</td>\n",
       "      <td>235145</td>\n",
       "      <td>58777940</td>\n",
       "      <td>1019713</td>\n",
       "      <td>173.062</td>\n",
       "      <td>6</td>\n",
       "    </tr>\n",
       "    <tr>\n",
       "      <th>3</th>\n",
       "      <td>2024-05-04</td>\n",
       "      <td>363958.25</td>\n",
       "      <td>38676.54</td>\n",
       "      <td>118279.24</td>\n",
       "      <td>108.33</td>\n",
       "      <td>2769.56</td>\n",
       "      <td>506.20</td>\n",
       "      <td>103988</td>\n",
       "      <td>25997028</td>\n",
       "      <td>9935</td>\n",
       "      <td>...</td>\n",
       "      <td>29704649</td>\n",
       "      <td>11355</td>\n",
       "      <td>9071</td>\n",
       "      <td>2267263</td>\n",
       "      <td>867</td>\n",
       "      <td>231908</td>\n",
       "      <td>57968940</td>\n",
       "      <td>981181</td>\n",
       "      <td>176.630</td>\n",
       "      <td>7</td>\n",
       "    </tr>\n",
       "    <tr>\n",
       "      <th>4</th>\n",
       "      <td>2024-05-05</td>\n",
       "      <td>320144.95</td>\n",
       "      <td>33341.16</td>\n",
       "      <td>106070.52</td>\n",
       "      <td>108.39</td>\n",
       "      <td>2473.62</td>\n",
       "      <td>452.11</td>\n",
       "      <td>91470</td>\n",
       "      <td>22867506</td>\n",
       "      <td>8739</td>\n",
       "      <td>...</td>\n",
       "      <td>26638552</td>\n",
       "      <td>10183</td>\n",
       "      <td>9076</td>\n",
       "      <td>2268428</td>\n",
       "      <td>867</td>\n",
       "      <td>207127</td>\n",
       "      <td>51774485</td>\n",
       "      <td>879305</td>\n",
       "      <td>155.741</td>\n",
       "      <td>1</td>\n",
       "    </tr>\n",
       "  </tbody>\n",
       "</table>\n",
       "<p>5 rows × 21 columns</p>\n",
       "</div>"
      ],
      "text/plain": [
       "  DATE (MM/DD/YYYY)         KW       KWS     CHWTON  HTmmBTU  Combined mmBTU  \\\n",
       "0        2024-05-01  351973.45  39367.64  117009.06   115.27         2720.37   \n",
       "1        2024-05-02  353826.38  39144.04  119220.71   115.03         2752.99   \n",
       "2        2024-05-03  357657.88  38935.34  123171.43   109.79         2808.22   \n",
       "3        2024-05-04  363958.25  38676.54  118279.24   108.33         2769.56   \n",
       "4        2024-05-05  320144.95  33341.16  106070.52   108.39         2473.62   \n",
       "\n",
       "   Combined Tons Carbon  KW#Houses  KWlightbulbs  KWgalsgas  ...  \\\n",
       "0                497.21     100564      25140971       9608  ...   \n",
       "1                503.17     101093      25273323       9658  ...   \n",
       "2                513.27     102188      25547001       9763  ...   \n",
       "3                506.20     103988      25997028       9935  ...   \n",
       "4                452.11      91470      22867506       8739  ...   \n",
       "\n",
       "   CHWTONlightbulbs  CHWTONgalsgas  HTmmBTU#Houses  HTmmBTUlightbulbs  \\\n",
       "0          29385656          11233            9652            2412510   \n",
       "1          29941089          11445            9632            2407457   \n",
       "2          30933274          11824            9193            2297666   \n",
       "3          29704649          11355            9071            2267263   \n",
       "4          26638552          10183            9076            2268428   \n",
       "\n",
       "   HTmmBTUgalsgas  Total#Houses  Totallightbulbs  Totalgalsgas      GHG  DOW  \n",
       "0             922        227789         56939137        969870  169.754    4  \n",
       "1             920        230520         57621868        987740  170.867    5  \n",
       "2             878        235145         58777940       1019713  173.062    6  \n",
       "3             867        231908         57968940        981181  176.630    7  \n",
       "4             867        207127         51774485        879305  155.741    1  \n",
       "\n",
       "[5 rows x 21 columns]"
      ]
     },
     "execution_count": 89,
     "metadata": {},
     "output_type": "execute_result"
    }
   ],
   "source": [
    "load_df.head()"
   ]
  },
  {
   "cell_type": "markdown",
   "metadata": {},
   "source": [
    "Here is an explanation of each data column of load dataset:\n",
    "\n",
    "1. **DATE (MM/DD/YYYY):**\n",
    "   - **Description:** The date in the format Month/Day/Year.\n",
    "   - **Example:** `05/01/2024` represents May 1, 2024.\n",
    "\n",
    "2. **KW:**\n",
    "   - **Description:** The total kilowatt (KW) power consumption for the day.\n",
    "   - **Example:** `351973.45` KW represents the total power consumption on the given day.\n",
    "\n",
    "3. **KWS:**\n",
    "   - **Description:** The total power consumption in kilowatt-hours (KWH).\n",
    "   - **Example:** `39367.64` KWS represents the total power consumption in KWH.\n",
    "\n",
    "4. **CHWTON:**\n",
    "   - **Description:** The total cooling energy consumption in cooling tons.\n",
    "   - **Example:** `117009.06` CHWTON represents the cooling energy consumption.\n",
    "\n",
    "5. **HTmmBTU:**\n",
    "   - **Description:** The total heating energy consumption in million British thermal units (mmBTU).\n",
    "   - **Example:** `115.27` HTmmBTU represents the heating energy consumption.\n",
    "\n",
    "6. **Combined mmBTU:**\n",
    "   - **Description:** The combined energy consumption (cooling and heating) in million British thermal units (mmBTU).\n",
    "   - **Example:** `2720.37` Combined mmBTU represents the combined energy consumption.\n",
    "\n",
    "7. **Combined Tons Carbon:**\n",
    "   - **Description:** The combined carbon emissions in tons.\n",
    "   - **Example:** `497.21` Combined Tons Carbon represents the total carbon emissions.\n",
    "\n",
    "8. **KW#Houses:**\n",
    "   - **Description:** The equivalent number of houses that the KW consumption can power.\n",
    "   - **Example:** `100564` houses can be powered by the KW consumption.\n",
    "\n",
    "9. **KWlightbulbs:**\n",
    "   - **Description:** The equivalent number of lightbulbs that the KW consumption can power.\n",
    "   - **Example:** `25140971` lightbulbs can be powered by the KW consumption.\n",
    "\n",
    "10. **KWgalsgas:**\n",
    "    - **Description:** The equivalent number of gallons of gasoline that the KW consumption can power.\n",
    "    - **Example:** `9608` gallons of gasoline can be powered by the KW consumption.\n",
    "\n",
    "11. **CHWTON#Houses:**\n",
    "    - **Description:** The equivalent number of houses that the cooling energy (CHWTON) consumption can power.\n",
    "    - **Example:** `117572` houses can be powered by the cooling energy consumption.\n",
    "\n",
    "12. **CHWTONlightbulbs:**\n",
    "    - **Description:** The equivalent number of lightbulbs that the cooling energy (CHWTON) consumption can power.\n",
    "    - **Example:** `29385656` lightbulbs can be powered by the cooling energy consumption.\n",
    "\n",
    "13. **CHWTONgalsgas:**\n",
    "    - **Description:** The equivalent number of gallons of gasoline that the cooling energy (CHWTON) consumption can power.\n",
    "    - **Example:** `11233` gallons of gasoline can be powered by the cooling energy consumption.\n",
    "\n",
    "14. **HTmmBTU#Houses:**\n",
    "    - **Description:** The equivalent number of houses that the heating energy (HTmmBTU) consumption can power.\n",
    "    - **Example:** `9652` houses can be powered by the heating energy consumption.\n",
    "\n",
    "15. **HTmmBTUlightbulbs:**\n",
    "    - **Description:** The equivalent number of lightbulbs that the heating energy (HTmmBTU) consumption can power.\n",
    "    - **Example:** `2412510` lightbulbs can be powered by the heating energy consumption.\n",
    "\n",
    "16. **HTmmBTUgalsgas:**\n",
    "    - **Description:** The equivalent number of gallons of gasoline that the heating energy (HTmmBTU) consumption can power.\n",
    "    - **Example:** `922` gallons of gasoline can be powered by the heating energy consumption.\n",
    "\n",
    "17. **Total#Houses:**\n",
    "    - **Description:** The total equivalent number of houses that the combined energy consumption can power.\n",
    "    - **Example:** `227789` houses can be powered by the combined energy consumption.\n",
    "\n",
    "18. **Totallightbulbs:**\n",
    "    - **Description:** The total equivalent number of lightbulbs that the combined energy consumption can power.\n",
    "    - **Example:** `56939137` lightbulbs can be powered by the combined energy consumption.\n",
    "\n",
    "19. **Totalgalsgas:**\n",
    "    - **Description:** The total equivalent number of gallons of gasoline that the combined energy consumption can power.\n",
    "    - **Example:** `969870` gallons of gasoline can be powered by the combined energy consumption.\n",
    "\n",
    "20. **GHG:**\n",
    "    - **Description:** Greenhouse gas emissions.\n",
    "    - **Example:** `169.754` represents the greenhouse gas emissions.\n",
    "\n",
    "21. **DOW:**\n",
    "    - **Description:** Day of the week, where 1 represents Monday, 2 represents Tuesday, etc.\n",
    "    - **Example:** `4` represents Thursday."
   ]
  },
  {
   "cell_type": "code",
   "execution_count": 90,
   "metadata": {},
   "outputs": [
    {
     "data": {
      "text/html": [
       "<div>\n",
       "<style scoped>\n",
       "    .dataframe tbody tr th:only-of-type {\n",
       "        vertical-align: middle;\n",
       "    }\n",
       "\n",
       "    .dataframe tbody tr th {\n",
       "        vertical-align: top;\n",
       "    }\n",
       "\n",
       "    .dataframe thead th {\n",
       "        text-align: right;\n",
       "    }\n",
       "</style>\n",
       "<table border=\"1\" class=\"dataframe\">\n",
       "  <thead>\n",
       "    <tr style=\"text-align: right;\">\n",
       "      <th></th>\n",
       "      <th>DATE (MM/DD/YYYY)</th>\n",
       "      <th>AVG Air Temperature [deg F]</th>\n",
       "      <th>MAX Air Temperature [deg F]</th>\n",
       "      <th>MIN Air Temperature [deg F]</th>\n",
       "      <th>AVG Rel Humidity [%]</th>\n",
       "      <th>MAX Rel Humidity [%]</th>\n",
       "      <th>MIN Rel Humidity [%]</th>\n",
       "      <th>AVG Avg Wind Speed @ 3m [MPH]</th>\n",
       "      <th>MAX Avg Wind Speed @ 3m [MPH]</th>\n",
       "      <th>MIN Avg Wind Speed @ 3m [MPH]</th>\n",
       "      <th>AVG Peak Wind Speed @ 3m [MPH]</th>\n",
       "      <th>MAX Peak Wind Speed @ 3m [MPH]</th>\n",
       "      <th>MIN Peak Wind Speed @ 3m [MPH]</th>\n",
       "      <th>AVG Station Pressure [inHg]</th>\n",
       "      <th>MAX Station Pressure [inHg]</th>\n",
       "      <th>MIN Station Pressure [inHg]</th>\n",
       "    </tr>\n",
       "  </thead>\n",
       "  <tbody>\n",
       "    <tr>\n",
       "      <th>0</th>\n",
       "      <td>2024-05-01</td>\n",
       "      <td>76.2268</td>\n",
       "      <td>87.494</td>\n",
       "      <td>61.322</td>\n",
       "      <td>19.3349</td>\n",
       "      <td>34.09</td>\n",
       "      <td>8.040</td>\n",
       "      <td>7.5972</td>\n",
       "      <td>24.4721</td>\n",
       "      <td>0.0</td>\n",
       "      <td>11.1715</td>\n",
       "      <td>30.6460</td>\n",
       "      <td>0.0</td>\n",
       "      <td>27.2098</td>\n",
       "      <td>27.2561</td>\n",
       "      <td>27.1436</td>\n",
       "    </tr>\n",
       "    <tr>\n",
       "      <th>1</th>\n",
       "      <td>2024-05-02</td>\n",
       "      <td>76.1305</td>\n",
       "      <td>89.690</td>\n",
       "      <td>60.836</td>\n",
       "      <td>18.6194</td>\n",
       "      <td>36.39</td>\n",
       "      <td>6.938</td>\n",
       "      <td>5.1366</td>\n",
       "      <td>22.8839</td>\n",
       "      <td>0.0</td>\n",
       "      <td>8.0311</td>\n",
       "      <td>27.2906</td>\n",
       "      <td>0.0</td>\n",
       "      <td>27.2407</td>\n",
       "      <td>27.2873</td>\n",
       "      <td>27.1868</td>\n",
       "    </tr>\n",
       "    <tr>\n",
       "      <th>2</th>\n",
       "      <td>2024-05-03</td>\n",
       "      <td>77.3261</td>\n",
       "      <td>89.960</td>\n",
       "      <td>63.878</td>\n",
       "      <td>19.7970</td>\n",
       "      <td>41.99</td>\n",
       "      <td>6.877</td>\n",
       "      <td>5.7147</td>\n",
       "      <td>23.8457</td>\n",
       "      <td>0.0</td>\n",
       "      <td>8.8923</td>\n",
       "      <td>39.0345</td>\n",
       "      <td>0.0</td>\n",
       "      <td>27.2277</td>\n",
       "      <td>27.2663</td>\n",
       "      <td>27.1653</td>\n",
       "    </tr>\n",
       "    <tr>\n",
       "      <th>3</th>\n",
       "      <td>2024-05-04</td>\n",
       "      <td>76.8995</td>\n",
       "      <td>89.762</td>\n",
       "      <td>61.106</td>\n",
       "      <td>17.8820</td>\n",
       "      <td>31.30</td>\n",
       "      <td>6.234</td>\n",
       "      <td>5.5733</td>\n",
       "      <td>20.5574</td>\n",
       "      <td>0.0</td>\n",
       "      <td>8.6903</td>\n",
       "      <td>25.6129</td>\n",
       "      <td>0.0</td>\n",
       "      <td>27.2277</td>\n",
       "      <td>27.2670</td>\n",
       "      <td>27.1798</td>\n",
       "    </tr>\n",
       "    <tr>\n",
       "      <th>4</th>\n",
       "      <td>2024-05-05</td>\n",
       "      <td>75.1771</td>\n",
       "      <td>86.774</td>\n",
       "      <td>63.176</td>\n",
       "      <td>18.5651</td>\n",
       "      <td>30.04</td>\n",
       "      <td>9.040</td>\n",
       "      <td>11.2813</td>\n",
       "      <td>32.4132</td>\n",
       "      <td>0.0</td>\n",
       "      <td>16.0872</td>\n",
       "      <td>44.0676</td>\n",
       "      <td>0.0</td>\n",
       "      <td>27.2212</td>\n",
       "      <td>27.2677</td>\n",
       "      <td>27.1493</td>\n",
       "    </tr>\n",
       "  </tbody>\n",
       "</table>\n",
       "</div>"
      ],
      "text/plain": [
       "  DATE (MM/DD/YYYY)  AVG Air Temperature [deg F]  MAX Air Temperature [deg F]  \\\n",
       "0        2024-05-01                      76.2268                       87.494   \n",
       "1        2024-05-02                      76.1305                       89.690   \n",
       "2        2024-05-03                      77.3261                       89.960   \n",
       "3        2024-05-04                      76.8995                       89.762   \n",
       "4        2024-05-05                      75.1771                       86.774   \n",
       "\n",
       "   MIN Air Temperature [deg F]  AVG Rel Humidity [%]  MAX Rel Humidity [%]  \\\n",
       "0                       61.322               19.3349                 34.09   \n",
       "1                       60.836               18.6194                 36.39   \n",
       "2                       63.878               19.7970                 41.99   \n",
       "3                       61.106               17.8820                 31.30   \n",
       "4                       63.176               18.5651                 30.04   \n",
       "\n",
       "   MIN Rel Humidity [%]  AVG Avg Wind Speed @ 3m [MPH]  \\\n",
       "0                 8.040                         7.5972   \n",
       "1                 6.938                         5.1366   \n",
       "2                 6.877                         5.7147   \n",
       "3                 6.234                         5.5733   \n",
       "4                 9.040                        11.2813   \n",
       "\n",
       "   MAX Avg Wind Speed @ 3m [MPH]  MIN Avg Wind Speed @ 3m [MPH]  \\\n",
       "0                        24.4721                            0.0   \n",
       "1                        22.8839                            0.0   \n",
       "2                        23.8457                            0.0   \n",
       "3                        20.5574                            0.0   \n",
       "4                        32.4132                            0.0   \n",
       "\n",
       "   AVG Peak Wind Speed @ 3m [MPH]  MAX Peak Wind Speed @ 3m [MPH]  \\\n",
       "0                         11.1715                         30.6460   \n",
       "1                          8.0311                         27.2906   \n",
       "2                          8.8923                         39.0345   \n",
       "3                          8.6903                         25.6129   \n",
       "4                         16.0872                         44.0676   \n",
       "\n",
       "   MIN Peak Wind Speed @ 3m [MPH]  AVG Station Pressure [inHg]  \\\n",
       "0                             0.0                      27.2098   \n",
       "1                             0.0                      27.2407   \n",
       "2                             0.0                      27.2277   \n",
       "3                             0.0                      27.2277   \n",
       "4                             0.0                      27.2212   \n",
       "\n",
       "   MAX Station Pressure [inHg]  MIN Station Pressure [inHg]  \n",
       "0                      27.2561                      27.1436  \n",
       "1                      27.2873                      27.1868  \n",
       "2                      27.2663                      27.1653  \n",
       "3                      27.2670                      27.1798  \n",
       "4                      27.2677                      27.1493  "
      ]
     },
     "execution_count": 90,
     "metadata": {},
     "output_type": "execute_result"
    }
   ],
   "source": [
    "met_df.head()"
   ]
  },
  {
   "cell_type": "markdown",
   "metadata": {},
   "source": [
    "Here is an explanation of each column in the meteorological dataset:\n",
    "\n",
    "1. **DATE (MM/DD/YYYY):**\n",
    "   - **Description:** The date in the format Month/Day/Year.\n",
    "   - **Example:** `05/01/2024` represents May 1, 2024.\n",
    "\n",
    "2. **AVG Air Temperature [deg F]:**\n",
    "   - **Description:** The average air temperature in degrees Fahrenheit for the day.\n",
    "   - **Example:** `76.2268` degrees Fahrenheit.\n",
    "\n",
    "3. **MAX Air Temperature [deg F]:**\n",
    "   - **Description:** The maximum air temperature in degrees Fahrenheit for the day.\n",
    "   - **Example:** `87.494` degrees Fahrenheit.\n",
    "\n",
    "4. **MIN Air Temperature [deg F]:**\n",
    "   - **Description:** The minimum air temperature in degrees Fahrenheit for the day.\n",
    "   - **Example:** `61.322` degrees Fahrenheit.\n",
    "\n",
    "5. **AVG Rel Humidity [%]:**\n",
    "   - **Description:** The average relative humidity as a percentage for the day.\n",
    "   - **Example:** `19.3349%`.\n",
    "\n",
    "6. **MAX Rel Humidity [%]:**\n",
    "   - **Description:** The maximum relative humidity as a percentage for the day.\n",
    "   - **Example:** `34.09%`.\n",
    "\n",
    "7. **MIN Rel Humidity [%]:**\n",
    "   - **Description:** The minimum relative humidity as a percentage for the day.\n",
    "   - **Example:** `8.04%`.\n",
    "\n",
    "8. **AVG Avg Wind Speed @ 3m [MPH]:**\n",
    "   - **Description:** The average wind speed at 3 meters above ground level in miles per hour for the day.\n",
    "   - **Example:** `7.5972` miles per hour.\n",
    "\n",
    "9. **MAX Avg Wind Speed @ 3m [MPH]:**\n",
    "   - **Description:** The maximum average wind speed at 3 meters above ground level in miles per hour for the day.\n",
    "   - **Example:** `24.4721` miles per hour.\n",
    "\n",
    "10. **MIN Avg Wind Speed @ 3m [MPH]:**\n",
    "    - **Description:** The minimum average wind speed at 3 meters above ground level in miles per hour for the day.\n",
    "    - **Example:** `0.0` miles per hour.\n",
    "\n",
    "11. **AVG Peak Wind Speed @ 3m [MPH]:**\n",
    "    - **Description:** The average peak wind speed at 3 meters above ground level in miles per hour for the day.\n",
    "    - **Example:** `11.1715` miles per hour.\n",
    "\n",
    "12. **MAX Peak Wind Speed @ 3m [MPH]:**\n",
    "    - **Description:** The maximum peak wind speed at 3 meters above ground level in miles per hour for the day.\n",
    "    - **Example:** `30.646` miles per hour.\n",
    "\n",
    "13. **MIN Peak Wind Speed @ 3m [MPH]:**\n",
    "    - **Description:** The minimum peak wind speed at 3 meters above ground level in miles per hour for the day.\n",
    "    - **Example:** `0.0` miles per hour.\n",
    "\n",
    "14. **AVG Station Pressure [inHg]:**\n",
    "    - **Description:** The average station pressure in inches of mercury for the day.\n",
    "    - **Example:** `27.2098` inches of mercury.\n",
    "\n",
    "15. **MAX Station Pressure [inHg]:**\n",
    "    - **Description:** The maximum station pressure in inches of mercury for the day.\n",
    "    - **Example:** `27.2561` inches of mercury.\n",
    "\n",
    "16. **MIN Station Pressure [inHg]:**\n",
    "    - **Description:** The minimum station pressure in inches of mercury for the day.\n",
    "    - **Example:** `27.1436` inches of mercury.\n",
    "\n",
    "These columns represent various meteorological measurements that can influence power load and consumption patterns. By incorporating this data into our analysis, we can build models that account for the impact of weather conditions on power usage."
   ]
  },
  {
   "cell_type": "code",
   "execution_count": 91,
   "metadata": {},
   "outputs": [
    {
     "name": "stdout",
     "output_type": "stream",
     "text": [
      "<class 'pandas.core.frame.DataFrame'>\n",
      "RangeIndex: 61 entries, 0 to 60\n",
      "Data columns (total 21 columns):\n",
      " #   Column                Non-Null Count  Dtype         \n",
      "---  ------                --------------  -----         \n",
      " 0   DATE (MM/DD/YYYY)     61 non-null     datetime64[ns]\n",
      " 1   KW                    61 non-null     float64       \n",
      " 2   KWS                   61 non-null     float64       \n",
      " 3   CHWTON                61 non-null     float64       \n",
      " 4   HTmmBTU               61 non-null     float64       \n",
      " 5   Combined mmBTU        61 non-null     float64       \n",
      " 6   Combined Tons Carbon  61 non-null     float64       \n",
      " 7   KW#Houses             61 non-null     int64         \n",
      " 8   KWlightbulbs          61 non-null     int64         \n",
      " 9   KWgalsgas             61 non-null     int64         \n",
      " 10  CHWTON#Houses         61 non-null     int64         \n",
      " 11  CHWTONlightbulbs      61 non-null     int64         \n",
      " 12  CHWTONgalsgas         61 non-null     int64         \n",
      " 13  HTmmBTU#Houses        61 non-null     int64         \n",
      " 14  HTmmBTUlightbulbs     61 non-null     int64         \n",
      " 15  HTmmBTUgalsgas        61 non-null     int64         \n",
      " 16  Total#Houses          61 non-null     int64         \n",
      " 17  Totallightbulbs       61 non-null     int64         \n",
      " 18  Totalgalsgas          61 non-null     int64         \n",
      " 19  GHG                   61 non-null     float64       \n",
      " 20  DOW                   61 non-null     int64         \n",
      "dtypes: datetime64[ns](1), float64(7), int64(13)\n",
      "memory usage: 10.1 KB\n"
     ]
    }
   ],
   "source": [
    "load_df.info()"
   ]
  },
  {
   "cell_type": "code",
   "execution_count": 92,
   "metadata": {},
   "outputs": [
    {
     "name": "stdout",
     "output_type": "stream",
     "text": [
      "<class 'pandas.core.frame.DataFrame'>\n",
      "RangeIndex: 61 entries, 0 to 60\n",
      "Data columns (total 16 columns):\n",
      " #   Column                          Non-Null Count  Dtype         \n",
      "---  ------                          --------------  -----         \n",
      " 0   DATE (MM/DD/YYYY)               61 non-null     datetime64[ns]\n",
      " 1   AVG Air Temperature [deg F]     61 non-null     float64       \n",
      " 2   MAX Air Temperature [deg F]     61 non-null     float64       \n",
      " 3   MIN Air Temperature [deg F]     61 non-null     float64       \n",
      " 4   AVG Rel Humidity [%]            61 non-null     float64       \n",
      " 5   MAX Rel Humidity [%]            61 non-null     float64       \n",
      " 6   MIN Rel Humidity [%]            61 non-null     float64       \n",
      " 7   AVG Avg Wind Speed @ 3m [MPH]   61 non-null     float64       \n",
      " 8   MAX Avg Wind Speed @ 3m [MPH]   61 non-null     float64       \n",
      " 9   MIN Avg Wind Speed @ 3m [MPH]   61 non-null     float64       \n",
      " 10  AVG Peak Wind Speed @ 3m [MPH]  61 non-null     float64       \n",
      " 11  MAX Peak Wind Speed @ 3m [MPH]  61 non-null     float64       \n",
      " 12  MIN Peak Wind Speed @ 3m [MPH]  61 non-null     float64       \n",
      " 13  AVG Station Pressure [inHg]     61 non-null     float64       \n",
      " 14  MAX Station Pressure [inHg]     61 non-null     float64       \n",
      " 15  MIN Station Pressure [inHg]     61 non-null     float64       \n",
      "dtypes: datetime64[ns](1), float64(15)\n",
      "memory usage: 7.8 KB\n"
     ]
    }
   ],
   "source": [
    "met_df.info()"
   ]
  },
  {
   "cell_type": "code",
   "execution_count": 93,
   "metadata": {},
   "outputs": [],
   "source": [
    "merged_df = pd.merge(load_df, met_df, on=\"DATE (MM/DD/YYYY)\", how=\"inner\")"
   ]
  },
  {
   "cell_type": "code",
   "execution_count": 94,
   "metadata": {},
   "outputs": [
    {
     "name": "stdout",
     "output_type": "stream",
     "text": [
      "<class 'pandas.core.frame.DataFrame'>\n",
      "RangeIndex: 61 entries, 0 to 60\n",
      "Data columns (total 36 columns):\n",
      " #   Column                          Non-Null Count  Dtype         \n",
      "---  ------                          --------------  -----         \n",
      " 0   DATE (MM/DD/YYYY)               61 non-null     datetime64[ns]\n",
      " 1   KW                              61 non-null     float64       \n",
      " 2   KWS                             61 non-null     float64       \n",
      " 3   CHWTON                          61 non-null     float64       \n",
      " 4   HTmmBTU                         61 non-null     float64       \n",
      " 5   Combined mmBTU                  61 non-null     float64       \n",
      " 6   Combined Tons Carbon            61 non-null     float64       \n",
      " 7   KW#Houses                       61 non-null     int64         \n",
      " 8   KWlightbulbs                    61 non-null     int64         \n",
      " 9   KWgalsgas                       61 non-null     int64         \n",
      " 10  CHWTON#Houses                   61 non-null     int64         \n",
      " 11  CHWTONlightbulbs                61 non-null     int64         \n",
      " 12  CHWTONgalsgas                   61 non-null     int64         \n",
      " 13  HTmmBTU#Houses                  61 non-null     int64         \n",
      " 14  HTmmBTUlightbulbs               61 non-null     int64         \n",
      " 15  HTmmBTUgalsgas                  61 non-null     int64         \n",
      " 16  Total#Houses                    61 non-null     int64         \n",
      " 17  Totallightbulbs                 61 non-null     int64         \n",
      " 18  Totalgalsgas                    61 non-null     int64         \n",
      " 19  GHG                             61 non-null     float64       \n",
      " 20  DOW                             61 non-null     int64         \n",
      " 21  AVG Air Temperature [deg F]     61 non-null     float64       \n",
      " 22  MAX Air Temperature [deg F]     61 non-null     float64       \n",
      " 23  MIN Air Temperature [deg F]     61 non-null     float64       \n",
      " 24  AVG Rel Humidity [%]            61 non-null     float64       \n",
      " 25  MAX Rel Humidity [%]            61 non-null     float64       \n",
      " 26  MIN Rel Humidity [%]            61 non-null     float64       \n",
      " 27  AVG Avg Wind Speed @ 3m [MPH]   61 non-null     float64       \n",
      " 28  MAX Avg Wind Speed @ 3m [MPH]   61 non-null     float64       \n",
      " 29  MIN Avg Wind Speed @ 3m [MPH]   61 non-null     float64       \n",
      " 30  AVG Peak Wind Speed @ 3m [MPH]  61 non-null     float64       \n",
      " 31  MAX Peak Wind Speed @ 3m [MPH]  61 non-null     float64       \n",
      " 32  MIN Peak Wind Speed @ 3m [MPH]  61 non-null     float64       \n",
      " 33  AVG Station Pressure [inHg]     61 non-null     float64       \n",
      " 34  MAX Station Pressure [inHg]     61 non-null     float64       \n",
      " 35  MIN Station Pressure [inHg]     61 non-null     float64       \n",
      "dtypes: datetime64[ns](1), float64(22), int64(13)\n",
      "memory usage: 17.3 KB\n"
     ]
    }
   ],
   "source": [
    "merged_df.info()"
   ]
  },
  {
   "cell_type": "code",
   "execution_count": 95,
   "metadata": {},
   "outputs": [
    {
     "data": {
      "text/html": [
       "<div>\n",
       "<style scoped>\n",
       "    .dataframe tbody tr th:only-of-type {\n",
       "        vertical-align: middle;\n",
       "    }\n",
       "\n",
       "    .dataframe tbody tr th {\n",
       "        vertical-align: top;\n",
       "    }\n",
       "\n",
       "    .dataframe thead th {\n",
       "        text-align: right;\n",
       "    }\n",
       "</style>\n",
       "<table border=\"1\" class=\"dataframe\">\n",
       "  <thead>\n",
       "    <tr style=\"text-align: right;\">\n",
       "      <th></th>\n",
       "      <th>DATE (MM/DD/YYYY)</th>\n",
       "      <th>KW</th>\n",
       "      <th>KWS</th>\n",
       "      <th>CHWTON</th>\n",
       "      <th>HTmmBTU</th>\n",
       "      <th>Combined mmBTU</th>\n",
       "      <th>Combined Tons Carbon</th>\n",
       "      <th>KW#Houses</th>\n",
       "      <th>KWlightbulbs</th>\n",
       "      <th>KWgalsgas</th>\n",
       "      <th>...</th>\n",
       "      <th>MIN Rel Humidity [%]</th>\n",
       "      <th>AVG Avg Wind Speed @ 3m [MPH]</th>\n",
       "      <th>MAX Avg Wind Speed @ 3m [MPH]</th>\n",
       "      <th>MIN Avg Wind Speed @ 3m [MPH]</th>\n",
       "      <th>AVG Peak Wind Speed @ 3m [MPH]</th>\n",
       "      <th>MAX Peak Wind Speed @ 3m [MPH]</th>\n",
       "      <th>MIN Peak Wind Speed @ 3m [MPH]</th>\n",
       "      <th>AVG Station Pressure [inHg]</th>\n",
       "      <th>MAX Station Pressure [inHg]</th>\n",
       "      <th>MIN Station Pressure [inHg]</th>\n",
       "    </tr>\n",
       "  </thead>\n",
       "  <tbody>\n",
       "    <tr>\n",
       "      <th>0</th>\n",
       "      <td>2024-05-01</td>\n",
       "      <td>351973.45</td>\n",
       "      <td>39367.64</td>\n",
       "      <td>117009.06</td>\n",
       "      <td>115.27</td>\n",
       "      <td>2720.37</td>\n",
       "      <td>497.21</td>\n",
       "      <td>100564</td>\n",
       "      <td>25140971</td>\n",
       "      <td>9608</td>\n",
       "      <td>...</td>\n",
       "      <td>8.040</td>\n",
       "      <td>7.5972</td>\n",
       "      <td>24.4721</td>\n",
       "      <td>0.0</td>\n",
       "      <td>11.1715</td>\n",
       "      <td>30.6460</td>\n",
       "      <td>0.0</td>\n",
       "      <td>27.2098</td>\n",
       "      <td>27.2561</td>\n",
       "      <td>27.1436</td>\n",
       "    </tr>\n",
       "    <tr>\n",
       "      <th>1</th>\n",
       "      <td>2024-05-02</td>\n",
       "      <td>353826.38</td>\n",
       "      <td>39144.04</td>\n",
       "      <td>119220.71</td>\n",
       "      <td>115.03</td>\n",
       "      <td>2752.99</td>\n",
       "      <td>503.17</td>\n",
       "      <td>101093</td>\n",
       "      <td>25273323</td>\n",
       "      <td>9658</td>\n",
       "      <td>...</td>\n",
       "      <td>6.938</td>\n",
       "      <td>5.1366</td>\n",
       "      <td>22.8839</td>\n",
       "      <td>0.0</td>\n",
       "      <td>8.0311</td>\n",
       "      <td>27.2906</td>\n",
       "      <td>0.0</td>\n",
       "      <td>27.2407</td>\n",
       "      <td>27.2873</td>\n",
       "      <td>27.1868</td>\n",
       "    </tr>\n",
       "    <tr>\n",
       "      <th>2</th>\n",
       "      <td>2024-05-03</td>\n",
       "      <td>357657.88</td>\n",
       "      <td>38935.34</td>\n",
       "      <td>123171.43</td>\n",
       "      <td>109.79</td>\n",
       "      <td>2808.22</td>\n",
       "      <td>513.27</td>\n",
       "      <td>102188</td>\n",
       "      <td>25547001</td>\n",
       "      <td>9763</td>\n",
       "      <td>...</td>\n",
       "      <td>6.877</td>\n",
       "      <td>5.7147</td>\n",
       "      <td>23.8457</td>\n",
       "      <td>0.0</td>\n",
       "      <td>8.8923</td>\n",
       "      <td>39.0345</td>\n",
       "      <td>0.0</td>\n",
       "      <td>27.2277</td>\n",
       "      <td>27.2663</td>\n",
       "      <td>27.1653</td>\n",
       "    </tr>\n",
       "    <tr>\n",
       "      <th>3</th>\n",
       "      <td>2024-05-04</td>\n",
       "      <td>363958.25</td>\n",
       "      <td>38676.54</td>\n",
       "      <td>118279.24</td>\n",
       "      <td>108.33</td>\n",
       "      <td>2769.56</td>\n",
       "      <td>506.20</td>\n",
       "      <td>103988</td>\n",
       "      <td>25997028</td>\n",
       "      <td>9935</td>\n",
       "      <td>...</td>\n",
       "      <td>6.234</td>\n",
       "      <td>5.5733</td>\n",
       "      <td>20.5574</td>\n",
       "      <td>0.0</td>\n",
       "      <td>8.6903</td>\n",
       "      <td>25.6129</td>\n",
       "      <td>0.0</td>\n",
       "      <td>27.2277</td>\n",
       "      <td>27.2670</td>\n",
       "      <td>27.1798</td>\n",
       "    </tr>\n",
       "    <tr>\n",
       "      <th>4</th>\n",
       "      <td>2024-05-05</td>\n",
       "      <td>320144.95</td>\n",
       "      <td>33341.16</td>\n",
       "      <td>106070.52</td>\n",
       "      <td>108.39</td>\n",
       "      <td>2473.62</td>\n",
       "      <td>452.11</td>\n",
       "      <td>91470</td>\n",
       "      <td>22867506</td>\n",
       "      <td>8739</td>\n",
       "      <td>...</td>\n",
       "      <td>9.040</td>\n",
       "      <td>11.2813</td>\n",
       "      <td>32.4132</td>\n",
       "      <td>0.0</td>\n",
       "      <td>16.0872</td>\n",
       "      <td>44.0676</td>\n",
       "      <td>0.0</td>\n",
       "      <td>27.2212</td>\n",
       "      <td>27.2677</td>\n",
       "      <td>27.1493</td>\n",
       "    </tr>\n",
       "  </tbody>\n",
       "</table>\n",
       "<p>5 rows × 36 columns</p>\n",
       "</div>"
      ],
      "text/plain": [
       "  DATE (MM/DD/YYYY)         KW       KWS     CHWTON  HTmmBTU  Combined mmBTU  \\\n",
       "0        2024-05-01  351973.45  39367.64  117009.06   115.27         2720.37   \n",
       "1        2024-05-02  353826.38  39144.04  119220.71   115.03         2752.99   \n",
       "2        2024-05-03  357657.88  38935.34  123171.43   109.79         2808.22   \n",
       "3        2024-05-04  363958.25  38676.54  118279.24   108.33         2769.56   \n",
       "4        2024-05-05  320144.95  33341.16  106070.52   108.39         2473.62   \n",
       "\n",
       "   Combined Tons Carbon  KW#Houses  KWlightbulbs  KWgalsgas  ...  \\\n",
       "0                497.21     100564      25140971       9608  ...   \n",
       "1                503.17     101093      25273323       9658  ...   \n",
       "2                513.27     102188      25547001       9763  ...   \n",
       "3                506.20     103988      25997028       9935  ...   \n",
       "4                452.11      91470      22867506       8739  ...   \n",
       "\n",
       "   MIN Rel Humidity [%]  AVG Avg Wind Speed @ 3m [MPH]  \\\n",
       "0                 8.040                         7.5972   \n",
       "1                 6.938                         5.1366   \n",
       "2                 6.877                         5.7147   \n",
       "3                 6.234                         5.5733   \n",
       "4                 9.040                        11.2813   \n",
       "\n",
       "   MAX Avg Wind Speed @ 3m [MPH]  MIN Avg Wind Speed @ 3m [MPH]  \\\n",
       "0                        24.4721                            0.0   \n",
       "1                        22.8839                            0.0   \n",
       "2                        23.8457                            0.0   \n",
       "3                        20.5574                            0.0   \n",
       "4                        32.4132                            0.0   \n",
       "\n",
       "   AVG Peak Wind Speed @ 3m [MPH]  MAX Peak Wind Speed @ 3m [MPH]  \\\n",
       "0                         11.1715                         30.6460   \n",
       "1                          8.0311                         27.2906   \n",
       "2                          8.8923                         39.0345   \n",
       "3                          8.6903                         25.6129   \n",
       "4                         16.0872                         44.0676   \n",
       "\n",
       "   MIN Peak Wind Speed @ 3m [MPH]  AVG Station Pressure [inHg]  \\\n",
       "0                             0.0                      27.2098   \n",
       "1                             0.0                      27.2407   \n",
       "2                             0.0                      27.2277   \n",
       "3                             0.0                      27.2277   \n",
       "4                             0.0                      27.2212   \n",
       "\n",
       "   MAX Station Pressure [inHg]  MIN Station Pressure [inHg]  \n",
       "0                      27.2561                      27.1436  \n",
       "1                      27.2873                      27.1868  \n",
       "2                      27.2663                      27.1653  \n",
       "3                      27.2670                      27.1798  \n",
       "4                      27.2677                      27.1493  \n",
       "\n",
       "[5 rows x 36 columns]"
      ]
     },
     "execution_count": 95,
     "metadata": {},
     "output_type": "execute_result"
    }
   ],
   "source": [
    "merged_df.head()"
   ]
  },
  {
   "cell_type": "markdown",
   "metadata": {},
   "source": [
    "## Data Preprocessing"
   ]
  },
  {
   "cell_type": "code",
   "execution_count": 96,
   "metadata": {},
   "outputs": [],
   "source": [
    "from sklearn.preprocessing import MinMaxScaler"
   ]
  },
  {
   "cell_type": "markdown",
   "metadata": {},
   "source": [
    "#### Step 1: Train-Test Split (80% training, 20% testing)"
   ]
  },
  {
   "cell_type": "code",
   "execution_count": 97,
   "metadata": {},
   "outputs": [],
   "source": [
    "train_size = int(len(merged_df) * 0.8)\n",
    "train_data = merged_df[:train_size]\n",
    "test_data = merged_df[train_size:]"
   ]
  },
  {
   "cell_type": "markdown",
   "metadata": {},
   "source": [
    "#### Step 2: Select relevant columns for normalization\n",
    "\n",
    "Electric load, Cooling load, Heating load, Temperature, Humidity, Irradiance (if present)"
   ]
  },
  {
   "cell_type": "code",
   "execution_count": 98,
   "metadata": {},
   "outputs": [],
   "source": [
    "features_to_normalize = [\n",
    "    \"KW\",\n",
    "    \"CHWTON\",\n",
    "    \"HTmmBTU\",\n",
    "    \"AVG Air Temperature [deg F]\",\n",
    "    \"AVG Rel Humidity [%]\",\n",
    "]"
   ]
  },
  {
   "cell_type": "markdown",
   "metadata": {},
   "source": [
    "Initialize MinMaxScaler"
   ]
  },
  {
   "cell_type": "code",
   "execution_count": 99,
   "metadata": {},
   "outputs": [],
   "source": [
    "scaler = MinMaxScaler()"
   ]
  },
  {
   "cell_type": "markdown",
   "metadata": {},
   "source": [
    "Fit the scaler on the training data and transform both train and test data"
   ]
  },
  {
   "cell_type": "code",
   "execution_count": 100,
   "metadata": {},
   "outputs": [],
   "source": [
    "train_scaled = train_data.copy()\n",
    "train_scaled[features_to_normalize] = scaler.fit_transform(\n",
    "    train_data[features_to_normalize]\n",
    ")\n",
    "\n",
    "test_scaled = test_data.copy()\n",
    "test_scaled[features_to_normalize] = scaler.transform(test_data[features_to_normalize])"
   ]
  },
  {
   "cell_type": "markdown",
   "metadata": {},
   "source": [
    "#### Step 3: Time Series Preparation (Create sliding window sequences)"
   ]
  },
  {
   "cell_type": "code",
   "execution_count": 101,
   "metadata": {},
   "outputs": [],
   "source": [
    "sequence_length = 7  # Use past 7 days to predict the next day\n",
    "\n",
    "def create_sequences(data, target_column, sequence_length):\n",
    "    sequences = []\n",
    "    targets = []\n",
    "\n",
    "    for i in range(len(data) - sequence_length):\n",
    "        seq = data[i : i + sequence_length]  # Sequence of 'n' days\n",
    "        target = data[i + sequence_length][target_column+1]  # Target is the next day's load (KW)\n",
    "        sequences.append(seq)\n",
    "        targets.append(target)\n",
    "\n",
    "    return np.array(sequences), np.array(targets)"
   ]
  },
  {
   "cell_type": "markdown",
   "metadata": {},
   "source": [
    "Create sequences for training and testing sets"
   ]
  },
  {
   "cell_type": "code",
   "execution_count": 102,
   "metadata": {},
   "outputs": [
    {
     "name": "stdout",
     "output_type": "stream",
     "text": [
      "Training data shape (X, y): (41, 7, 5) (41,)\n",
      "Testing data shape (X, y): (6, 7, 5) (6,)\n"
     ]
    }
   ],
   "source": [
    "X_train, y_train = create_sequences(\n",
    "    train_scaled[features_to_normalize].values,\n",
    "    target_column=0,\n",
    "    sequence_length=sequence_length,\n",
    ")  # KW is the target\n",
    "X_test, y_test = create_sequences(\n",
    "    test_scaled[features_to_normalize].values,\n",
    "    target_column=0,\n",
    "    sequence_length=sequence_length,\n",
    ")\n",
    "\n",
    "# Print the shape of training and testing data\n",
    "print(\"Training data shape (X, y):\", X_train.shape, y_train.shape)\n",
    "print(\"Testing data shape (X, y):\", X_test.shape, y_test.shape)"
   ]
  },
  {
   "cell_type": "markdown",
   "metadata": {},
   "source": [
    "### Model Construction"
   ]
  },
  {
   "cell_type": "code",
   "execution_count": 103,
   "metadata": {},
   "outputs": [],
   "source": [
    "import torch\n",
    "import torch.nn as nn\n",
    "import torch.optim as optim\n",
    "from sklearn.metrics import mean_squared_error\n",
    "from torch.optim.lr_scheduler import ReduceLROnPlateau"
   ]
  },
  {
   "cell_type": "markdown",
   "metadata": {},
   "source": [
    "#### Step 1: Convert data to PyTorch tensors"
   ]
  },
  {
   "cell_type": "code",
   "execution_count": 104,
   "metadata": {},
   "outputs": [],
   "source": [
    "X_train_tensor = torch.Tensor(X_train)\n",
    "y_train_tensor = torch.Tensor(y_train)\n",
    "X_test_tensor = torch.Tensor(X_test)\n",
    "y_test_tensor = torch.Tensor(y_test)"
   ]
  },
  {
   "cell_type": "markdown",
   "metadata": {},
   "source": [
    "#### Step 2: Define the LSTM model"
   ]
  },
  {
   "cell_type": "code",
   "execution_count": 105,
   "metadata": {},
   "outputs": [],
   "source": [
    "# Define the LSTM model with L2 regularization\n",
    "class LSTMModel(nn.Module):\n",
    "    def __init__(self, input_dim, hidden_dim, output_dim, num_layers=2, dropout=0.2):\n",
    "        super(LSTMModel, self).__init__()\n",
    "        self.lstm = nn.LSTM(\n",
    "            input_dim, hidden_dim, num_layers, batch_first=True, dropout=dropout\n",
    "        )\n",
    "        self.fc = nn.Linear(hidden_dim, output_dim)\n",
    "\n",
    "    def forward(self, x):\n",
    "        lstm_out, _ = self.lstm(x)\n",
    "        final_feature_map = lstm_out[:, -1, :]\n",
    "        out = self.fc(final_feature_map)\n",
    "        return out"
   ]
  },
  {
   "cell_type": "markdown",
   "metadata": {},
   "source": [
    "Initialize the model, loss function, and optimizer"
   ]
  },
  {
   "cell_type": "code",
   "execution_count": 106,
   "metadata": {},
   "outputs": [],
   "source": [
    "# Initialize model, loss function, and optimizer with L2 regularization\n",
    "input_dim = len(features_to_normalize)\n",
    "hidden_dim = 50\n",
    "output_dim = 1\n",
    "dropout = 0.2"
   ]
  },
  {
   "cell_type": "code",
   "execution_count": 107,
   "metadata": {},
   "outputs": [
    {
     "data": {
      "text/plain": [
       "tensor(0.)"
      ]
     },
     "execution_count": 107,
     "metadata": {},
     "output_type": "execute_result"
    }
   ],
   "source": [
    "model = LSTMModel(input_dim, hidden_dim, output_dim, num_layers=2, dropout=dropout)\n",
    "criterion = nn.MSELoss()\n",
    "optimizer = optim.Adam(\n",
    "    model.parameters(), lr=0.0001, weight_decay=0.01\n",
    ")  # Adding L2 regularization\n",
    "scheduler = ReduceLROnPlateau(\n",
    "    optimizer, mode=\"min\", factor=0.1, patience=20,\n",
    ")\n",
    "torch.nn.utils.clip_grad_norm_(model.parameters(), max_norm=1.0)"
   ]
  },
  {
   "cell_type": "markdown",
   "metadata": {},
   "source": [
    "#### Step 3: Training loop"
   ]
  },
  {
   "cell_type": "code",
   "execution_count": 108,
   "metadata": {},
   "outputs": [],
   "source": [
    "num_epochs = 200\n",
    "batch_size = 16\n",
    "patience = 20\n",
    "best_loss = float(\"inf\")\n",
    "patience_counter = 0"
   ]
  },
  {
   "cell_type": "markdown",
   "metadata": {},
   "source": [
    "Create DataLoader for training and validation data"
   ]
  },
  {
   "cell_type": "code",
   "execution_count": 109,
   "metadata": {},
   "outputs": [],
   "source": [
    "train_dataset = torch.utils.data.TensorDataset(X_train_tensor, y_train_tensor)\n",
    "train_loader = torch.utils.data.DataLoader(\n",
    "    dataset=train_dataset, batch_size=batch_size, shuffle=True\n",
    ")"
   ]
  },
  {
   "cell_type": "code",
   "execution_count": 110,
   "metadata": {},
   "outputs": [],
   "source": [
    "epoch_losses = list()\n",
    "test_losses = list()"
   ]
  },
  {
   "cell_type": "code",
   "execution_count": 111,
   "metadata": {},
   "outputs": [
    {
     "name": "stdout",
     "output_type": "stream",
     "text": [
      "Epoch [1/200], Loss: 0.3515\n",
      "Test Loss: 1.9404\n",
      "Epoch [2/200], Loss: 0.3479\n",
      "Test Loss: 1.9288\n",
      "Epoch [3/200], Loss: 0.3432\n",
      "Test Loss: 1.9169\n",
      "Epoch [4/200], Loss: 0.3399\n",
      "Test Loss: 1.9051\n",
      "Epoch [5/200], Loss: 0.3354\n",
      "Test Loss: 1.8933\n",
      "Epoch [6/200], Loss: 0.3318\n",
      "Test Loss: 1.8815\n",
      "Epoch [7/200], Loss: 0.3273\n",
      "Test Loss: 1.8698\n",
      "Epoch [8/200], Loss: 0.3238\n",
      "Test Loss: 1.8579\n",
      "Epoch [9/200], Loss: 0.3195\n",
      "Test Loss: 1.8462\n",
      "Epoch [10/200], Loss: 0.3173\n",
      "Test Loss: 1.8343\n",
      "Epoch [11/200], Loss: 0.3128\n",
      "Test Loss: 1.8226\n",
      "Epoch [12/200], Loss: 0.3091\n",
      "Test Loss: 1.8106\n",
      "Epoch [13/200], Loss: 0.3048\n",
      "Test Loss: 1.7985\n",
      "Epoch [14/200], Loss: 0.3003\n",
      "Test Loss: 1.7860\n",
      "Epoch [15/200], Loss: 0.2977\n",
      "Test Loss: 1.7734\n",
      "Epoch [16/200], Loss: 0.2935\n",
      "Test Loss: 1.7607\n",
      "Epoch [17/200], Loss: 0.2905\n",
      "Test Loss: 1.7482\n",
      "Epoch [18/200], Loss: 0.2863\n",
      "Test Loss: 1.7351\n",
      "Epoch [19/200], Loss: 0.2816\n",
      "Test Loss: 1.7220\n",
      "Epoch [20/200], Loss: 0.2775\n",
      "Test Loss: 1.7085\n",
      "Epoch [21/200], Loss: 0.2745\n",
      "Test Loss: 1.6947\n",
      "Epoch [22/200], Loss: 0.2701\n",
      "Test Loss: 1.6805\n",
      "Epoch [23/200], Loss: 0.2660\n",
      "Test Loss: 1.6664\n",
      "Epoch [24/200], Loss: 0.2622\n",
      "Test Loss: 1.6522\n",
      "Epoch [25/200], Loss: 0.2579\n",
      "Test Loss: 1.6377\n",
      "Epoch [26/200], Loss: 0.2528\n",
      "Test Loss: 1.6228\n",
      "Epoch [27/200], Loss: 0.2495\n",
      "Test Loss: 1.6072\n",
      "Epoch [28/200], Loss: 0.2444\n",
      "Test Loss: 1.5911\n",
      "Epoch [29/200], Loss: 0.2403\n",
      "Test Loss: 1.5751\n",
      "Epoch [30/200], Loss: 0.2372\n",
      "Test Loss: 1.5586\n",
      "Epoch [31/200], Loss: 0.2320\n",
      "Test Loss: 1.5418\n",
      "Epoch [32/200], Loss: 0.2287\n",
      "Test Loss: 1.5248\n",
      "Epoch [33/200], Loss: 0.2243\n",
      "Test Loss: 1.5074\n",
      "Epoch [34/200], Loss: 0.2192\n",
      "Test Loss: 1.4892\n",
      "Epoch [35/200], Loss: 0.2140\n",
      "Test Loss: 1.4707\n",
      "Epoch [36/200], Loss: 0.2091\n",
      "Test Loss: 1.4522\n",
      "Epoch [37/200], Loss: 0.2050\n",
      "Test Loss: 1.4323\n",
      "Epoch [38/200], Loss: 0.1997\n",
      "Test Loss: 1.4117\n",
      "Epoch [39/200], Loss: 0.1942\n",
      "Test Loss: 1.3911\n",
      "Epoch [40/200], Loss: 0.1897\n",
      "Test Loss: 1.3691\n",
      "Epoch [41/200], Loss: 0.1855\n",
      "Test Loss: 1.3467\n",
      "Epoch [42/200], Loss: 0.1788\n",
      "Test Loss: 1.3249\n",
      "Epoch [43/200], Loss: 0.1737\n",
      "Test Loss: 1.3019\n",
      "Epoch [44/200], Loss: 0.1690\n",
      "Test Loss: 1.2789\n",
      "Epoch [45/200], Loss: 0.1651\n",
      "Test Loss: 1.2551\n",
      "Epoch [46/200], Loss: 0.1597\n",
      "Test Loss: 1.2303\n",
      "Epoch [47/200], Loss: 0.1528\n",
      "Test Loss: 1.2059\n",
      "Epoch [48/200], Loss: 0.1498\n",
      "Test Loss: 1.1806\n",
      "Epoch [49/200], Loss: 0.1418\n",
      "Test Loss: 1.1545\n",
      "Epoch [50/200], Loss: 0.1379\n",
      "Test Loss: 1.1280\n",
      "Epoch [51/200], Loss: 0.1339\n",
      "Test Loss: 1.1013\n",
      "Epoch [52/200], Loss: 0.1290\n",
      "Test Loss: 1.0737\n",
      "Epoch [53/200], Loss: 0.1245\n",
      "Test Loss: 1.0460\n",
      "Epoch [54/200], Loss: 0.1188\n",
      "Test Loss: 1.0187\n",
      "Epoch [55/200], Loss: 0.1140\n",
      "Test Loss: 0.9927\n",
      "Epoch [56/200], Loss: 0.1110\n",
      "Test Loss: 0.9674\n",
      "Epoch [57/200], Loss: 0.1075\n",
      "Test Loss: 0.9432\n",
      "Epoch [58/200], Loss: 0.1037\n",
      "Test Loss: 0.9185\n",
      "Epoch [59/200], Loss: 0.0995\n",
      "Test Loss: 0.8952\n",
      "Epoch [60/200], Loss: 0.0981\n",
      "Test Loss: 0.8709\n",
      "Epoch [61/200], Loss: 0.0930\n",
      "Test Loss: 0.8489\n",
      "Epoch [62/200], Loss: 0.0892\n",
      "Test Loss: 0.8274\n",
      "Epoch [63/200], Loss: 0.0875\n",
      "Test Loss: 0.8050\n",
      "Epoch [64/200], Loss: 0.0851\n",
      "Test Loss: 0.7854\n",
      "Epoch [65/200], Loss: 0.0828\n",
      "Test Loss: 0.7647\n",
      "Epoch [66/200], Loss: 0.0814\n",
      "Test Loss: 0.7458\n",
      "Epoch [67/200], Loss: 0.0798\n",
      "Test Loss: 0.7278\n",
      "Epoch [68/200], Loss: 0.0769\n",
      "Test Loss: 0.7107\n",
      "Epoch [69/200], Loss: 0.0751\n",
      "Test Loss: 0.6934\n",
      "Epoch [70/200], Loss: 0.0740\n",
      "Test Loss: 0.6784\n",
      "Epoch [71/200], Loss: 0.0705\n",
      "Test Loss: 0.6654\n",
      "Epoch [72/200], Loss: 0.0731\n",
      "Test Loss: 0.6519\n",
      "Epoch [73/200], Loss: 0.0713\n",
      "Test Loss: 0.6391\n",
      "Epoch [74/200], Loss: 0.0704\n",
      "Test Loss: 0.6289\n",
      "Epoch [75/200], Loss: 0.0707\n",
      "Test Loss: 0.6225\n",
      "Epoch [76/200], Loss: 0.0707\n",
      "Test Loss: 0.6160\n",
      "Epoch [77/200], Loss: 0.0676\n",
      "Test Loss: 0.6110\n",
      "Epoch [78/200], Loss: 0.0703\n",
      "Test Loss: 0.6058\n",
      "Epoch [79/200], Loss: 0.0705\n",
      "Test Loss: 0.6002\n",
      "Epoch [80/200], Loss: 0.0676\n",
      "Test Loss: 0.5959\n",
      "Epoch [81/200], Loss: 0.0647\n",
      "Test Loss: 0.5923\n",
      "Epoch [82/200], Loss: 0.0651\n",
      "Test Loss: 0.5907\n",
      "Epoch [83/200], Loss: 0.0664\n",
      "Test Loss: 0.5890\n",
      "Epoch [84/200], Loss: 0.0679\n",
      "Test Loss: 0.5883\n",
      "Epoch [85/200], Loss: 0.0656\n",
      "Test Loss: 0.5872\n",
      "Epoch [86/200], Loss: 0.0655\n",
      "Test Loss: 0.5846\n",
      "Epoch [87/200], Loss: 0.0664\n",
      "Test Loss: 0.5853\n",
      "Epoch [88/200], Loss: 0.0650\n",
      "Test Loss: 0.5839\n",
      "Epoch [89/200], Loss: 0.0657\n",
      "Test Loss: 0.5833\n",
      "Epoch [90/200], Loss: 0.0650\n",
      "Test Loss: 0.5837\n",
      "Epoch [91/200], Loss: 0.0633\n",
      "Test Loss: 0.5807\n",
      "Epoch [92/200], Loss: 0.0620\n",
      "Test Loss: 0.5793\n",
      "Epoch [93/200], Loss: 0.0628\n",
      "Test Loss: 0.5744\n",
      "Epoch [94/200], Loss: 0.0636\n",
      "Test Loss: 0.5708\n",
      "Epoch [95/200], Loss: 0.0631\n",
      "Test Loss: 0.5682\n",
      "Epoch [96/200], Loss: 0.0616\n",
      "Test Loss: 0.5672\n",
      "Epoch [97/200], Loss: 0.0626\n",
      "Test Loss: 0.5658\n",
      "Epoch [98/200], Loss: 0.0629\n",
      "Test Loss: 0.5654\n",
      "Epoch [99/200], Loss: 0.0606\n",
      "Test Loss: 0.5650\n",
      "Epoch [100/200], Loss: 0.0617\n",
      "Test Loss: 0.5648\n",
      "Epoch [101/200], Loss: 0.0623\n",
      "Test Loss: 0.5633\n",
      "Epoch [102/200], Loss: 0.0606\n",
      "Test Loss: 0.5593\n",
      "Epoch [103/200], Loss: 0.0599\n",
      "Test Loss: 0.5571\n",
      "Epoch [104/200], Loss: 0.0595\n",
      "Test Loss: 0.5528\n",
      "Epoch [105/200], Loss: 0.0594\n",
      "Test Loss: 0.5478\n",
      "Epoch [106/200], Loss: 0.0586\n",
      "Test Loss: 0.5423\n",
      "Epoch [107/200], Loss: 0.0581\n",
      "Test Loss: 0.5365\n",
      "Epoch [108/200], Loss: 0.0587\n",
      "Test Loss: 0.5340\n",
      "Epoch [109/200], Loss: 0.0576\n",
      "Test Loss: 0.5324\n",
      "Epoch [110/200], Loss: 0.0590\n",
      "Test Loss: 0.5313\n",
      "Epoch [111/200], Loss: 0.0567\n",
      "Test Loss: 0.5300\n",
      "Epoch [112/200], Loss: 0.0569\n",
      "Test Loss: 0.5290\n",
      "Epoch [113/200], Loss: 0.0569\n",
      "Test Loss: 0.5269\n",
      "Epoch [114/200], Loss: 0.0557\n",
      "Test Loss: 0.5260\n",
      "Epoch [115/200], Loss: 0.0549\n",
      "Test Loss: 0.5234\n",
      "Epoch [116/200], Loss: 0.0546\n",
      "Test Loss: 0.5233\n",
      "Epoch [117/200], Loss: 0.0553\n",
      "Test Loss: 0.5220\n",
      "Epoch [118/200], Loss: 0.0546\n",
      "Test Loss: 0.5217\n",
      "Epoch [119/200], Loss: 0.0540\n",
      "Test Loss: 0.5214\n",
      "Epoch [120/200], Loss: 0.0551\n",
      "Test Loss: 0.5218\n",
      "Epoch [121/200], Loss: 0.0544\n",
      "Test Loss: 0.5193\n",
      "Epoch [122/200], Loss: 0.0539\n",
      "Test Loss: 0.5167\n",
      "Epoch [123/200], Loss: 0.0550\n",
      "Test Loss: 0.5131\n",
      "Epoch [124/200], Loss: 0.0552\n",
      "Test Loss: 0.5105\n",
      "Epoch [125/200], Loss: 0.0526\n",
      "Test Loss: 0.5083\n",
      "Epoch [126/200], Loss: 0.0511\n",
      "Test Loss: 0.5057\n",
      "Epoch [127/200], Loss: 0.0538\n",
      "Test Loss: 0.5048\n",
      "Epoch [128/200], Loss: 0.0519\n",
      "Test Loss: 0.5013\n",
      "Epoch [129/200], Loss: 0.0522\n",
      "Test Loss: 0.4983\n",
      "Epoch [130/200], Loss: 0.0513\n",
      "Test Loss: 0.4961\n",
      "Epoch [131/200], Loss: 0.0514\n",
      "Test Loss: 0.4918\n",
      "Epoch [132/200], Loss: 0.0506\n",
      "Test Loss: 0.4892\n",
      "Epoch [133/200], Loss: 0.0508\n",
      "Test Loss: 0.4852\n",
      "Epoch [134/200], Loss: 0.0487\n",
      "Test Loss: 0.4820\n",
      "Epoch [135/200], Loss: 0.0512\n",
      "Test Loss: 0.4788\n",
      "Epoch [136/200], Loss: 0.0485\n",
      "Test Loss: 0.4775\n",
      "Epoch [137/200], Loss: 0.0484\n",
      "Test Loss: 0.4735\n",
      "Epoch [138/200], Loss: 0.0501\n",
      "Test Loss: 0.4693\n",
      "Epoch [139/200], Loss: 0.0476\n",
      "Test Loss: 0.4656\n",
      "Epoch [140/200], Loss: 0.0479\n",
      "Test Loss: 0.4629\n",
      "Epoch [141/200], Loss: 0.0468\n",
      "Test Loss: 0.4618\n",
      "Epoch [142/200], Loss: 0.0474\n",
      "Test Loss: 0.4610\n",
      "Epoch [143/200], Loss: 0.0475\n",
      "Test Loss: 0.4599\n",
      "Epoch [144/200], Loss: 0.0455\n",
      "Test Loss: 0.4598\n",
      "Epoch [145/200], Loss: 0.0472\n",
      "Test Loss: 0.4583\n",
      "Epoch [146/200], Loss: 0.0445\n",
      "Test Loss: 0.4560\n",
      "Epoch [147/200], Loss: 0.0457\n",
      "Test Loss: 0.4575\n",
      "Epoch [148/200], Loss: 0.0456\n",
      "Test Loss: 0.4583\n",
      "Epoch [149/200], Loss: 0.0457\n",
      "Test Loss: 0.4593\n",
      "Epoch [150/200], Loss: 0.0447\n",
      "Test Loss: 0.4616\n",
      "Epoch [151/200], Loss: 0.0468\n",
      "Test Loss: 0.4610\n",
      "Epoch [152/200], Loss: 0.0454\n",
      "Test Loss: 0.4608\n",
      "Epoch [153/200], Loss: 0.0429\n",
      "Test Loss: 0.4576\n",
      "Epoch [154/200], Loss: 0.0443\n",
      "Test Loss: 0.4549\n",
      "Epoch [155/200], Loss: 0.0444\n",
      "Test Loss: 0.4506\n",
      "Epoch [156/200], Loss: 0.0424\n",
      "Test Loss: 0.4447\n",
      "Epoch [157/200], Loss: 0.0456\n",
      "Test Loss: 0.4406\n",
      "Epoch [158/200], Loss: 0.0422\n",
      "Test Loss: 0.4378\n",
      "Epoch [159/200], Loss: 0.0409\n",
      "Test Loss: 0.4361\n",
      "Epoch [160/200], Loss: 0.0430\n",
      "Test Loss: 0.4331\n",
      "Epoch [161/200], Loss: 0.0410\n",
      "Test Loss: 0.4307\n",
      "Epoch [162/200], Loss: 0.0392\n",
      "Test Loss: 0.4288\n",
      "Epoch [163/200], Loss: 0.0394\n",
      "Test Loss: 0.4277\n",
      "Epoch [164/200], Loss: 0.0383\n",
      "Test Loss: 0.4283\n",
      "Epoch [165/200], Loss: 0.0390\n",
      "Test Loss: 0.4255\n",
      "Epoch [166/200], Loss: 0.0380\n",
      "Test Loss: 0.4275\n",
      "Epoch [167/200], Loss: 0.0392\n",
      "Test Loss: 0.4288\n",
      "Epoch [168/200], Loss: 0.0386\n",
      "Test Loss: 0.4308\n",
      "Epoch [169/200], Loss: 0.0379\n",
      "Test Loss: 0.4345\n",
      "Epoch [170/200], Loss: 0.0401\n",
      "Test Loss: 0.4317\n",
      "Epoch [171/200], Loss: 0.0400\n",
      "Test Loss: 0.4270\n",
      "Epoch [172/200], Loss: 0.0389\n",
      "Test Loss: 0.4234\n",
      "Epoch [173/200], Loss: 0.0383\n",
      "Test Loss: 0.4199\n",
      "Epoch [174/200], Loss: 0.0369\n",
      "Test Loss: 0.4152\n",
      "Epoch [175/200], Loss: 0.0359\n",
      "Test Loss: 0.4096\n",
      "Epoch [176/200], Loss: 0.0368\n",
      "Test Loss: 0.4056\n",
      "Epoch [177/200], Loss: 0.0377\n",
      "Test Loss: 0.4030\n",
      "Epoch [178/200], Loss: 0.0354\n",
      "Test Loss: 0.4022\n",
      "Epoch [179/200], Loss: 0.0365\n",
      "Test Loss: 0.4021\n",
      "Epoch [180/200], Loss: 0.0332\n",
      "Test Loss: 0.4003\n",
      "Epoch [181/200], Loss: 0.0350\n",
      "Test Loss: 0.3972\n",
      "Epoch [182/200], Loss: 0.0331\n",
      "Test Loss: 0.3952\n",
      "Epoch [183/200], Loss: 0.0346\n",
      "Test Loss: 0.3937\n",
      "Epoch [184/200], Loss: 0.0348\n",
      "Test Loss: 0.3917\n",
      "Epoch [185/200], Loss: 0.0329\n",
      "Test Loss: 0.3926\n",
      "Epoch [186/200], Loss: 0.0322\n",
      "Test Loss: 0.3929\n",
      "Epoch [187/200], Loss: 0.0326\n",
      "Test Loss: 0.3918\n",
      "Epoch [188/200], Loss: 0.0345\n",
      "Test Loss: 0.3913\n",
      "Epoch [189/200], Loss: 0.0317\n",
      "Test Loss: 0.3913\n",
      "Epoch [190/200], Loss: 0.0309\n",
      "Test Loss: 0.3907\n",
      "Epoch [191/200], Loss: 0.0326\n",
      "Test Loss: 0.3866\n",
      "Epoch [192/200], Loss: 0.0312\n",
      "Test Loss: 0.3815\n",
      "Epoch [193/200], Loss: 0.0300\n",
      "Test Loss: 0.3785\n",
      "Epoch [194/200], Loss: 0.0314\n",
      "Test Loss: 0.3739\n",
      "Epoch [195/200], Loss: 0.0318\n",
      "Test Loss: 0.3713\n",
      "Epoch [196/200], Loss: 0.0322\n",
      "Test Loss: 0.3691\n",
      "Epoch [197/200], Loss: 0.0302\n",
      "Test Loss: 0.3715\n",
      "Epoch [198/200], Loss: 0.0309\n",
      "Test Loss: 0.3711\n",
      "Epoch [199/200], Loss: 0.0292\n",
      "Test Loss: 0.3709\n",
      "Epoch [200/200], Loss: 0.0286\n",
      "Test Loss: 0.3708\n"
     ]
    }
   ],
   "source": [
    "for epoch in range(num_epochs):\n",
    "    model.train()\n",
    "    epoch_loss = 0\n",
    "\n",
    "    for batch_X, batch_y in train_loader:\n",
    "        outputs = model(batch_X)\n",
    "        loss = criterion(outputs.squeeze(), batch_y)\n",
    "\n",
    "        optimizer.zero_grad()\n",
    "        loss.backward()\n",
    "        optimizer.step()\n",
    "\n",
    "        epoch_loss += loss.item() * batch_X.size(0)\n",
    "\n",
    "    avg_epoch_loss = epoch_loss / len(train_loader.dataset)\n",
    "    epoch_losses.append(avg_epoch_loss)\n",
    "    print(f\"Epoch [{epoch + 1}/{num_epochs}], Loss: {avg_epoch_loss:.4f}\")\n",
    "\n",
    "    # Validation phase\n",
    "    model.eval()\n",
    "    with torch.no_grad():\n",
    "        test_outputs = model(X_test_tensor)\n",
    "        test_loss = mean_squared_error(y_test_tensor, test_outputs.squeeze())\n",
    "        test_losses.append(test_loss)\n",
    "        print(f\"Test Loss: {test_loss:.4f}\")\n",
    "\n",
    "# Save the model\n",
    "torch.save(model.state_dict(), \"lstm_model.pth\")\n",
    "        # Early stopping\n",
    "        # if test_loss < best_loss:\n",
    "        #     best_loss = test_loss\n",
    "        #     patience_counter = 0\n",
    "        #     # Save the best model\n",
    "        # else:\n",
    "        #     patience_counter += 1\n",
    "        #     if patience_counter >= patience:\n",
    "        #         print(f\"Early stopping triggered at Epoch({epoch})\")\n",
    "        #         # break\n",
    "        # print(f\"Patience Counter: {patience_counter}\")"
   ]
  },
  {
   "cell_type": "code",
   "execution_count": 112,
   "metadata": {},
   "outputs": [],
   "source": [
    "import matplotlib.pyplot as plt\n",
    "import plotly.express as px\n",
    "from plotly.subplots import make_subplots\n",
    "import plotly.graph_objects as go"
   ]
  },
  {
   "cell_type": "code",
   "execution_count": 113,
   "metadata": {},
   "outputs": [
    {
     "name": "stdout",
     "output_type": "stream",
     "text": [
      "Epoch\t\tMin: 0.0286\t Max: 0.3515\n",
      "Test\t\tMin: 0.3691\t Max: 1.9404\n"
     ]
    }
   ],
   "source": [
    "print(f\"Epoch\\t\\tMin: {min(epoch_losses):.4f}\\t Max: {max(epoch_losses):.4f}\")\n",
    "print(f\"Test\\t\\tMin: {min(test_losses):.4f}\\t Max: {max(test_losses):.4f}\")"
   ]
  },
  {
   "cell_type": "code",
   "execution_count": 114,
   "metadata": {},
   "outputs": [],
   "source": [
    "ep_data = pd.DataFrame({\"Epoch Loss\": epoch_losses})\n",
    "test_data = pd.DataFrame({\"Test Loss\": test_losses})"
   ]
  },
  {
   "cell_type": "code",
   "execution_count": 115,
   "metadata": {},
   "outputs": [
    {
     "data": {
      "application/vnd.plotly.v1+json": {
       "config": {
        "plotlyServerURL": "https://plot.ly"
       },
       "data": [
        {
         "mode": "lines",
         "name": "Epoch Loss",
         "type": "scatter",
         "x": [
          0,
          1,
          2,
          3,
          4,
          5,
          6,
          7,
          8,
          9,
          10,
          11,
          12,
          13,
          14,
          15,
          16,
          17,
          18,
          19,
          20,
          21,
          22,
          23,
          24,
          25,
          26,
          27,
          28,
          29,
          30,
          31,
          32,
          33,
          34,
          35,
          36,
          37,
          38,
          39,
          40,
          41,
          42,
          43,
          44,
          45,
          46,
          47,
          48,
          49,
          50,
          51,
          52,
          53,
          54,
          55,
          56,
          57,
          58,
          59,
          60,
          61,
          62,
          63,
          64,
          65,
          66,
          67,
          68,
          69,
          70,
          71,
          72,
          73,
          74,
          75,
          76,
          77,
          78,
          79,
          80,
          81,
          82,
          83,
          84,
          85,
          86,
          87,
          88,
          89,
          90,
          91,
          92,
          93,
          94,
          95,
          96,
          97,
          98,
          99,
          100,
          101,
          102,
          103,
          104,
          105,
          106,
          107,
          108,
          109,
          110,
          111,
          112,
          113,
          114,
          115,
          116,
          117,
          118,
          119,
          120,
          121,
          122,
          123,
          124,
          125,
          126,
          127,
          128,
          129,
          130,
          131,
          132,
          133,
          134,
          135,
          136,
          137,
          138,
          139,
          140,
          141,
          142,
          143,
          144,
          145,
          146,
          147,
          148,
          149,
          150,
          151,
          152,
          153,
          154,
          155,
          156,
          157,
          158,
          159,
          160,
          161,
          162,
          163,
          164,
          165,
          166,
          167,
          168,
          169,
          170,
          171,
          172,
          173,
          174,
          175,
          176,
          177,
          178,
          179,
          180,
          181,
          182,
          183,
          184,
          185,
          186,
          187,
          188,
          189,
          190,
          191,
          192,
          193,
          194,
          195,
          196,
          197,
          198,
          199
         ],
         "xaxis": "x",
         "y": [
          0.3515006358303675,
          0.3478624617181173,
          0.34319495427899244,
          0.3398877883829722,
          0.33538940258142425,
          0.3317961423862271,
          0.3273088779391312,
          0.32378461266436226,
          0.31947565950998447,
          0.3173274575937085,
          0.31276652216911316,
          0.3090592426497762,
          0.3047885509525857,
          0.3003294475194884,
          0.2976536736255739,
          0.2935199043372782,
          0.290492147934146,
          0.286261928517644,
          0.2816154964086486,
          0.2774953587753017,
          0.2745185581649222,
          0.27009893408635766,
          0.2660481112032402,
          0.26215797081226255,
          0.2579172809676426,
          0.2528372792209067,
          0.24954113873039804,
          0.24437699376083002,
          0.2402897324503922,
          0.23724706398277748,
          0.23198930119595876,
          0.22867533491878975,
          0.22428065247652007,
          0.21915741955361714,
          0.21403743690106927,
          0.20908272121010757,
          0.20497383431690494,
          0.19973738927666734,
          0.1942139645902122,
          0.18970562917430225,
          0.18554417325592623,
          0.1788407818573277,
          0.17371103821731196,
          0.1690050556165416,
          0.16508152281365743,
          0.15972989906625049,
          0.15280908927684878,
          0.14983044273969603,
          0.14181297145238736,
          0.1378743950186706,
          0.13387037922696368,
          0.12903916145243297,
          0.12448100182341366,
          0.11875240114040492,
          0.11398901267931229,
          0.11095023445966767,
          0.10745173220227404,
          0.10371350360716261,
          0.09954103318656363,
          0.09814260254909353,
          0.09295596509445005,
          0.08922941728336055,
          0.08752778554108084,
          0.08514915115949584,
          0.08284962395342385,
          0.08141848862898059,
          0.07976997425643409,
          0.07686126268491512,
          0.07505147086410988,
          0.07398333309627161,
          0.07052690644816655,
          0.07310028864843089,
          0.07128957540887158,
          0.07038446988274412,
          0.07069909245502658,
          0.0706831354920457,
          0.0675584753838981,
          0.07025130638262121,
          0.0705054574078176,
          0.06755008221399493,
          0.06472557383339579,
          0.06510097733358057,
          0.06643657013773918,
          0.06787073539524544,
          0.06555371495281778,
          0.06545229419702436,
          0.06638975041668589,
          0.06497084113155924,
          0.06567193204309882,
          0.0650411110098769,
          0.06332535869101198,
          0.0620044040970686,
          0.06281593260241718,
          0.06357760945471322,
          0.06305690564033462,
          0.06162566637120596,
          0.06263543038469989,
          0.06285462310401405,
          0.06057180228029809,
          0.0617119997012906,
          0.062266989633804413,
          0.060569233919789155,
          0.05992867525030927,
          0.059487206361642696,
          0.05935918721483975,
          0.05860491642137853,
          0.05812185221328968,
          0.058673581335602736,
          0.05762490666494137,
          0.05900058813574838,
          0.056707268262781746,
          0.05691175344513684,
          0.056876008103533486,
          0.05568068056571775,
          0.05494532425229142,
          0.05460745786748281,
          0.055274484724533265,
          0.05463645943417782,
          0.054047683390175426,
          0.05509404183887854,
          0.05438945469696347,
          0.05390202290401226,
          0.05495682449602499,
          0.055185111557565086,
          0.05263320356607437,
          0.05113725418724665,
          0.05378131568431854,
          0.051928723367249095,
          0.052245282545322326,
          0.05130867514668441,
          0.05141663042510428,
          0.05055403836616656,
          0.050802436543674,
          0.04871460904435414,
          0.05120977950168819,
          0.04847120257412515,
          0.04837156804959949,
          0.05005852405617877,
          0.04755372108846176,
          0.047924364848834715,
          0.046785905048614594,
          0.04735196908799613,
          0.0474846642918703,
          0.04547881344106139,
          0.04717480654760105,
          0.04452946872972861,
          0.04571143619534446,
          0.045613678853686265,
          0.045651010214919,
          0.044722995834379664,
          0.04684584024475842,
          0.04539922638455542,
          0.04289383568414828,
          0.044315815971391954,
          0.04444549087344146,
          0.04244393260195488,
          0.0456030770409398,
          0.04223906639509085,
          0.04092359819971934,
          0.04300833893258397,
          0.04102125282331211,
          0.039224958819587055,
          0.03937014410408532,
          0.03828022265579642,
          0.038997164314113014,
          0.03801888727196833,
          0.03918001673570493,
          0.038639416418424465,
          0.03793261808956542,
          0.040075884995664036,
          0.04003602311742015,
          0.03894384005447713,
          0.03825728204555628,
          0.03685161080665705,
          0.03587475310011608,
          0.03684508300772527,
          0.03770633309897853,
          0.035371523441337954,
          0.036530232965582755,
          0.03320596517040962,
          0.03495512448432969,
          0.03314996419883356,
          0.03461143828746749,
          0.03477309362553969,
          0.03292548979019246,
          0.03215276822447777,
          0.032572642423030804,
          0.034478287871291,
          0.031720793283567195,
          0.0308533754290604,
          0.03262542020075205,
          0.03120416811690098,
          0.02999966895980079,
          0.03138026963101655,
          0.031788058124664356,
          0.032210642426479155,
          0.030217067452102172,
          0.030914290649134937,
          0.029209249039612164,
          0.028594304557617117
         ],
         "yaxis": "y"
        },
        {
         "mode": "lines",
         "name": "Test Loss",
         "type": "scatter",
         "x": [
          0,
          1,
          2,
          3,
          4,
          5,
          6,
          7,
          8,
          9,
          10,
          11,
          12,
          13,
          14,
          15,
          16,
          17,
          18,
          19,
          20,
          21,
          22,
          23,
          24,
          25,
          26,
          27,
          28,
          29,
          30,
          31,
          32,
          33,
          34,
          35,
          36,
          37,
          38,
          39,
          40,
          41,
          42,
          43,
          44,
          45,
          46,
          47,
          48,
          49,
          50,
          51,
          52,
          53,
          54,
          55,
          56,
          57,
          58,
          59,
          60,
          61,
          62,
          63,
          64,
          65,
          66,
          67,
          68,
          69,
          70,
          71,
          72,
          73,
          74,
          75,
          76,
          77,
          78,
          79,
          80,
          81,
          82,
          83,
          84,
          85,
          86,
          87,
          88,
          89,
          90,
          91,
          92,
          93,
          94,
          95,
          96,
          97,
          98,
          99,
          100,
          101,
          102,
          103,
          104,
          105,
          106,
          107,
          108,
          109,
          110,
          111,
          112,
          113,
          114,
          115,
          116,
          117,
          118,
          119,
          120,
          121,
          122,
          123,
          124,
          125,
          126,
          127,
          128,
          129,
          130,
          131,
          132,
          133,
          134,
          135,
          136,
          137,
          138,
          139,
          140,
          141,
          142,
          143,
          144,
          145,
          146,
          147,
          148,
          149,
          150,
          151,
          152,
          153,
          154,
          155,
          156,
          157,
          158,
          159,
          160,
          161,
          162,
          163,
          164,
          165,
          166,
          167,
          168,
          169,
          170,
          171,
          172,
          173,
          174,
          175,
          176,
          177,
          178,
          179,
          180,
          181,
          182,
          183,
          184,
          185,
          186,
          187,
          188,
          189,
          190,
          191,
          192,
          193,
          194,
          195,
          196,
          197,
          198,
          199
         ],
         "xaxis": "x2",
         "y": [
          1.9404436349868774,
          1.9287747144699097,
          1.916917324066162,
          1.9050966501235962,
          1.8933252096176147,
          1.8814879655838013,
          1.8697599172592163,
          1.8579392433166504,
          1.8461838960647583,
          1.8343234062194824,
          1.8225699663162231,
          1.8106085062026978,
          1.7984939813613892,
          1.7860215902328491,
          1.7734159231185913,
          1.7607237100601196,
          1.7481952905654907,
          1.735116958618164,
          1.7219730615615845,
          1.708460807800293,
          1.6947212219238281,
          1.6804946660995483,
          1.6663732528686523,
          1.652186393737793,
          1.6376513242721558,
          1.6228402853012085,
          1.6072136163711548,
          1.591117262840271,
          1.5751162767410278,
          1.5585705041885376,
          1.5418065786361694,
          1.5247703790664673,
          1.5074481964111328,
          1.4891897439956665,
          1.4707051515579224,
          1.4522141218185425,
          1.4323450326919556,
          1.4117470979690552,
          1.3911495208740234,
          1.3691028356552124,
          1.3467146158218384,
          1.324906349182129,
          1.3018770217895508,
          1.278889536857605,
          1.2550972700119019,
          1.2303389310836792,
          1.205937147140503,
          1.1806259155273438,
          1.1545485258102417,
          1.1279802322387695,
          1.1013275384902954,
          1.073670506477356,
          1.0459662675857544,
          1.018717885017395,
          0.9926660656929016,
          0.967449963092804,
          0.9432047009468079,
          0.9185312390327454,
          0.8952071666717529,
          0.8709437251091003,
          0.8489089012145996,
          0.827361524105072,
          0.8050040602684021,
          0.7854025959968567,
          0.7646849751472473,
          0.7458174228668213,
          0.7277724146842957,
          0.7106757164001465,
          0.6933839917182922,
          0.6783602833747864,
          0.6653868556022644,
          0.6519420146942139,
          0.6391268372535706,
          0.6289352178573608,
          0.6224911212921143,
          0.6159971952438354,
          0.611038863658905,
          0.6058326363563538,
          0.6002232432365417,
          0.5958607196807861,
          0.5923436284065247,
          0.5906732082366943,
          0.5889665484428406,
          0.5882661938667297,
          0.5871583223342896,
          0.5845633149147034,
          0.5853114128112793,
          0.5839349031448364,
          0.5833046436309814,
          0.5837408304214478,
          0.580726146697998,
          0.5792558789253235,
          0.5743560194969177,
          0.5707874894142151,
          0.5682041049003601,
          0.5672028660774231,
          0.565773069858551,
          0.5653807520866394,
          0.565024733543396,
          0.5648150444030762,
          0.5633156895637512,
          0.5593158602714539,
          0.5571470856666565,
          0.5527576804161072,
          0.5477687120437622,
          0.54233717918396,
          0.536510169506073,
          0.5340057015419006,
          0.532448410987854,
          0.5312726497650146,
          0.5299652814865112,
          0.5289536118507385,
          0.5268976092338562,
          0.5260499119758606,
          0.5233837366104126,
          0.5233035087585449,
          0.5219770073890686,
          0.5217010974884033,
          0.521439254283905,
          0.5217714309692383,
          0.5193187594413757,
          0.5166782736778259,
          0.5131089687347412,
          0.5105399489402771,
          0.5083308815956116,
          0.5056560039520264,
          0.5047613978385925,
          0.5013111233711243,
          0.49826183915138245,
          0.4961027204990387,
          0.49179455637931824,
          0.4891848862171173,
          0.48515424132347107,
          0.4820065200328827,
          0.47881782054901123,
          0.4774641990661621,
          0.47346293926239014,
          0.46931684017181396,
          0.46562322974205017,
          0.4628854990005493,
          0.46179652214050293,
          0.4609665870666504,
          0.4599038362503052,
          0.45984697341918945,
          0.4583178758621216,
          0.45597565174102783,
          0.4575215280056,
          0.45831918716430664,
          0.45927348732948303,
          0.4615907371044159,
          0.46101710200309753,
          0.460786908864975,
          0.45759204030036926,
          0.454851895570755,
          0.4506431519985199,
          0.4447267949581146,
          0.4406375586986542,
          0.4377644956111908,
          0.4360640048980713,
          0.43307605385780334,
          0.43068742752075195,
          0.42875492572784424,
          0.4277053773403168,
          0.42828014492988586,
          0.4255388081073761,
          0.4274570941925049,
          0.4287707805633545,
          0.43075159192085266,
          0.4345044195652008,
          0.43173179030418396,
          0.4269900619983673,
          0.4233650863170624,
          0.41990265250205994,
          0.4152167737483978,
          0.40960612893104553,
          0.4056025445461273,
          0.40296438336372375,
          0.4021717607975006,
          0.40205565094947815,
          0.4003399908542633,
          0.3971853256225586,
          0.3952363431453705,
          0.39370545744895935,
          0.39168059825897217,
          0.3926292955875397,
          0.3928641378879547,
          0.39181336760520935,
          0.39131274819374084,
          0.39125117659568787,
          0.39070236682891846,
          0.3866161108016968,
          0.38152649998664856,
          0.3784511983394623,
          0.37388014793395996,
          0.37130823731422424,
          0.36910638213157654,
          0.37150922417640686,
          0.37106236815452576,
          0.37085750699043274,
          0.370795875787735
         ],
         "yaxis": "y2"
        }
       ],
       "layout": {
        "showlegend": true,
        "template": {
         "data": {
          "bar": [
           {
            "error_x": {
             "color": "#2a3f5f"
            },
            "error_y": {
             "color": "#2a3f5f"
            },
            "marker": {
             "line": {
              "color": "#E5ECF6",
              "width": 0.5
             },
             "pattern": {
              "fillmode": "overlay",
              "size": 10,
              "solidity": 0.2
             }
            },
            "type": "bar"
           }
          ],
          "barpolar": [
           {
            "marker": {
             "line": {
              "color": "#E5ECF6",
              "width": 0.5
             },
             "pattern": {
              "fillmode": "overlay",
              "size": 10,
              "solidity": 0.2
             }
            },
            "type": "barpolar"
           }
          ],
          "carpet": [
           {
            "aaxis": {
             "endlinecolor": "#2a3f5f",
             "gridcolor": "white",
             "linecolor": "white",
             "minorgridcolor": "white",
             "startlinecolor": "#2a3f5f"
            },
            "baxis": {
             "endlinecolor": "#2a3f5f",
             "gridcolor": "white",
             "linecolor": "white",
             "minorgridcolor": "white",
             "startlinecolor": "#2a3f5f"
            },
            "type": "carpet"
           }
          ],
          "choropleth": [
           {
            "colorbar": {
             "outlinewidth": 0,
             "ticks": ""
            },
            "type": "choropleth"
           }
          ],
          "contour": [
           {
            "colorbar": {
             "outlinewidth": 0,
             "ticks": ""
            },
            "colorscale": [
             [
              0,
              "#0d0887"
             ],
             [
              0.1111111111111111,
              "#46039f"
             ],
             [
              0.2222222222222222,
              "#7201a8"
             ],
             [
              0.3333333333333333,
              "#9c179e"
             ],
             [
              0.4444444444444444,
              "#bd3786"
             ],
             [
              0.5555555555555556,
              "#d8576b"
             ],
             [
              0.6666666666666666,
              "#ed7953"
             ],
             [
              0.7777777777777778,
              "#fb9f3a"
             ],
             [
              0.8888888888888888,
              "#fdca26"
             ],
             [
              1,
              "#f0f921"
             ]
            ],
            "type": "contour"
           }
          ],
          "contourcarpet": [
           {
            "colorbar": {
             "outlinewidth": 0,
             "ticks": ""
            },
            "type": "contourcarpet"
           }
          ],
          "heatmap": [
           {
            "colorbar": {
             "outlinewidth": 0,
             "ticks": ""
            },
            "colorscale": [
             [
              0,
              "#0d0887"
             ],
             [
              0.1111111111111111,
              "#46039f"
             ],
             [
              0.2222222222222222,
              "#7201a8"
             ],
             [
              0.3333333333333333,
              "#9c179e"
             ],
             [
              0.4444444444444444,
              "#bd3786"
             ],
             [
              0.5555555555555556,
              "#d8576b"
             ],
             [
              0.6666666666666666,
              "#ed7953"
             ],
             [
              0.7777777777777778,
              "#fb9f3a"
             ],
             [
              0.8888888888888888,
              "#fdca26"
             ],
             [
              1,
              "#f0f921"
             ]
            ],
            "type": "heatmap"
           }
          ],
          "heatmapgl": [
           {
            "colorbar": {
             "outlinewidth": 0,
             "ticks": ""
            },
            "colorscale": [
             [
              0,
              "#0d0887"
             ],
             [
              0.1111111111111111,
              "#46039f"
             ],
             [
              0.2222222222222222,
              "#7201a8"
             ],
             [
              0.3333333333333333,
              "#9c179e"
             ],
             [
              0.4444444444444444,
              "#bd3786"
             ],
             [
              0.5555555555555556,
              "#d8576b"
             ],
             [
              0.6666666666666666,
              "#ed7953"
             ],
             [
              0.7777777777777778,
              "#fb9f3a"
             ],
             [
              0.8888888888888888,
              "#fdca26"
             ],
             [
              1,
              "#f0f921"
             ]
            ],
            "type": "heatmapgl"
           }
          ],
          "histogram": [
           {
            "marker": {
             "pattern": {
              "fillmode": "overlay",
              "size": 10,
              "solidity": 0.2
             }
            },
            "type": "histogram"
           }
          ],
          "histogram2d": [
           {
            "colorbar": {
             "outlinewidth": 0,
             "ticks": ""
            },
            "colorscale": [
             [
              0,
              "#0d0887"
             ],
             [
              0.1111111111111111,
              "#46039f"
             ],
             [
              0.2222222222222222,
              "#7201a8"
             ],
             [
              0.3333333333333333,
              "#9c179e"
             ],
             [
              0.4444444444444444,
              "#bd3786"
             ],
             [
              0.5555555555555556,
              "#d8576b"
             ],
             [
              0.6666666666666666,
              "#ed7953"
             ],
             [
              0.7777777777777778,
              "#fb9f3a"
             ],
             [
              0.8888888888888888,
              "#fdca26"
             ],
             [
              1,
              "#f0f921"
             ]
            ],
            "type": "histogram2d"
           }
          ],
          "histogram2dcontour": [
           {
            "colorbar": {
             "outlinewidth": 0,
             "ticks": ""
            },
            "colorscale": [
             [
              0,
              "#0d0887"
             ],
             [
              0.1111111111111111,
              "#46039f"
             ],
             [
              0.2222222222222222,
              "#7201a8"
             ],
             [
              0.3333333333333333,
              "#9c179e"
             ],
             [
              0.4444444444444444,
              "#bd3786"
             ],
             [
              0.5555555555555556,
              "#d8576b"
             ],
             [
              0.6666666666666666,
              "#ed7953"
             ],
             [
              0.7777777777777778,
              "#fb9f3a"
             ],
             [
              0.8888888888888888,
              "#fdca26"
             ],
             [
              1,
              "#f0f921"
             ]
            ],
            "type": "histogram2dcontour"
           }
          ],
          "mesh3d": [
           {
            "colorbar": {
             "outlinewidth": 0,
             "ticks": ""
            },
            "type": "mesh3d"
           }
          ],
          "parcoords": [
           {
            "line": {
             "colorbar": {
              "outlinewidth": 0,
              "ticks": ""
             }
            },
            "type": "parcoords"
           }
          ],
          "pie": [
           {
            "automargin": true,
            "type": "pie"
           }
          ],
          "scatter": [
           {
            "fillpattern": {
             "fillmode": "overlay",
             "size": 10,
             "solidity": 0.2
            },
            "type": "scatter"
           }
          ],
          "scatter3d": [
           {
            "line": {
             "colorbar": {
              "outlinewidth": 0,
              "ticks": ""
             }
            },
            "marker": {
             "colorbar": {
              "outlinewidth": 0,
              "ticks": ""
             }
            },
            "type": "scatter3d"
           }
          ],
          "scattercarpet": [
           {
            "marker": {
             "colorbar": {
              "outlinewidth": 0,
              "ticks": ""
             }
            },
            "type": "scattercarpet"
           }
          ],
          "scattergeo": [
           {
            "marker": {
             "colorbar": {
              "outlinewidth": 0,
              "ticks": ""
             }
            },
            "type": "scattergeo"
           }
          ],
          "scattergl": [
           {
            "marker": {
             "colorbar": {
              "outlinewidth": 0,
              "ticks": ""
             }
            },
            "type": "scattergl"
           }
          ],
          "scattermapbox": [
           {
            "marker": {
             "colorbar": {
              "outlinewidth": 0,
              "ticks": ""
             }
            },
            "type": "scattermapbox"
           }
          ],
          "scatterpolar": [
           {
            "marker": {
             "colorbar": {
              "outlinewidth": 0,
              "ticks": ""
             }
            },
            "type": "scatterpolar"
           }
          ],
          "scatterpolargl": [
           {
            "marker": {
             "colorbar": {
              "outlinewidth": 0,
              "ticks": ""
             }
            },
            "type": "scatterpolargl"
           }
          ],
          "scatterternary": [
           {
            "marker": {
             "colorbar": {
              "outlinewidth": 0,
              "ticks": ""
             }
            },
            "type": "scatterternary"
           }
          ],
          "surface": [
           {
            "colorbar": {
             "outlinewidth": 0,
             "ticks": ""
            },
            "colorscale": [
             [
              0,
              "#0d0887"
             ],
             [
              0.1111111111111111,
              "#46039f"
             ],
             [
              0.2222222222222222,
              "#7201a8"
             ],
             [
              0.3333333333333333,
              "#9c179e"
             ],
             [
              0.4444444444444444,
              "#bd3786"
             ],
             [
              0.5555555555555556,
              "#d8576b"
             ],
             [
              0.6666666666666666,
              "#ed7953"
             ],
             [
              0.7777777777777778,
              "#fb9f3a"
             ],
             [
              0.8888888888888888,
              "#fdca26"
             ],
             [
              1,
              "#f0f921"
             ]
            ],
            "type": "surface"
           }
          ],
          "table": [
           {
            "cells": {
             "fill": {
              "color": "#EBF0F8"
             },
             "line": {
              "color": "white"
             }
            },
            "header": {
             "fill": {
              "color": "#C8D4E3"
             },
             "line": {
              "color": "white"
             }
            },
            "type": "table"
           }
          ]
         },
         "layout": {
          "annotationdefaults": {
           "arrowcolor": "#2a3f5f",
           "arrowhead": 0,
           "arrowwidth": 1
          },
          "autotypenumbers": "strict",
          "coloraxis": {
           "colorbar": {
            "outlinewidth": 0,
            "ticks": ""
           }
          },
          "colorscale": {
           "diverging": [
            [
             0,
             "#8e0152"
            ],
            [
             0.1,
             "#c51b7d"
            ],
            [
             0.2,
             "#de77ae"
            ],
            [
             0.3,
             "#f1b6da"
            ],
            [
             0.4,
             "#fde0ef"
            ],
            [
             0.5,
             "#f7f7f7"
            ],
            [
             0.6,
             "#e6f5d0"
            ],
            [
             0.7,
             "#b8e186"
            ],
            [
             0.8,
             "#7fbc41"
            ],
            [
             0.9,
             "#4d9221"
            ],
            [
             1,
             "#276419"
            ]
           ],
           "sequential": [
            [
             0,
             "#0d0887"
            ],
            [
             0.1111111111111111,
             "#46039f"
            ],
            [
             0.2222222222222222,
             "#7201a8"
            ],
            [
             0.3333333333333333,
             "#9c179e"
            ],
            [
             0.4444444444444444,
             "#bd3786"
            ],
            [
             0.5555555555555556,
             "#d8576b"
            ],
            [
             0.6666666666666666,
             "#ed7953"
            ],
            [
             0.7777777777777778,
             "#fb9f3a"
            ],
            [
             0.8888888888888888,
             "#fdca26"
            ],
            [
             1,
             "#f0f921"
            ]
           ],
           "sequentialminus": [
            [
             0,
             "#0d0887"
            ],
            [
             0.1111111111111111,
             "#46039f"
            ],
            [
             0.2222222222222222,
             "#7201a8"
            ],
            [
             0.3333333333333333,
             "#9c179e"
            ],
            [
             0.4444444444444444,
             "#bd3786"
            ],
            [
             0.5555555555555556,
             "#d8576b"
            ],
            [
             0.6666666666666666,
             "#ed7953"
            ],
            [
             0.7777777777777778,
             "#fb9f3a"
            ],
            [
             0.8888888888888888,
             "#fdca26"
            ],
            [
             1,
             "#f0f921"
            ]
           ]
          },
          "colorway": [
           "#636efa",
           "#EF553B",
           "#00cc96",
           "#ab63fa",
           "#FFA15A",
           "#19d3f3",
           "#FF6692",
           "#B6E880",
           "#FF97FF",
           "#FECB52"
          ],
          "font": {
           "color": "#2a3f5f"
          },
          "geo": {
           "bgcolor": "white",
           "lakecolor": "white",
           "landcolor": "#E5ECF6",
           "showlakes": true,
           "showland": true,
           "subunitcolor": "white"
          },
          "hoverlabel": {
           "align": "left"
          },
          "hovermode": "closest",
          "mapbox": {
           "style": "light"
          },
          "paper_bgcolor": "white",
          "plot_bgcolor": "#E5ECF6",
          "polar": {
           "angularaxis": {
            "gridcolor": "white",
            "linecolor": "white",
            "ticks": ""
           },
           "bgcolor": "#E5ECF6",
           "radialaxis": {
            "gridcolor": "white",
            "linecolor": "white",
            "ticks": ""
           }
          },
          "scene": {
           "xaxis": {
            "backgroundcolor": "#E5ECF6",
            "gridcolor": "white",
            "gridwidth": 2,
            "linecolor": "white",
            "showbackground": true,
            "ticks": "",
            "zerolinecolor": "white"
           },
           "yaxis": {
            "backgroundcolor": "#E5ECF6",
            "gridcolor": "white",
            "gridwidth": 2,
            "linecolor": "white",
            "showbackground": true,
            "ticks": "",
            "zerolinecolor": "white"
           },
           "zaxis": {
            "backgroundcolor": "#E5ECF6",
            "gridcolor": "white",
            "gridwidth": 2,
            "linecolor": "white",
            "showbackground": true,
            "ticks": "",
            "zerolinecolor": "white"
           }
          },
          "shapedefaults": {
           "line": {
            "color": "#2a3f5f"
           }
          },
          "ternary": {
           "aaxis": {
            "gridcolor": "white",
            "linecolor": "white",
            "ticks": ""
           },
           "baxis": {
            "gridcolor": "white",
            "linecolor": "white",
            "ticks": ""
           },
           "bgcolor": "#E5ECF6",
           "caxis": {
            "gridcolor": "white",
            "linecolor": "white",
            "ticks": ""
           }
          },
          "title": {
           "x": 0.05
          },
          "xaxis": {
           "automargin": true,
           "gridcolor": "white",
           "linecolor": "white",
           "ticks": "",
           "title": {
            "standoff": 15
           },
           "zerolinecolor": "white",
           "zerolinewidth": 2
          },
          "yaxis": {
           "automargin": true,
           "gridcolor": "white",
           "linecolor": "white",
           "ticks": "",
           "title": {
            "standoff": 15
           },
           "zerolinecolor": "white",
           "zerolinewidth": 2
          }
         }
        },
        "title": {
         "font": {
          "size": 25,
          "weight": "bold"
         },
         "text": "Loss over Epoch",
         "x": 0.5
        },
        "xaxis": {
         "anchor": "y",
         "domain": [
          0,
          0.45
         ],
         "title": {
          "text": "Epoch"
         }
        },
        "xaxis2": {
         "anchor": "y2",
         "domain": [
          0.55,
          1
         ],
         "title": {
          "text": "Epoch"
         }
        },
        "yaxis": {
         "anchor": "x",
         "domain": [
          0,
          1
         ],
         "title": {
          "text": "Epoch Loss"
         }
        },
        "yaxis2": {
         "anchor": "x2",
         "domain": [
          0,
          1
         ],
         "title": {
          "text": "Test Loss"
         }
        }
       }
      }
     },
     "metadata": {},
     "output_type": "display_data"
    }
   ],
   "source": [
    "# Create a subplot with 1 row and 2 columns\n",
    "fig = make_subplots(rows=1, cols=2)\n",
    "\n",
    "# Add the line chart to both subplots\n",
    "fig.add_trace(\n",
    "    go.Scatter(x=ep_data.index, y=ep_data[\"Epoch Loss\"], mode=\"lines\", name=\"Epoch Loss\"),\n",
    "    row=1,\n",
    "    col=1,\n",
    ")\n",
    "fig.add_trace(\n",
    "    go.Scatter(x=test_data.index, y=test_data[\"Test Loss\"], mode=\"lines\", name=\"Test Loss\"),\n",
    "    row=1,\n",
    "    col=2,\n",
    ")\n",
    "\n",
    "# Update axis labels\n",
    "fig.update_xaxes(title_text=\"Epoch\", row=1, col=1)\n",
    "fig.update_xaxes(title_text=\"Epoch\", row=1, col=2)\n",
    "fig.update_yaxes(title_text=\"Epoch Loss\", row=1, col=1)\n",
    "fig.update_yaxes(title_text=\"Test Loss\", row=1, col=2)\n",
    "\n",
    "# Set subplot layout\n",
    "fig.update_layout(title=\"Loss over Epoch\", title_x=0.5,title_font=dict(size=25, weight='bold'), showlegend=True)\n",
    "\n",
    "# Show the plot\n",
    "fig.show()"
   ]
  },
  {
   "cell_type": "code",
   "execution_count": 116,
   "metadata": {},
   "outputs": [
    {
     "data": {
      "image/png": "[encoded data removed]",
      "text/plain": [
       "<Figure size 1000x300 with 2 Axes>"
      ]
     },
     "metadata": {},
     "output_type": "display_data"
    }
   ],
   "source": [
    "# Plot training & validation loss values\n",
    "plt.figure(figsize=(10, 3))\n",
    "plt.suptitle(\"Loss over the Epoch\")\n",
    "\n",
    "plt.subplot(1, 2, 1)\n",
    "plt.plot(np.array(epoch_losses), color=\"r\")\n",
    "plt.ylabel(\"Epoch Loss\")\n",
    "plt.xlabel(\"Epoch\")\n",
    "plt.legend([\"Epoch Loss\"], loc=\"upper right\")\n",
    "plt.grid(True)\n",
    "\n",
    "plt.subplot(1, 2, 2)\n",
    "plt.plot(np.array(test_losses), color=\"g\")\n",
    "plt.ylabel(\"Test Loss\")\n",
    "plt.xlabel(\"Epoch\")\n",
    "plt.legend([\"Test Loss\"], loc=\"upper right\")\n",
    "plt.grid(True)\n",
    "\n",
    "plt.show()"
   ]
  },
  {
   "cell_type": "markdown",
   "metadata": {},
   "source": [
    "#### Step 4: Evaluation"
   ]
  },
  {
   "cell_type": "code",
   "execution_count": 117,
   "metadata": {},
   "outputs": [
    {
     "name": "stdout",
     "output_type": "stream",
     "text": [
      "Device: cpu\n"
     ]
    }
   ],
   "source": [
    "# Check if a GPU is available and set the device accordingly\n",
    "device = torch.device(\"cuda\" if torch.cuda.is_available() else \"cpu\")\n",
    "print(f\"Device: {device}\")"
   ]
  },
  {
   "cell_type": "code",
   "execution_count": 118,
   "metadata": {},
   "outputs": [],
   "source": [
    "# Step 1: Define the device (GPU or CPU)\n",
    "device = torch.device(\"cuda\" if torch.cuda.is_available() else \"cpu\")\n",
    "\n",
    "# Step 2: Convert your data to tensors and move them to the device\n",
    "X_test_tensor = torch.Tensor(X_test).to(device)\n",
    "y_test_tensor = torch.Tensor(y_test).to(device)\n",
    "\n",
    "# Move the model to the device if not already done\n",
    "model = model.to(device)"
   ]
  },
  {
   "cell_type": "code",
   "execution_count": 119,
   "metadata": {},
   "outputs": [
    {
     "data": {
      "text/plain": [
       "LSTMModel(\n",
       "  (lstm): LSTM(5, 50, num_layers=2, batch_first=True, dropout=0.2)\n",
       "  (fc): Linear(in_features=50, out_features=1, bias=True)\n",
       ")"
      ]
     },
     "execution_count": 119,
     "metadata": {},
     "output_type": "execute_result"
    }
   ],
   "source": [
    "# Set the model to evaluation mode\n",
    "model.eval()"
   ]
  },
  {
   "cell_type": "code",
   "execution_count": 120,
   "metadata": {},
   "outputs": [
    {
     "name": "stdout",
     "output_type": "stream",
     "text": [
      "Test Loss: 0.3708\n"
     ]
    }
   ],
   "source": [
    "# Step 3: Generate predictions and compute the loss on the test data\n",
    "with torch.no_grad():  # Disable gradient calculation for evaluation\n",
    "    # Forward pass: get predictions\n",
    "    predictions = model(X_test_tensor)\n",
    "\n",
    "    # If predictions are multi-dimensional, make sure to match the output\n",
    "    predictions = predictions.squeeze()\n",
    "\n",
    "    # Calculate loss (assuming you're using Mean Squared Error)\n",
    "    criterion = torch.nn.MSELoss()\n",
    "    loss = criterion(predictions, y_test_tensor)\n",
    "\n",
    "    print(f\"Test Loss: {loss.item():.4f}\")"
   ]
  },
  {
   "cell_type": "code",
   "execution_count": 121,
   "metadata": {},
   "outputs": [
    {
     "name": "stdout",
     "output_type": "stream",
     "text": [
      "Predicted Values: [0.76564103 0.7645915  0.7617236  0.761502   0.74005765 0.7416981 ]\n",
      "Actual values: [1.3070358 1.3611301 1.3558723 1.13315   1.3617148 1.5772915]\n"
     ]
    }
   ],
   "source": [
    "# Step 4: Convert predictions and actual values back to CPU and NumPy for comparison\n",
    "predictions_cpu = predictions.cpu().numpy()\n",
    "y_test_cpu = y_test_tensor.cpu().numpy()\n",
    "\n",
    "print(f\"Predicted Values: {predictions_cpu}\")\n",
    "print(f\"Actual values: {y_test_cpu}\")"
   ]
  },
  {
   "cell_type": "code",
   "execution_count": 122,
   "metadata": {},
   "outputs": [
    {
     "data": {
      "image/png": "[encoded data removed]",
      "text/plain": [
       "<Figure size 640x480 with 1 Axes>"
      ]
     },
     "metadata": {},
     "output_type": "display_data"
    }
   ],
   "source": [
    "plt.scatter(x=np.array(y_test_cpu), y=np.array(predictions_cpu))\n",
    "plt.xlabel(\"Actual\")\n",
    "plt.ylabel(\"Predictions\")\n",
    "plt.grid(True)\n",
    "plt.show()"
   ]
  },
  {
   "cell_type": "code",
   "execution_count": 123,
   "metadata": {},
   "outputs": [
    {
     "name": "stdout",
     "output_type": "stream",
     "text": [
      "MSE: 0.3708\n",
      "RMSE: 0.6089\n"
     ]
    }
   ],
   "source": [
    "# Calculate MSE\n",
    "mse = np.mean((np.array(y_test_cpu) - np.array(predictions_cpu)) ** 2)\n",
    "print(f\"MSE: {mse:.4f}\")\n",
    "\n",
    "\n",
    "# And then calculate RMSE:\n",
    "rmse = np.sqrt(mse)\n",
    "print(f\"RMSE: {rmse:.4f}\")"
   ]
  },
  {
   "cell_type": "code",
   "execution_count": 124,
   "metadata": {},
   "outputs": [
    {
     "data": {
      "image/png": "[encoded data removed]",
      "text/plain": [
       "<Figure size 800x400 with 1 Axes>"
      ]
     },
     "metadata": {},
     "output_type": "display_data"
    }
   ],
   "source": [
    "# Step 5: Optionally, you can print or plot the actual vs. predicted values\n",
    "import matplotlib.pyplot as plt\n",
    "\n",
    "plt.figure(figsize=(8, 4))\n",
    "plt.plot(y_test_cpu, label=\"Actual\")\n",
    "plt.plot(predictions_cpu, label=\"Predicted\", linestyle=\"--\")\n",
    "plt.title(\"Actual vs Predicted Values\")\n",
    "plt.xlabel(\"Sample Index\")\n",
    "plt.ylabel(\"Value\")\n",
    "plt.legend()\n",
    "plt.grid(True)\n",
    "plt.show()"
   ]
  },
  {
   "cell_type": "code",
   "execution_count": 125,
   "metadata": {},
   "outputs": [
    {
     "name": "stdout",
     "output_type": "stream",
     "text": [
      "Test Loss: 0.3708\n"
     ]
    }
   ],
   "source": [
    "model.eval()\n",
    "with torch.no_grad():\n",
    "    test_outputs = model(X_test_tensor)\n",
    "    test_loss = criterion(test_outputs.squeeze(), y_test_tensor)\n",
    "    print(f\"Test Loss: {test_loss.item():.4f}\")"
   ]
  }
 ],
 "metadata": {
  "kernelspec": {
   "display_name": "venv",
   "language": "python",
   "name": "python3"
  },
  "language_info": {
   "codemirror_mode": {
    "name": "ipython",
    "version": 3
   },
   "file_extension": ".py",
   "mimetype": "text/x-python",
   "name": "python",
   "nbconvert_exporter": "python",
   "pygments_lexer": "ipython3",
   "version": "3.12.1"
  }
 },
 "nbformat": 4,
 "nbformat_minor": 2
}
